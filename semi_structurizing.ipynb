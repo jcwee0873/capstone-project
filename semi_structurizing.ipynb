{
 "cells": [
  {
   "cell_type": "code",
   "execution_count": 1,
   "id": "a9cf1af8",
   "metadata": {},
   "outputs": [],
   "source": [
    "import re\n",
    "import bs4\n",
    "import json\n",
    "import pandas as pd\n",
    "from tqdm import tqdm\n",
    "from glob import glob\n",
    "from bs4 import BeautifulSoup\n",
    "\n",
    "from blog_fake_review.parser import extract_article_body, refine_paragraph_tag, extract_paragraph, extract_additional_info"
   ]
  },
  {
   "cell_type": "code",
   "execution_count": 2,
   "id": "94f94a01",
   "metadata": {},
   "outputs": [
    {
     "data": {
      "text/plain": [
       "['./data/origin/홍대 회식 맛집.json',\n",
       " './data/origin/홍대 데이트 맛집.json',\n",
       " './data/origin/성수 데이트 맛집.json',\n",
       " './data/origin/압구정 회식 맛집.json',\n",
       " './data/origin/강남역 데이트 맛집.json',\n",
       " './data/origin/영등포 회식 맛집.json',\n",
       " './data/origin/성수 회식 맛집.json',\n",
       " './data/origin/압구정 데이트 맛집.json',\n",
       " './data/origin/강남역 회식 맛집.json',\n",
       " './data/origin/범계 회식 맛집.json',\n",
       " './data/origin/범계 데이트 맛집.json',\n",
       " './data/origin/영등포 데이트 맛집.json']"
      ]
     },
     "execution_count": 2,
     "metadata": {},
     "output_type": "execute_result"
    }
   ],
   "source": [
    "origins = glob(\"./data/origin/*.json\")\n",
    "origins"
   ]
  },
  {
   "cell_type": "code",
   "execution_count": 3,
   "id": "36936ab4",
   "metadata": {},
   "outputs": [
    {
     "data": {
      "text/plain": [
       "[]"
      ]
     },
     "execution_count": 3,
     "metadata": {},
     "output_type": "execute_result"
    }
   ],
   "source": [
    "parsed_list = glob(\"./data/semi-structured/*.json\")\n",
    "parsed_list = [p.split('/')[-1] for p in parsed_list]\n",
    "parsed_list"
   ]
  },
  {
   "cell_type": "code",
   "execution_count": 4,
   "id": "d1bb72f7",
   "metadata": {},
   "outputs": [],
   "source": [
    "comment_code = re.compile(r'<!--.*?-->')"
   ]
  },
  {
   "cell_type": "code",
   "execution_count": 5,
   "id": "0f1967cb",
   "metadata": {},
   "outputs": [
    {
     "name": "stderr",
     "output_type": "stream",
     "text": [
      "홍대 회식 맛집: 100%|██████████| 991/991 [01:18<00:00, 12.66it/s]\n",
      "홍대 데이트 맛집: 100%|██████████| 991/991 [01:15<00:00, 13.16it/s]\n",
      "성수 데이트 맛집: 100%|██████████| 989/989 [01:17<00:00, 12.80it/s]\n",
      "압구정 회식 맛집: 100%|██████████| 987/987 [01:20<00:00, 12.26it/s]\n",
      "강남역 데이트 맛집: 100%|██████████| 982/982 [01:14<00:00, 13.09it/s]\n",
      "영등포 회식 맛집: 100%|██████████| 988/988 [01:19<00:00, 12.40it/s]\n",
      "성수 회식 맛집: 100%|██████████| 995/995 [01:19<00:00, 12.53it/s]\n",
      "압구정 데이트 맛집: 100%|██████████| 987/987 [01:21<00:00, 12.05it/s]\n",
      "강남역 회식 맛집: 100%|██████████| 989/989 [01:23<00:00, 11.90it/s]\n",
      "범계 회식 맛집: 100%|██████████| 995/995 [01:19<00:00, 12.44it/s]\n",
      "범계 데이트 맛집: 100%|██████████| 985/985 [01:12<00:00, 13.63it/s]\n",
      "영등포 데이트 맛집: 100%|██████████| 979/979 [01:14<00:00, 13.13it/s]\n"
     ]
    }
   ],
   "source": [
    "for path in origins:\n",
    "    file_name = path.split('/')[-1]\n",
    "    \n",
    "    if file_name in parsed_list: continue\n",
    "        \n",
    "    with open(path, \"r\", encoding='utf-8') as f:\n",
    "        blog = json.load(f)\n",
    "\n",
    "    result = []\n",
    "    for row in tqdm(blog, desc=file_name.split('.')[0]):\n",
    "        data = {\n",
    "            \"blog_name\": row[\"blog_name\"],\n",
    "            \"date\": row[\"date\"],\n",
    "            \"url\": row[\"url\"],\n",
    "            \"title\": row[\"title\"]\n",
    "        }\n",
    "        \n",
    "        soup = BeautifulSoup(comment_code.sub('', row['origin_source']), 'html.parser')\n",
    "        version, body_tag = extract_article_body(soup)\n",
    "        \n",
    "        if not body_tag: continue\n",
    "            \n",
    "        tags = extract_paragraph(body_tag, version)\n",
    "        \n",
    "        data[\"contents\"] = sum([refine_paragraph_tag(tag) for tag in tags], [])\n",
    "        \n",
    "        data[\"additional\"] = extract_additional_info(soup)\n",
    "        result.append(data)\n",
    "    \n",
    "    with open(f'./data/semi-structured/{file_name}', 'w', encoding='utf-8') as f:\n",
    "        json.dump(result, f)"
   ]
  },
  {
   "cell_type": "code",
   "execution_count": null,
   "id": "3be610fb",
   "metadata": {},
   "outputs": [],
   "source": []
  }
 ],
 "metadata": {
  "kernelspec": {
   "display_name": "Python 3 (ipykernel)",
   "language": "python",
   "name": "python3"
  },
  "language_info": {
   "codemirror_mode": {
    "name": "ipython",
    "version": 3
   },
   "file_extension": ".py",
   "mimetype": "text/x-python",
   "name": "python",
   "nbconvert_exporter": "python",
   "pygments_lexer": "ipython3",
   "version": "3.10.11"
  }
 },
 "nbformat": 4,
 "nbformat_minor": 5
}
