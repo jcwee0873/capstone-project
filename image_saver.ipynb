{
 "cells": [
  {
   "cell_type": "code",
   "execution_count": 9,
   "id": "0f9115c7",
   "metadata": {},
   "outputs": [],
   "source": [
    "import os\n",
    "import json\n",
    "from io import BytesIO\n",
    "from dotenv import load_dotenv\n",
    "\n",
    "import requests\n",
    "import pandas as pd\n",
    "from glob import glob\n",
    "from tqdm import tqdm\n",
    "from PIL import Image\n",
    "from minio import Minio\n",
    "from minio.error import S3Error"
   ]
  },
  {
   "cell_type": "code",
   "execution_count": 10,
   "id": "be25c6b9",
   "metadata": {},
   "outputs": [
    {
     "data": {
      "text/plain": [
       "True"
      ]
     },
     "execution_count": 10,
     "metadata": {},
     "output_type": "execute_result"
    }
   ],
   "source": [
    "load_dotenv()"
   ]
  },
  {
   "cell_type": "code",
   "execution_count": 11,
   "id": "b3b2c5d1",
   "metadata": {},
   "outputs": [],
   "source": [
    "client = Minio(\n",
    "    os.environ.get('S3_ENDPOINTS'),\n",
    "    access_key=os.environ.get('S3_ACCESS_KEY'),\n",
    "    secret_key=os.environ.get('S3_SECRET_KEY'),\n",
    "    secure=False\n",
    ")"
   ]
  },
  {
   "cell_type": "code",
   "execution_count": null,
   "id": "8dca048d",
   "metadata": {},
   "outputs": [],
   "source": []
  },
  {
   "cell_type": "code",
   "execution_count": 12,
   "id": "197e215d",
   "metadata": {},
   "outputs": [
    {
     "data": {
      "text/plain": [
       "['./data/semi-structured/홍대 회식 맛집.json',\n",
       " './data/semi-structured/홍대 데이트 맛집.json',\n",
       " './data/semi-structured/성수 데이트 맛집.json',\n",
       " './data/semi-structured/압구정 회식 맛집.json',\n",
       " './data/semi-structured/강남역 데이트 맛집.json',\n",
       " './data/semi-structured/영등포 회식 맛집.json',\n",
       " './data/semi-structured/성수 회식 맛집.json',\n",
       " './data/semi-structured/압구정 데이트 맛집.json',\n",
       " './data/semi-structured/강남역 회식 맛집.json',\n",
       " './data/semi-structured/범계 회식 맛집.json',\n",
       " './data/semi-structured/범계 데이트 맛집.json',\n",
       " './data/semi-structured/영등포 데이트 맛집.json']"
      ]
     },
     "execution_count": 12,
     "metadata": {},
     "output_type": "execute_result"
    }
   ],
   "source": [
    "parsed_list = glob(\"./data/semi-structured/*.json\")\n",
    "parsed_list"
   ]
  },
  {
   "cell_type": "code",
   "execution_count": 21,
   "id": "40bda19e",
   "metadata": {},
   "outputs": [],
   "source": [
    "def load_img(url: str):\n",
    "    res = requests.get(url)\n",
    "    img = Image.open(BytesIO(res.content))\n",
    "    \n",
    "    return img"
   ]
  },
  {
   "cell_type": "code",
   "execution_count": 23,
   "id": "823b2baa",
   "metadata": {},
   "outputs": [],
   "source": [
    "img = load_img('https://postfiles.pstatic.net/MjAyMzAyMjVfOCAg/MDAxNjc3MzE3ODY2MjYz.xVfavTXtn1K6evITcB1lbTdljYyr34S0bTAG7K3H0W8g.5SpztDyBDQJ_PVupIW_UAXfKR7luiVE6Nmhc-e3orA4g.JPEG.shuenmama/IMG_2027.jpg?type=w773')"
   ]
  },
  {
   "cell_type": "code",
   "execution_count": 25,
   "id": "fe33b864",
   "metadata": {},
   "outputs": [
    {
     "data": {
      "text/plain": [
       "<minio.helpers.ObjectWriteResult at 0x7f877cd28ca0>"
      ]
     },
     "execution_count": 25,
     "metadata": {},
     "output_type": "execute_result"
    }
   ],
   "source": [
    "bucket_name = 'jcwee.study'\n",
    "file_path = 'skku/capstone/fake_review_detect/data/photo/{article_id}/{no}.png'\n",
    "\n",
    "img_byte = BytesIO()\n",
    "img.save(img_byte, format='PNG')\n",
    "img_byte = img_byte.getvalue()\n",
    "\n",
    "client.put_object(\n",
    "    bucket_name,\n",
    "    file_path,\n",
    "    data=BytesIO(img_byte),\n",
    "    length=len(img_byte),\n",
    "    content_type='image/png'\n",
    ")"
   ]
  },
  {
   "cell_type": "code",
   "execution_count": 27,
   "id": "77a7d769",
   "metadata": {},
   "outputs": [
    {
     "name": "stderr",
     "output_type": "stream",
     "text": [
      "  0%|          | 2/888 [00:31<3:54:22, 15.87s/it]\n"
     ]
    },
    {
     "ename": "UnidentifiedImageError",
     "evalue": "cannot identify image file <_io.BytesIO object at 0x7f877c334090>",
     "output_type": "error",
     "traceback": [
      "\u001b[0;31m---------------------------------------------------------------------------\u001b[0m",
      "\u001b[0;31mUnidentifiedImageError\u001b[0m                    Traceback (most recent call last)",
      "Cell \u001b[0;32mIn[27], line 13\u001b[0m\n\u001b[1;32m     11\u001b[0m \u001b[38;5;28;01mfor\u001b[39;00m p \u001b[38;5;129;01min\u001b[39;00m article[\u001b[38;5;124m'\u001b[39m\u001b[38;5;124mcontents\u001b[39m\u001b[38;5;124m'\u001b[39m]:\n\u001b[1;32m     12\u001b[0m     \u001b[38;5;28;01mif\u001b[39;00m p[\u001b[38;5;124m'\u001b[39m\u001b[38;5;124minfo\u001b[39m\u001b[38;5;124m'\u001b[39m] \u001b[38;5;129;01min\u001b[39;00m [\u001b[38;5;124m'\u001b[39m\u001b[38;5;124mimg\u001b[39m\u001b[38;5;124m'\u001b[39m, \u001b[38;5;124m'\u001b[39m\u001b[38;5;124mgif\u001b[39m\u001b[38;5;124m'\u001b[39m]:\n\u001b[0;32m---> 13\u001b[0m         img \u001b[38;5;241m=\u001b[39m \u001b[43mload_img\u001b[49m\u001b[43m(\u001b[49m\u001b[43mp\u001b[49m\u001b[43m[\u001b[49m\u001b[38;5;124;43m'\u001b[39;49m\u001b[38;5;124;43mcontent\u001b[39;49m\u001b[38;5;124;43m'\u001b[39;49m\u001b[43m]\u001b[49m\u001b[43m)\u001b[49m\n\u001b[1;32m     15\u001b[0m         img_byte \u001b[38;5;241m=\u001b[39m BytesIO()\n\u001b[1;32m     16\u001b[0m         img\u001b[38;5;241m.\u001b[39msave(img_byte, \u001b[38;5;28mformat\u001b[39m\u001b[38;5;241m=\u001b[39m\u001b[38;5;124m'\u001b[39m\u001b[38;5;124mPNG\u001b[39m\u001b[38;5;124m'\u001b[39m)\n",
      "Cell \u001b[0;32mIn[21], line 3\u001b[0m, in \u001b[0;36mload_img\u001b[0;34m(url)\u001b[0m\n\u001b[1;32m      1\u001b[0m \u001b[38;5;28;01mdef\u001b[39;00m \u001b[38;5;21mload_img\u001b[39m(url: \u001b[38;5;28mstr\u001b[39m):\n\u001b[1;32m      2\u001b[0m     res \u001b[38;5;241m=\u001b[39m requests\u001b[38;5;241m.\u001b[39mget(url)\n\u001b[0;32m----> 3\u001b[0m     img \u001b[38;5;241m=\u001b[39m \u001b[43mImage\u001b[49m\u001b[38;5;241;43m.\u001b[39;49m\u001b[43mopen\u001b[49m\u001b[43m(\u001b[49m\u001b[43mBytesIO\u001b[49m\u001b[43m(\u001b[49m\u001b[43mres\u001b[49m\u001b[38;5;241;43m.\u001b[39;49m\u001b[43mcontent\u001b[49m\u001b[43m)\u001b[49m\u001b[43m)\u001b[49m\n\u001b[1;32m      5\u001b[0m     \u001b[38;5;28;01mreturn\u001b[39;00m img\n",
      "File \u001b[0;32m~/anaconda3/envs/torch/lib/python3.10/site-packages/PIL/Image.py:3280\u001b[0m, in \u001b[0;36mopen\u001b[0;34m(fp, mode, formats)\u001b[0m\n\u001b[1;32m   3278\u001b[0m     warnings\u001b[38;5;241m.\u001b[39mwarn(message)\n\u001b[1;32m   3279\u001b[0m msg \u001b[38;5;241m=\u001b[39m \u001b[38;5;124m\"\u001b[39m\u001b[38;5;124mcannot identify image file \u001b[39m\u001b[38;5;132;01m%r\u001b[39;00m\u001b[38;5;124m\"\u001b[39m \u001b[38;5;241m%\u001b[39m (filename \u001b[38;5;28;01mif\u001b[39;00m filename \u001b[38;5;28;01melse\u001b[39;00m fp)\n\u001b[0;32m-> 3280\u001b[0m \u001b[38;5;28;01mraise\u001b[39;00m UnidentifiedImageError(msg)\n",
      "\u001b[0;31mUnidentifiedImageError\u001b[0m: cannot identify image file <_io.BytesIO object at 0x7f877c334090>"
     ]
    }
   ],
   "source": [
    "bucket_name = 'jcwee.study'\n",
    "file_path = 'skku/capstone/fake_review_detect/data/photo/{article_id}/{no}.png'\n",
    "\n",
    "for path in parsed_list:\n",
    "    with open(path, 'r', encoding='utf-8') as f:\n",
    "        blog = json.load(f)\n",
    "    \n",
    "    for article in tqdm(blog):\n",
    "        article_id = '.'.join(article['url'].split('/')[-2:])\n",
    "        \n",
    "        for p in article['contents']:\n",
    "            if p['info'] in ['img', 'gif']:\n",
    "                try:\n",
    "                    img = load_img(p['content'])\n",
    "\n",
    "                    img_byte = BytesIO()\n",
    "                    img.save(img_byte, format='PNG')\n",
    "                    img_byte = img_byte.getvalue()\n",
    "\n",
    "                    client.put_object(\n",
    "                        bucket_name,\n",
    "                        file_path.format(article_id=article_id, no=p['no']),\n",
    "                        data=BytesIO(img_byte),\n",
    "                        length=len(img_byte),\n",
    "                        content_type='image/png'\n",
    "                    )\n",
    "                    \n",
    "                except Exception as e:\n",
    "                    print(e)"
   ]
  },
  {
   "cell_type": "code",
   "execution_count": 28,
   "id": "34a4f68c",
   "metadata": {},
   "outputs": [
    {
     "data": {
      "text/plain": [
       "{'no': 3,\n",
       " 'info': 'img',\n",
       " 'content': 'https://postfiles.pstatic.net/MjAyMzA5MTJfNzMg/MDAxNjk0NDg3NDA4MzM0.qtK7_b3-T_QE-c-KNLQ4WaxRSCRu-ni7auQndPTN98kg.n7LjtbG74HJCsXDIGS7JzNMPM8oylUl3o9YxeCC3RDYg.JPEG.mou25/1.jpg?type=w773'}"
      ]
     },
     "execution_count": 28,
     "metadata": {},
     "output_type": "execute_result"
    }
   ],
   "source": [
    "p"
   ]
  },
  {
   "cell_type": "code",
   "execution_count": 29,
   "id": "1238de79",
   "metadata": {},
   "outputs": [
    {
     "ename": "UnidentifiedImageError",
     "evalue": "cannot identify image file <_io.BytesIO object at 0x7f877a65ef70>",
     "output_type": "error",
     "traceback": [
      "\u001b[0;31m---------------------------------------------------------------------------\u001b[0m",
      "\u001b[0;31mUnidentifiedImageError\u001b[0m                    Traceback (most recent call last)",
      "Cell \u001b[0;32mIn[29], line 1\u001b[0m\n\u001b[0;32m----> 1\u001b[0m \u001b[43mload_img\u001b[49m\u001b[43m(\u001b[49m\u001b[38;5;124;43m'\u001b[39;49m\u001b[38;5;124;43mhttps://postfiles.pstatic.net/MjAyMzA5MTJfNzMg/MDAxNjk0NDg3NDA4MzM0.qtK7_b3-T_QE-c-KNLQ4WaxRSCRu-ni7auQndPTN98kg.n7LjtbG74HJCsXDIGS7JzNMPM8oylUl3o9YxeCC3RDYg.JPEG.mou25/1.jpg?type=w773\u001b[39;49m\u001b[38;5;124;43m'\u001b[39;49m\u001b[43m)\u001b[49m\n",
      "Cell \u001b[0;32mIn[21], line 3\u001b[0m, in \u001b[0;36mload_img\u001b[0;34m(url)\u001b[0m\n\u001b[1;32m      1\u001b[0m \u001b[38;5;28;01mdef\u001b[39;00m \u001b[38;5;21mload_img\u001b[39m(url: \u001b[38;5;28mstr\u001b[39m):\n\u001b[1;32m      2\u001b[0m     res \u001b[38;5;241m=\u001b[39m requests\u001b[38;5;241m.\u001b[39mget(url)\n\u001b[0;32m----> 3\u001b[0m     img \u001b[38;5;241m=\u001b[39m \u001b[43mImage\u001b[49m\u001b[38;5;241;43m.\u001b[39;49m\u001b[43mopen\u001b[49m\u001b[43m(\u001b[49m\u001b[43mBytesIO\u001b[49m\u001b[43m(\u001b[49m\u001b[43mres\u001b[49m\u001b[38;5;241;43m.\u001b[39;49m\u001b[43mcontent\u001b[49m\u001b[43m)\u001b[49m\u001b[43m)\u001b[49m\n\u001b[1;32m      5\u001b[0m     \u001b[38;5;28;01mreturn\u001b[39;00m img\n",
      "File \u001b[0;32m~/anaconda3/envs/torch/lib/python3.10/site-packages/PIL/Image.py:3280\u001b[0m, in \u001b[0;36mopen\u001b[0;34m(fp, mode, formats)\u001b[0m\n\u001b[1;32m   3278\u001b[0m     warnings\u001b[38;5;241m.\u001b[39mwarn(message)\n\u001b[1;32m   3279\u001b[0m msg \u001b[38;5;241m=\u001b[39m \u001b[38;5;124m\"\u001b[39m\u001b[38;5;124mcannot identify image file \u001b[39m\u001b[38;5;132;01m%r\u001b[39;00m\u001b[38;5;124m\"\u001b[39m \u001b[38;5;241m%\u001b[39m (filename \u001b[38;5;28;01mif\u001b[39;00m filename \u001b[38;5;28;01melse\u001b[39;00m fp)\n\u001b[0;32m-> 3280\u001b[0m \u001b[38;5;28;01mraise\u001b[39;00m UnidentifiedImageError(msg)\n",
      "\u001b[0;31mUnidentifiedImageError\u001b[0m: cannot identify image file <_io.BytesIO object at 0x7f877a65ef70>"
     ]
    }
   ],
   "source": [
    "load_img('https://postfiles.pstatic.net/MjAyMzA5MTJfNzMg/MDAxNjk0NDg3NDA4MzM0.qtK7_b3-T_QE-c-KNLQ4WaxRSCRu-ni7auQndPTN98kg.n7LjtbG74HJCsXDIGS7JzNMPM8oylUl3o9YxeCC3RDYg.JPEG.mou25/1.jpg?type=w773')"
   ]
  },
  {
   "cell_type": "code",
   "execution_count": null,
   "id": "bbc2ec9c",
   "metadata": {},
   "outputs": [],
   "source": []
  }
 ],
 "metadata": {
  "kernelspec": {
   "display_name": "Python 3 (ipykernel)",
   "language": "python",
   "name": "python3"
  },
  "language_info": {
   "codemirror_mode": {
    "name": "ipython",
    "version": 3
   },
   "file_extension": ".py",
   "mimetype": "text/x-python",
   "name": "python",
   "nbconvert_exporter": "python",
   "pygments_lexer": "ipython3",
   "version": "3.10.11"
  }
 },
 "nbformat": 4,
 "nbformat_minor": 5
}
