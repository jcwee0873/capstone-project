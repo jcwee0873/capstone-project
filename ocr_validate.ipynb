{
 "cells": [
  {
   "cell_type": "code",
   "execution_count": 9,
   "id": "0bcaba41",
   "metadata": {},
   "outputs": [],
   "source": [
    "import re\n",
    "import json\n",
    "from io import BytesIO\n",
    "\n",
    "import requests\n",
    "import pandas as pd\n",
    "from glob import glob\n",
    "from PIL import Image"
   ]
  },
  {
   "cell_type": "code",
   "execution_count": 2,
   "id": "01daf654",
   "metadata": {},
   "outputs": [],
   "source": [
    "ad_keywords = [\n",
    "    \"내돈내산\",\n",
    "    \"지원을받아\",\n",
    "    \"지원받아\",\n",
    "    \"후원을받아\",\n",
    "    \"후원받아\",\n",
    "    \"원고료\",\n",
    "    \"체험단\",\n",
    "    \"제공받아\",\n",
    "    \"금전적지원\",\n",
    "    \"사비로\",\n",
    "    \"업체로부터\",\n",
    "    \"협찬\",\n",
    "    \"제품또는서비스를\",\n",
    "    \"업체에서\",\n",
    "    \"소정의\",\n",
    "    \"고료를\",\n",
    "    \"할인을\",\n",
    "    \"레뷰\",\n",
    "    \"강남오빠\",\n",
    "    \"디너의여왕\",\n",
    "    \"서울오빠\",\n",
    "    \"이놀자데뷰\"\n",
    "]"
   ]
  },
  {
   "cell_type": "code",
   "execution_count": 3,
   "id": "d3306b9e",
   "metadata": {},
   "outputs": [],
   "source": [
    "def load_img(url: str):\n",
    "    res = requests.get(url)\n",
    "    img = Image.open(BytesIO(res.content))\n",
    "    \n",
    "    return img"
   ]
  },
  {
   "cell_type": "code",
   "execution_count": 4,
   "id": "53092a1b",
   "metadata": {},
   "outputs": [],
   "source": [
    "HAN_REGEX = re.compile('[^가-힣]')"
   ]
  },
  {
   "cell_type": "code",
   "execution_count": 10,
   "id": "b3aa5950",
   "metadata": {},
   "outputs": [
    {
     "data": {
      "text/plain": [
       "['./data/semi_struct_ocr/홍대 회식 맛집.json',\n",
       " './data/semi_struct_ocr/홍대 데이트 맛집.json',\n",
       " './data/semi_struct_ocr/성수 데이트 맛집.json']"
      ]
     },
     "execution_count": 10,
     "metadata": {},
     "output_type": "execute_result"
    }
   ],
   "source": [
    "files = glob('./data/semi_struct_ocr/*.json')\n",
    "files"
   ]
  },
  {
   "cell_type": "code",
   "execution_count": 11,
   "id": "635bc32e",
   "metadata": {},
   "outputs": [],
   "source": [
    "with open(files[2], 'r', encoding='utf-8') as f:\n",
    "    blog = json.load(f)"
   ]
  },
  {
   "cell_type": "code",
   "execution_count": 12,
   "id": "271efb45",
   "metadata": {},
   "outputs": [],
   "source": [
    "df = []\n",
    "for article in blog:\n",
    "    easy_text = \"\"\n",
    "    tess_text = \"\"\n",
    "    plain_text = \"\"\n",
    "    for p in article['contents']:\n",
    "        if p['info'] in ['img', 'gif']:\n",
    "        \n",
    "            if p.get('tess_text'):\n",
    "                easy_text += p['easy_text']\n",
    "                tess_text += p[\"tess_text\"]\n",
    "        elif p['info'] == 'text':\n",
    "            plain_text += p['content']\n",
    "            \n",
    "    df.append({\n",
    "        \"article_id\": article[\"id\"],\n",
    "        \"plain_text\": HAN_REGEX.sub('', plain_text),\n",
    "        \"easyocr\": HAN_REGEX.sub('', easy_text),\n",
    "        \"tesseractocr\": HAN_REGEX.sub('', tess_text)\n",
    "    })\n",
    "df = pd.DataFrame(df)"
   ]
  },
  {
   "cell_type": "code",
   "execution_count": 13,
   "id": "b13639b0",
   "metadata": {},
   "outputs": [],
   "source": [
    "for kywd in ad_keywords:\n",
    "    df.loc[df[df.plain_text.str.contains(kywd)].index, 'label'] = 1\n",
    "    df.loc[df[df.tesseractocr.str.contains(kywd)].index, 'label'] = 1\n",
    "    df.loc[df[df.easyocr.str.contains(kywd)].index, 'label'] = 1\n",
    "df['label'] = df.label.fillna(0)"
   ]
  },
  {
   "cell_type": "code",
   "execution_count": 16,
   "id": "a1fc74a9",
   "metadata": {
    "scrolled": false
   },
   "outputs": [
    {
     "data": {
      "text/plain": [
       "0      제품또는서비스를제공받아작성된리뷰입니다\n",
       "2      품원고료를지원받아솔직하게작성하였습니다\n",
       "3                          \n",
       "4      제공받아체험한후솔직하게작성한후기입니다\n",
       "5      각의견으로자성하리뷰입니다참고만해주세요\n",
       "               ...         \n",
       "975    기예예린가네사케지도본도에베기예때띠르네\n",
       "976    애금찌버버며팬이더비마떼은기그개버귀특고\n",
       "979    서비스틀제공받아솔직하게작성하였습니다이\n",
       "981    다락에서원고료를제공받아작성된글입니다주\n",
       "984    서비스틀제공받아솔직하게작성하였습니다이\n",
       "Name: tesseractocr, Length: 486, dtype: object"
      ]
     },
     "execution_count": 16,
     "metadata": {},
     "output_type": "execute_result"
    }
   ],
   "source": [
    "df[df.label == 1]['tesseractocr'].apply(lambda x: x[-20:])"
   ]
  },
  {
   "cell_type": "code",
   "execution_count": null,
   "id": "417fff3b",
   "metadata": {},
   "outputs": [],
   "source": []
  }
 ],
 "metadata": {
  "kernelspec": {
   "display_name": "Python 3 (ipykernel)",
   "language": "python",
   "name": "python3"
  },
  "language_info": {
   "codemirror_mode": {
    "name": "ipython",
    "version": 3
   },
   "file_extension": ".py",
   "mimetype": "text/x-python",
   "name": "python",
   "nbconvert_exporter": "python",
   "pygments_lexer": "ipython3",
   "version": "3.10.11"
  }
 },
 "nbformat": 4,
 "nbformat_minor": 5
}
