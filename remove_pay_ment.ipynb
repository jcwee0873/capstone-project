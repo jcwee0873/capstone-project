{
 "cells": [
  {
   "cell_type": "code",
   "execution_count": 5,
   "id": "021ddabd",
   "metadata": {},
   "outputs": [],
   "source": [
    "import json\n",
    "import pandas as pd\n",
    "from glob import glob"
   ]
  },
  {
   "cell_type": "code",
   "execution_count": 2,
   "id": "ea6a8143",
   "metadata": {},
   "outputs": [],
   "source": [
    "df = pd.read_csv('./data/review_dataset_v7.csv', index_col=0)"
   ]
  },
  {
   "cell_type": "code",
   "execution_count": 6,
   "id": "3b02df18",
   "metadata": {},
   "outputs": [],
   "source": [
    "files = glob('./data/semi-structured/*.json')"
   ]
  },
  {
   "cell_type": "code",
   "execution_count": 11,
   "id": "39c66f51",
   "metadata": {},
   "outputs": [],
   "source": [
    "result = []\n",
    "for file in files:\n",
    "    with open(file, 'r', encoding='utf-8') as f:\n",
    "        result +=  json.load(f)"
   ]
  },
  {
   "cell_type": "code",
   "execution_count": null,
   "id": "2750b673",
   "metadata": {},
   "outputs": [],
   "source": []
  },
  {
   "cell_type": "code",
   "execution_count": null,
   "id": "13fdd231",
   "metadata": {},
   "outputs": [],
   "source": []
  }
 ],
 "metadata": {
  "kernelspec": {
   "display_name": "Python 3 (ipykernel)",
   "language": "python",
   "name": "python3"
  },
  "language_info": {
   "codemirror_mode": {
    "name": "ipython",
    "version": 3
   },
   "file_extension": ".py",
   "mimetype": "text/x-python",
   "name": "python",
   "nbconvert_exporter": "python",
   "pygments_lexer": "ipython3",
   "version": "3.10.11"
  }
 },
 "nbformat": 4,
 "nbformat_minor": 5
}
