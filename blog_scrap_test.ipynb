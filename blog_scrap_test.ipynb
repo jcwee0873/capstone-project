{
 "cells": [
  {
   "cell_type": "code",
   "execution_count": 12,
   "id": "ec7c7dbb",
   "metadata": {},
   "outputs": [],
   "source": [
    "import os\n",
    "import time\n",
    "from tqdm import tqdm\n",
    "\n",
    "from blog_fake_review.url_loader import blog_url_load\n",
    "from blog_fake_review.webdriver import CustomWebDriver"
   ]
  },
  {
   "cell_type": "code",
   "execution_count": 9,
   "id": "acfc22bf",
   "metadata": {},
   "outputs": [],
   "source": [
    "blog_datas = blog_url_load(\n",
    "    '비타민C 메가도스',\n",
    "    size=1000,\n",
    "    div='blog',\n",
    "    sort='sim'\n",
    ")"
   ]
  },
  {
   "cell_type": "code",
   "execution_count": 11,
   "id": "345fc920",
   "metadata": {},
   "outputs": [
    {
     "data": {
      "text/plain": [
       "'C:\\\\Users\\\\jcwee\\\\Documents\\\\capstone-project\\\\scraper\\\\drivers\\\\msedgedriver.exe'"
      ]
     },
     "execution_count": 11,
     "metadata": {},
     "output_type": "execute_result"
    }
   ],
   "source": [
    "driver = CustomWebDriver(headless=False)\n",
    "driver.driver_location"
   ]
  },
  {
   "cell_type": "code",
   "execution_count": 13,
   "id": "c6057350",
   "metadata": {},
   "outputs": [
    {
     "name": "stderr",
     "output_type": "stream",
     "text": [
      "  1%|█                                                                                                                                                                       | 6/1000 [00:52<3:30:04, 12.68s/it]"
     ]
    },
    {
     "name": "stdout",
     "output_type": "stream",
     "text": [
      "'function' object has no attribute 'error'\n"
     ]
    },
    {
     "name": "stderr",
     "output_type": "stream",
     "text": [
      "  7%|███████████▏                                                                                                                                                           | 67/1000 [04:58<2:55:46, 11.30s/it]"
     ]
    },
    {
     "name": "stdout",
     "output_type": "stream",
     "text": [
      "'function' object has no attribute 'error'\n"
     ]
    },
    {
     "name": "stderr",
     "output_type": "stream",
     "text": [
      " 19%|███████████████████████████████                                                                                                                                       | 187/1000 [12:26<1:00:30,  4.47s/it]"
     ]
    },
    {
     "name": "stdout",
     "output_type": "stream",
     "text": [
      "Message: mainFrame\n",
      "\n"
     ]
    },
    {
     "name": "stderr",
     "output_type": "stream",
     "text": [
      " 28%|█████████████████████████████████████████████▉                                                                                                                        | 277/1000 [17:50<1:08:38,  5.70s/it]"
     ]
    },
    {
     "name": "stdout",
     "output_type": "stream",
     "text": [
      "Message: mainFrame\n",
      "\n"
     ]
    },
    {
     "name": "stderr",
     "output_type": "stream",
     "text": [
      " 32%|████████████████████████████████████████████████████▍                                                                                                                 | 316/1000 [20:20<1:01:16,  5.37s/it]"
     ]
    },
    {
     "name": "stdout",
     "output_type": "stream",
     "text": [
      "Message: mainFrame\n",
      "\n"
     ]
    },
    {
     "name": "stderr",
     "output_type": "stream",
     "text": [
      " 35%|█████████████████████████████████████████████████████████▊                                                                                                            | 348/1000 [22:51<2:09:38, 11.93s/it]"
     ]
    },
    {
     "name": "stdout",
     "output_type": "stream",
     "text": [
      "'function' object has no attribute 'error'\n"
     ]
    },
    {
     "name": "stderr",
     "output_type": "stream",
     "text": [
      " 37%|█████████████████████████████████████████████████████████████▍                                                                                                          | 366/1000 [24:06<42:54,  4.06s/it]Error handling request\n",
      "Traceback (most recent call last):\n",
      "  File \"C:\\Users\\jcwee\\anaconda3\\envs\\torch\\lib\\site-packages\\seleniumwire\\handler.py\", line 61, in request\n",
      "    flow.request.url = request.url.replace('wss://', 'https://', 1)\n",
      "  File \"C:\\Users\\jcwee\\anaconda3\\envs\\torch\\lib\\site-packages\\seleniumwire\\thirdparty\\mitmproxy\\net\\http\\request.py\", line 284, in url\n",
      "    self.scheme, self.host, self.port, self.path = seleniumwire.thirdparty.mitmproxy.net.http.url.parse(val)\n",
      "  File \"C:\\Users\\jcwee\\anaconda3\\envs\\torch\\lib\\site-packages\\seleniumwire\\thirdparty\\mitmproxy\\net\\http\\url.py\", line 55, in parse\n",
      "    parsed = parsed.encode(\"ascii\")\n",
      "  File \"C:\\Users\\jcwee\\anaconda3\\envs\\torch\\lib\\urllib\\parse.py\", line 136, in encode\n",
      "    return self._encoded_counterpart(*(x.encode(encoding, errors) for x in self))\n",
      "  File \"C:\\Users\\jcwee\\anaconda3\\envs\\torch\\lib\\urllib\\parse.py\", line 136, in <genexpr>\n",
      "    return self._encoded_counterpart(*(x.encode(encoding, errors) for x in self))\n",
      "UnicodeEncodeError: 'ascii' codec can't encode characters in position 0-5: ordinal not in range(128)\n",
      "\n",
      "Error handling request\n",
      "Traceback (most recent call last):\n",
      "  File \"C:\\Users\\jcwee\\anaconda3\\envs\\torch\\lib\\site-packages\\seleniumwire\\handler.py\", line 61, in request\n",
      "    flow.request.url = request.url.replace('wss://', 'https://', 1)\n",
      "  File \"C:\\Users\\jcwee\\anaconda3\\envs\\torch\\lib\\site-packages\\seleniumwire\\thirdparty\\mitmproxy\\net\\http\\request.py\", line 284, in url\n",
      "    self.scheme, self.host, self.port, self.path = seleniumwire.thirdparty.mitmproxy.net.http.url.parse(val)\n",
      "  File \"C:\\Users\\jcwee\\anaconda3\\envs\\torch\\lib\\site-packages\\seleniumwire\\thirdparty\\mitmproxy\\net\\http\\url.py\", line 55, in parse\n",
      "    parsed = parsed.encode(\"ascii\")\n",
      "  File \"C:\\Users\\jcwee\\anaconda3\\envs\\torch\\lib\\urllib\\parse.py\", line 136, in encode\n",
      "    return self._encoded_counterpart(*(x.encode(encoding, errors) for x in self))\n",
      "  File \"C:\\Users\\jcwee\\anaconda3\\envs\\torch\\lib\\urllib\\parse.py\", line 136, in <genexpr>\n",
      "    return self._encoded_counterpart(*(x.encode(encoding, errors) for x in self))\n",
      "UnicodeEncodeError: 'ascii' codec can't encode characters in position 0-5: ordinal not in range(128)\n",
      "\n",
      " 39%|█████████████████████████████████████████████████████████████████▏                                                                                                    | 393/1000 [26:09<1:51:25, 11.01s/it]"
     ]
    },
    {
     "name": "stdout",
     "output_type": "stream",
     "text": [
      "'function' object has no attribute 'error'\n"
     ]
    },
    {
     "name": "stderr",
     "output_type": "stream",
     "text": [
      " 40%|██████████████████████████████████████████████████████████████████                                                                                                    | 398/1000 [27:00<2:10:48, 13.04s/it]"
     ]
    },
    {
     "name": "stdout",
     "output_type": "stream",
     "text": [
      "'function' object has no attribute 'error'\n"
     ]
    },
    {
     "name": "stderr",
     "output_type": "stream",
     "text": [
      " 46%|████████████████████████████████████████████████████████████████████████████▉                                                                                           | 458/1000 [30:41<54:16,  6.01s/it]"
     ]
    },
    {
     "name": "stdout",
     "output_type": "stream",
     "text": [
      "Message: mainFrame\n",
      "\n"
     ]
    },
    {
     "name": "stderr",
     "output_type": "stream",
     "text": [
      " 48%|███████████████████████████████████████████████████████████████████████████████                                                                                       | 476/1000 [32:18<1:43:18, 11.83s/it]"
     ]
    },
    {
     "name": "stdout",
     "output_type": "stream",
     "text": [
      "'function' object has no attribute 'error'\n"
     ]
    },
    {
     "name": "stderr",
     "output_type": "stream",
     "text": [
      " 57%|█████████████████████████████████████████████████████████████████████████████████████████████▉                                                                        | 566/1000 [37:50<1:25:39, 11.84s/it]"
     ]
    },
    {
     "name": "stdout",
     "output_type": "stream",
     "text": [
      "'function' object has no attribute 'error'\n"
     ]
    },
    {
     "name": "stderr",
     "output_type": "stream",
     "text": [
      " 63%|█████████████████████████████████████████████████████████████████████████████████████████████████████████▎                                                              | 627/1000 [42:05<27:02,  4.35s/it]Error handling request\n",
      "Traceback (most recent call last):\n",
      "  File \"C:\\Users\\jcwee\\anaconda3\\envs\\torch\\lib\\site-packages\\seleniumwire\\handler.py\", line 61, in request\n",
      "    flow.request.url = request.url.replace('wss://', 'https://', 1)\n",
      "  File \"C:\\Users\\jcwee\\anaconda3\\envs\\torch\\lib\\site-packages\\seleniumwire\\thirdparty\\mitmproxy\\net\\http\\request.py\", line 284, in url\n",
      "    self.scheme, self.host, self.port, self.path = seleniumwire.thirdparty.mitmproxy.net.http.url.parse(val)\n",
      "  File \"C:\\Users\\jcwee\\anaconda3\\envs\\torch\\lib\\site-packages\\seleniumwire\\thirdparty\\mitmproxy\\net\\http\\url.py\", line 55, in parse\n",
      "    parsed = parsed.encode(\"ascii\")\n",
      "  File \"C:\\Users\\jcwee\\anaconda3\\envs\\torch\\lib\\urllib\\parse.py\", line 136, in encode\n",
      "    return self._encoded_counterpart(*(x.encode(encoding, errors) for x in self))\n",
      "  File \"C:\\Users\\jcwee\\anaconda3\\envs\\torch\\lib\\urllib\\parse.py\", line 136, in <genexpr>\n",
      "    return self._encoded_counterpart(*(x.encode(encoding, errors) for x in self))\n",
      "UnicodeEncodeError: 'ascii' codec can't encode characters in position 0-5: ordinal not in range(128)\n",
      "\n",
      "Error handling request\n",
      "Traceback (most recent call last):\n",
      "  File \"C:\\Users\\jcwee\\anaconda3\\envs\\torch\\lib\\site-packages\\seleniumwire\\handler.py\", line 61, in request\n",
      "    flow.request.url = request.url.replace('wss://', 'https://', 1)\n",
      "  File \"C:\\Users\\jcwee\\anaconda3\\envs\\torch\\lib\\site-packages\\seleniumwire\\thirdparty\\mitmproxy\\net\\http\\request.py\", line 284, in url\n",
      "    self.scheme, self.host, self.port, self.path = seleniumwire.thirdparty.mitmproxy.net.http.url.parse(val)\n",
      "  File \"C:\\Users\\jcwee\\anaconda3\\envs\\torch\\lib\\site-packages\\seleniumwire\\thirdparty\\mitmproxy\\net\\http\\url.py\", line 55, in parse\n",
      "    parsed = parsed.encode(\"ascii\")\n",
      "  File \"C:\\Users\\jcwee\\anaconda3\\envs\\torch\\lib\\urllib\\parse.py\", line 136, in encode\n",
      "    return self._encoded_counterpart(*(x.encode(encoding, errors) for x in self))\n",
      "  File \"C:\\Users\\jcwee\\anaconda3\\envs\\torch\\lib\\urllib\\parse.py\", line 136, in <genexpr>\n",
      "    return self._encoded_counterpart(*(x.encode(encoding, errors) for x in self))\n",
      "UnicodeEncodeError: 'ascii' codec can't encode characters in position 0-5: ordinal not in range(128)\n",
      "\n",
      " 69%|████████████████████████████████████████████████████████████████████████████████████████████████████████████████████▎                                                   | 692/1000 [46:30<58:18, 11.36s/it]"
     ]
    },
    {
     "name": "stdout",
     "output_type": "stream",
     "text": [
      "'function' object has no attribute 'error'\n"
     ]
    },
    {
     "name": "stderr",
     "output_type": "stream",
     "text": [
      " 70%|█████████████████████████████████████████████████████████████████████████████████████████████████████████████████████▊                                                  | 701/1000 [47:19<29:53,  6.00s/it]"
     ]
    },
    {
     "name": "stdout",
     "output_type": "stream",
     "text": [
      "Message: mainFrame\n",
      "\n"
     ]
    },
    {
     "name": "stderr",
     "output_type": "stream",
     "text": [
      " 71%|██████████████████████████████████████████████████████████████████████████████████████████████████████████████████████▌                                                 | 706/1000 [47:45<26:38,  5.44s/it]"
     ]
    },
    {
     "name": "stdout",
     "output_type": "stream",
     "text": [
      "Message: mainFrame\n",
      "\n"
     ]
    },
    {
     "name": "stderr",
     "output_type": "stream",
     "text": [
      " 71%|███████████████████████████████████████████████████████████████████████████████████████████████████████████████████████▍                                                | 711/1000 [48:10<27:00,  5.61s/it]"
     ]
    },
    {
     "name": "stdout",
     "output_type": "stream",
     "text": [
      "Message: mainFrame\n",
      "\n"
     ]
    },
    {
     "name": "stderr",
     "output_type": "stream",
     "text": [
      " 76%|████████████████████████████████████████████████████████████████████████████████████████████████████████████████████████████████▌                                       | 765/1000 [51:42<20:40,  5.28s/it]"
     ]
    },
    {
     "name": "stdout",
     "output_type": "stream",
     "text": [
      "Message: mainFrame\n",
      "\n"
     ]
    },
    {
     "name": "stderr",
     "output_type": "stream",
     "text": [
      " 80%|██████████████████████████████████████████████████████████████████████████████████████████████████████████████████████████████████████                                  | 798/1000 [53:43<17:33,  5.21s/it]"
     ]
    },
    {
     "name": "stdout",
     "output_type": "stream",
     "text": [
      "Message: mainFrame\n",
      "\n"
     ]
    },
    {
     "name": "stderr",
     "output_type": "stream",
     "text": [
      " 84%|█████████████████████████████████████████████████████████████████████████████████████████████████████████████████████████████████████████████▊                          | 844/1000 [56:55<31:36, 12.16s/it]"
     ]
    },
    {
     "name": "stdout",
     "output_type": "stream",
     "text": [
      "'function' object has no attribute 'error'\n"
     ]
    },
    {
     "name": "stderr",
     "output_type": "stream",
     "text": [
      " 87%|█████████████████████████████████████████████████████████████████████████████████████████████████████████████████████████████████████████████████▋                      | 867/1000 [58:48<25:00, 11.29s/it]"
     ]
    },
    {
     "name": "stdout",
     "output_type": "stream",
     "text": [
      "'function' object has no attribute 'error'\n"
     ]
    },
    {
     "name": "stderr",
     "output_type": "stream",
     "text": [
      " 88%|██████████████████████████████████████████████████████████████████████████████████████████████████████████████████████████████████████████████████▉                   | 885/1000 [1:00:22<15:36,  8.14s/it]"
     ]
    },
    {
     "name": "stdout",
     "output_type": "stream",
     "text": [
      "Message: mainFrame\n",
      "\n"
     ]
    },
    {
     "name": "stderr",
     "output_type": "stream",
     "text": [
      " 89%|███████████████████████████████████████████████████████████████████████████████████████████████████████████████████████████████████████████████████▏                  | 887/1000 [1:00:42<17:14,  9.15s/it]"
     ]
    },
    {
     "name": "stdout",
     "output_type": "stream",
     "text": [
      "Message: mainFrame\n",
      "\n"
     ]
    },
    {
     "name": "stderr",
     "output_type": "stream",
     "text": [
      " 95%|█████████████████████████████████████████████████████████████████████████████████████████████████████████████████████████████████████████████████████████████         | 946/1000 [1:04:44<05:16,  5.87s/it]"
     ]
    },
    {
     "name": "stdout",
     "output_type": "stream",
     "text": [
      "Message: mainFrame\n",
      "\n"
     ]
    },
    {
     "name": "stderr",
     "output_type": "stream",
     "text": [
      " 97%|████████████████████████████████████████████████████████████████████████████████████████████████████████████████████████████████████████████████████████████████▎     | 966/1000 [1:06:11<03:11,  5.64s/it]"
     ]
    },
    {
     "name": "stdout",
     "output_type": "stream",
     "text": [
      "Message: mainFrame\n",
      "\n"
     ]
    },
    {
     "name": "stderr",
     "output_type": "stream",
     "text": [
      " 98%|██████████████████████████████████████████████████████████████████████████████████████████████████████████████████████████████████████████████████████████████████    | 976/1000 [1:07:02<03:01,  7.55s/it]"
     ]
    },
    {
     "name": "stdout",
     "output_type": "stream",
     "text": [
      "Message: mainFrame\n",
      "\n"
     ]
    },
    {
     "name": "stderr",
     "output_type": "stream",
     "text": [
      " 99%|███████████████████████████████████████████████████████████████████████████████████████████████████████████████████████████████████████████████████████████████████▊  | 987/1000 [1:07:49<01:03,  4.89s/it]"
     ]
    },
    {
     "name": "stdout",
     "output_type": "stream",
     "text": [
      "Message: mainFrame\n",
      "\n"
     ]
    },
    {
     "name": "stderr",
     "output_type": "stream",
     "text": [
      " 99%|████████████████████████████████████████████████████████████████████████████████████████████████████████████████████████████████████████████████████████████████████▋ | 992/1000 [1:08:22<00:59,  7.40s/it]"
     ]
    },
    {
     "name": "stdout",
     "output_type": "stream",
     "text": [
      "Message: mainFrame\n",
      "\n"
     ]
    },
    {
     "name": "stderr",
     "output_type": "stream",
     "text": [
      "100%|█████████████████████████████████████████████████████████████████████████████████████████████████████████████████████████████████████████████████████████████████████| 1000/1000 [1:08:59<00:00,  4.14s/it]\n"
     ]
    }
   ],
   "source": [
    "result = []\n",
    "\n",
    "for data in tqdm(blog_datas):\n",
    "    try:\n",
    "        url = data['link']\n",
    "        ok = driver.get(url)\n",
    "        time.sleep(1)\n",
    "        if not ok: continue\n",
    "\n",
    "        driver.switch_to_frame(\"mainFrame\")\n",
    "\n",
    "        source = driver.get_page_source(to_soup=False)\n",
    "\n",
    "\n",
    "        result.append({\n",
    "            \"title\": data[\"title\"],\n",
    "            \"url\": url,\n",
    "            \"blog_name\": data[\"bloggername\"],\n",
    "            \"date\": data[\"postdate\"],\n",
    "            \"origin_source\": source\n",
    "        })\n",
    "        \n",
    "    except Exception as e:\n",
    "        print(e)"
   ]
  },
  {
   "cell_type": "code",
   "execution_count": null,
   "id": "d853502e",
   "metadata": {},
   "outputs": [],
   "source": []
  },
  {
   "cell_type": "code",
   "execution_count": 14,
   "id": "4049b934",
   "metadata": {},
   "outputs": [
    {
     "data": {
      "text/plain": [
       "974"
      ]
     },
     "execution_count": 14,
     "metadata": {},
     "output_type": "execute_result"
    }
   ],
   "source": [
    "len(result)"
   ]
  },
  {
   "cell_type": "code",
   "execution_count": 16,
   "id": "d9fce57a",
   "metadata": {},
   "outputs": [],
   "source": [
    "import json\n",
    "\n",
    "with open(\"./sample_비타민C 메가도스_230911.json\", \"w\", encoding=\"utf-8\") as f:\n",
    "    json.dump(result, f, ensure_ascii=False)"
   ]
  },
  {
   "cell_type": "code",
   "execution_count": null,
   "id": "7a450bc3",
   "metadata": {},
   "outputs": [],
   "source": []
  }
 ],
 "metadata": {
  "kernelspec": {
   "display_name": "Python 3 (ipykernel)",
   "language": "python",
   "name": "python3"
  },
  "language_info": {
   "codemirror_mode": {
    "name": "ipython",
    "version": 3
   },
   "file_extension": ".py",
   "mimetype": "text/x-python",
   "name": "python",
   "nbconvert_exporter": "python",
   "pygments_lexer": "ipython3",
   "version": "3.10.9"
  }
 },
 "nbformat": 4,
 "nbformat_minor": 5
}
