{
 "cells": [
  {
   "cell_type": "code",
   "execution_count": 1,
   "id": "5a1f2d96",
   "metadata": {},
   "outputs": [],
   "source": [
    "import pandas as pd\n",
    "from news_polarity.news_api import call_bigkinds_news, api_call"
   ]
  },
  {
   "cell_type": "code",
   "execution_count": 2,
   "id": "4ab4c4be",
   "metadata": {},
   "outputs": [
    {
     "name": "stdout",
     "output_type": "stream",
     "text": [
      "[BigkindsNews] '' from 2023-09-04 to 2023-09-07. (-1)\n",
      "[BigkindsNews] 10000 / 32667\n",
      "[BigkindsNews] 20000 / 32671\n",
      "[BigkindsNews] 30000 / 32673\n",
      "[BigkindsNews] 40000 / 32676\n"
     ]
    }
   ],
   "source": [
    "result = call_bigkinds_news(\n",
    "    start='2023-09-04',\n",
    "    end='2023-09-07'\n",
    ")"
   ]
  },
  {
   "cell_type": "code",
   "execution_count": 3,
   "id": "f949d296",
   "metadata": {},
   "outputs": [],
   "source": [
    "df = pd.DataFrame(result)"
   ]
  },
  {
   "cell_type": "code",
   "execution_count": 4,
   "id": "61b3db33",
   "metadata": {},
   "outputs": [
    {
     "data": {
      "text/html": [
       "<div>\n",
       "<style scoped>\n",
       "    .dataframe tbody tr th:only-of-type {\n",
       "        vertical-align: middle;\n",
       "    }\n",
       "\n",
       "    .dataframe tbody tr th {\n",
       "        vertical-align: top;\n",
       "    }\n",
       "\n",
       "    .dataframe thead th {\n",
       "        text-align: right;\n",
       "    }\n",
       "</style>\n",
       "<table border=\"1\" class=\"dataframe\">\n",
       "  <thead>\n",
       "    <tr style=\"text-align: right;\">\n",
       "      <th></th>\n",
       "      <th>news_id</th>\n",
       "      <th>title</th>\n",
       "      <th>content</th>\n",
       "      <th>published_at</th>\n",
       "      <th>enveloped_at</th>\n",
       "      <th>dateline</th>\n",
       "      <th>provider</th>\n",
       "      <th>category</th>\n",
       "      <th>category_incident</th>\n",
       "      <th>publisher_code</th>\n",
       "      <th>provider_link_page</th>\n",
       "    </tr>\n",
       "  </thead>\n",
       "  <tbody>\n",
       "    <tr>\n",
       "      <th>23358</th>\n",
       "      <td>02100311.20230904173226001</td>\n",
       "      <td>정부 \"오염수 방류 직후 마트 수산물 매출 68% 증가\"</td>\n",
       "      <td>일본 후쿠시마 원전 오염수 방류 직후 국내 대형마트의 수산물 매출이 1년 전보다 증...</td>\n",
       "      <td>2023-09-04T00:00:00.000+09:00</td>\n",
       "      <td>2023-09-04T17:32:26.000+09:00</td>\n",
       "      <td>2023-09-04T22:11:56.000+09:00</td>\n",
       "      <td>서울경제</td>\n",
       "      <td>[경제&gt;유통]</td>\n",
       "      <td>[]</td>\n",
       "      <td></td>\n",
       "      <td>http://www.sedaily.com/NewsView/29UJY07KH9</td>\n",
       "    </tr>\n",
       "    <tr>\n",
       "      <th>33361</th>\n",
       "      <td>02100311.20230904173226001</td>\n",
       "      <td>정부 \"오염수 방류 직후 마트 수산물 매출 68% 증가\"</td>\n",
       "      <td>일본 후쿠시마 원전 오염수 방류 직후 국내 대형마트의 수산물 매출이 1년 전보다 증...</td>\n",
       "      <td>2023-09-04T00:00:00.000+09:00</td>\n",
       "      <td>2023-09-04T17:32:26.000+09:00</td>\n",
       "      <td>2023-09-04T22:11:56.000+09:00</td>\n",
       "      <td>서울경제</td>\n",
       "      <td>[경제&gt;유통]</td>\n",
       "      <td>[]</td>\n",
       "      <td></td>\n",
       "      <td>http://www.sedaily.com/NewsView/29UJY07KH9</td>\n",
       "    </tr>\n",
       "  </tbody>\n",
       "</table>\n",
       "</div>"
      ],
      "text/plain": [
       "                          news_id                            title  \\\n",
       "23358  02100311.20230904173226001  정부 \"오염수 방류 직후 마트 수산물 매출 68% 증가\"   \n",
       "33361  02100311.20230904173226001  정부 \"오염수 방류 직후 마트 수산물 매출 68% 증가\"   \n",
       "\n",
       "                                                 content  \\\n",
       "23358  일본 후쿠시마 원전 오염수 방류 직후 국내 대형마트의 수산물 매출이 1년 전보다 증...   \n",
       "33361  일본 후쿠시마 원전 오염수 방류 직후 국내 대형마트의 수산물 매출이 1년 전보다 증...   \n",
       "\n",
       "                        published_at                   enveloped_at  \\\n",
       "23358  2023-09-04T00:00:00.000+09:00  2023-09-04T17:32:26.000+09:00   \n",
       "33361  2023-09-04T00:00:00.000+09:00  2023-09-04T17:32:26.000+09:00   \n",
       "\n",
       "                            dateline provider category category_incident  \\\n",
       "23358  2023-09-04T22:11:56.000+09:00     서울경제  [경제>유통]                []   \n",
       "33361  2023-09-04T22:11:56.000+09:00     서울경제  [경제>유통]                []   \n",
       "\n",
       "      publisher_code                          provider_link_page  \n",
       "23358                 http://www.sedaily.com/NewsView/29UJY07KH9  \n",
       "33361                 http://www.sedaily.com/NewsView/29UJY07KH9  "
      ]
     },
     "execution_count": 4,
     "metadata": {},
     "output_type": "execute_result"
    }
   ],
   "source": [
    "df[df.news_id == '02100311.20230904173226001']"
   ]
  },
  {
   "cell_type": "code",
   "execution_count": null,
   "id": "107ced6c",
   "metadata": {},
   "outputs": [],
   "source": []
  }
 ],
 "metadata": {
  "kernelspec": {
   "display_name": "Python 3 (ipykernel)",
   "language": "python",
   "name": "python3"
  },
  "language_info": {
   "codemirror_mode": {
    "name": "ipython",
    "version": 3
   },
   "file_extension": ".py",
   "mimetype": "text/x-python",
   "name": "python",
   "nbconvert_exporter": "python",
   "pygments_lexer": "ipython3",
   "version": "3.10.9"
  }
 },
 "nbformat": 4,
 "nbformat_minor": 5
}
