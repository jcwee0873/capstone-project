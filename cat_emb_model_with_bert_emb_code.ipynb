{
 "cells": [
  {
   "cell_type": "code",
   "execution_count": 47,
   "id": "a67ebc4e",
   "metadata": {},
   "outputs": [],
   "source": [
    "import os\n",
    "import json\n",
    "import numpy as np\n",
    "import pandas as pd\n",
    "from tqdm import tqdm\n",
    "from copy import deepcopy\n",
    "from sklearn.metrics import accuracy_score\n",
    "from sklearn.model_selection import train_test_split\n",
    "from sklearn.preprocessing import StandardScaler, MinMaxScaler\n",
    "\n",
    "import torch\n",
    "import torch.nn as nn\n",
    "import torch.optim as optim\n",
    "from torch.utils.data import Dataset, DataLoader\n",
    "from sentence_transformers import SentenceTransformer"
   ]
  },
  {
   "cell_type": "markdown",
   "id": "fcd1c43e",
   "metadata": {},
   "source": [
    "## Multi Model Test"
   ]
  },
  {
   "cell_type": "code",
   "execution_count": 48,
   "id": "2aa184f8",
   "metadata": {
    "scrolled": true
   },
   "outputs": [
    {
     "data": {
      "text/html": [
       "<div>\n",
       "<style scoped>\n",
       "    .dataframe tbody tr th:only-of-type {\n",
       "        vertical-align: middle;\n",
       "    }\n",
       "\n",
       "    .dataframe tbody tr th {\n",
       "        vertical-align: top;\n",
       "    }\n",
       "\n",
       "    .dataframe thead th {\n",
       "        text-align: right;\n",
       "    }\n",
       "</style>\n",
       "<table border=\"1\" class=\"dataframe\">\n",
       "  <thead>\n",
       "    <tr style=\"text-align: right;\">\n",
       "      <th></th>\n",
       "      <th>index</th>\n",
       "      <th>id</th>\n",
       "      <th>search_word</th>\n",
       "      <th>title</th>\n",
       "      <th>url</th>\n",
       "      <th>blog_name</th>\n",
       "      <th>date</th>\n",
       "      <th>content</th>\n",
       "      <th>content_len</th>\n",
       "      <th>content_hash_cnt</th>\n",
       "      <th>...</th>\n",
       "      <th>e_sum_758</th>\n",
       "      <th>e_sum_759</th>\n",
       "      <th>e_sum_760</th>\n",
       "      <th>e_sum_761</th>\n",
       "      <th>e_sum_762</th>\n",
       "      <th>e_sum_763</th>\n",
       "      <th>e_sum_764</th>\n",
       "      <th>e_sum_765</th>\n",
       "      <th>e_sum_766</th>\n",
       "      <th>e_sum_767</th>\n",
       "    </tr>\n",
       "  </thead>\n",
       "  <tbody>\n",
       "    <tr>\n",
       "      <th>0</th>\n",
       "      <td>0</td>\n",
       "      <td>shuenmama.223027650182</td>\n",
       "      <td>홍대 회식 맛집</td>\n",
       "      <td>홍대 고기집 데이트 쟁반한상 삼겹살 맛집 회식 쟁반집8292</td>\n",
       "      <td>https://blog.naver.com/shuenmama/223027650182</td>\n",
       "      <td>shuen</td>\n",
       "      <td>20230225</td>\n",
       "      <td>홍대에서 데이트 하기로 한 주말\\n진짜 간만에 홍대\\n전에 항상 세우던 공영주차장이...</td>\n",
       "      <td>3094</td>\n",
       "      <td>10</td>\n",
       "      <td>...</td>\n",
       "      <td>0.226764</td>\n",
       "      <td>-0.341097</td>\n",
       "      <td>0.107354</td>\n",
       "      <td>0.395617</td>\n",
       "      <td>-0.184648</td>\n",
       "      <td>-0.187328</td>\n",
       "      <td>-0.100806</td>\n",
       "      <td>0.066111</td>\n",
       "      <td>0.315414</td>\n",
       "      <td>-0.584649</td>\n",
       "    </tr>\n",
       "    <tr>\n",
       "      <th>1</th>\n",
       "      <td>1</td>\n",
       "      <td>rosepink1974.223153722255</td>\n",
       "      <td>홍대 회식 맛집</td>\n",
       "      <td>홍대삼겹살 청년화로 1987 이베리코 연남동고기집 회식맛집</td>\n",
       "      <td>https://blog.naver.com/rosepink1974/223153722255</td>\n",
       "      <td>예쁜 달코미의 단맛 인생</td>\n",
       "      <td>20230712</td>\n",
       "      <td>청년화로1987\\n서울 마포구 동교로 219 1층\\n청년화로 1987\\n홍대입구역 ...</td>\n",
       "      <td>2345</td>\n",
       "      <td>9</td>\n",
       "      <td>...</td>\n",
       "      <td>0.274786</td>\n",
       "      <td>-0.311202</td>\n",
       "      <td>-0.107873</td>\n",
       "      <td>0.219888</td>\n",
       "      <td>-0.324829</td>\n",
       "      <td>-0.479143</td>\n",
       "      <td>-0.085153</td>\n",
       "      <td>-0.008704</td>\n",
       "      <td>0.342880</td>\n",
       "      <td>-0.252228</td>\n",
       "    </tr>\n",
       "    <tr>\n",
       "      <th>2</th>\n",
       "      <td>2</td>\n",
       "      <td>mou25.223209216526</td>\n",
       "      <td>홍대 회식 맛집</td>\n",
       "      <td>합정 맛집 홍대 회식장소로 딱, 느낌 있는 소고기 고깃집...</td>\n",
       "      <td>https://blog.naver.com/mou25/223209216526</td>\n",
       "      <td>생애 기록장</td>\n",
       "      <td>20230912</td>\n",
       "      <td>매번 느끼는 거지만,\\n회식장소 하나는\\n기가 막히게 섭외하는 울 주임님.\\n\\n얼...</td>\n",
       "      <td>2904</td>\n",
       "      <td>12</td>\n",
       "      <td>...</td>\n",
       "      <td>0.297851</td>\n",
       "      <td>0.366678</td>\n",
       "      <td>0.195712</td>\n",
       "      <td>0.164166</td>\n",
       "      <td>0.123258</td>\n",
       "      <td>-0.229331</td>\n",
       "      <td>0.080041</td>\n",
       "      <td>0.002673</td>\n",
       "      <td>0.381098</td>\n",
       "      <td>-0.208800</td>\n",
       "    </tr>\n",
       "    <tr>\n",
       "      <th>3</th>\n",
       "      <td>3</td>\n",
       "      <td>lulu_l.223118434610</td>\n",
       "      <td>홍대 회식 맛집</td>\n",
       "      <td>홍대 맛집 합정 갈비가 부드러운 소고기집 연막탄 회식, 데이트...</td>\n",
       "      <td>https://blog.naver.com/lulu_l/223118434610</td>\n",
       "      <td>안나의 일상공유</td>\n",
       "      <td>20230602</td>\n",
       "      <td>홍대 소고기 맛집\\n연막탄\\n\\n남자친구가 맛있는 고깃집을 알고\\n있다길해 합정 맛...</td>\n",
       "      <td>2810</td>\n",
       "      <td>0</td>\n",
       "      <td>...</td>\n",
       "      <td>0.297081</td>\n",
       "      <td>-0.099999</td>\n",
       "      <td>0.227369</td>\n",
       "      <td>-0.031295</td>\n",
       "      <td>0.096868</td>\n",
       "      <td>-0.391839</td>\n",
       "      <td>-0.211752</td>\n",
       "      <td>0.156410</td>\n",
       "      <td>-0.170814</td>\n",
       "      <td>-0.501321</td>\n",
       "    </tr>\n",
       "    <tr>\n",
       "      <th>4</th>\n",
       "      <td>4</td>\n",
       "      <td>ruston_.223161590597</td>\n",
       "      <td>홍대 회식 맛집</td>\n",
       "      <td>홍대회식, 육즙 폭발하는 소고기 맛집 '일편등심 홍대본점'</td>\n",
       "      <td>https://blog.naver.com/ruston_/223161590597</td>\n",
       "      <td>로빈이 토끼란 사실을 알고있었나?</td>\n",
       "      <td>20230720</td>\n",
       "      <td>안녕하세요. LoLCake입니다.\\n\\n\\n최근 이직을 준비하는 동료의 축하 파티를...</td>\n",
       "      <td>2299</td>\n",
       "      <td>2</td>\n",
       "      <td>...</td>\n",
       "      <td>0.405006</td>\n",
       "      <td>-0.211296</td>\n",
       "      <td>0.137026</td>\n",
       "      <td>0.264585</td>\n",
       "      <td>-0.045813</td>\n",
       "      <td>-0.435813</td>\n",
       "      <td>-0.275717</td>\n",
       "      <td>-0.078445</td>\n",
       "      <td>0.584033</td>\n",
       "      <td>-0.496703</td>\n",
       "    </tr>\n",
       "  </tbody>\n",
       "</table>\n",
       "<p>5 rows × 799 columns</p>\n",
       "</div>"
      ],
      "text/plain": [
       "   index                         id search_word  \\\n",
       "0      0     shuenmama.223027650182    홍대 회식 맛집   \n",
       "1      1  rosepink1974.223153722255    홍대 회식 맛집   \n",
       "2      2         mou25.223209216526    홍대 회식 맛집   \n",
       "3      3        lulu_l.223118434610    홍대 회식 맛집   \n",
       "4      4       ruston_.223161590597    홍대 회식 맛집   \n",
       "\n",
       "                                    title  \\\n",
       "0       홍대 고기집 데이트 쟁반한상 삼겹살 맛집 회식 쟁반집8292   \n",
       "1        홍대삼겹살 청년화로 1987 이베리코 연남동고기집 회식맛집   \n",
       "2     합정 맛집 홍대 회식장소로 딱, 느낌 있는 소고기 고깃집...    \n",
       "3  홍대 맛집 합정 갈비가 부드러운 소고기집 연막탄 회식, 데이트...    \n",
       "4        홍대회식, 육즙 폭발하는 소고기 맛집 '일편등심 홍대본점'   \n",
       "\n",
       "                                                url           blog_name  \\\n",
       "0     https://blog.naver.com/shuenmama/223027650182               shuen   \n",
       "1  https://blog.naver.com/rosepink1974/223153722255       예쁜 달코미의 단맛 인생   \n",
       "2         https://blog.naver.com/mou25/223209216526              생애 기록장   \n",
       "3        https://blog.naver.com/lulu_l/223118434610            안나의 일상공유   \n",
       "4       https://blog.naver.com/ruston_/223161590597  로빈이 토끼란 사실을 알고있었나?   \n",
       "\n",
       "       date                                            content  content_len  \\\n",
       "0  20230225  홍대에서 데이트 하기로 한 주말\\n진짜 간만에 홍대\\n전에 항상 세우던 공영주차장이...         3094   \n",
       "1  20230712  청년화로1987\\n서울 마포구 동교로 219 1층\\n청년화로 1987\\n홍대입구역 ...         2345   \n",
       "2  20230912  매번 느끼는 거지만,\\n회식장소 하나는\\n기가 막히게 섭외하는 울 주임님.\\n\\n얼...         2904   \n",
       "3  20230602  홍대 소고기 맛집\\n연막탄\\n\\n남자친구가 맛있는 고깃집을 알고\\n있다길해 합정 맛...         2810   \n",
       "4  20230720  안녕하세요. LoLCake입니다.\\n\\n\\n최근 이직을 준비하는 동료의 축하 파티를...         2299   \n",
       "\n",
       "   content_hash_cnt  ...  e_sum_758  e_sum_759  e_sum_760  e_sum_761  \\\n",
       "0                10  ...   0.226764  -0.341097   0.107354   0.395617   \n",
       "1                 9  ...   0.274786  -0.311202  -0.107873   0.219888   \n",
       "2                12  ...   0.297851   0.366678   0.195712   0.164166   \n",
       "3                 0  ...   0.297081  -0.099999   0.227369  -0.031295   \n",
       "4                 2  ...   0.405006  -0.211296   0.137026   0.264585   \n",
       "\n",
       "   e_sum_762  e_sum_763  e_sum_764  e_sum_765  e_sum_766  e_sum_767  \n",
       "0  -0.184648  -0.187328  -0.100806   0.066111   0.315414  -0.584649  \n",
       "1  -0.324829  -0.479143  -0.085153  -0.008704   0.342880  -0.252228  \n",
       "2   0.123258  -0.229331   0.080041   0.002673   0.381098  -0.208800  \n",
       "3   0.096868  -0.391839  -0.211752   0.156410  -0.170814  -0.501321  \n",
       "4  -0.045813  -0.435813  -0.275717  -0.078445   0.584033  -0.496703  \n",
       "\n",
       "[5 rows x 799 columns]"
      ]
     },
     "execution_count": 48,
     "metadata": {},
     "output_type": "execute_result"
    }
   ],
   "source": [
    "df = pd.read_csv('./data/review_dataset_v6_sum_e.csv', index_col=0)\n",
    "df.head()"
   ]
  },
  {
   "cell_type": "code",
   "execution_count": 49,
   "id": "da52db59",
   "metadata": {},
   "outputs": [
    {
     "data": {
      "text/html": [
       "<div>\n",
       "<style scoped>\n",
       "    .dataframe tbody tr th:only-of-type {\n",
       "        vertical-align: middle;\n",
       "    }\n",
       "\n",
       "    .dataframe tbody tr th {\n",
       "        vertical-align: top;\n",
       "    }\n",
       "\n",
       "    .dataframe thead th {\n",
       "        text-align: right;\n",
       "    }\n",
       "</style>\n",
       "<table border=\"1\" class=\"dataframe\">\n",
       "  <thead>\n",
       "    <tr style=\"text-align: right;\">\n",
       "      <th></th>\n",
       "      <th>index</th>\n",
       "      <th>e_sum_0</th>\n",
       "      <th>e_sum_1</th>\n",
       "      <th>e_sum_2</th>\n",
       "      <th>e_sum_3</th>\n",
       "      <th>e_sum_4</th>\n",
       "      <th>e_sum_5</th>\n",
       "      <th>e_sum_6</th>\n",
       "      <th>e_sum_7</th>\n",
       "      <th>e_sum_8</th>\n",
       "      <th>...</th>\n",
       "      <th>e_sum_758</th>\n",
       "      <th>e_sum_759</th>\n",
       "      <th>e_sum_760</th>\n",
       "      <th>e_sum_761</th>\n",
       "      <th>e_sum_762</th>\n",
       "      <th>e_sum_763</th>\n",
       "      <th>e_sum_764</th>\n",
       "      <th>e_sum_765</th>\n",
       "      <th>e_sum_766</th>\n",
       "      <th>e_sum_767</th>\n",
       "    </tr>\n",
       "  </thead>\n",
       "  <tbody>\n",
       "    <tr>\n",
       "      <th>0</th>\n",
       "      <td>shuenmama.223027650182</td>\n",
       "      <td>-0.269514</td>\n",
       "      <td>-0.339220</td>\n",
       "      <td>-0.330182</td>\n",
       "      <td>0.040266</td>\n",
       "      <td>0.184372</td>\n",
       "      <td>-0.227383</td>\n",
       "      <td>0.265280</td>\n",
       "      <td>0.116666</td>\n",
       "      <td>-0.206969</td>\n",
       "      <td>...</td>\n",
       "      <td>0.178983</td>\n",
       "      <td>-0.214031</td>\n",
       "      <td>-0.059638</td>\n",
       "      <td>0.167407</td>\n",
       "      <td>0.020884</td>\n",
       "      <td>-0.203415</td>\n",
       "      <td>-0.161502</td>\n",
       "      <td>0.018985</td>\n",
       "      <td>0.237754</td>\n",
       "      <td>-0.221653</td>\n",
       "    </tr>\n",
       "    <tr>\n",
       "      <th>1</th>\n",
       "      <td>rosepink1974.223153722255</td>\n",
       "      <td>-0.187719</td>\n",
       "      <td>-0.324055</td>\n",
       "      <td>-0.297384</td>\n",
       "      <td>0.109595</td>\n",
       "      <td>0.266376</td>\n",
       "      <td>-0.113839</td>\n",
       "      <td>0.198577</td>\n",
       "      <td>0.275900</td>\n",
       "      <td>0.041351</td>\n",
       "      <td>...</td>\n",
       "      <td>0.254710</td>\n",
       "      <td>-0.104253</td>\n",
       "      <td>-0.208398</td>\n",
       "      <td>0.202277</td>\n",
       "      <td>-0.376773</td>\n",
       "      <td>-0.346854</td>\n",
       "      <td>-0.018586</td>\n",
       "      <td>0.084422</td>\n",
       "      <td>0.438359</td>\n",
       "      <td>-0.133161</td>\n",
       "    </tr>\n",
       "    <tr>\n",
       "      <th>2</th>\n",
       "      <td>mou25.223209216526</td>\n",
       "      <td>0.084926</td>\n",
       "      <td>-0.473558</td>\n",
       "      <td>-0.147312</td>\n",
       "      <td>0.005009</td>\n",
       "      <td>0.088285</td>\n",
       "      <td>-0.097935</td>\n",
       "      <td>-0.042144</td>\n",
       "      <td>0.203255</td>\n",
       "      <td>-0.180874</td>\n",
       "      <td>...</td>\n",
       "      <td>0.370275</td>\n",
       "      <td>-0.025442</td>\n",
       "      <td>0.027081</td>\n",
       "      <td>0.189991</td>\n",
       "      <td>0.086750</td>\n",
       "      <td>-0.290567</td>\n",
       "      <td>-0.198043</td>\n",
       "      <td>0.072573</td>\n",
       "      <td>0.350379</td>\n",
       "      <td>-0.047624</td>\n",
       "    </tr>\n",
       "    <tr>\n",
       "      <th>3</th>\n",
       "      <td>lulu_l.223118434610</td>\n",
       "      <td>0.049920</td>\n",
       "      <td>-0.534174</td>\n",
       "      <td>-0.485959</td>\n",
       "      <td>0.119297</td>\n",
       "      <td>0.101789</td>\n",
       "      <td>-0.176171</td>\n",
       "      <td>-0.035862</td>\n",
       "      <td>0.220996</td>\n",
       "      <td>0.050428</td>\n",
       "      <td>...</td>\n",
       "      <td>0.311148</td>\n",
       "      <td>-0.040022</td>\n",
       "      <td>-0.043510</td>\n",
       "      <td>0.173019</td>\n",
       "      <td>-0.055459</td>\n",
       "      <td>-0.228064</td>\n",
       "      <td>-0.176389</td>\n",
       "      <td>0.105344</td>\n",
       "      <td>0.209823</td>\n",
       "      <td>-0.166638</td>\n",
       "    </tr>\n",
       "    <tr>\n",
       "      <th>4</th>\n",
       "      <td>ruston_.223161590597</td>\n",
       "      <td>-0.102667</td>\n",
       "      <td>-0.188301</td>\n",
       "      <td>-0.230945</td>\n",
       "      <td>-0.044723</td>\n",
       "      <td>0.262243</td>\n",
       "      <td>-0.216912</td>\n",
       "      <td>0.018869</td>\n",
       "      <td>0.162123</td>\n",
       "      <td>0.149256</td>\n",
       "      <td>...</td>\n",
       "      <td>0.318246</td>\n",
       "      <td>0.044601</td>\n",
       "      <td>-0.016627</td>\n",
       "      <td>0.203433</td>\n",
       "      <td>-0.263383</td>\n",
       "      <td>-0.387199</td>\n",
       "      <td>-0.078136</td>\n",
       "      <td>-0.004678</td>\n",
       "      <td>0.465537</td>\n",
       "      <td>-0.184052</td>\n",
       "    </tr>\n",
       "  </tbody>\n",
       "</table>\n",
       "<p>5 rows × 769 columns</p>\n",
       "</div>"
      ],
      "text/plain": [
       "                       index   e_sum_0   e_sum_1   e_sum_2   e_sum_3  \\\n",
       "0     shuenmama.223027650182 -0.269514 -0.339220 -0.330182  0.040266   \n",
       "1  rosepink1974.223153722255 -0.187719 -0.324055 -0.297384  0.109595   \n",
       "2         mou25.223209216526  0.084926 -0.473558 -0.147312  0.005009   \n",
       "3        lulu_l.223118434610  0.049920 -0.534174 -0.485959  0.119297   \n",
       "4       ruston_.223161590597 -0.102667 -0.188301 -0.230945 -0.044723   \n",
       "\n",
       "    e_sum_4   e_sum_5   e_sum_6   e_sum_7   e_sum_8  ...  e_sum_758  \\\n",
       "0  0.184372 -0.227383  0.265280  0.116666 -0.206969  ...   0.178983   \n",
       "1  0.266376 -0.113839  0.198577  0.275900  0.041351  ...   0.254710   \n",
       "2  0.088285 -0.097935 -0.042144  0.203255 -0.180874  ...   0.370275   \n",
       "3  0.101789 -0.176171 -0.035862  0.220996  0.050428  ...   0.311148   \n",
       "4  0.262243 -0.216912  0.018869  0.162123  0.149256  ...   0.318246   \n",
       "\n",
       "   e_sum_759  e_sum_760  e_sum_761  e_sum_762  e_sum_763  e_sum_764  \\\n",
       "0  -0.214031  -0.059638   0.167407   0.020884  -0.203415  -0.161502   \n",
       "1  -0.104253  -0.208398   0.202277  -0.376773  -0.346854  -0.018586   \n",
       "2  -0.025442   0.027081   0.189991   0.086750  -0.290567  -0.198043   \n",
       "3  -0.040022  -0.043510   0.173019  -0.055459  -0.228064  -0.176389   \n",
       "4   0.044601  -0.016627   0.203433  -0.263383  -0.387199  -0.078136   \n",
       "\n",
       "   e_sum_765  e_sum_766  e_sum_767  \n",
       "0   0.018985   0.237754  -0.221653  \n",
       "1   0.084422   0.438359  -0.133161  \n",
       "2   0.072573   0.350379  -0.047624  \n",
       "3   0.105344   0.209823  -0.166638  \n",
       "4  -0.004678   0.465537  -0.184052  \n",
       "\n",
       "[5 rows x 769 columns]"
      ]
     },
     "execution_count": 49,
     "metadata": {},
     "output_type": "execute_result"
    }
   ],
   "source": [
    "df2 = pd.read_csv('./data/review_dataset_embedding_all_mean.csv', index_col=0)\n",
    "df2.head()"
   ]
  },
  {
   "cell_type": "code",
   "execution_count": 50,
   "id": "979cb18d",
   "metadata": {},
   "outputs": [],
   "source": [
    "categorical_col = ['adpost_yn', 'map_yn', 'video_yn', 'phone_yn']\n",
    "numerical_col = ['content_len', 'content_hash_cnt', 'article_hash_cnt', 'like_cnt', 'emoticon_cnt', \n",
    "                 'total_post', 'link_cnt', 'image_cnt', 'repeat_word_cnt', 'noun_verb_ratio']\n",
    "embedding_col = [f'e_sum_{i}' for i in range(768)]\n",
    "label_col = 'label_f2'"
   ]
  },
  {
   "cell_type": "code",
   "execution_count": 51,
   "id": "507f97d2",
   "metadata": {},
   "outputs": [],
   "source": [
    "df = df[df.noun_verb_ratio < np.inf].reset_index()"
   ]
  },
  {
   "cell_type": "code",
   "execution_count": 52,
   "id": "9ba8578a",
   "metadata": {},
   "outputs": [],
   "source": [
    "df = pd.merge(\n",
    "    df.set_index('id').drop(embedding_col, axis=1),\n",
    "    df2.set_index('index'),\n",
    "    left_index=True, right_index=True,\n",
    "    how='left'\n",
    ")\n",
    "df.reset_index(inplace=True)"
   ]
  },
  {
   "cell_type": "code",
   "execution_count": 53,
   "id": "45ce324d",
   "metadata": {},
   "outputs": [],
   "source": [
    "# df.to_csv('./data/review_dataset_v8_sum_e.csv')"
   ]
  },
  {
   "cell_type": "code",
   "execution_count": 7,
   "id": "0d53b3f5",
   "metadata": {},
   "outputs": [],
   "source": [
    "uid = df['id'].tolist()\n",
    "X = df[categorical_col + numerical_col + embedding_col]\n",
    "y = df[label_col].values"
   ]
  },
  {
   "cell_type": "code",
   "execution_count": 8,
   "id": "e3fba352",
   "metadata": {},
   "outputs": [],
   "source": [
    "X_train, X_test, y_train, y_test = train_test_split(X, y, test_size=.2, random_state=22)"
   ]
  },
  {
   "cell_type": "code",
   "execution_count": 9,
   "id": "cb15d8f4",
   "metadata": {},
   "outputs": [],
   "source": [
    "def split_X(X):\n",
    "    return (X[categorical_col + numerical_col].values, X[embedding_col].values)"
   ]
  },
  {
   "cell_type": "code",
   "execution_count": 10,
   "id": "4f4e2548",
   "metadata": {},
   "outputs": [],
   "source": [
    "X_train_feat, X_train_emb = split_X(X_train)\n",
    "X_test_feat, X_test_emb = split_X(X_test)"
   ]
  },
  {
   "cell_type": "code",
   "execution_count": 11,
   "id": "fa656ba6",
   "metadata": {},
   "outputs": [],
   "source": [
    "device = torch.device('cuda:0' if torch.cuda.is_available() else 'cpu')"
   ]
  },
  {
   "cell_type": "code",
   "execution_count": 12,
   "id": "c30bd61d",
   "metadata": {},
   "outputs": [],
   "source": [
    "class FakeReviewDataset(Dataset):\n",
    "    def __init__(self, feature, embedding, label):\n",
    "        super().__init__()\n",
    "        self.feature = torch.FloatTensor(feature)\n",
    "        self.embedding = torch.FloatTensor(embedding)\n",
    "        self.label = torch.tensor(label)\n",
    "        \n",
    "    def __len__(self):\n",
    "        return len(self.label)\n",
    "    \n",
    "    def __getitem__(self, idx):\n",
    "        return {\n",
    "            \"feature\": self.feature[idx],\n",
    "            \"embedding\": self.embedding[idx],\n",
    "            \"label\": self.label[idx]\n",
    "        }"
   ]
  },
  {
   "cell_type": "code",
   "execution_count": 13,
   "id": "78a82ff7",
   "metadata": {},
   "outputs": [],
   "source": [
    "train_ds = FakeReviewDataset(X_train_feat, X_train_emb, y_train)\n",
    "valid_ds = FakeReviewDataset(X_test_feat, X_test_emb, y_test)"
   ]
  },
  {
   "cell_type": "code",
   "execution_count": 14,
   "id": "e9cdde68",
   "metadata": {},
   "outputs": [],
   "source": [
    "batch_size = 64"
   ]
  },
  {
   "cell_type": "code",
   "execution_count": 15,
   "id": "b97ba0e9",
   "metadata": {},
   "outputs": [],
   "source": [
    "train_loader = DataLoader(train_ds, batch_size=batch_size, shuffle=True)\n",
    "valid_loader = DataLoader(valid_ds, batch_size=batch_size)"
   ]
  },
  {
   "cell_type": "code",
   "execution_count": 42,
   "id": "d53f7ff4",
   "metadata": {},
   "outputs": [],
   "source": [
    "class FeatureClassifier(nn.Module):\n",
    "    def __init__(\n",
    "        self,\n",
    "        input_size=14,\n",
    "        num_layers=3,\n",
    "        step=2\n",
    "    ):\n",
    "        super().__init__()\n",
    "        \n",
    "        for i in range(10):\n",
    "            if (2 ** i) <= input_size <= (2 ** (i+1)):\n",
    "                init_size = max(2**i, 2**(i+1))\n",
    "                break\n",
    "        \n",
    "        layers = [\n",
    "            nn.Linear(input_size, init_size),\n",
    "            nn.BatchNorm1d(init_size),\n",
    "        ]\n",
    "        \n",
    "        for i in range(num_layers):\n",
    "            if i < num_layers:\n",
    "                layers.append(nn.ReLU())\n",
    "            \n",
    "            layers.append(nn.Linear(init_size, init_size * (2**step)))\n",
    "            \n",
    "            init_size *= (2**step)\n",
    "        \n",
    "        self.model = nn.Sequential(*layers)\n",
    "        \n",
    "    def forward(self, x):\n",
    "        return self.model(x)\n",
    "    \n",
    "    \n",
    "class EmbeddingClassifier(nn.Module):\n",
    "    def __init__(self):\n",
    "        super().__init__()\n",
    "        \n",
    "        self.model = nn.Sequential(\n",
    "            nn.Linear(768, 768),\n",
    "            nn.BatchNorm1d(768),\n",
    "            nn.ReLU(),\n",
    "            nn.Linear(768, 512),\n",
    "            nn.ReLU(),\n",
    "            nn.Linear(512, 256)\n",
    "        )\n",
    "        \n",
    "    def forward(self, x):\n",
    "        return self.model(x)\n",
    "    \n",
    "    \n",
    "class BertEmbedding(nn.Module):\n",
    "    def __init__(self,\n",
    "        model_path: str = 'jhgan/ko-sroberta-multitask',         \n",
    "        device=torch.device('cuda:0' if torch.cuda.is_available() else 'cpu')\n",
    "    ):\n",
    "        super().__init__()\n",
    "        \n",
    "        self.model = SentenceTransformer(model_path)\n",
    "        self.model.to(device)\n",
    "        self.device = device\n",
    "    \n",
    "    def split_list(self, tokens: list, seq_len: int = 128, pad_idx=0):\n",
    "        batch = []\n",
    "\n",
    "        for i in range(int(len(tokens) // seq_len) + 1):\n",
    "            token = tokens[i*seq_len:(i+1)*seq_len]\n",
    "            if len(token) < 128:\n",
    "                token += [pad_idx] * (128 - len(token))\n",
    "\n",
    "            batch.append(token)\n",
    "\n",
    "        return batch\n",
    "\n",
    "    def make_batchs(\n",
    "        self,\n",
    "        tokens: dict,\n",
    "        seq_len: int = 128,\n",
    "        pad_idx: int = 0,\n",
    "        device = torch.device('cuda:0' if torch.cuda.is_available() else 'cpu')\n",
    "    ):\n",
    "        return {\n",
    "            k: torch.tensor(self.split_list(v), device=device)\n",
    "            for k, v in tokens.items()\n",
    "        }\n",
    "    \n",
    "    def forward(self, x: str | list):\n",
    "        if isinstance(x, str):\n",
    "            x = [x]\n",
    "            \n",
    "        embeddings = []\n",
    "        for corpus in x:\n",
    "            t = self.model.tokenizer(corpus)\n",
    "            embedding = self.model(self.make_batchs(t, device=self.device))\n",
    "            embeddings.append(embedding['sentence_embedding'])\n",
    "            \n",
    "        return torch.vstack(embeddings)\n",
    "    \n",
    "    \n",
    "class FakeReviewClassifier(nn.Module):\n",
    "    def __init__(\n",
    "        self,\n",
    "        input_size=14,\n",
    "        num_feature_layers=3,\n",
    "        feature_step=2\n",
    "    ):\n",
    "        super().__init__()\n",
    "        \n",
    "        self.feature = FeatureClassifier(\n",
    "            input_size=input_size,\n",
    "            num_layers=num_feature_layers,\n",
    "            step=feature_step\n",
    "        )\n",
    "        \n",
    "        self.embedding = EmbeddingClassifier()\n",
    "        \n",
    "        feature_output_size = self.feature.model[-1].out_features\n",
    "        embedding_output_size = self.embedding.model[-1].out_features\n",
    "        \n",
    "        self.generator = nn.Sequential(\n",
    "            nn.Linear(feature_output_size + embedding_output_size, 256),\n",
    "            nn.BatchNorm1d(256),\n",
    "            nn.ReLU(),\n",
    "            nn.Linear(256, 128),\n",
    "            nn.ReLU(),\n",
    "            nn.Linear(128, 64),\n",
    "            nn.ReLU(),\n",
    "            nn.Linear(64, 32),\n",
    "            nn.ReLU(),\n",
    "            nn.Linear(32, 8),\n",
    "            nn.ReLU(),\n",
    "            nn.Linear(8, 1),\n",
    "        )\n",
    "        \n",
    "        self.activation = nn.Sigmoid()\n",
    "        \n",
    "    def forward(self, **kwargs):\n",
    "        feature_emb = self.feature(kwargs['feature'])\n",
    "        embedding_emb = self.embedding(kwargs['embedding'])\n",
    "        \n",
    "        con = torch.concat([feature_emb, embedding_emb], axis=1)\n",
    "        y = self.generator(con)\n",
    "        return self.activation(y)"
   ]
  },
  {
   "cell_type": "code",
   "execution_count": 59,
   "id": "63002c02",
   "metadata": {},
   "outputs": [
    {
     "data": {
      "text/plain": [
       "768"
      ]
     },
     "execution_count": 59,
     "metadata": {},
     "output_type": "execute_result"
    }
   ],
   "source": [
    "BertEmbedding().model[-1].word_embedding_dimension"
   ]
  },
  {
   "cell_type": "code",
   "execution_count": 17,
   "id": "dab55438",
   "metadata": {},
   "outputs": [],
   "source": [
    "model = FakeReviewClassifier(\n",
    "    num_feature_layers=5,\n",
    "    feature_step=1\n",
    ")\n",
    "crit = nn.BCEWithLogitsLoss()\n",
    "optimizer = optim.Adam(model.parameters())"
   ]
  },
  {
   "cell_type": "code",
   "execution_count": 18,
   "id": "424dcac8",
   "metadata": {},
   "outputs": [
    {
     "data": {
      "text/plain": [
       "FakeReviewClassifier(\n",
       "  (feature): FeatureClassifier(\n",
       "    (model): Sequential(\n",
       "      (0): Linear(in_features=14, out_features=16, bias=True)\n",
       "      (1): BatchNorm1d(16, eps=1e-05, momentum=0.1, affine=True, track_running_stats=True)\n",
       "      (2): ReLU()\n",
       "      (3): Linear(in_features=16, out_features=32, bias=True)\n",
       "      (4): ReLU()\n",
       "      (5): Linear(in_features=32, out_features=64, bias=True)\n",
       "      (6): ReLU()\n",
       "      (7): Linear(in_features=64, out_features=128, bias=True)\n",
       "      (8): ReLU()\n",
       "      (9): Linear(in_features=128, out_features=256, bias=True)\n",
       "      (10): ReLU()\n",
       "      (11): Linear(in_features=256, out_features=512, bias=True)\n",
       "    )\n",
       "  )\n",
       "  (embedding): EmbeddingClassifier(\n",
       "    (model): Sequential(\n",
       "      (0): Linear(in_features=768, out_features=768, bias=True)\n",
       "      (1): BatchNorm1d(768, eps=1e-05, momentum=0.1, affine=True, track_running_stats=True)\n",
       "      (2): ReLU()\n",
       "      (3): Linear(in_features=768, out_features=512, bias=True)\n",
       "      (4): ReLU()\n",
       "      (5): Linear(in_features=512, out_features=256, bias=True)\n",
       "    )\n",
       "  )\n",
       "  (generator): Sequential(\n",
       "    (0): Linear(in_features=768, out_features=256, bias=True)\n",
       "    (1): BatchNorm1d(256, eps=1e-05, momentum=0.1, affine=True, track_running_stats=True)\n",
       "    (2): ReLU()\n",
       "    (3): Linear(in_features=256, out_features=128, bias=True)\n",
       "    (4): ReLU()\n",
       "    (5): Linear(in_features=128, out_features=64, bias=True)\n",
       "    (6): ReLU()\n",
       "    (7): Linear(in_features=64, out_features=32, bias=True)\n",
       "    (8): ReLU()\n",
       "    (9): Linear(in_features=32, out_features=8, bias=True)\n",
       "    (10): ReLU()\n",
       "    (11): Linear(in_features=8, out_features=1, bias=True)\n",
       "  )\n",
       "  (activation): Sigmoid()\n",
       ")"
      ]
     },
     "execution_count": 18,
     "metadata": {},
     "output_type": "execute_result"
    }
   ],
   "source": [
    "model"
   ]
  },
  {
   "cell_type": "code",
   "execution_count": 19,
   "id": "b28e892e",
   "metadata": {},
   "outputs": [],
   "source": [
    "epochs = 1000\n",
    "early_stop = 1000"
   ]
  },
  {
   "cell_type": "code",
   "execution_count": 20,
   "id": "b7f4ed90",
   "metadata": {},
   "outputs": [
    {
     "data": {
      "text/plain": [
       "FakeReviewClassifier(\n",
       "  (feature): FeatureClassifier(\n",
       "    (model): Sequential(\n",
       "      (0): Linear(in_features=14, out_features=16, bias=True)\n",
       "      (1): BatchNorm1d(16, eps=1e-05, momentum=0.1, affine=True, track_running_stats=True)\n",
       "      (2): ReLU()\n",
       "      (3): Linear(in_features=16, out_features=32, bias=True)\n",
       "      (4): ReLU()\n",
       "      (5): Linear(in_features=32, out_features=64, bias=True)\n",
       "      (6): ReLU()\n",
       "      (7): Linear(in_features=64, out_features=128, bias=True)\n",
       "      (8): ReLU()\n",
       "      (9): Linear(in_features=128, out_features=256, bias=True)\n",
       "      (10): ReLU()\n",
       "      (11): Linear(in_features=256, out_features=512, bias=True)\n",
       "    )\n",
       "  )\n",
       "  (embedding): EmbeddingClassifier(\n",
       "    (model): Sequential(\n",
       "      (0): Linear(in_features=768, out_features=768, bias=True)\n",
       "      (1): BatchNorm1d(768, eps=1e-05, momentum=0.1, affine=True, track_running_stats=True)\n",
       "      (2): ReLU()\n",
       "      (3): Linear(in_features=768, out_features=512, bias=True)\n",
       "      (4): ReLU()\n",
       "      (5): Linear(in_features=512, out_features=256, bias=True)\n",
       "    )\n",
       "  )\n",
       "  (generator): Sequential(\n",
       "    (0): Linear(in_features=768, out_features=256, bias=True)\n",
       "    (1): BatchNorm1d(256, eps=1e-05, momentum=0.1, affine=True, track_running_stats=True)\n",
       "    (2): ReLU()\n",
       "    (3): Linear(in_features=256, out_features=128, bias=True)\n",
       "    (4): ReLU()\n",
       "    (5): Linear(in_features=128, out_features=64, bias=True)\n",
       "    (6): ReLU()\n",
       "    (7): Linear(in_features=64, out_features=32, bias=True)\n",
       "    (8): ReLU()\n",
       "    (9): Linear(in_features=32, out_features=8, bias=True)\n",
       "    (10): ReLU()\n",
       "    (11): Linear(in_features=8, out_features=1, bias=True)\n",
       "  )\n",
       "  (activation): Sigmoid()\n",
       ")"
      ]
     },
     "execution_count": 20,
     "metadata": {},
     "output_type": "execute_result"
    }
   ],
   "source": [
    "model.to(device)"
   ]
  },
  {
   "cell_type": "code",
   "execution_count": 21,
   "id": "d6c36c04",
   "metadata": {
    "scrolled": true
   },
   "outputs": [
    {
     "name": "stderr",
     "output_type": "stream",
     "text": [
      "Epoch 1: 100%|██████████| 125/125 [00:00<00:00, 159.50it/s]\n"
     ]
    },
    {
     "name": "stdout",
     "output_type": "stream",
     "text": [
      "Epoch 0: train_loss=0.01001, valid_loss=0.00982, valid_acc=0.7105, best_acc=0.7105\n"
     ]
    },
    {
     "name": "stderr",
     "output_type": "stream",
     "text": [
      "Epoch 2: 100%|██████████| 125/125 [00:00<00:00, 378.13it/s]\n"
     ]
    },
    {
     "name": "stdout",
     "output_type": "stream",
     "text": [
      "Epoch 1: train_loss=0.00963, valid_loss=0.00973, valid_acc=0.7505, best_acc=0.7505\n"
     ]
    },
    {
     "name": "stderr",
     "output_type": "stream",
     "text": [
      "Epoch 3: 100%|██████████| 125/125 [00:00<00:00, 400.76it/s]\n"
     ]
    },
    {
     "name": "stdout",
     "output_type": "stream",
     "text": [
      "Epoch 2: train_loss=0.00958, valid_loss=0.00963, valid_acc=0.754, best_acc=0.754\n"
     ]
    },
    {
     "name": "stderr",
     "output_type": "stream",
     "text": [
      "Epoch 4: 100%|██████████| 125/125 [00:00<00:00, 401.23it/s]\n"
     ]
    },
    {
     "name": "stdout",
     "output_type": "stream",
     "text": [
      "Epoch 3: train_loss=0.00948, valid_loss=0.00964, valid_acc=0.7405, best_acc=0.754\n"
     ]
    },
    {
     "name": "stderr",
     "output_type": "stream",
     "text": [
      "Epoch 5: 100%|██████████| 125/125 [00:00<00:00, 407.38it/s]\n"
     ]
    },
    {
     "name": "stdout",
     "output_type": "stream",
     "text": [
      "Epoch 4: train_loss=0.00934, valid_loss=0.00964, valid_acc=0.745, best_acc=0.754\n"
     ]
    },
    {
     "name": "stderr",
     "output_type": "stream",
     "text": [
      "Epoch 6: 100%|██████████| 125/125 [00:00<00:00, 408.09it/s]\n"
     ]
    },
    {
     "name": "stdout",
     "output_type": "stream",
     "text": [
      "Epoch 5: train_loss=0.00924, valid_loss=0.00977, valid_acc=0.7195, best_acc=0.754\n"
     ]
    },
    {
     "name": "stderr",
     "output_type": "stream",
     "text": [
      "Epoch 7: 100%|██████████| 125/125 [00:00<00:00, 407.86it/s]\n"
     ]
    },
    {
     "name": "stdout",
     "output_type": "stream",
     "text": [
      "Epoch 6: train_loss=0.00933, valid_loss=0.00978, valid_acc=0.724, best_acc=0.754\n"
     ]
    },
    {
     "name": "stderr",
     "output_type": "stream",
     "text": [
      "Epoch 8: 100%|██████████| 125/125 [00:00<00:00, 403.51it/s]\n"
     ]
    },
    {
     "name": "stdout",
     "output_type": "stream",
     "text": [
      "Epoch 7: train_loss=0.00925, valid_loss=0.00974, valid_acc=0.743, best_acc=0.754\n"
     ]
    },
    {
     "name": "stderr",
     "output_type": "stream",
     "text": [
      "Epoch 9: 100%|██████████| 125/125 [00:00<00:00, 422.20it/s]\n"
     ]
    },
    {
     "name": "stdout",
     "output_type": "stream",
     "text": [
      "Epoch 8: train_loss=0.00918, valid_loss=0.00963, valid_acc=0.7435, best_acc=0.754\n"
     ]
    },
    {
     "name": "stderr",
     "output_type": "stream",
     "text": [
      "Epoch 10: 100%|██████████| 125/125 [00:00<00:00, 400.55it/s]\n"
     ]
    },
    {
     "name": "stdout",
     "output_type": "stream",
     "text": [
      "Epoch 9: train_loss=0.00909, valid_loss=0.00951, valid_acc=0.763, best_acc=0.763\n"
     ]
    },
    {
     "name": "stderr",
     "output_type": "stream",
     "text": [
      "Epoch 11: 100%|██████████| 125/125 [00:00<00:00, 401.70it/s]\n"
     ]
    },
    {
     "name": "stdout",
     "output_type": "stream",
     "text": [
      "Epoch 10: train_loss=0.00909, valid_loss=0.00953, valid_acc=0.7605, best_acc=0.763\n"
     ]
    },
    {
     "name": "stderr",
     "output_type": "stream",
     "text": [
      "Epoch 12: 100%|██████████| 125/125 [00:00<00:00, 401.67it/s]\n"
     ]
    },
    {
     "name": "stdout",
     "output_type": "stream",
     "text": [
      "Epoch 11: train_loss=0.00898, valid_loss=0.00968, valid_acc=0.7325, best_acc=0.763\n"
     ]
    },
    {
     "name": "stderr",
     "output_type": "stream",
     "text": [
      "Epoch 13: 100%|██████████| 125/125 [00:00<00:00, 399.65it/s]\n"
     ]
    },
    {
     "name": "stdout",
     "output_type": "stream",
     "text": [
      "Epoch 12: train_loss=0.00896, valid_loss=0.00966, valid_acc=0.742, best_acc=0.763\n"
     ]
    },
    {
     "name": "stderr",
     "output_type": "stream",
     "text": [
      "Epoch 14: 100%|██████████| 125/125 [00:00<00:00, 392.26it/s]\n"
     ]
    },
    {
     "name": "stdout",
     "output_type": "stream",
     "text": [
      "Epoch 13: train_loss=0.00898, valid_loss=0.00975, valid_acc=0.721, best_acc=0.763\n"
     ]
    },
    {
     "name": "stderr",
     "output_type": "stream",
     "text": [
      "Epoch 15: 100%|██████████| 125/125 [00:00<00:00, 421.99it/s]\n"
     ]
    },
    {
     "name": "stdout",
     "output_type": "stream",
     "text": [
      "Epoch 14: train_loss=0.00894, valid_loss=0.00962, valid_acc=0.7495, best_acc=0.763\n"
     ]
    },
    {
     "name": "stderr",
     "output_type": "stream",
     "text": [
      "Epoch 16: 100%|██████████| 125/125 [00:00<00:00, 400.89it/s]\n"
     ]
    },
    {
     "name": "stdout",
     "output_type": "stream",
     "text": [
      "Epoch 15: train_loss=0.00895, valid_loss=0.00957, valid_acc=0.7565, best_acc=0.763\n"
     ]
    },
    {
     "name": "stderr",
     "output_type": "stream",
     "text": [
      "Epoch 17: 100%|██████████| 125/125 [00:00<00:00, 400.54it/s]\n"
     ]
    },
    {
     "name": "stdout",
     "output_type": "stream",
     "text": [
      "Epoch 16: train_loss=0.00887, valid_loss=0.0096, valid_acc=0.747, best_acc=0.763\n"
     ]
    },
    {
     "name": "stderr",
     "output_type": "stream",
     "text": [
      "Epoch 18: 100%|██████████| 125/125 [00:00<00:00, 401.15it/s]\n"
     ]
    },
    {
     "name": "stdout",
     "output_type": "stream",
     "text": [
      "Epoch 17: train_loss=0.00885, valid_loss=0.00972, valid_acc=0.7355, best_acc=0.763\n"
     ]
    },
    {
     "name": "stderr",
     "output_type": "stream",
     "text": [
      "Epoch 19: 100%|██████████| 125/125 [00:00<00:00, 401.44it/s]\n"
     ]
    },
    {
     "name": "stdout",
     "output_type": "stream",
     "text": [
      "Epoch 18: train_loss=0.00883, valid_loss=0.00961, valid_acc=0.7505, best_acc=0.763\n"
     ]
    },
    {
     "name": "stderr",
     "output_type": "stream",
     "text": [
      "Epoch 20: 100%|██████████| 125/125 [00:00<00:00, 399.95it/s]\n"
     ]
    },
    {
     "name": "stdout",
     "output_type": "stream",
     "text": [
      "Epoch 19: train_loss=0.00877, valid_loss=0.00964, valid_acc=0.7465, best_acc=0.763\n"
     ]
    },
    {
     "name": "stderr",
     "output_type": "stream",
     "text": [
      "Epoch 21: 100%|██████████| 125/125 [00:00<00:00, 405.92it/s]\n"
     ]
    },
    {
     "name": "stdout",
     "output_type": "stream",
     "text": [
      "Epoch 20: train_loss=0.00874, valid_loss=0.00967, valid_acc=0.74, best_acc=0.763\n"
     ]
    },
    {
     "name": "stderr",
     "output_type": "stream",
     "text": [
      "Epoch 22: 100%|██████████| 125/125 [00:00<00:00, 389.14it/s]\n"
     ]
    },
    {
     "name": "stdout",
     "output_type": "stream",
     "text": [
      "Epoch 21: train_loss=0.00872, valid_loss=0.0096, valid_acc=0.753, best_acc=0.763\n"
     ]
    },
    {
     "name": "stderr",
     "output_type": "stream",
     "text": [
      "Epoch 23: 100%|██████████| 125/125 [00:00<00:00, 398.69it/s]\n"
     ]
    },
    {
     "name": "stdout",
     "output_type": "stream",
     "text": [
      "Epoch 22: train_loss=0.00875, valid_loss=0.00959, valid_acc=0.7525, best_acc=0.763\n"
     ]
    },
    {
     "name": "stderr",
     "output_type": "stream",
     "text": [
      "Epoch 24: 100%|██████████| 125/125 [00:00<00:00, 399.03it/s]\n"
     ]
    },
    {
     "name": "stdout",
     "output_type": "stream",
     "text": [
      "Epoch 23: train_loss=0.00882, valid_loss=0.00984, valid_acc=0.7095, best_acc=0.763\n"
     ]
    },
    {
     "name": "stderr",
     "output_type": "stream",
     "text": [
      "Epoch 25: 100%|██████████| 125/125 [00:00<00:00, 398.18it/s]\n"
     ]
    },
    {
     "name": "stdout",
     "output_type": "stream",
     "text": [
      "Epoch 24: train_loss=0.00887, valid_loss=0.00958, valid_acc=0.756, best_acc=0.763\n"
     ]
    },
    {
     "name": "stderr",
     "output_type": "stream",
     "text": [
      "Epoch 26: 100%|██████████| 125/125 [00:00<00:00, 400.36it/s]\n"
     ]
    },
    {
     "name": "stdout",
     "output_type": "stream",
     "text": [
      "Epoch 25: train_loss=0.00872, valid_loss=0.00962, valid_acc=0.7485, best_acc=0.763\n"
     ]
    },
    {
     "name": "stderr",
     "output_type": "stream",
     "text": [
      "Epoch 27: 100%|██████████| 125/125 [00:00<00:00, 400.75it/s]\n"
     ]
    },
    {
     "name": "stdout",
     "output_type": "stream",
     "text": [
      "Epoch 26: train_loss=0.0088, valid_loss=0.00964, valid_acc=0.749, best_acc=0.763\n"
     ]
    },
    {
     "name": "stderr",
     "output_type": "stream",
     "text": [
      "Epoch 28: 100%|██████████| 125/125 [00:00<00:00, 401.03it/s]\n"
     ]
    },
    {
     "name": "stdout",
     "output_type": "stream",
     "text": [
      "Epoch 27: train_loss=0.00868, valid_loss=0.0095, valid_acc=0.763, best_acc=0.763\n"
     ]
    },
    {
     "name": "stderr",
     "output_type": "stream",
     "text": [
      "Epoch 29: 100%|██████████| 125/125 [00:00<00:00, 400.87it/s]\n"
     ]
    },
    {
     "name": "stdout",
     "output_type": "stream",
     "text": [
      "Epoch 28: train_loss=0.0086, valid_loss=0.00955, valid_acc=0.7585, best_acc=0.763\n"
     ]
    },
    {
     "name": "stderr",
     "output_type": "stream",
     "text": [
      "Epoch 30: 100%|██████████| 125/125 [00:00<00:00, 395.80it/s]\n"
     ]
    },
    {
     "name": "stdout",
     "output_type": "stream",
     "text": [
      "Epoch 29: train_loss=0.00858, valid_loss=0.00973, valid_acc=0.727, best_acc=0.763\n"
     ]
    },
    {
     "name": "stderr",
     "output_type": "stream",
     "text": [
      "Epoch 31: 100%|██████████| 125/125 [00:00<00:00, 397.51it/s]\n"
     ]
    },
    {
     "name": "stdout",
     "output_type": "stream",
     "text": [
      "Epoch 30: train_loss=0.00873, valid_loss=0.00955, valid_acc=0.76, best_acc=0.763\n"
     ]
    },
    {
     "name": "stderr",
     "output_type": "stream",
     "text": [
      "Epoch 32: 100%|██████████| 125/125 [00:00<00:00, 392.46it/s]\n"
     ]
    },
    {
     "name": "stdout",
     "output_type": "stream",
     "text": [
      "Epoch 31: train_loss=0.00873, valid_loss=0.00953, valid_acc=0.754, best_acc=0.763\n"
     ]
    },
    {
     "name": "stderr",
     "output_type": "stream",
     "text": [
      "Epoch 33: 100%|██████████| 125/125 [00:00<00:00, 399.15it/s]\n"
     ]
    },
    {
     "name": "stdout",
     "output_type": "stream",
     "text": [
      "Epoch 32: train_loss=0.00861, valid_loss=0.00958, valid_acc=0.7565, best_acc=0.763\n"
     ]
    },
    {
     "name": "stderr",
     "output_type": "stream",
     "text": [
      "Epoch 34: 100%|██████████| 125/125 [00:00<00:00, 397.33it/s]\n"
     ]
    },
    {
     "name": "stdout",
     "output_type": "stream",
     "text": [
      "Epoch 33: train_loss=0.00862, valid_loss=0.0096, valid_acc=0.755, best_acc=0.763\n"
     ]
    },
    {
     "name": "stderr",
     "output_type": "stream",
     "text": [
      "Epoch 35: 100%|██████████| 125/125 [00:00<00:00, 400.73it/s]\n"
     ]
    },
    {
     "name": "stdout",
     "output_type": "stream",
     "text": [
      "Epoch 34: train_loss=0.00866, valid_loss=0.0095, valid_acc=0.764, best_acc=0.764\n"
     ]
    },
    {
     "name": "stderr",
     "output_type": "stream",
     "text": [
      "Epoch 36: 100%|██████████| 125/125 [00:00<00:00, 414.42it/s]\n"
     ]
    },
    {
     "name": "stdout",
     "output_type": "stream",
     "text": [
      "Epoch 35: train_loss=0.00867, valid_loss=0.00956, valid_acc=0.751, best_acc=0.764\n"
     ]
    },
    {
     "name": "stderr",
     "output_type": "stream",
     "text": [
      "Epoch 37: 100%|██████████| 125/125 [00:00<00:00, 399.57it/s]\n"
     ]
    },
    {
     "name": "stdout",
     "output_type": "stream",
     "text": [
      "Epoch 36: train_loss=0.00863, valid_loss=0.00956, valid_acc=0.7555, best_acc=0.764\n"
     ]
    },
    {
     "name": "stderr",
     "output_type": "stream",
     "text": [
      "Epoch 38: 100%|██████████| 125/125 [00:00<00:00, 401.27it/s]\n"
     ]
    },
    {
     "name": "stdout",
     "output_type": "stream",
     "text": [
      "Epoch 37: train_loss=0.00859, valid_loss=0.00957, valid_acc=0.7525, best_acc=0.764\n"
     ]
    },
    {
     "name": "stderr",
     "output_type": "stream",
     "text": [
      "Epoch 39: 100%|██████████| 125/125 [00:00<00:00, 397.25it/s]\n"
     ]
    },
    {
     "name": "stdout",
     "output_type": "stream",
     "text": [
      "Epoch 38: train_loss=0.00862, valid_loss=0.0097, valid_acc=0.743, best_acc=0.764\n"
     ]
    },
    {
     "name": "stderr",
     "output_type": "stream",
     "text": [
      "Epoch 40: 100%|██████████| 125/125 [00:00<00:00, 395.92it/s]\n"
     ]
    },
    {
     "name": "stdout",
     "output_type": "stream",
     "text": [
      "Epoch 39: train_loss=0.00868, valid_loss=0.00965, valid_acc=0.7425, best_acc=0.764\n"
     ]
    },
    {
     "name": "stderr",
     "output_type": "stream",
     "text": [
      "Epoch 41: 100%|██████████| 125/125 [00:00<00:00, 398.22it/s]\n"
     ]
    },
    {
     "name": "stdout",
     "output_type": "stream",
     "text": [
      "Epoch 40: train_loss=0.00857, valid_loss=0.0096, valid_acc=0.7515, best_acc=0.764\n"
     ]
    },
    {
     "name": "stderr",
     "output_type": "stream",
     "text": [
      "Epoch 42: 100%|██████████| 125/125 [00:00<00:00, 404.95it/s]\n"
     ]
    },
    {
     "name": "stdout",
     "output_type": "stream",
     "text": [
      "Epoch 41: train_loss=0.00862, valid_loss=0.00984, valid_acc=0.716, best_acc=0.764\n"
     ]
    },
    {
     "name": "stderr",
     "output_type": "stream",
     "text": [
      "Epoch 43: 100%|██████████| 125/125 [00:00<00:00, 405.21it/s]\n"
     ]
    },
    {
     "name": "stdout",
     "output_type": "stream",
     "text": [
      "Epoch 42: train_loss=0.0089, valid_loss=0.00965, valid_acc=0.742, best_acc=0.764\n"
     ]
    },
    {
     "name": "stderr",
     "output_type": "stream",
     "text": [
      "Epoch 44: 100%|██████████| 125/125 [00:00<00:00, 403.04it/s]\n"
     ]
    },
    {
     "name": "stdout",
     "output_type": "stream",
     "text": [
      "Epoch 43: train_loss=0.00866, valid_loss=0.00959, valid_acc=0.755, best_acc=0.764\n"
     ]
    },
    {
     "name": "stderr",
     "output_type": "stream",
     "text": [
      "Epoch 45: 100%|██████████| 125/125 [00:00<00:00, 403.89it/s]\n"
     ]
    },
    {
     "name": "stdout",
     "output_type": "stream",
     "text": [
      "Epoch 44: train_loss=0.00855, valid_loss=0.00953, valid_acc=0.755, best_acc=0.764\n"
     ]
    },
    {
     "name": "stderr",
     "output_type": "stream",
     "text": [
      "Epoch 46: 100%|██████████| 125/125 [00:00<00:00, 403.22it/s]\n"
     ]
    },
    {
     "name": "stdout",
     "output_type": "stream",
     "text": [
      "Epoch 45: train_loss=0.00854, valid_loss=0.00955, valid_acc=0.7525, best_acc=0.764\n"
     ]
    },
    {
     "name": "stderr",
     "output_type": "stream",
     "text": [
      "Epoch 47: 100%|██████████| 125/125 [00:00<00:00, 404.28it/s]\n"
     ]
    },
    {
     "name": "stdout",
     "output_type": "stream",
     "text": [
      "Epoch 46: train_loss=0.00848, valid_loss=0.00953, valid_acc=0.7605, best_acc=0.764\n"
     ]
    },
    {
     "name": "stderr",
     "output_type": "stream",
     "text": [
      "Epoch 48: 100%|██████████| 125/125 [00:00<00:00, 404.87it/s]\n"
     ]
    },
    {
     "name": "stdout",
     "output_type": "stream",
     "text": [
      "Epoch 47: train_loss=0.00844, valid_loss=0.00959, valid_acc=0.759, best_acc=0.764\n"
     ]
    },
    {
     "name": "stderr",
     "output_type": "stream",
     "text": [
      "Epoch 49: 100%|██████████| 125/125 [00:00<00:00, 390.11it/s]\n"
     ]
    },
    {
     "name": "stdout",
     "output_type": "stream",
     "text": [
      "Epoch 48: train_loss=0.00849, valid_loss=0.00955, valid_acc=0.758, best_acc=0.764\n"
     ]
    },
    {
     "name": "stderr",
     "output_type": "stream",
     "text": [
      "Epoch 50: 100%|██████████| 125/125 [00:00<00:00, 400.99it/s]\n"
     ]
    },
    {
     "name": "stdout",
     "output_type": "stream",
     "text": [
      "Epoch 49: train_loss=0.00848, valid_loss=0.00957, valid_acc=0.7595, best_acc=0.764\n"
     ]
    },
    {
     "name": "stderr",
     "output_type": "stream",
     "text": [
      "Epoch 51: 100%|██████████| 125/125 [00:00<00:00, 401.68it/s]\n"
     ]
    },
    {
     "name": "stdout",
     "output_type": "stream",
     "text": [
      "Epoch 50: train_loss=0.00847, valid_loss=0.00965, valid_acc=0.7505, best_acc=0.764\n"
     ]
    },
    {
     "name": "stderr",
     "output_type": "stream",
     "text": [
      "Epoch 52: 100%|██████████| 125/125 [00:00<00:00, 398.51it/s]\n"
     ]
    },
    {
     "name": "stdout",
     "output_type": "stream",
     "text": [
      "Epoch 51: train_loss=0.00858, valid_loss=0.0097, valid_acc=0.739, best_acc=0.764\n"
     ]
    },
    {
     "name": "stderr",
     "output_type": "stream",
     "text": [
      "Epoch 53: 100%|██████████| 125/125 [00:00<00:00, 400.52it/s]\n"
     ]
    },
    {
     "name": "stdout",
     "output_type": "stream",
     "text": [
      "Epoch 52: train_loss=0.00866, valid_loss=0.00981, valid_acc=0.7205, best_acc=0.764\n"
     ]
    },
    {
     "name": "stderr",
     "output_type": "stream",
     "text": [
      "Epoch 54: 100%|██████████| 125/125 [00:00<00:00, 402.45it/s]\n"
     ]
    },
    {
     "name": "stdout",
     "output_type": "stream",
     "text": [
      "Epoch 53: train_loss=0.00863, valid_loss=0.00967, valid_acc=0.7415, best_acc=0.764\n"
     ]
    },
    {
     "name": "stderr",
     "output_type": "stream",
     "text": [
      "Epoch 55: 100%|██████████| 125/125 [00:00<00:00, 399.91it/s]\n"
     ]
    },
    {
     "name": "stdout",
     "output_type": "stream",
     "text": [
      "Epoch 54: train_loss=0.00849, valid_loss=0.0096, valid_acc=0.7445, best_acc=0.764\n"
     ]
    },
    {
     "name": "stderr",
     "output_type": "stream",
     "text": [
      "Epoch 56: 100%|██████████| 125/125 [00:00<00:00, 387.45it/s]\n"
     ]
    },
    {
     "name": "stdout",
     "output_type": "stream",
     "text": [
      "Epoch 55: train_loss=0.00838, valid_loss=0.00959, valid_acc=0.7565, best_acc=0.764\n"
     ]
    },
    {
     "name": "stderr",
     "output_type": "stream",
     "text": [
      "Epoch 57: 100%|██████████| 125/125 [00:00<00:00, 384.99it/s]\n"
     ]
    },
    {
     "name": "stdout",
     "output_type": "stream",
     "text": [
      "Epoch 56: train_loss=0.00847, valid_loss=0.00958, valid_acc=0.747, best_acc=0.764\n"
     ]
    },
    {
     "name": "stderr",
     "output_type": "stream",
     "text": [
      "Epoch 58: 100%|██████████| 125/125 [00:00<00:00, 407.17it/s]\n"
     ]
    },
    {
     "name": "stdout",
     "output_type": "stream",
     "text": [
      "Epoch 57: train_loss=0.00848, valid_loss=0.00961, valid_acc=0.7475, best_acc=0.764\n"
     ]
    },
    {
     "name": "stderr",
     "output_type": "stream",
     "text": [
      "Epoch 59: 100%|██████████| 125/125 [00:00<00:00, 404.87it/s]\n"
     ]
    },
    {
     "name": "stdout",
     "output_type": "stream",
     "text": [
      "Epoch 58: train_loss=0.00854, valid_loss=0.00963, valid_acc=0.754, best_acc=0.764\n"
     ]
    },
    {
     "name": "stderr",
     "output_type": "stream",
     "text": [
      "Epoch 60: 100%|██████████| 125/125 [00:00<00:00, 409.07it/s]\n"
     ]
    },
    {
     "name": "stdout",
     "output_type": "stream",
     "text": [
      "Epoch 59: train_loss=0.00842, valid_loss=0.0096, valid_acc=0.7615, best_acc=0.764\n"
     ]
    },
    {
     "name": "stderr",
     "output_type": "stream",
     "text": [
      "Epoch 61: 100%|██████████| 125/125 [00:00<00:00, 403.15it/s]\n"
     ]
    },
    {
     "name": "stdout",
     "output_type": "stream",
     "text": [
      "Epoch 60: train_loss=0.00842, valid_loss=0.00961, valid_acc=0.7555, best_acc=0.764\n"
     ]
    },
    {
     "name": "stderr",
     "output_type": "stream",
     "text": [
      "Epoch 62: 100%|██████████| 125/125 [00:00<00:00, 409.80it/s]\n"
     ]
    },
    {
     "name": "stdout",
     "output_type": "stream",
     "text": [
      "Epoch 61: train_loss=0.00839, valid_loss=0.00964, valid_acc=0.748, best_acc=0.764\n"
     ]
    },
    {
     "name": "stderr",
     "output_type": "stream",
     "text": [
      "Epoch 63: 100%|██████████| 125/125 [00:00<00:00, 397.22it/s]\n"
     ]
    },
    {
     "name": "stdout",
     "output_type": "stream",
     "text": [
      "Epoch 62: train_loss=0.00841, valid_loss=0.00958, valid_acc=0.753, best_acc=0.764\n"
     ]
    },
    {
     "name": "stderr",
     "output_type": "stream",
     "text": [
      "Epoch 64: 100%|██████████| 125/125 [00:00<00:00, 409.86it/s]\n"
     ]
    },
    {
     "name": "stdout",
     "output_type": "stream",
     "text": [
      "Epoch 63: train_loss=0.00843, valid_loss=0.00962, valid_acc=0.7565, best_acc=0.764\n"
     ]
    },
    {
     "name": "stderr",
     "output_type": "stream",
     "text": [
      "Epoch 65: 100%|██████████| 125/125 [00:00<00:00, 408.20it/s]\n"
     ]
    },
    {
     "name": "stdout",
     "output_type": "stream",
     "text": [
      "Epoch 64: train_loss=0.00837, valid_loss=0.00948, valid_acc=0.769, best_acc=0.769\n"
     ]
    },
    {
     "name": "stderr",
     "output_type": "stream",
     "text": [
      "Epoch 66: 100%|██████████| 125/125 [00:00<00:00, 390.48it/s]\n"
     ]
    },
    {
     "name": "stdout",
     "output_type": "stream",
     "text": [
      "Epoch 65: train_loss=0.0083, valid_loss=0.00959, valid_acc=0.755, best_acc=0.769\n"
     ]
    },
    {
     "name": "stderr",
     "output_type": "stream",
     "text": [
      "Epoch 67: 100%|██████████| 125/125 [00:00<00:00, 411.98it/s]\n"
     ]
    },
    {
     "name": "stdout",
     "output_type": "stream",
     "text": [
      "Epoch 66: train_loss=0.00833, valid_loss=0.00952, valid_acc=0.767, best_acc=0.769\n"
     ]
    },
    {
     "name": "stderr",
     "output_type": "stream",
     "text": [
      "Epoch 68: 100%|██████████| 125/125 [00:00<00:00, 400.17it/s]\n"
     ]
    },
    {
     "name": "stdout",
     "output_type": "stream",
     "text": [
      "Epoch 67: train_loss=0.00831, valid_loss=0.00955, valid_acc=0.7585, best_acc=0.769\n"
     ]
    },
    {
     "name": "stderr",
     "output_type": "stream",
     "text": [
      "Epoch 69: 100%|██████████| 125/125 [00:00<00:00, 398.32it/s]\n"
     ]
    },
    {
     "name": "stdout",
     "output_type": "stream",
     "text": [
      "Epoch 68: train_loss=0.0083, valid_loss=0.00968, valid_acc=0.7465, best_acc=0.769\n"
     ]
    },
    {
     "name": "stderr",
     "output_type": "stream",
     "text": [
      "Epoch 70: 100%|██████████| 125/125 [00:00<00:00, 400.01it/s]\n"
     ]
    },
    {
     "name": "stdout",
     "output_type": "stream",
     "text": [
      "Epoch 69: train_loss=0.00839, valid_loss=0.00958, valid_acc=0.7575, best_acc=0.769\n"
     ]
    },
    {
     "name": "stderr",
     "output_type": "stream",
     "text": [
      "Epoch 71: 100%|██████████| 125/125 [00:00<00:00, 404.27it/s]\n"
     ]
    },
    {
     "name": "stdout",
     "output_type": "stream",
     "text": [
      "Epoch 70: train_loss=0.00833, valid_loss=0.00959, valid_acc=0.7535, best_acc=0.769\n"
     ]
    },
    {
     "name": "stderr",
     "output_type": "stream",
     "text": [
      "Epoch 72: 100%|██████████| 125/125 [00:00<00:00, 397.48it/s]\n"
     ]
    },
    {
     "name": "stdout",
     "output_type": "stream",
     "text": [
      "Epoch 71: train_loss=0.00839, valid_loss=0.00959, valid_acc=0.7445, best_acc=0.769\n"
     ]
    },
    {
     "name": "stderr",
     "output_type": "stream",
     "text": [
      "Epoch 73: 100%|██████████| 125/125 [00:00<00:00, 399.69it/s]\n"
     ]
    },
    {
     "name": "stdout",
     "output_type": "stream",
     "text": [
      "Epoch 72: train_loss=0.0083, valid_loss=0.00959, valid_acc=0.7585, best_acc=0.769\n"
     ]
    },
    {
     "name": "stderr",
     "output_type": "stream",
     "text": [
      "Epoch 74: 100%|██████████| 125/125 [00:00<00:00, 387.31it/s]\n"
     ]
    },
    {
     "name": "stdout",
     "output_type": "stream",
     "text": [
      "Epoch 73: train_loss=0.00835, valid_loss=0.00953, valid_acc=0.7655, best_acc=0.769\n"
     ]
    },
    {
     "name": "stderr",
     "output_type": "stream",
     "text": [
      "Epoch 75: 100%|██████████| 125/125 [00:00<00:00, 409.73it/s]\n"
     ]
    },
    {
     "name": "stdout",
     "output_type": "stream",
     "text": [
      "Epoch 74: train_loss=0.00832, valid_loss=0.00951, valid_acc=0.7655, best_acc=0.769\n"
     ]
    },
    {
     "name": "stderr",
     "output_type": "stream",
     "text": [
      "Epoch 76: 100%|██████████| 125/125 [00:00<00:00, 405.80it/s]\n"
     ]
    },
    {
     "name": "stdout",
     "output_type": "stream",
     "text": [
      "Epoch 75: train_loss=0.00829, valid_loss=0.00953, valid_acc=0.759, best_acc=0.769\n"
     ]
    },
    {
     "name": "stderr",
     "output_type": "stream",
     "text": [
      "Epoch 77: 100%|██████████| 125/125 [00:00<00:00, 409.70it/s]\n"
     ]
    },
    {
     "name": "stdout",
     "output_type": "stream",
     "text": [
      "Epoch 76: train_loss=0.0083, valid_loss=0.00949, valid_acc=0.769, best_acc=0.769\n"
     ]
    },
    {
     "name": "stderr",
     "output_type": "stream",
     "text": [
      "Epoch 78: 100%|██████████| 125/125 [00:00<00:00, 401.24it/s]\n"
     ]
    },
    {
     "name": "stdout",
     "output_type": "stream",
     "text": [
      "Epoch 77: train_loss=0.0083, valid_loss=0.00955, valid_acc=0.7515, best_acc=0.769\n"
     ]
    },
    {
     "name": "stderr",
     "output_type": "stream",
     "text": [
      "Epoch 79: 100%|██████████| 125/125 [00:00<00:00, 404.04it/s]\n"
     ]
    },
    {
     "name": "stdout",
     "output_type": "stream",
     "text": [
      "Epoch 78: train_loss=0.00838, valid_loss=0.00956, valid_acc=0.7545, best_acc=0.769\n"
     ]
    },
    {
     "name": "stderr",
     "output_type": "stream",
     "text": [
      "Epoch 80: 100%|██████████| 125/125 [00:00<00:00, 402.95it/s]\n"
     ]
    },
    {
     "name": "stdout",
     "output_type": "stream",
     "text": [
      "Epoch 79: train_loss=0.00835, valid_loss=0.00961, valid_acc=0.7445, best_acc=0.769\n"
     ]
    },
    {
     "name": "stderr",
     "output_type": "stream",
     "text": [
      "Epoch 81: 100%|██████████| 125/125 [00:00<00:00, 401.34it/s]\n"
     ]
    },
    {
     "name": "stdout",
     "output_type": "stream",
     "text": [
      "Epoch 80: train_loss=0.00836, valid_loss=0.00957, valid_acc=0.758, best_acc=0.769\n"
     ]
    },
    {
     "name": "stderr",
     "output_type": "stream",
     "text": [
      "Epoch 82: 100%|██████████| 125/125 [00:00<00:00, 401.81it/s]\n"
     ]
    },
    {
     "name": "stdout",
     "output_type": "stream",
     "text": [
      "Epoch 81: train_loss=0.0083, valid_loss=0.00955, valid_acc=0.7565, best_acc=0.769\n"
     ]
    },
    {
     "name": "stderr",
     "output_type": "stream",
     "text": [
      "Epoch 83: 100%|██████████| 125/125 [00:00<00:00, 405.25it/s]\n"
     ]
    },
    {
     "name": "stdout",
     "output_type": "stream",
     "text": [
      "Epoch 82: train_loss=0.00826, valid_loss=0.00953, valid_acc=0.765, best_acc=0.769\n"
     ]
    },
    {
     "name": "stderr",
     "output_type": "stream",
     "text": [
      "Epoch 84: 100%|██████████| 125/125 [00:00<00:00, 396.85it/s]\n"
     ]
    },
    {
     "name": "stdout",
     "output_type": "stream",
     "text": [
      "Epoch 83: train_loss=0.00824, valid_loss=0.00956, valid_acc=0.7625, best_acc=0.769\n"
     ]
    },
    {
     "name": "stderr",
     "output_type": "stream",
     "text": [
      "Epoch 85: 100%|██████████| 125/125 [00:00<00:00, 400.61it/s]\n"
     ]
    },
    {
     "name": "stdout",
     "output_type": "stream",
     "text": [
      "Epoch 84: train_loss=0.00823, valid_loss=0.00952, valid_acc=0.7625, best_acc=0.769\n"
     ]
    },
    {
     "name": "stderr",
     "output_type": "stream",
     "text": [
      "Epoch 86: 100%|██████████| 125/125 [00:00<00:00, 408.35it/s]\n"
     ]
    },
    {
     "name": "stdout",
     "output_type": "stream",
     "text": [
      "Epoch 85: train_loss=0.00831, valid_loss=0.00954, valid_acc=0.7625, best_acc=0.769\n"
     ]
    },
    {
     "name": "stderr",
     "output_type": "stream",
     "text": [
      "Epoch 87: 100%|██████████| 125/125 [00:00<00:00, 395.98it/s]\n"
     ]
    },
    {
     "name": "stdout",
     "output_type": "stream",
     "text": [
      "Epoch 86: train_loss=0.00824, valid_loss=0.00961, valid_acc=0.758, best_acc=0.769\n"
     ]
    },
    {
     "name": "stderr",
     "output_type": "stream",
     "text": [
      "Epoch 88: 100%|██████████| 125/125 [00:00<00:00, 398.20it/s]\n"
     ]
    },
    {
     "name": "stdout",
     "output_type": "stream",
     "text": [
      "Epoch 87: train_loss=0.00827, valid_loss=0.00952, valid_acc=0.7595, best_acc=0.769\n"
     ]
    },
    {
     "name": "stderr",
     "output_type": "stream",
     "text": [
      "Epoch 89: 100%|██████████| 125/125 [00:00<00:00, 402.83it/s]\n"
     ]
    },
    {
     "name": "stdout",
     "output_type": "stream",
     "text": [
      "Epoch 88: train_loss=0.00837, valid_loss=0.00953, valid_acc=0.7605, best_acc=0.769\n"
     ]
    },
    {
     "name": "stderr",
     "output_type": "stream",
     "text": [
      "Epoch 90: 100%|██████████| 125/125 [00:00<00:00, 401.92it/s]\n"
     ]
    },
    {
     "name": "stdout",
     "output_type": "stream",
     "text": [
      "Epoch 89: train_loss=0.00839, valid_loss=0.00961, valid_acc=0.7435, best_acc=0.769\n"
     ]
    },
    {
     "name": "stderr",
     "output_type": "stream",
     "text": [
      "Epoch 91: 100%|██████████| 125/125 [00:00<00:00, 404.01it/s]\n"
     ]
    },
    {
     "name": "stdout",
     "output_type": "stream",
     "text": [
      "Epoch 90: train_loss=0.00838, valid_loss=0.00963, valid_acc=0.7545, best_acc=0.769\n"
     ]
    },
    {
     "name": "stderr",
     "output_type": "stream",
     "text": [
      "Epoch 92: 100%|██████████| 125/125 [00:00<00:00, 401.35it/s]\n"
     ]
    },
    {
     "name": "stdout",
     "output_type": "stream",
     "text": [
      "Epoch 91: train_loss=0.00826, valid_loss=0.00955, valid_acc=0.7605, best_acc=0.769\n"
     ]
    },
    {
     "name": "stderr",
     "output_type": "stream",
     "text": [
      "Epoch 93: 100%|██████████| 125/125 [00:00<00:00, 408.65it/s]\n"
     ]
    },
    {
     "name": "stdout",
     "output_type": "stream",
     "text": [
      "Epoch 92: train_loss=0.00825, valid_loss=0.0095, valid_acc=0.765, best_acc=0.769\n"
     ]
    },
    {
     "name": "stderr",
     "output_type": "stream",
     "text": [
      "Epoch 94: 100%|██████████| 125/125 [00:00<00:00, 401.21it/s]\n"
     ]
    },
    {
     "name": "stdout",
     "output_type": "stream",
     "text": [
      "Epoch 93: train_loss=0.00828, valid_loss=0.0095, valid_acc=0.7665, best_acc=0.769\n"
     ]
    },
    {
     "name": "stderr",
     "output_type": "stream",
     "text": [
      "Epoch 95: 100%|██████████| 125/125 [00:00<00:00, 403.04it/s]\n"
     ]
    },
    {
     "name": "stdout",
     "output_type": "stream",
     "text": [
      "Epoch 94: train_loss=0.00828, valid_loss=0.00956, valid_acc=0.759, best_acc=0.769\n"
     ]
    },
    {
     "name": "stderr",
     "output_type": "stream",
     "text": [
      "Epoch 96: 100%|██████████| 125/125 [00:00<00:00, 402.83it/s]\n"
     ]
    },
    {
     "name": "stdout",
     "output_type": "stream",
     "text": [
      "Epoch 95: train_loss=0.00829, valid_loss=0.00975, valid_acc=0.741, best_acc=0.769\n"
     ]
    },
    {
     "name": "stderr",
     "output_type": "stream",
     "text": [
      "Epoch 97: 100%|██████████| 125/125 [00:00<00:00, 392.54it/s]\n"
     ]
    },
    {
     "name": "stdout",
     "output_type": "stream",
     "text": [
      "Epoch 96: train_loss=0.00835, valid_loss=0.00965, valid_acc=0.75, best_acc=0.769\n"
     ]
    },
    {
     "name": "stderr",
     "output_type": "stream",
     "text": [
      "Epoch 98: 100%|██████████| 125/125 [00:00<00:00, 397.50it/s]\n"
     ]
    },
    {
     "name": "stdout",
     "output_type": "stream",
     "text": [
      "Epoch 97: train_loss=0.00844, valid_loss=0.00948, valid_acc=0.765, best_acc=0.769\n"
     ]
    },
    {
     "name": "stderr",
     "output_type": "stream",
     "text": [
      "Epoch 99: 100%|██████████| 125/125 [00:00<00:00, 400.94it/s]\n"
     ]
    },
    {
     "name": "stdout",
     "output_type": "stream",
     "text": [
      "Epoch 98: train_loss=0.00829, valid_loss=0.00956, valid_acc=0.7585, best_acc=0.769\n"
     ]
    },
    {
     "name": "stderr",
     "output_type": "stream",
     "text": [
      "Epoch 100: 100%|██████████| 125/125 [00:00<00:00, 400.50it/s]\n"
     ]
    },
    {
     "name": "stdout",
     "output_type": "stream",
     "text": [
      "Epoch 99: train_loss=0.00825, valid_loss=0.00959, valid_acc=0.7565, best_acc=0.769\n"
     ]
    },
    {
     "name": "stderr",
     "output_type": "stream",
     "text": [
      "Epoch 101: 100%|██████████| 125/125 [00:00<00:00, 405.30it/s]\n"
     ]
    },
    {
     "name": "stdout",
     "output_type": "stream",
     "text": [
      "Epoch 100: train_loss=0.00821, valid_loss=0.00952, valid_acc=0.7695, best_acc=0.7695\n"
     ]
    },
    {
     "name": "stderr",
     "output_type": "stream",
     "text": [
      "Epoch 102: 100%|██████████| 125/125 [00:00<00:00, 401.42it/s]\n"
     ]
    },
    {
     "name": "stdout",
     "output_type": "stream",
     "text": [
      "Epoch 101: train_loss=0.00819, valid_loss=0.00951, valid_acc=0.767, best_acc=0.7695\n"
     ]
    },
    {
     "name": "stderr",
     "output_type": "stream",
     "text": [
      "Epoch 103: 100%|██████████| 125/125 [00:00<00:00, 402.57it/s]\n"
     ]
    },
    {
     "name": "stdout",
     "output_type": "stream",
     "text": [
      "Epoch 102: train_loss=0.00818, valid_loss=0.00952, valid_acc=0.768, best_acc=0.7695\n"
     ]
    },
    {
     "name": "stderr",
     "output_type": "stream",
     "text": [
      "Epoch 104: 100%|██████████| 125/125 [00:00<00:00, 397.80it/s]\n"
     ]
    },
    {
     "name": "stdout",
     "output_type": "stream",
     "text": [
      "Epoch 103: train_loss=0.00815, valid_loss=0.00951, valid_acc=0.7655, best_acc=0.7695\n"
     ]
    },
    {
     "name": "stderr",
     "output_type": "stream",
     "text": [
      "Epoch 105: 100%|██████████| 125/125 [00:00<00:00, 400.64it/s]\n"
     ]
    },
    {
     "name": "stdout",
     "output_type": "stream",
     "text": [
      "Epoch 104: train_loss=0.00817, valid_loss=0.00949, valid_acc=0.7635, best_acc=0.7695\n"
     ]
    },
    {
     "name": "stderr",
     "output_type": "stream",
     "text": [
      "Epoch 106: 100%|██████████| 125/125 [00:00<00:00, 409.24it/s]\n"
     ]
    },
    {
     "name": "stdout",
     "output_type": "stream",
     "text": [
      "Epoch 105: train_loss=0.00819, valid_loss=0.00953, valid_acc=0.764, best_acc=0.7695\n"
     ]
    },
    {
     "name": "stderr",
     "output_type": "stream",
     "text": [
      "Epoch 107: 100%|██████████| 125/125 [00:00<00:00, 399.28it/s]\n"
     ]
    },
    {
     "name": "stdout",
     "output_type": "stream",
     "text": [
      "Epoch 106: train_loss=0.00827, valid_loss=0.00971, valid_acc=0.741, best_acc=0.7695\n"
     ]
    },
    {
     "name": "stderr",
     "output_type": "stream",
     "text": [
      "Epoch 108: 100%|██████████| 125/125 [00:00<00:00, 404.64it/s]\n"
     ]
    },
    {
     "name": "stdout",
     "output_type": "stream",
     "text": [
      "Epoch 107: train_loss=0.00829, valid_loss=0.00957, valid_acc=0.762, best_acc=0.7695\n"
     ]
    },
    {
     "name": "stderr",
     "output_type": "stream",
     "text": [
      "Epoch 109: 100%|██████████| 125/125 [00:00<00:00, 398.94it/s]\n"
     ]
    },
    {
     "name": "stdout",
     "output_type": "stream",
     "text": [
      "Epoch 108: train_loss=0.00824, valid_loss=0.00966, valid_acc=0.7495, best_acc=0.7695\n"
     ]
    },
    {
     "name": "stderr",
     "output_type": "stream",
     "text": [
      "Epoch 110: 100%|██████████| 125/125 [00:00<00:00, 397.40it/s]\n"
     ]
    },
    {
     "name": "stdout",
     "output_type": "stream",
     "text": [
      "Epoch 109: train_loss=0.00826, valid_loss=0.00956, valid_acc=0.762, best_acc=0.7695\n"
     ]
    },
    {
     "name": "stderr",
     "output_type": "stream",
     "text": [
      "Epoch 111: 100%|██████████| 125/125 [00:00<00:00, 397.28it/s]\n"
     ]
    },
    {
     "name": "stdout",
     "output_type": "stream",
     "text": [
      "Epoch 110: train_loss=0.00828, valid_loss=0.00957, valid_acc=0.758, best_acc=0.7695\n"
     ]
    },
    {
     "name": "stderr",
     "output_type": "stream",
     "text": [
      "Epoch 112: 100%|██████████| 125/125 [00:00<00:00, 405.43it/s]\n"
     ]
    },
    {
     "name": "stdout",
     "output_type": "stream",
     "text": [
      "Epoch 111: train_loss=0.00818, valid_loss=0.00949, valid_acc=0.7735, best_acc=0.7735\n"
     ]
    },
    {
     "name": "stderr",
     "output_type": "stream",
     "text": [
      "Epoch 113: 100%|██████████| 125/125 [00:00<00:00, 413.58it/s]\n"
     ]
    },
    {
     "name": "stdout",
     "output_type": "stream",
     "text": [
      "Epoch 112: train_loss=0.00822, valid_loss=0.00958, valid_acc=0.7605, best_acc=0.7735\n"
     ]
    },
    {
     "name": "stderr",
     "output_type": "stream",
     "text": [
      "Epoch 114: 100%|██████████| 125/125 [00:00<00:00, 407.73it/s]\n"
     ]
    },
    {
     "name": "stdout",
     "output_type": "stream",
     "text": [
      "Epoch 113: train_loss=0.00825, valid_loss=0.00958, valid_acc=0.761, best_acc=0.7735\n"
     ]
    },
    {
     "name": "stderr",
     "output_type": "stream",
     "text": [
      "Epoch 115: 100%|██████████| 125/125 [00:00<00:00, 413.98it/s]\n"
     ]
    },
    {
     "name": "stdout",
     "output_type": "stream",
     "text": [
      "Epoch 114: train_loss=0.0082, valid_loss=0.00954, valid_acc=0.762, best_acc=0.7735\n"
     ]
    },
    {
     "name": "stderr",
     "output_type": "stream",
     "text": [
      "Epoch 116: 100%|██████████| 125/125 [00:00<00:00, 399.85it/s]\n"
     ]
    },
    {
     "name": "stdout",
     "output_type": "stream",
     "text": [
      "Epoch 115: train_loss=0.00819, valid_loss=0.00958, valid_acc=0.7535, best_acc=0.7735\n"
     ]
    },
    {
     "name": "stderr",
     "output_type": "stream",
     "text": [
      "Epoch 117: 100%|██████████| 125/125 [00:00<00:00, 398.82it/s]\n"
     ]
    },
    {
     "name": "stdout",
     "output_type": "stream",
     "text": [
      "Epoch 116: train_loss=0.00822, valid_loss=0.00956, valid_acc=0.7565, best_acc=0.7735\n"
     ]
    },
    {
     "name": "stderr",
     "output_type": "stream",
     "text": [
      "Epoch 118: 100%|██████████| 125/125 [00:00<00:00, 396.22it/s]\n"
     ]
    },
    {
     "name": "stdout",
     "output_type": "stream",
     "text": [
      "Epoch 117: train_loss=0.0082, valid_loss=0.00959, valid_acc=0.7565, best_acc=0.7735\n"
     ]
    },
    {
     "name": "stderr",
     "output_type": "stream",
     "text": [
      "Epoch 119: 100%|██████████| 125/125 [00:00<00:00, 406.86it/s]\n"
     ]
    },
    {
     "name": "stdout",
     "output_type": "stream",
     "text": [
      "Epoch 118: train_loss=0.00816, valid_loss=0.00962, valid_acc=0.7495, best_acc=0.7735\n"
     ]
    },
    {
     "name": "stderr",
     "output_type": "stream",
     "text": [
      "Epoch 120: 100%|██████████| 125/125 [00:00<00:00, 401.71it/s]\n"
     ]
    },
    {
     "name": "stdout",
     "output_type": "stream",
     "text": [
      "Epoch 119: train_loss=0.00814, valid_loss=0.00962, valid_acc=0.754, best_acc=0.7735\n"
     ]
    },
    {
     "name": "stderr",
     "output_type": "stream",
     "text": [
      "Epoch 121: 100%|██████████| 125/125 [00:00<00:00, 403.30it/s]\n"
     ]
    },
    {
     "name": "stdout",
     "output_type": "stream",
     "text": [
      "Epoch 120: train_loss=0.00816, valid_loss=0.00958, valid_acc=0.7625, best_acc=0.7735\n"
     ]
    },
    {
     "name": "stderr",
     "output_type": "stream",
     "text": [
      "Epoch 122: 100%|██████████| 125/125 [00:00<00:00, 391.40it/s]\n"
     ]
    },
    {
     "name": "stdout",
     "output_type": "stream",
     "text": [
      "Epoch 121: train_loss=0.00814, valid_loss=0.00955, valid_acc=0.7615, best_acc=0.7735\n"
     ]
    },
    {
     "name": "stderr",
     "output_type": "stream",
     "text": [
      "Epoch 123: 100%|██████████| 125/125 [00:00<00:00, 400.93it/s]\n"
     ]
    },
    {
     "name": "stdout",
     "output_type": "stream",
     "text": [
      "Epoch 122: train_loss=0.00819, valid_loss=0.00955, valid_acc=0.757, best_acc=0.7735\n"
     ]
    },
    {
     "name": "stderr",
     "output_type": "stream",
     "text": [
      "Epoch 124: 100%|██████████| 125/125 [00:00<00:00, 401.10it/s]\n"
     ]
    },
    {
     "name": "stdout",
     "output_type": "stream",
     "text": [
      "Epoch 123: train_loss=0.00818, valid_loss=0.00959, valid_acc=0.7625, best_acc=0.7735\n"
     ]
    },
    {
     "name": "stderr",
     "output_type": "stream",
     "text": [
      "Epoch 125: 100%|██████████| 125/125 [00:00<00:00, 396.46it/s]\n"
     ]
    },
    {
     "name": "stdout",
     "output_type": "stream",
     "text": [
      "Epoch 124: train_loss=0.0082, valid_loss=0.00956, valid_acc=0.76, best_acc=0.7735\n"
     ]
    },
    {
     "name": "stderr",
     "output_type": "stream",
     "text": [
      "Epoch 126: 100%|██████████| 125/125 [00:00<00:00, 398.49it/s]\n"
     ]
    },
    {
     "name": "stdout",
     "output_type": "stream",
     "text": [
      "Epoch 125: train_loss=0.00814, valid_loss=0.00953, valid_acc=0.7685, best_acc=0.7735\n"
     ]
    },
    {
     "name": "stderr",
     "output_type": "stream",
     "text": [
      "Epoch 127: 100%|██████████| 125/125 [00:00<00:00, 404.11it/s]\n"
     ]
    },
    {
     "name": "stdout",
     "output_type": "stream",
     "text": [
      "Epoch 126: train_loss=0.00817, valid_loss=0.00967, valid_acc=0.7475, best_acc=0.7735\n"
     ]
    },
    {
     "name": "stderr",
     "output_type": "stream",
     "text": [
      "Epoch 128: 100%|██████████| 125/125 [00:00<00:00, 404.69it/s]\n"
     ]
    },
    {
     "name": "stdout",
     "output_type": "stream",
     "text": [
      "Epoch 127: train_loss=0.0082, valid_loss=0.00955, valid_acc=0.7605, best_acc=0.7735\n"
     ]
    },
    {
     "name": "stderr",
     "output_type": "stream",
     "text": [
      "Epoch 129: 100%|██████████| 125/125 [00:00<00:00, 386.81it/s]\n"
     ]
    },
    {
     "name": "stdout",
     "output_type": "stream",
     "text": [
      "Epoch 128: train_loss=0.00816, valid_loss=0.00951, valid_acc=0.7635, best_acc=0.7735\n"
     ]
    },
    {
     "name": "stderr",
     "output_type": "stream",
     "text": [
      "Epoch 130: 100%|██████████| 125/125 [00:00<00:00, 382.97it/s]\n"
     ]
    },
    {
     "name": "stdout",
     "output_type": "stream",
     "text": [
      "Epoch 129: train_loss=0.00816, valid_loss=0.0096, valid_acc=0.749, best_acc=0.7735\n"
     ]
    },
    {
     "name": "stderr",
     "output_type": "stream",
     "text": [
      "Epoch 131: 100%|██████████| 125/125 [00:00<00:00, 396.06it/s]\n"
     ]
    },
    {
     "name": "stdout",
     "output_type": "stream",
     "text": [
      "Epoch 130: train_loss=0.00826, valid_loss=0.00951, valid_acc=0.7665, best_acc=0.7735\n"
     ]
    },
    {
     "name": "stderr",
     "output_type": "stream",
     "text": [
      "Epoch 132: 100%|██████████| 125/125 [00:00<00:00, 407.04it/s]\n"
     ]
    },
    {
     "name": "stdout",
     "output_type": "stream",
     "text": [
      "Epoch 131: train_loss=0.00817, valid_loss=0.00954, valid_acc=0.761, best_acc=0.7735\n"
     ]
    },
    {
     "name": "stderr",
     "output_type": "stream",
     "text": [
      "Epoch 133: 100%|██████████| 125/125 [00:00<00:00, 404.73it/s]\n"
     ]
    },
    {
     "name": "stdout",
     "output_type": "stream",
     "text": [
      "Epoch 132: train_loss=0.0082, valid_loss=0.00955, valid_acc=0.7555, best_acc=0.7735\n"
     ]
    },
    {
     "name": "stderr",
     "output_type": "stream",
     "text": [
      "Epoch 134: 100%|██████████| 125/125 [00:00<00:00, 399.82it/s]\n"
     ]
    },
    {
     "name": "stdout",
     "output_type": "stream",
     "text": [
      "Epoch 133: train_loss=0.00822, valid_loss=0.00951, valid_acc=0.763, best_acc=0.7735\n"
     ]
    },
    {
     "name": "stderr",
     "output_type": "stream",
     "text": [
      "Epoch 135: 100%|██████████| 125/125 [00:00<00:00, 403.09it/s]\n"
     ]
    },
    {
     "name": "stdout",
     "output_type": "stream",
     "text": [
      "Epoch 134: train_loss=0.00818, valid_loss=0.00959, valid_acc=0.748, best_acc=0.7735\n"
     ]
    },
    {
     "name": "stderr",
     "output_type": "stream",
     "text": [
      "Epoch 136: 100%|██████████| 125/125 [00:00<00:00, 402.00it/s]\n"
     ]
    },
    {
     "name": "stdout",
     "output_type": "stream",
     "text": [
      "Epoch 135: train_loss=0.00831, valid_loss=0.00964, valid_acc=0.733, best_acc=0.7735\n"
     ]
    },
    {
     "name": "stderr",
     "output_type": "stream",
     "text": [
      "Epoch 137: 100%|██████████| 125/125 [00:00<00:00, 385.24it/s]\n"
     ]
    },
    {
     "name": "stdout",
     "output_type": "stream",
     "text": [
      "Epoch 136: train_loss=0.00829, valid_loss=0.00962, valid_acc=0.745, best_acc=0.7735\n"
     ]
    },
    {
     "name": "stderr",
     "output_type": "stream",
     "text": [
      "Epoch 138: 100%|██████████| 125/125 [00:00<00:00, 417.51it/s]\n"
     ]
    },
    {
     "name": "stdout",
     "output_type": "stream",
     "text": [
      "Epoch 137: train_loss=0.00827, valid_loss=0.00972, valid_acc=0.741, best_acc=0.7735\n"
     ]
    },
    {
     "name": "stderr",
     "output_type": "stream",
     "text": [
      "Epoch 139: 100%|██████████| 125/125 [00:00<00:00, 405.30it/s]\n"
     ]
    },
    {
     "name": "stdout",
     "output_type": "stream",
     "text": [
      "Epoch 138: train_loss=0.00829, valid_loss=0.00968, valid_acc=0.7465, best_acc=0.7735\n"
     ]
    },
    {
     "name": "stderr",
     "output_type": "stream",
     "text": [
      "Epoch 140: 100%|██████████| 125/125 [00:00<00:00, 411.85it/s]\n"
     ]
    },
    {
     "name": "stdout",
     "output_type": "stream",
     "text": [
      "Epoch 139: train_loss=0.00822, valid_loss=0.00962, valid_acc=0.7525, best_acc=0.7735\n"
     ]
    },
    {
     "name": "stderr",
     "output_type": "stream",
     "text": [
      "Epoch 141: 100%|██████████| 125/125 [00:00<00:00, 406.16it/s]\n"
     ]
    },
    {
     "name": "stdout",
     "output_type": "stream",
     "text": [
      "Epoch 140: train_loss=0.00817, valid_loss=0.00957, valid_acc=0.758, best_acc=0.7735\n"
     ]
    },
    {
     "name": "stderr",
     "output_type": "stream",
     "text": [
      "Epoch 142: 100%|██████████| 125/125 [00:00<00:00, 426.66it/s]\n"
     ]
    },
    {
     "name": "stdout",
     "output_type": "stream",
     "text": [
      "Epoch 141: train_loss=0.00814, valid_loss=0.00967, valid_acc=0.75, best_acc=0.7735\n"
     ]
    },
    {
     "name": "stderr",
     "output_type": "stream",
     "text": [
      "Epoch 143: 100%|██████████| 125/125 [00:00<00:00, 419.55it/s]\n"
     ]
    },
    {
     "name": "stdout",
     "output_type": "stream",
     "text": [
      "Epoch 142: train_loss=0.00817, valid_loss=0.00966, valid_acc=0.7485, best_acc=0.7735\n"
     ]
    },
    {
     "name": "stderr",
     "output_type": "stream",
     "text": [
      "Epoch 144: 100%|██████████| 125/125 [00:00<00:00, 406.09it/s]\n"
     ]
    },
    {
     "name": "stdout",
     "output_type": "stream",
     "text": [
      "Epoch 143: train_loss=0.00815, valid_loss=0.00956, valid_acc=0.7615, best_acc=0.7735\n"
     ]
    },
    {
     "name": "stderr",
     "output_type": "stream",
     "text": [
      "Epoch 145: 100%|██████████| 125/125 [00:00<00:00, 413.23it/s]\n"
     ]
    },
    {
     "name": "stdout",
     "output_type": "stream",
     "text": [
      "Epoch 144: train_loss=0.00806, valid_loss=0.00948, valid_acc=0.772, best_acc=0.7735\n"
     ]
    },
    {
     "name": "stderr",
     "output_type": "stream",
     "text": [
      "Epoch 146: 100%|██████████| 125/125 [00:00<00:00, 404.82it/s]\n"
     ]
    },
    {
     "name": "stdout",
     "output_type": "stream",
     "text": [
      "Epoch 145: train_loss=0.00807, valid_loss=0.00953, valid_acc=0.7725, best_acc=0.7735\n"
     ]
    },
    {
     "name": "stderr",
     "output_type": "stream",
     "text": [
      "Epoch 147: 100%|██████████| 125/125 [00:00<00:00, 410.96it/s]\n"
     ]
    },
    {
     "name": "stdout",
     "output_type": "stream",
     "text": [
      "Epoch 146: train_loss=0.00806, valid_loss=0.0096, valid_acc=0.755, best_acc=0.7735\n"
     ]
    },
    {
     "name": "stderr",
     "output_type": "stream",
     "text": [
      "Epoch 148: 100%|██████████| 125/125 [00:00<00:00, 402.40it/s]\n"
     ]
    },
    {
     "name": "stdout",
     "output_type": "stream",
     "text": [
      "Epoch 147: train_loss=0.00807, valid_loss=0.00957, valid_acc=0.761, best_acc=0.7735\n"
     ]
    },
    {
     "name": "stderr",
     "output_type": "stream",
     "text": [
      "Epoch 149: 100%|██████████| 125/125 [00:00<00:00, 390.32it/s]\n"
     ]
    },
    {
     "name": "stdout",
     "output_type": "stream",
     "text": [
      "Epoch 148: train_loss=0.00808, valid_loss=0.00956, valid_acc=0.7555, best_acc=0.7735\n"
     ]
    },
    {
     "name": "stderr",
     "output_type": "stream",
     "text": [
      "Epoch 150: 100%|██████████| 125/125 [00:00<00:00, 404.44it/s]\n"
     ]
    },
    {
     "name": "stdout",
     "output_type": "stream",
     "text": [
      "Epoch 149: train_loss=0.00808, valid_loss=0.00956, valid_acc=0.7615, best_acc=0.7735\n"
     ]
    },
    {
     "name": "stderr",
     "output_type": "stream",
     "text": [
      "Epoch 151: 100%|██████████| 125/125 [00:00<00:00, 400.55it/s]\n"
     ]
    },
    {
     "name": "stdout",
     "output_type": "stream",
     "text": [
      "Epoch 150: train_loss=0.00807, valid_loss=0.00954, valid_acc=0.7685, best_acc=0.7735\n"
     ]
    },
    {
     "name": "stderr",
     "output_type": "stream",
     "text": [
      "Epoch 152: 100%|██████████| 125/125 [00:00<00:00, 396.50it/s]\n"
     ]
    },
    {
     "name": "stdout",
     "output_type": "stream",
     "text": [
      "Epoch 151: train_loss=0.00807, valid_loss=0.00959, valid_acc=0.7555, best_acc=0.7735\n"
     ]
    },
    {
     "name": "stderr",
     "output_type": "stream",
     "text": [
      "Epoch 153: 100%|██████████| 125/125 [00:00<00:00, 408.83it/s]\n"
     ]
    },
    {
     "name": "stdout",
     "output_type": "stream",
     "text": [
      "Epoch 152: train_loss=0.00804, valid_loss=0.00956, valid_acc=0.767, best_acc=0.7735\n"
     ]
    },
    {
     "name": "stderr",
     "output_type": "stream",
     "text": [
      "Epoch 154: 100%|██████████| 125/125 [00:00<00:00, 403.31it/s]\n"
     ]
    },
    {
     "name": "stdout",
     "output_type": "stream",
     "text": [
      "Epoch 153: train_loss=0.00807, valid_loss=0.00962, valid_acc=0.7525, best_acc=0.7735\n"
     ]
    },
    {
     "name": "stderr",
     "output_type": "stream",
     "text": [
      "Epoch 155: 100%|██████████| 125/125 [00:00<00:00, 391.73it/s]\n"
     ]
    },
    {
     "name": "stdout",
     "output_type": "stream",
     "text": [
      "Epoch 154: train_loss=0.00806, valid_loss=0.00956, valid_acc=0.761, best_acc=0.7735\n"
     ]
    },
    {
     "name": "stderr",
     "output_type": "stream",
     "text": [
      "Epoch 156: 100%|██████████| 125/125 [00:00<00:00, 399.81it/s]\n"
     ]
    },
    {
     "name": "stdout",
     "output_type": "stream",
     "text": [
      "Epoch 155: train_loss=0.00812, valid_loss=0.00965, valid_acc=0.7465, best_acc=0.7735\n"
     ]
    },
    {
     "name": "stderr",
     "output_type": "stream",
     "text": [
      "Epoch 157: 100%|██████████| 125/125 [00:00<00:00, 405.89it/s]\n"
     ]
    },
    {
     "name": "stdout",
     "output_type": "stream",
     "text": [
      "Epoch 156: train_loss=0.00815, valid_loss=0.00961, valid_acc=0.7535, best_acc=0.7735\n"
     ]
    },
    {
     "name": "stderr",
     "output_type": "stream",
     "text": [
      "Epoch 158: 100%|██████████| 125/125 [00:00<00:00, 398.77it/s]\n"
     ]
    },
    {
     "name": "stdout",
     "output_type": "stream",
     "text": [
      "Epoch 157: train_loss=0.00813, valid_loss=0.00952, valid_acc=0.769, best_acc=0.7735\n"
     ]
    },
    {
     "name": "stderr",
     "output_type": "stream",
     "text": [
      "Epoch 159: 100%|██████████| 125/125 [00:00<00:00, 403.94it/s]\n"
     ]
    },
    {
     "name": "stdout",
     "output_type": "stream",
     "text": [
      "Epoch 158: train_loss=0.00808, valid_loss=0.00953, valid_acc=0.766, best_acc=0.7735\n"
     ]
    },
    {
     "name": "stderr",
     "output_type": "stream",
     "text": [
      "Epoch 160: 100%|██████████| 125/125 [00:00<00:00, 404.50it/s]\n"
     ]
    },
    {
     "name": "stdout",
     "output_type": "stream",
     "text": [
      "Epoch 159: train_loss=0.00812, valid_loss=0.00959, valid_acc=0.7535, best_acc=0.7735\n"
     ]
    },
    {
     "name": "stderr",
     "output_type": "stream",
     "text": [
      "Epoch 161: 100%|██████████| 125/125 [00:00<00:00, 410.22it/s]\n"
     ]
    },
    {
     "name": "stdout",
     "output_type": "stream",
     "text": [
      "Epoch 160: train_loss=0.00815, valid_loss=0.00962, valid_acc=0.747, best_acc=0.7735\n"
     ]
    },
    {
     "name": "stderr",
     "output_type": "stream",
     "text": [
      "Epoch 162: 100%|██████████| 125/125 [00:00<00:00, 409.98it/s]\n"
     ]
    },
    {
     "name": "stdout",
     "output_type": "stream",
     "text": [
      "Epoch 161: train_loss=0.0081, valid_loss=0.00961, valid_acc=0.748, best_acc=0.7735\n"
     ]
    },
    {
     "name": "stderr",
     "output_type": "stream",
     "text": [
      "Epoch 163: 100%|██████████| 125/125 [00:00<00:00, 410.02it/s]\n"
     ]
    },
    {
     "name": "stdout",
     "output_type": "stream",
     "text": [
      "Epoch 162: train_loss=0.00811, valid_loss=0.00956, valid_acc=0.7605, best_acc=0.7735\n"
     ]
    },
    {
     "name": "stderr",
     "output_type": "stream",
     "text": [
      "Epoch 164: 100%|██████████| 125/125 [00:00<00:00, 410.94it/s]\n"
     ]
    },
    {
     "name": "stdout",
     "output_type": "stream",
     "text": [
      "Epoch 163: train_loss=0.00807, valid_loss=0.00957, valid_acc=0.756, best_acc=0.7735\n"
     ]
    },
    {
     "name": "stderr",
     "output_type": "stream",
     "text": [
      "Epoch 165: 100%|██████████| 125/125 [00:00<00:00, 411.64it/s]\n"
     ]
    },
    {
     "name": "stdout",
     "output_type": "stream",
     "text": [
      "Epoch 164: train_loss=0.0081, valid_loss=0.00965, valid_acc=0.751, best_acc=0.7735\n"
     ]
    },
    {
     "name": "stderr",
     "output_type": "stream",
     "text": [
      "Epoch 166: 100%|██████████| 125/125 [00:00<00:00, 402.62it/s]\n"
     ]
    },
    {
     "name": "stdout",
     "output_type": "stream",
     "text": [
      "Epoch 165: train_loss=0.0081, valid_loss=0.00966, valid_acc=0.7425, best_acc=0.7735\n"
     ]
    },
    {
     "name": "stderr",
     "output_type": "stream",
     "text": [
      "Epoch 167: 100%|██████████| 125/125 [00:00<00:00, 405.52it/s]\n"
     ]
    },
    {
     "name": "stdout",
     "output_type": "stream",
     "text": [
      "Epoch 166: train_loss=0.00811, valid_loss=0.00961, valid_acc=0.756, best_acc=0.7735\n"
     ]
    },
    {
     "name": "stderr",
     "output_type": "stream",
     "text": [
      "Epoch 168: 100%|██████████| 125/125 [00:00<00:00, 409.87it/s]\n"
     ]
    },
    {
     "name": "stdout",
     "output_type": "stream",
     "text": [
      "Epoch 167: train_loss=0.00816, valid_loss=0.00963, valid_acc=0.7525, best_acc=0.7735\n"
     ]
    },
    {
     "name": "stderr",
     "output_type": "stream",
     "text": [
      "Epoch 169: 100%|██████████| 125/125 [00:00<00:00, 406.32it/s]\n"
     ]
    },
    {
     "name": "stdout",
     "output_type": "stream",
     "text": [
      "Epoch 168: train_loss=0.00817, valid_loss=0.00966, valid_acc=0.7425, best_acc=0.7735\n"
     ]
    },
    {
     "name": "stderr",
     "output_type": "stream",
     "text": [
      "Epoch 170: 100%|██████████| 125/125 [00:00<00:00, 410.40it/s]\n"
     ]
    },
    {
     "name": "stdout",
     "output_type": "stream",
     "text": [
      "Epoch 169: train_loss=0.00819, valid_loss=0.00966, valid_acc=0.7435, best_acc=0.7735\n"
     ]
    },
    {
     "name": "stderr",
     "output_type": "stream",
     "text": [
      "Epoch 171: 100%|██████████| 125/125 [00:00<00:00, 404.77it/s]\n"
     ]
    },
    {
     "name": "stdout",
     "output_type": "stream",
     "text": [
      "Epoch 170: train_loss=0.00823, valid_loss=0.00979, valid_acc=0.7225, best_acc=0.7735\n"
     ]
    },
    {
     "name": "stderr",
     "output_type": "stream",
     "text": [
      "Epoch 172: 100%|██████████| 125/125 [00:00<00:00, 406.71it/s]\n"
     ]
    },
    {
     "name": "stdout",
     "output_type": "stream",
     "text": [
      "Epoch 171: train_loss=0.00821, valid_loss=0.00969, valid_acc=0.7355, best_acc=0.7735\n"
     ]
    },
    {
     "name": "stderr",
     "output_type": "stream",
     "text": [
      "Epoch 173: 100%|██████████| 125/125 [00:00<00:00, 395.67it/s]\n"
     ]
    },
    {
     "name": "stdout",
     "output_type": "stream",
     "text": [
      "Epoch 172: train_loss=0.00817, valid_loss=0.00962, valid_acc=0.749, best_acc=0.7735\n"
     ]
    },
    {
     "name": "stderr",
     "output_type": "stream",
     "text": [
      "Epoch 174: 100%|██████████| 125/125 [00:00<00:00, 401.44it/s]\n"
     ]
    },
    {
     "name": "stdout",
     "output_type": "stream",
     "text": [
      "Epoch 173: train_loss=0.0081, valid_loss=0.00961, valid_acc=0.756, best_acc=0.7735\n"
     ]
    },
    {
     "name": "stderr",
     "output_type": "stream",
     "text": [
      "Epoch 175: 100%|██████████| 125/125 [00:00<00:00, 392.89it/s]\n"
     ]
    },
    {
     "name": "stdout",
     "output_type": "stream",
     "text": [
      "Epoch 174: train_loss=0.00806, valid_loss=0.00954, valid_acc=0.765, best_acc=0.7735\n"
     ]
    },
    {
     "name": "stderr",
     "output_type": "stream",
     "text": [
      "Epoch 176: 100%|██████████| 125/125 [00:00<00:00, 402.59it/s]\n"
     ]
    },
    {
     "name": "stdout",
     "output_type": "stream",
     "text": [
      "Epoch 175: train_loss=0.00805, valid_loss=0.0096, valid_acc=0.7565, best_acc=0.7735\n"
     ]
    },
    {
     "name": "stderr",
     "output_type": "stream",
     "text": [
      "Epoch 177: 100%|██████████| 125/125 [00:00<00:00, 410.19it/s]\n"
     ]
    },
    {
     "name": "stdout",
     "output_type": "stream",
     "text": [
      "Epoch 176: train_loss=0.00806, valid_loss=0.00968, valid_acc=0.745, best_acc=0.7735\n"
     ]
    },
    {
     "name": "stderr",
     "output_type": "stream",
     "text": [
      "Epoch 178: 100%|██████████| 125/125 [00:00<00:00, 426.50it/s]\n"
     ]
    },
    {
     "name": "stdout",
     "output_type": "stream",
     "text": [
      "Epoch 177: train_loss=0.00806, valid_loss=0.00953, valid_acc=0.77, best_acc=0.7735\n"
     ]
    },
    {
     "name": "stderr",
     "output_type": "stream",
     "text": [
      "Epoch 179: 100%|██████████| 125/125 [00:00<00:00, 407.82it/s]\n"
     ]
    },
    {
     "name": "stdout",
     "output_type": "stream",
     "text": [
      "Epoch 178: train_loss=0.00807, valid_loss=0.0097, valid_acc=0.746, best_acc=0.7735\n"
     ]
    },
    {
     "name": "stderr",
     "output_type": "stream",
     "text": [
      "Epoch 180: 100%|██████████| 125/125 [00:00<00:00, 407.16it/s]\n"
     ]
    },
    {
     "name": "stdout",
     "output_type": "stream",
     "text": [
      "Epoch 179: train_loss=0.00817, valid_loss=0.00971, valid_acc=0.743, best_acc=0.7735\n"
     ]
    },
    {
     "name": "stderr",
     "output_type": "stream",
     "text": [
      "Epoch 181: 100%|██████████| 125/125 [00:00<00:00, 402.96it/s]\n"
     ]
    },
    {
     "name": "stdout",
     "output_type": "stream",
     "text": [
      "Epoch 180: train_loss=0.0082, valid_loss=0.00969, valid_acc=0.747, best_acc=0.7735\n"
     ]
    },
    {
     "name": "stderr",
     "output_type": "stream",
     "text": [
      "Epoch 182: 100%|██████████| 125/125 [00:00<00:00, 402.90it/s]\n"
     ]
    },
    {
     "name": "stdout",
     "output_type": "stream",
     "text": [
      "Epoch 181: train_loss=0.00809, valid_loss=0.00973, valid_acc=0.7335, best_acc=0.7735\n"
     ]
    },
    {
     "name": "stderr",
     "output_type": "stream",
     "text": [
      "Epoch 183: 100%|██████████| 125/125 [00:00<00:00, 404.14it/s]\n"
     ]
    },
    {
     "name": "stdout",
     "output_type": "stream",
     "text": [
      "Epoch 182: train_loss=0.00816, valid_loss=0.00957, valid_acc=0.7595, best_acc=0.7735\n"
     ]
    },
    {
     "name": "stderr",
     "output_type": "stream",
     "text": [
      "Epoch 184: 100%|██████████| 125/125 [00:00<00:00, 403.38it/s]\n"
     ]
    },
    {
     "name": "stdout",
     "output_type": "stream",
     "text": [
      "Epoch 183: train_loss=0.00813, valid_loss=0.00957, valid_acc=0.7595, best_acc=0.7735\n"
     ]
    },
    {
     "name": "stderr",
     "output_type": "stream",
     "text": [
      "Epoch 185: 100%|██████████| 125/125 [00:00<00:00, 399.76it/s]\n"
     ]
    },
    {
     "name": "stdout",
     "output_type": "stream",
     "text": [
      "Epoch 184: train_loss=0.00806, valid_loss=0.0096, valid_acc=0.7515, best_acc=0.7735\n"
     ]
    },
    {
     "name": "stderr",
     "output_type": "stream",
     "text": [
      "Epoch 186: 100%|██████████| 125/125 [00:00<00:00, 404.25it/s]\n"
     ]
    },
    {
     "name": "stdout",
     "output_type": "stream",
     "text": [
      "Epoch 185: train_loss=0.00803, valid_loss=0.00958, valid_acc=0.7595, best_acc=0.7735\n"
     ]
    },
    {
     "name": "stderr",
     "output_type": "stream",
     "text": [
      "Epoch 187: 100%|██████████| 125/125 [00:00<00:00, 400.25it/s]\n"
     ]
    },
    {
     "name": "stdout",
     "output_type": "stream",
     "text": [
      "Epoch 186: train_loss=0.00806, valid_loss=0.00964, valid_acc=0.7435, best_acc=0.7735\n"
     ]
    },
    {
     "name": "stderr",
     "output_type": "stream",
     "text": [
      "Epoch 188: 100%|██████████| 125/125 [00:00<00:00, 403.77it/s]\n"
     ]
    },
    {
     "name": "stdout",
     "output_type": "stream",
     "text": [
      "Epoch 187: train_loss=0.00807, valid_loss=0.0097, valid_acc=0.741, best_acc=0.7735\n"
     ]
    },
    {
     "name": "stderr",
     "output_type": "stream",
     "text": [
      "Epoch 189: 100%|██████████| 125/125 [00:00<00:00, 402.80it/s]\n"
     ]
    },
    {
     "name": "stdout",
     "output_type": "stream",
     "text": [
      "Epoch 188: train_loss=0.00806, valid_loss=0.0097, valid_acc=0.745, best_acc=0.7735\n"
     ]
    },
    {
     "name": "stderr",
     "output_type": "stream",
     "text": [
      "Epoch 190: 100%|██████████| 125/125 [00:00<00:00, 404.82it/s]\n"
     ]
    },
    {
     "name": "stdout",
     "output_type": "stream",
     "text": [
      "Epoch 189: train_loss=0.00802, valid_loss=0.00963, valid_acc=0.7585, best_acc=0.7735\n"
     ]
    },
    {
     "name": "stderr",
     "output_type": "stream",
     "text": [
      "Epoch 191: 100%|██████████| 125/125 [00:00<00:00, 395.57it/s]\n"
     ]
    },
    {
     "name": "stdout",
     "output_type": "stream",
     "text": [
      "Epoch 190: train_loss=0.00801, valid_loss=0.00962, valid_acc=0.759, best_acc=0.7735\n"
     ]
    },
    {
     "name": "stderr",
     "output_type": "stream",
     "text": [
      "Epoch 192: 100%|██████████| 125/125 [00:00<00:00, 382.39it/s]\n"
     ]
    },
    {
     "name": "stdout",
     "output_type": "stream",
     "text": [
      "Epoch 191: train_loss=0.00803, valid_loss=0.00958, valid_acc=0.7565, best_acc=0.7735\n"
     ]
    },
    {
     "name": "stderr",
     "output_type": "stream",
     "text": [
      "Epoch 193: 100%|██████████| 125/125 [00:00<00:00, 400.72it/s]\n"
     ]
    },
    {
     "name": "stdout",
     "output_type": "stream",
     "text": [
      "Epoch 192: train_loss=0.00802, valid_loss=0.00968, valid_acc=0.744, best_acc=0.7735\n"
     ]
    },
    {
     "name": "stderr",
     "output_type": "stream",
     "text": [
      "Epoch 194: 100%|██████████| 125/125 [00:00<00:00, 405.12it/s]\n"
     ]
    },
    {
     "name": "stdout",
     "output_type": "stream",
     "text": [
      "Epoch 193: train_loss=0.00801, valid_loss=0.00965, valid_acc=0.75, best_acc=0.7735\n"
     ]
    },
    {
     "name": "stderr",
     "output_type": "stream",
     "text": [
      "Epoch 195: 100%|██████████| 125/125 [00:00<00:00, 390.61it/s]\n"
     ]
    },
    {
     "name": "stdout",
     "output_type": "stream",
     "text": [
      "Epoch 194: train_loss=0.00798, valid_loss=0.00963, valid_acc=0.751, best_acc=0.7735\n"
     ]
    },
    {
     "name": "stderr",
     "output_type": "stream",
     "text": [
      "Epoch 196: 100%|██████████| 125/125 [00:00<00:00, 405.64it/s]\n"
     ]
    },
    {
     "name": "stdout",
     "output_type": "stream",
     "text": [
      "Epoch 195: train_loss=0.00798, valid_loss=0.00962, valid_acc=0.754, best_acc=0.7735\n"
     ]
    },
    {
     "name": "stderr",
     "output_type": "stream",
     "text": [
      "Epoch 197: 100%|██████████| 125/125 [00:00<00:00, 405.84it/s]\n"
     ]
    },
    {
     "name": "stdout",
     "output_type": "stream",
     "text": [
      "Epoch 196: train_loss=0.0081, valid_loss=0.00967, valid_acc=0.746, best_acc=0.7735\n"
     ]
    },
    {
     "name": "stderr",
     "output_type": "stream",
     "text": [
      "Epoch 198: 100%|██████████| 125/125 [00:00<00:00, 400.28it/s]\n"
     ]
    },
    {
     "name": "stdout",
     "output_type": "stream",
     "text": [
      "Epoch 197: train_loss=0.00811, valid_loss=0.00967, valid_acc=0.748, best_acc=0.7735\n"
     ]
    },
    {
     "name": "stderr",
     "output_type": "stream",
     "text": [
      "Epoch 199: 100%|██████████| 125/125 [00:00<00:00, 364.89it/s]\n"
     ]
    },
    {
     "name": "stdout",
     "output_type": "stream",
     "text": [
      "Epoch 198: train_loss=0.00811, valid_loss=0.00976, valid_acc=0.7375, best_acc=0.7735\n"
     ]
    },
    {
     "name": "stderr",
     "output_type": "stream",
     "text": [
      "Epoch 200: 100%|██████████| 125/125 [00:00<00:00, 397.64it/s]\n"
     ]
    },
    {
     "name": "stdout",
     "output_type": "stream",
     "text": [
      "Epoch 199: train_loss=0.00822, valid_loss=0.00962, valid_acc=0.7495, best_acc=0.7735\n"
     ]
    },
    {
     "name": "stderr",
     "output_type": "stream",
     "text": [
      "Epoch 201: 100%|██████████| 125/125 [00:00<00:00, 398.78it/s]\n"
     ]
    },
    {
     "name": "stdout",
     "output_type": "stream",
     "text": [
      "Epoch 200: train_loss=0.00811, valid_loss=0.00961, valid_acc=0.7535, best_acc=0.7735\n"
     ]
    },
    {
     "name": "stderr",
     "output_type": "stream",
     "text": [
      "Epoch 202: 100%|██████████| 125/125 [00:00<00:00, 406.55it/s]\n"
     ]
    },
    {
     "name": "stdout",
     "output_type": "stream",
     "text": [
      "Epoch 201: train_loss=0.00808, valid_loss=0.00961, valid_acc=0.746, best_acc=0.7735\n"
     ]
    },
    {
     "name": "stderr",
     "output_type": "stream",
     "text": [
      "Epoch 203: 100%|██████████| 125/125 [00:00<00:00, 388.50it/s]\n"
     ]
    },
    {
     "name": "stdout",
     "output_type": "stream",
     "text": [
      "Epoch 202: train_loss=0.00808, valid_loss=0.00963, valid_acc=0.749, best_acc=0.7735\n"
     ]
    },
    {
     "name": "stderr",
     "output_type": "stream",
     "text": [
      "Epoch 204: 100%|██████████| 125/125 [00:00<00:00, 402.35it/s]\n"
     ]
    },
    {
     "name": "stdout",
     "output_type": "stream",
     "text": [
      "Epoch 203: train_loss=0.00812, valid_loss=0.0096, valid_acc=0.754, best_acc=0.7735\n"
     ]
    },
    {
     "name": "stderr",
     "output_type": "stream",
     "text": [
      "Epoch 205: 100%|██████████| 125/125 [00:00<00:00, 400.76it/s]\n"
     ]
    },
    {
     "name": "stdout",
     "output_type": "stream",
     "text": [
      "Epoch 204: train_loss=0.00812, valid_loss=0.00954, valid_acc=0.7675, best_acc=0.7735\n"
     ]
    },
    {
     "name": "stderr",
     "output_type": "stream",
     "text": [
      "Epoch 206: 100%|██████████| 125/125 [00:00<00:00, 400.82it/s]\n"
     ]
    },
    {
     "name": "stdout",
     "output_type": "stream",
     "text": [
      "Epoch 205: train_loss=0.00806, valid_loss=0.00957, valid_acc=0.7615, best_acc=0.7735\n"
     ]
    },
    {
     "name": "stderr",
     "output_type": "stream",
     "text": [
      "Epoch 207: 100%|██████████| 125/125 [00:00<00:00, 394.24it/s]\n"
     ]
    },
    {
     "name": "stdout",
     "output_type": "stream",
     "text": [
      "Epoch 206: train_loss=0.00807, valid_loss=0.0096, valid_acc=0.756, best_acc=0.7735\n"
     ]
    },
    {
     "name": "stderr",
     "output_type": "stream",
     "text": [
      "Epoch 208: 100%|██████████| 125/125 [00:00<00:00, 410.73it/s]\n"
     ]
    },
    {
     "name": "stdout",
     "output_type": "stream",
     "text": [
      "Epoch 207: train_loss=0.00804, valid_loss=0.00959, valid_acc=0.762, best_acc=0.7735\n"
     ]
    },
    {
     "name": "stderr",
     "output_type": "stream",
     "text": [
      "Epoch 209: 100%|██████████| 125/125 [00:00<00:00, 421.21it/s]\n"
     ]
    },
    {
     "name": "stdout",
     "output_type": "stream",
     "text": [
      "Epoch 208: train_loss=0.00798, valid_loss=0.00962, valid_acc=0.7535, best_acc=0.7735\n"
     ]
    },
    {
     "name": "stderr",
     "output_type": "stream",
     "text": [
      "Epoch 210: 100%|██████████| 125/125 [00:00<00:00, 408.49it/s]\n"
     ]
    },
    {
     "name": "stdout",
     "output_type": "stream",
     "text": [
      "Epoch 209: train_loss=0.008, valid_loss=0.00965, valid_acc=0.7485, best_acc=0.7735\n"
     ]
    },
    {
     "name": "stderr",
     "output_type": "stream",
     "text": [
      "Epoch 211: 100%|██████████| 125/125 [00:00<00:00, 402.89it/s]\n"
     ]
    },
    {
     "name": "stdout",
     "output_type": "stream",
     "text": [
      "Epoch 210: train_loss=0.00803, valid_loss=0.00959, valid_acc=0.7615, best_acc=0.7735\n"
     ]
    },
    {
     "name": "stderr",
     "output_type": "stream",
     "text": [
      "Epoch 212: 100%|██████████| 125/125 [00:00<00:00, 403.11it/s]\n"
     ]
    },
    {
     "name": "stdout",
     "output_type": "stream",
     "text": [
      "Epoch 211: train_loss=0.00802, valid_loss=0.00966, valid_acc=0.7505, best_acc=0.7735\n"
     ]
    },
    {
     "name": "stderr",
     "output_type": "stream",
     "text": [
      "Epoch 213: 100%|██████████| 125/125 [00:00<00:00, 406.43it/s]\n"
     ]
    },
    {
     "name": "stdout",
     "output_type": "stream",
     "text": [
      "Epoch 212: train_loss=0.0081, valid_loss=0.00975, valid_acc=0.7385, best_acc=0.7735\n"
     ]
    },
    {
     "name": "stderr",
     "output_type": "stream",
     "text": [
      "Epoch 214: 100%|██████████| 125/125 [00:00<00:00, 407.80it/s]\n"
     ]
    },
    {
     "name": "stdout",
     "output_type": "stream",
     "text": [
      "Epoch 213: train_loss=0.00809, valid_loss=0.00969, valid_acc=0.7485, best_acc=0.7735\n"
     ]
    },
    {
     "name": "stderr",
     "output_type": "stream",
     "text": [
      "Epoch 215: 100%|██████████| 125/125 [00:00<00:00, 408.62it/s]\n"
     ]
    },
    {
     "name": "stdout",
     "output_type": "stream",
     "text": [
      "Epoch 214: train_loss=0.00805, valid_loss=0.00957, valid_acc=0.7605, best_acc=0.7735\n"
     ]
    },
    {
     "name": "stderr",
     "output_type": "stream",
     "text": [
      "Epoch 216: 100%|██████████| 125/125 [00:00<00:00, 390.08it/s]\n"
     ]
    },
    {
     "name": "stdout",
     "output_type": "stream",
     "text": [
      "Epoch 215: train_loss=0.00801, valid_loss=0.00963, valid_acc=0.7555, best_acc=0.7735\n"
     ]
    },
    {
     "name": "stderr",
     "output_type": "stream",
     "text": [
      "Epoch 217: 100%|██████████| 125/125 [00:00<00:00, 389.91it/s]\n"
     ]
    },
    {
     "name": "stdout",
     "output_type": "stream",
     "text": [
      "Epoch 216: train_loss=0.00801, valid_loss=0.00964, valid_acc=0.755, best_acc=0.7735\n"
     ]
    },
    {
     "name": "stderr",
     "output_type": "stream",
     "text": [
      "Epoch 218: 100%|██████████| 125/125 [00:00<00:00, 396.28it/s]\n"
     ]
    },
    {
     "name": "stdout",
     "output_type": "stream",
     "text": [
      "Epoch 217: train_loss=0.00806, valid_loss=0.00963, valid_acc=0.75, best_acc=0.7735\n"
     ]
    },
    {
     "name": "stderr",
     "output_type": "stream",
     "text": [
      "Epoch 219: 100%|██████████| 125/125 [00:00<00:00, 404.21it/s]\n"
     ]
    },
    {
     "name": "stdout",
     "output_type": "stream",
     "text": [
      "Epoch 218: train_loss=0.00805, valid_loss=0.00964, valid_acc=0.7515, best_acc=0.7735\n"
     ]
    },
    {
     "name": "stderr",
     "output_type": "stream",
     "text": [
      "Epoch 220: 100%|██████████| 125/125 [00:00<00:00, 396.57it/s]\n"
     ]
    },
    {
     "name": "stdout",
     "output_type": "stream",
     "text": [
      "Epoch 219: train_loss=0.00807, valid_loss=0.00959, valid_acc=0.753, best_acc=0.7735\n"
     ]
    },
    {
     "name": "stderr",
     "output_type": "stream",
     "text": [
      "Epoch 221: 100%|██████████| 125/125 [00:00<00:00, 396.87it/s]\n"
     ]
    },
    {
     "name": "stdout",
     "output_type": "stream",
     "text": [
      "Epoch 220: train_loss=0.00803, valid_loss=0.00955, valid_acc=0.761, best_acc=0.7735\n"
     ]
    },
    {
     "name": "stderr",
     "output_type": "stream",
     "text": [
      "Epoch 222: 100%|██████████| 125/125 [00:00<00:00, 397.48it/s]\n"
     ]
    },
    {
     "name": "stdout",
     "output_type": "stream",
     "text": [
      "Epoch 221: train_loss=0.00799, valid_loss=0.00964, valid_acc=0.7495, best_acc=0.7735\n"
     ]
    },
    {
     "name": "stderr",
     "output_type": "stream",
     "text": [
      "Epoch 223: 100%|██████████| 125/125 [00:00<00:00, 401.48it/s]\n"
     ]
    },
    {
     "name": "stdout",
     "output_type": "stream",
     "text": [
      "Epoch 222: train_loss=0.00802, valid_loss=0.00952, valid_acc=0.7645, best_acc=0.7735\n"
     ]
    },
    {
     "name": "stderr",
     "output_type": "stream",
     "text": [
      "Epoch 224: 100%|██████████| 125/125 [00:00<00:00, 413.55it/s]\n"
     ]
    },
    {
     "name": "stdout",
     "output_type": "stream",
     "text": [
      "Epoch 223: train_loss=0.00802, valid_loss=0.00961, valid_acc=0.751, best_acc=0.7735\n"
     ]
    },
    {
     "name": "stderr",
     "output_type": "stream",
     "text": [
      "Epoch 225: 100%|██████████| 125/125 [00:00<00:00, 425.00it/s]\n"
     ]
    },
    {
     "name": "stdout",
     "output_type": "stream",
     "text": [
      "Epoch 224: train_loss=0.00804, valid_loss=0.00952, valid_acc=0.7685, best_acc=0.7735\n"
     ]
    },
    {
     "name": "stderr",
     "output_type": "stream",
     "text": [
      "Epoch 226: 100%|██████████| 125/125 [00:00<00:00, 403.80it/s]\n"
     ]
    },
    {
     "name": "stdout",
     "output_type": "stream",
     "text": [
      "Epoch 225: train_loss=0.00803, valid_loss=0.00958, valid_acc=0.758, best_acc=0.7735\n"
     ]
    },
    {
     "name": "stderr",
     "output_type": "stream",
     "text": [
      "Epoch 227: 100%|██████████| 125/125 [00:00<00:00, 406.17it/s]\n"
     ]
    },
    {
     "name": "stdout",
     "output_type": "stream",
     "text": [
      "Epoch 226: train_loss=0.00802, valid_loss=0.00963, valid_acc=0.753, best_acc=0.7735\n"
     ]
    },
    {
     "name": "stderr",
     "output_type": "stream",
     "text": [
      "Epoch 228: 100%|██████████| 125/125 [00:00<00:00, 404.14it/s]\n"
     ]
    },
    {
     "name": "stdout",
     "output_type": "stream",
     "text": [
      "Epoch 227: train_loss=0.00805, valid_loss=0.00959, valid_acc=0.7545, best_acc=0.7735\n"
     ]
    },
    {
     "name": "stderr",
     "output_type": "stream",
     "text": [
      "Epoch 229: 100%|██████████| 125/125 [00:00<00:00, 404.25it/s]\n"
     ]
    },
    {
     "name": "stdout",
     "output_type": "stream",
     "text": [
      "Epoch 228: train_loss=0.00798, valid_loss=0.00962, valid_acc=0.753, best_acc=0.7735\n"
     ]
    },
    {
     "name": "stderr",
     "output_type": "stream",
     "text": [
      "Epoch 230: 100%|██████████| 125/125 [00:00<00:00, 407.83it/s]\n"
     ]
    },
    {
     "name": "stdout",
     "output_type": "stream",
     "text": [
      "Epoch 229: train_loss=0.008, valid_loss=0.0096, valid_acc=0.7545, best_acc=0.7735\n"
     ]
    },
    {
     "name": "stderr",
     "output_type": "stream",
     "text": [
      "Epoch 231: 100%|██████████| 125/125 [00:00<00:00, 401.90it/s]\n"
     ]
    },
    {
     "name": "stdout",
     "output_type": "stream",
     "text": [
      "Epoch 230: train_loss=0.00805, valid_loss=0.00958, valid_acc=0.7665, best_acc=0.7735\n"
     ]
    },
    {
     "name": "stderr",
     "output_type": "stream",
     "text": [
      "Epoch 232: 100%|██████████| 125/125 [00:00<00:00, 410.87it/s]\n"
     ]
    },
    {
     "name": "stdout",
     "output_type": "stream",
     "text": [
      "Epoch 231: train_loss=0.00806, valid_loss=0.00968, valid_acc=0.7475, best_acc=0.7735\n"
     ]
    },
    {
     "name": "stderr",
     "output_type": "stream",
     "text": [
      "Epoch 233: 100%|██████████| 125/125 [00:00<00:00, 396.08it/s]\n"
     ]
    },
    {
     "name": "stdout",
     "output_type": "stream",
     "text": [
      "Epoch 232: train_loss=0.00808, valid_loss=0.00963, valid_acc=0.749, best_acc=0.7735\n"
     ]
    },
    {
     "name": "stderr",
     "output_type": "stream",
     "text": [
      "Epoch 234: 100%|██████████| 125/125 [00:00<00:00, 402.77it/s]\n"
     ]
    },
    {
     "name": "stdout",
     "output_type": "stream",
     "text": [
      "Epoch 233: train_loss=0.0081, valid_loss=0.0096, valid_acc=0.7535, best_acc=0.7735\n"
     ]
    },
    {
     "name": "stderr",
     "output_type": "stream",
     "text": [
      "Epoch 235: 100%|██████████| 125/125 [00:00<00:00, 404.23it/s]\n"
     ]
    },
    {
     "name": "stdout",
     "output_type": "stream",
     "text": [
      "Epoch 234: train_loss=0.00802, valid_loss=0.00969, valid_acc=0.7475, best_acc=0.7735\n"
     ]
    },
    {
     "name": "stderr",
     "output_type": "stream",
     "text": [
      "Epoch 236: 100%|██████████| 125/125 [00:00<00:00, 403.60it/s]\n"
     ]
    },
    {
     "name": "stdout",
     "output_type": "stream",
     "text": [
      "Epoch 235: train_loss=0.00803, valid_loss=0.00964, valid_acc=0.755, best_acc=0.7735\n"
     ]
    },
    {
     "name": "stderr",
     "output_type": "stream",
     "text": [
      "Epoch 237: 100%|██████████| 125/125 [00:00<00:00, 408.20it/s]\n"
     ]
    },
    {
     "name": "stdout",
     "output_type": "stream",
     "text": [
      "Epoch 236: train_loss=0.00807, valid_loss=0.00967, valid_acc=0.7475, best_acc=0.7735\n"
     ]
    },
    {
     "name": "stderr",
     "output_type": "stream",
     "text": [
      "Epoch 238: 100%|██████████| 125/125 [00:00<00:00, 400.76it/s]\n"
     ]
    },
    {
     "name": "stdout",
     "output_type": "stream",
     "text": [
      "Epoch 237: train_loss=0.00811, valid_loss=0.00963, valid_acc=0.7495, best_acc=0.7735\n"
     ]
    },
    {
     "name": "stderr",
     "output_type": "stream",
     "text": [
      "Epoch 239: 100%|██████████| 125/125 [00:00<00:00, 401.85it/s]\n"
     ]
    },
    {
     "name": "stdout",
     "output_type": "stream",
     "text": [
      "Epoch 238: train_loss=0.00807, valid_loss=0.00962, valid_acc=0.755, best_acc=0.7735\n"
     ]
    },
    {
     "name": "stderr",
     "output_type": "stream",
     "text": [
      "Epoch 240: 100%|██████████| 125/125 [00:00<00:00, 399.78it/s]\n"
     ]
    },
    {
     "name": "stdout",
     "output_type": "stream",
     "text": [
      "Epoch 239: train_loss=0.00804, valid_loss=0.00967, valid_acc=0.7465, best_acc=0.7735\n"
     ]
    },
    {
     "name": "stderr",
     "output_type": "stream",
     "text": [
      "Epoch 241: 100%|██████████| 125/125 [00:00<00:00, 392.67it/s]\n"
     ]
    },
    {
     "name": "stdout",
     "output_type": "stream",
     "text": [
      "Epoch 240: train_loss=0.008, valid_loss=0.0096, valid_acc=0.7565, best_acc=0.7735\n"
     ]
    },
    {
     "name": "stderr",
     "output_type": "stream",
     "text": [
      "Epoch 242: 100%|██████████| 125/125 [00:00<00:00, 395.11it/s]\n"
     ]
    },
    {
     "name": "stdout",
     "output_type": "stream",
     "text": [
      "Epoch 241: train_loss=0.00798, valid_loss=0.00958, valid_acc=0.756, best_acc=0.7735\n"
     ]
    },
    {
     "name": "stderr",
     "output_type": "stream",
     "text": [
      "Epoch 243: 100%|██████████| 125/125 [00:00<00:00, 395.82it/s]\n"
     ]
    },
    {
     "name": "stdout",
     "output_type": "stream",
     "text": [
      "Epoch 242: train_loss=0.00797, valid_loss=0.00965, valid_acc=0.753, best_acc=0.7735\n"
     ]
    },
    {
     "name": "stderr",
     "output_type": "stream",
     "text": [
      "Epoch 244: 100%|██████████| 125/125 [00:00<00:00, 403.27it/s]\n"
     ]
    },
    {
     "name": "stdout",
     "output_type": "stream",
     "text": [
      "Epoch 243: train_loss=0.00799, valid_loss=0.0096, valid_acc=0.755, best_acc=0.7735\n"
     ]
    },
    {
     "name": "stderr",
     "output_type": "stream",
     "text": [
      "Epoch 245: 100%|██████████| 125/125 [00:00<00:00, 394.94it/s]\n"
     ]
    },
    {
     "name": "stdout",
     "output_type": "stream",
     "text": [
      "Epoch 244: train_loss=0.00801, valid_loss=0.00955, valid_acc=0.761, best_acc=0.7735\n"
     ]
    },
    {
     "name": "stderr",
     "output_type": "stream",
     "text": [
      "Epoch 246: 100%|██████████| 125/125 [00:00<00:00, 399.87it/s]\n"
     ]
    },
    {
     "name": "stdout",
     "output_type": "stream",
     "text": [
      "Epoch 245: train_loss=0.00799, valid_loss=0.00961, valid_acc=0.7535, best_acc=0.7735\n"
     ]
    },
    {
     "name": "stderr",
     "output_type": "stream",
     "text": [
      "Epoch 247: 100%|██████████| 125/125 [00:00<00:00, 399.63it/s]\n"
     ]
    },
    {
     "name": "stdout",
     "output_type": "stream",
     "text": [
      "Epoch 246: train_loss=0.00801, valid_loss=0.00956, valid_acc=0.7605, best_acc=0.7735\n"
     ]
    },
    {
     "name": "stderr",
     "output_type": "stream",
     "text": [
      "Epoch 248: 100%|██████████| 125/125 [00:00<00:00, 404.74it/s]\n"
     ]
    },
    {
     "name": "stdout",
     "output_type": "stream",
     "text": [
      "Epoch 247: train_loss=0.008, valid_loss=0.00965, valid_acc=0.754, best_acc=0.7735\n"
     ]
    },
    {
     "name": "stderr",
     "output_type": "stream",
     "text": [
      "Epoch 249: 100%|██████████| 125/125 [00:00<00:00, 403.05it/s]\n"
     ]
    },
    {
     "name": "stdout",
     "output_type": "stream",
     "text": [
      "Epoch 248: train_loss=0.00802, valid_loss=0.00957, valid_acc=0.761, best_acc=0.7735\n"
     ]
    },
    {
     "name": "stderr",
     "output_type": "stream",
     "text": [
      "Epoch 250: 100%|██████████| 125/125 [00:00<00:00, 403.59it/s]\n"
     ]
    },
    {
     "name": "stdout",
     "output_type": "stream",
     "text": [
      "Epoch 249: train_loss=0.00796, valid_loss=0.00959, valid_acc=0.7565, best_acc=0.7735\n"
     ]
    },
    {
     "name": "stderr",
     "output_type": "stream",
     "text": [
      "Epoch 251: 100%|██████████| 125/125 [00:00<00:00, 394.95it/s]\n"
     ]
    },
    {
     "name": "stdout",
     "output_type": "stream",
     "text": [
      "Epoch 250: train_loss=0.008, valid_loss=0.00965, valid_acc=0.7515, best_acc=0.7735\n"
     ]
    },
    {
     "name": "stderr",
     "output_type": "stream",
     "text": [
      "Epoch 252: 100%|██████████| 125/125 [00:00<00:00, 413.20it/s]\n"
     ]
    },
    {
     "name": "stdout",
     "output_type": "stream",
     "text": [
      "Epoch 251: train_loss=0.00799, valid_loss=0.00965, valid_acc=0.751, best_acc=0.7735\n"
     ]
    },
    {
     "name": "stderr",
     "output_type": "stream",
     "text": [
      "Epoch 253: 100%|██████████| 125/125 [00:00<00:00, 405.16it/s]\n"
     ]
    },
    {
     "name": "stdout",
     "output_type": "stream",
     "text": [
      "Epoch 252: train_loss=0.00797, valid_loss=0.00962, valid_acc=0.7515, best_acc=0.7735\n"
     ]
    },
    {
     "name": "stderr",
     "output_type": "stream",
     "text": [
      "Epoch 254: 100%|██████████| 125/125 [00:00<00:00, 403.09it/s]\n"
     ]
    },
    {
     "name": "stdout",
     "output_type": "stream",
     "text": [
      "Epoch 253: train_loss=0.00795, valid_loss=0.00957, valid_acc=0.7625, best_acc=0.7735\n"
     ]
    },
    {
     "name": "stderr",
     "output_type": "stream",
     "text": [
      "Epoch 255: 100%|██████████| 125/125 [00:00<00:00, 410.81it/s]\n"
     ]
    },
    {
     "name": "stdout",
     "output_type": "stream",
     "text": [
      "Epoch 254: train_loss=0.00795, valid_loss=0.00962, valid_acc=0.7575, best_acc=0.7735\n"
     ]
    },
    {
     "name": "stderr",
     "output_type": "stream",
     "text": [
      "Epoch 256: 100%|██████████| 125/125 [00:00<00:00, 414.30it/s]\n"
     ]
    },
    {
     "name": "stdout",
     "output_type": "stream",
     "text": [
      "Epoch 255: train_loss=0.008, valid_loss=0.00956, valid_acc=0.7605, best_acc=0.7735\n"
     ]
    },
    {
     "name": "stderr",
     "output_type": "stream",
     "text": [
      "Epoch 257: 100%|██████████| 125/125 [00:00<00:00, 391.66it/s]\n"
     ]
    },
    {
     "name": "stdout",
     "output_type": "stream",
     "text": [
      "Epoch 256: train_loss=0.00799, valid_loss=0.00958, valid_acc=0.756, best_acc=0.7735\n"
     ]
    },
    {
     "name": "stderr",
     "output_type": "stream",
     "text": [
      "Epoch 258: 100%|██████████| 125/125 [00:00<00:00, 402.84it/s]\n"
     ]
    },
    {
     "name": "stdout",
     "output_type": "stream",
     "text": [
      "Epoch 257: train_loss=0.008, valid_loss=0.00973, valid_acc=0.74, best_acc=0.7735\n"
     ]
    },
    {
     "name": "stderr",
     "output_type": "stream",
     "text": [
      "Epoch 259: 100%|██████████| 125/125 [00:00<00:00, 405.93it/s]\n"
     ]
    },
    {
     "name": "stdout",
     "output_type": "stream",
     "text": [
      "Epoch 258: train_loss=0.00804, valid_loss=0.00963, valid_acc=0.752, best_acc=0.7735\n"
     ]
    },
    {
     "name": "stderr",
     "output_type": "stream",
     "text": [
      "Epoch 260: 100%|██████████| 125/125 [00:00<00:00, 401.99it/s]\n"
     ]
    },
    {
     "name": "stdout",
     "output_type": "stream",
     "text": [
      "Epoch 259: train_loss=0.00796, valid_loss=0.00959, valid_acc=0.765, best_acc=0.7735\n"
     ]
    },
    {
     "name": "stderr",
     "output_type": "stream",
     "text": [
      "Epoch 261: 100%|██████████| 125/125 [00:00<00:00, 400.82it/s]\n"
     ]
    },
    {
     "name": "stdout",
     "output_type": "stream",
     "text": [
      "Epoch 260: train_loss=0.00795, valid_loss=0.00955, valid_acc=0.7635, best_acc=0.7735\n"
     ]
    },
    {
     "name": "stderr",
     "output_type": "stream",
     "text": [
      "Epoch 262: 100%|██████████| 125/125 [00:00<00:00, 399.92it/s]\n"
     ]
    },
    {
     "name": "stdout",
     "output_type": "stream",
     "text": [
      "Epoch 261: train_loss=0.00794, valid_loss=0.00955, valid_acc=0.763, best_acc=0.7735\n"
     ]
    },
    {
     "name": "stderr",
     "output_type": "stream",
     "text": [
      "Epoch 263: 100%|██████████| 125/125 [00:00<00:00, 401.42it/s]\n"
     ]
    },
    {
     "name": "stdout",
     "output_type": "stream",
     "text": [
      "Epoch 262: train_loss=0.008, valid_loss=0.0096, valid_acc=0.7495, best_acc=0.7735\n"
     ]
    },
    {
     "name": "stderr",
     "output_type": "stream",
     "text": [
      "Epoch 264: 100%|██████████| 125/125 [00:00<00:00, 394.29it/s]\n"
     ]
    },
    {
     "name": "stdout",
     "output_type": "stream",
     "text": [
      "Epoch 263: train_loss=0.00802, valid_loss=0.00948, valid_acc=0.7665, best_acc=0.7735\n"
     ]
    },
    {
     "name": "stderr",
     "output_type": "stream",
     "text": [
      "Epoch 265: 100%|██████████| 125/125 [00:00<00:00, 389.98it/s]\n"
     ]
    },
    {
     "name": "stdout",
     "output_type": "stream",
     "text": [
      "Epoch 264: train_loss=0.008, valid_loss=0.00953, valid_acc=0.759, best_acc=0.7735\n"
     ]
    },
    {
     "name": "stderr",
     "output_type": "stream",
     "text": [
      "Epoch 266: 100%|██████████| 125/125 [00:00<00:00, 398.17it/s]\n"
     ]
    },
    {
     "name": "stdout",
     "output_type": "stream",
     "text": [
      "Epoch 265: train_loss=0.008, valid_loss=0.0096, valid_acc=0.7625, best_acc=0.7735\n"
     ]
    },
    {
     "name": "stderr",
     "output_type": "stream",
     "text": [
      "Epoch 267: 100%|██████████| 125/125 [00:00<00:00, 409.22it/s]\n"
     ]
    },
    {
     "name": "stdout",
     "output_type": "stream",
     "text": [
      "Epoch 266: train_loss=0.00798, valid_loss=0.0096, valid_acc=0.7565, best_acc=0.7735\n"
     ]
    },
    {
     "name": "stderr",
     "output_type": "stream",
     "text": [
      "Epoch 268: 100%|██████████| 125/125 [00:00<00:00, 413.76it/s]\n"
     ]
    },
    {
     "name": "stdout",
     "output_type": "stream",
     "text": [
      "Epoch 267: train_loss=0.008, valid_loss=0.0096, valid_acc=0.7575, best_acc=0.7735\n"
     ]
    },
    {
     "name": "stderr",
     "output_type": "stream",
     "text": [
      "Epoch 269: 100%|██████████| 125/125 [00:00<00:00, 406.52it/s]\n"
     ]
    },
    {
     "name": "stdout",
     "output_type": "stream",
     "text": [
      "Epoch 268: train_loss=0.00798, valid_loss=0.0096, valid_acc=0.7595, best_acc=0.7735\n"
     ]
    },
    {
     "name": "stderr",
     "output_type": "stream",
     "text": [
      "Epoch 270: 100%|██████████| 125/125 [00:00<00:00, 401.86it/s]\n"
     ]
    },
    {
     "name": "stdout",
     "output_type": "stream",
     "text": [
      "Epoch 269: train_loss=0.00797, valid_loss=0.0097, valid_acc=0.743, best_acc=0.7735\n"
     ]
    },
    {
     "name": "stderr",
     "output_type": "stream",
     "text": [
      "Epoch 271: 100%|██████████| 125/125 [00:00<00:00, 408.57it/s]\n"
     ]
    },
    {
     "name": "stdout",
     "output_type": "stream",
     "text": [
      "Epoch 270: train_loss=0.00798, valid_loss=0.0097, valid_acc=0.747, best_acc=0.7735\n"
     ]
    },
    {
     "name": "stderr",
     "output_type": "stream",
     "text": [
      "Epoch 272: 100%|██████████| 125/125 [00:00<00:00, 414.22it/s]\n"
     ]
    },
    {
     "name": "stdout",
     "output_type": "stream",
     "text": [
      "Epoch 271: train_loss=0.00801, valid_loss=0.00962, valid_acc=0.7545, best_acc=0.7735\n"
     ]
    },
    {
     "name": "stderr",
     "output_type": "stream",
     "text": [
      "Epoch 273: 100%|██████████| 125/125 [00:00<00:00, 401.05it/s]\n"
     ]
    },
    {
     "name": "stdout",
     "output_type": "stream",
     "text": [
      "Epoch 272: train_loss=0.00804, valid_loss=0.00963, valid_acc=0.746, best_acc=0.7735\n"
     ]
    },
    {
     "name": "stderr",
     "output_type": "stream",
     "text": [
      "Epoch 274: 100%|██████████| 125/125 [00:00<00:00, 416.63it/s]\n"
     ]
    },
    {
     "name": "stdout",
     "output_type": "stream",
     "text": [
      "Epoch 273: train_loss=0.008, valid_loss=0.0096, valid_acc=0.753, best_acc=0.7735\n"
     ]
    },
    {
     "name": "stderr",
     "output_type": "stream",
     "text": [
      "Epoch 275: 100%|██████████| 125/125 [00:00<00:00, 405.99it/s]\n"
     ]
    },
    {
     "name": "stdout",
     "output_type": "stream",
     "text": [
      "Epoch 274: train_loss=0.008, valid_loss=0.00966, valid_acc=0.749, best_acc=0.7735\n"
     ]
    },
    {
     "name": "stderr",
     "output_type": "stream",
     "text": [
      "Epoch 276: 100%|██████████| 125/125 [00:00<00:00, 410.49it/s]\n"
     ]
    },
    {
     "name": "stdout",
     "output_type": "stream",
     "text": [
      "Epoch 275: train_loss=0.00796, valid_loss=0.00962, valid_acc=0.75, best_acc=0.7735\n"
     ]
    },
    {
     "name": "stderr",
     "output_type": "stream",
     "text": [
      "Epoch 277: 100%|██████████| 125/125 [00:00<00:00, 402.30it/s]\n"
     ]
    },
    {
     "name": "stdout",
     "output_type": "stream",
     "text": [
      "Epoch 276: train_loss=0.00794, valid_loss=0.0097, valid_acc=0.739, best_acc=0.7735\n"
     ]
    },
    {
     "name": "stderr",
     "output_type": "stream",
     "text": [
      "Epoch 278: 100%|██████████| 125/125 [00:00<00:00, 411.01it/s]\n"
     ]
    },
    {
     "name": "stdout",
     "output_type": "stream",
     "text": [
      "Epoch 277: train_loss=0.00798, valid_loss=0.00964, valid_acc=0.7435, best_acc=0.7735\n"
     ]
    },
    {
     "name": "stderr",
     "output_type": "stream",
     "text": [
      "Epoch 279: 100%|██████████| 125/125 [00:00<00:00, 396.89it/s]\n"
     ]
    },
    {
     "name": "stdout",
     "output_type": "stream",
     "text": [
      "Epoch 278: train_loss=0.00795, valid_loss=0.00955, valid_acc=0.763, best_acc=0.7735\n"
     ]
    },
    {
     "name": "stderr",
     "output_type": "stream",
     "text": [
      "Epoch 280: 100%|██████████| 125/125 [00:00<00:00, 403.10it/s]\n"
     ]
    },
    {
     "name": "stdout",
     "output_type": "stream",
     "text": [
      "Epoch 279: train_loss=0.00794, valid_loss=0.00958, valid_acc=0.7595, best_acc=0.7735\n"
     ]
    },
    {
     "name": "stderr",
     "output_type": "stream",
     "text": [
      "Epoch 281: 100%|██████████| 125/125 [00:00<00:00, 402.58it/s]\n"
     ]
    },
    {
     "name": "stdout",
     "output_type": "stream",
     "text": [
      "Epoch 280: train_loss=0.00794, valid_loss=0.00955, valid_acc=0.7635, best_acc=0.7735\n"
     ]
    },
    {
     "name": "stderr",
     "output_type": "stream",
     "text": [
      "Epoch 282: 100%|██████████| 125/125 [00:00<00:00, 423.86it/s]\n"
     ]
    },
    {
     "name": "stdout",
     "output_type": "stream",
     "text": [
      "Epoch 281: train_loss=0.00796, valid_loss=0.0097, valid_acc=0.7435, best_acc=0.7735\n"
     ]
    },
    {
     "name": "stderr",
     "output_type": "stream",
     "text": [
      "Epoch 283: 100%|██████████| 125/125 [00:00<00:00, 401.29it/s]\n"
     ]
    },
    {
     "name": "stdout",
     "output_type": "stream",
     "text": [
      "Epoch 282: train_loss=0.00794, valid_loss=0.00964, valid_acc=0.7485, best_acc=0.7735\n"
     ]
    },
    {
     "name": "stderr",
     "output_type": "stream",
     "text": [
      "Epoch 284: 100%|██████████| 125/125 [00:00<00:00, 379.25it/s]\n"
     ]
    },
    {
     "name": "stdout",
     "output_type": "stream",
     "text": [
      "Epoch 283: train_loss=0.00792, valid_loss=0.00961, valid_acc=0.7565, best_acc=0.7735\n"
     ]
    },
    {
     "name": "stderr",
     "output_type": "stream",
     "text": [
      "Epoch 285: 100%|██████████| 125/125 [00:00<00:00, 397.58it/s]\n"
     ]
    },
    {
     "name": "stdout",
     "output_type": "stream",
     "text": [
      "Epoch 284: train_loss=0.00794, valid_loss=0.00962, valid_acc=0.7475, best_acc=0.7735\n"
     ]
    },
    {
     "name": "stderr",
     "output_type": "stream",
     "text": [
      "Epoch 286: 100%|██████████| 125/125 [00:00<00:00, 401.63it/s]\n"
     ]
    },
    {
     "name": "stdout",
     "output_type": "stream",
     "text": [
      "Epoch 285: train_loss=0.00793, valid_loss=0.00957, valid_acc=0.7615, best_acc=0.7735\n"
     ]
    },
    {
     "name": "stderr",
     "output_type": "stream",
     "text": [
      "Epoch 287: 100%|██████████| 125/125 [00:00<00:00, 400.22it/s]\n"
     ]
    },
    {
     "name": "stdout",
     "output_type": "stream",
     "text": [
      "Epoch 286: train_loss=0.00792, valid_loss=0.00959, valid_acc=0.76, best_acc=0.7735\n"
     ]
    },
    {
     "name": "stderr",
     "output_type": "stream",
     "text": [
      "Epoch 288: 100%|██████████| 125/125 [00:00<00:00, 405.99it/s]\n"
     ]
    },
    {
     "name": "stdout",
     "output_type": "stream",
     "text": [
      "Epoch 287: train_loss=0.00791, valid_loss=0.00961, valid_acc=0.7565, best_acc=0.7735\n"
     ]
    },
    {
     "name": "stderr",
     "output_type": "stream",
     "text": [
      "Epoch 289: 100%|██████████| 125/125 [00:00<00:00, 402.78it/s]\n"
     ]
    },
    {
     "name": "stdout",
     "output_type": "stream",
     "text": [
      "Epoch 288: train_loss=0.00796, valid_loss=0.00963, valid_acc=0.752, best_acc=0.7735\n"
     ]
    },
    {
     "name": "stderr",
     "output_type": "stream",
     "text": [
      "Epoch 290: 100%|██████████| 125/125 [00:00<00:00, 404.50it/s]\n"
     ]
    },
    {
     "name": "stdout",
     "output_type": "stream",
     "text": [
      "Epoch 289: train_loss=0.00796, valid_loss=0.00961, valid_acc=0.7545, best_acc=0.7735\n"
     ]
    },
    {
     "name": "stderr",
     "output_type": "stream",
     "text": [
      "Epoch 291: 100%|██████████| 125/125 [00:00<00:00, 403.48it/s]\n"
     ]
    },
    {
     "name": "stdout",
     "output_type": "stream",
     "text": [
      "Epoch 290: train_loss=0.00799, valid_loss=0.00963, valid_acc=0.76, best_acc=0.7735\n"
     ]
    },
    {
     "name": "stderr",
     "output_type": "stream",
     "text": [
      "Epoch 292: 100%|██████████| 125/125 [00:00<00:00, 404.20it/s]\n"
     ]
    },
    {
     "name": "stdout",
     "output_type": "stream",
     "text": [
      "Epoch 291: train_loss=0.00796, valid_loss=0.00962, valid_acc=0.7545, best_acc=0.7735\n"
     ]
    },
    {
     "name": "stderr",
     "output_type": "stream",
     "text": [
      "Epoch 293: 100%|██████████| 125/125 [00:00<00:00, 404.73it/s]\n"
     ]
    },
    {
     "name": "stdout",
     "output_type": "stream",
     "text": [
      "Epoch 292: train_loss=0.008, valid_loss=0.00965, valid_acc=0.75, best_acc=0.7735\n"
     ]
    },
    {
     "name": "stderr",
     "output_type": "stream",
     "text": [
      "Epoch 294: 100%|██████████| 125/125 [00:00<00:00, 396.56it/s]\n"
     ]
    },
    {
     "name": "stdout",
     "output_type": "stream",
     "text": [
      "Epoch 293: train_loss=0.00805, valid_loss=0.0096, valid_acc=0.7625, best_acc=0.7735\n"
     ]
    },
    {
     "name": "stderr",
     "output_type": "stream",
     "text": [
      "Epoch 295: 100%|██████████| 125/125 [00:00<00:00, 398.91it/s]\n"
     ]
    },
    {
     "name": "stdout",
     "output_type": "stream",
     "text": [
      "Epoch 294: train_loss=0.00802, valid_loss=0.00963, valid_acc=0.7575, best_acc=0.7735\n"
     ]
    },
    {
     "name": "stderr",
     "output_type": "stream",
     "text": [
      "Epoch 296: 100%|██████████| 125/125 [00:00<00:00, 409.31it/s]\n"
     ]
    },
    {
     "name": "stdout",
     "output_type": "stream",
     "text": [
      "Epoch 295: train_loss=0.008, valid_loss=0.00963, valid_acc=0.7535, best_acc=0.7735\n"
     ]
    },
    {
     "name": "stderr",
     "output_type": "stream",
     "text": [
      "Epoch 297: 100%|██████████| 125/125 [00:00<00:00, 411.02it/s]\n"
     ]
    },
    {
     "name": "stdout",
     "output_type": "stream",
     "text": [
      "Epoch 296: train_loss=0.00795, valid_loss=0.00964, valid_acc=0.7525, best_acc=0.7735\n"
     ]
    },
    {
     "name": "stderr",
     "output_type": "stream",
     "text": [
      "Epoch 298: 100%|██████████| 125/125 [00:00<00:00, 421.63it/s]\n"
     ]
    },
    {
     "name": "stdout",
     "output_type": "stream",
     "text": [
      "Epoch 297: train_loss=0.00798, valid_loss=0.00967, valid_acc=0.749, best_acc=0.7735\n"
     ]
    },
    {
     "name": "stderr",
     "output_type": "stream",
     "text": [
      "Epoch 299: 100%|██████████| 125/125 [00:00<00:00, 396.57it/s]\n"
     ]
    },
    {
     "name": "stdout",
     "output_type": "stream",
     "text": [
      "Epoch 298: train_loss=0.00796, valid_loss=0.00954, valid_acc=0.764, best_acc=0.7735\n"
     ]
    },
    {
     "name": "stderr",
     "output_type": "stream",
     "text": [
      "Epoch 300: 100%|██████████| 125/125 [00:00<00:00, 407.94it/s]\n"
     ]
    },
    {
     "name": "stdout",
     "output_type": "stream",
     "text": [
      "Epoch 299: train_loss=0.00795, valid_loss=0.00967, valid_acc=0.746, best_acc=0.7735\n"
     ]
    },
    {
     "name": "stderr",
     "output_type": "stream",
     "text": [
      "Epoch 301: 100%|██████████| 125/125 [00:00<00:00, 400.59it/s]\n"
     ]
    },
    {
     "name": "stdout",
     "output_type": "stream",
     "text": [
      "Epoch 300: train_loss=0.00798, valid_loss=0.00966, valid_acc=0.745, best_acc=0.7735\n"
     ]
    },
    {
     "name": "stderr",
     "output_type": "stream",
     "text": [
      "Epoch 302: 100%|██████████| 125/125 [00:00<00:00, 407.66it/s]\n"
     ]
    },
    {
     "name": "stdout",
     "output_type": "stream",
     "text": [
      "Epoch 301: train_loss=0.00794, valid_loss=0.00965, valid_acc=0.7485, best_acc=0.7735\n"
     ]
    },
    {
     "name": "stderr",
     "output_type": "stream",
     "text": [
      "Epoch 303: 100%|██████████| 125/125 [00:00<00:00, 416.02it/s]\n"
     ]
    },
    {
     "name": "stdout",
     "output_type": "stream",
     "text": [
      "Epoch 302: train_loss=0.00795, valid_loss=0.00957, valid_acc=0.7595, best_acc=0.7735\n"
     ]
    },
    {
     "name": "stderr",
     "output_type": "stream",
     "text": [
      "Epoch 304: 100%|██████████| 125/125 [00:00<00:00, 403.62it/s]\n"
     ]
    },
    {
     "name": "stdout",
     "output_type": "stream",
     "text": [
      "Epoch 303: train_loss=0.00796, valid_loss=0.00966, valid_acc=0.745, best_acc=0.7735\n"
     ]
    },
    {
     "name": "stderr",
     "output_type": "stream",
     "text": [
      "Epoch 305: 100%|██████████| 125/125 [00:00<00:00, 402.13it/s]\n"
     ]
    },
    {
     "name": "stdout",
     "output_type": "stream",
     "text": [
      "Epoch 304: train_loss=0.00799, valid_loss=0.00962, valid_acc=0.7535, best_acc=0.7735\n"
     ]
    },
    {
     "name": "stderr",
     "output_type": "stream",
     "text": [
      "Epoch 306: 100%|██████████| 125/125 [00:00<00:00, 407.56it/s]\n"
     ]
    },
    {
     "name": "stdout",
     "output_type": "stream",
     "text": [
      "Epoch 305: train_loss=0.00795, valid_loss=0.00967, valid_acc=0.745, best_acc=0.7735\n"
     ]
    },
    {
     "name": "stderr",
     "output_type": "stream",
     "text": [
      "Epoch 307: 100%|██████████| 125/125 [00:00<00:00, 404.78it/s]\n"
     ]
    },
    {
     "name": "stdout",
     "output_type": "stream",
     "text": [
      "Epoch 306: train_loss=0.00797, valid_loss=0.00964, valid_acc=0.7535, best_acc=0.7735\n"
     ]
    },
    {
     "name": "stderr",
     "output_type": "stream",
     "text": [
      "Epoch 308: 100%|██████████| 125/125 [00:00<00:00, 402.87it/s]\n"
     ]
    },
    {
     "name": "stdout",
     "output_type": "stream",
     "text": [
      "Epoch 307: train_loss=0.00793, valid_loss=0.0096, valid_acc=0.762, best_acc=0.7735\n"
     ]
    },
    {
     "name": "stderr",
     "output_type": "stream",
     "text": [
      "Epoch 309: 100%|██████████| 125/125 [00:00<00:00, 406.36it/s]\n"
     ]
    },
    {
     "name": "stdout",
     "output_type": "stream",
     "text": [
      "Epoch 308: train_loss=0.00796, valid_loss=0.00963, valid_acc=0.752, best_acc=0.7735\n"
     ]
    },
    {
     "name": "stderr",
     "output_type": "stream",
     "text": [
      "Epoch 310: 100%|██████████| 125/125 [00:00<00:00, 404.72it/s]\n"
     ]
    },
    {
     "name": "stdout",
     "output_type": "stream",
     "text": [
      "Epoch 309: train_loss=0.00797, valid_loss=0.00964, valid_acc=0.7535, best_acc=0.7735\n"
     ]
    },
    {
     "name": "stderr",
     "output_type": "stream",
     "text": [
      "Epoch 311: 100%|██████████| 125/125 [00:00<00:00, 398.29it/s]\n"
     ]
    },
    {
     "name": "stdout",
     "output_type": "stream",
     "text": [
      "Epoch 310: train_loss=0.00802, valid_loss=0.00964, valid_acc=0.7505, best_acc=0.7735\n"
     ]
    },
    {
     "name": "stderr",
     "output_type": "stream",
     "text": [
      "Epoch 312: 100%|██████████| 125/125 [00:00<00:00, 400.86it/s]\n"
     ]
    },
    {
     "name": "stdout",
     "output_type": "stream",
     "text": [
      "Epoch 311: train_loss=0.00799, valid_loss=0.00962, valid_acc=0.751, best_acc=0.7735\n"
     ]
    },
    {
     "name": "stderr",
     "output_type": "stream",
     "text": [
      "Epoch 313: 100%|██████████| 125/125 [00:00<00:00, 387.43it/s]\n"
     ]
    },
    {
     "name": "stdout",
     "output_type": "stream",
     "text": [
      "Epoch 312: train_loss=0.00797, valid_loss=0.00962, valid_acc=0.759, best_acc=0.7735\n"
     ]
    },
    {
     "name": "stderr",
     "output_type": "stream",
     "text": [
      "Epoch 314: 100%|██████████| 125/125 [00:00<00:00, 382.20it/s]\n"
     ]
    },
    {
     "name": "stdout",
     "output_type": "stream",
     "text": [
      "Epoch 313: train_loss=0.00796, valid_loss=0.00957, valid_acc=0.7595, best_acc=0.7735\n"
     ]
    },
    {
     "name": "stderr",
     "output_type": "stream",
     "text": [
      "Epoch 315: 100%|██████████| 125/125 [00:00<00:00, 373.90it/s]\n"
     ]
    },
    {
     "name": "stdout",
     "output_type": "stream",
     "text": [
      "Epoch 314: train_loss=0.00793, valid_loss=0.00957, valid_acc=0.7605, best_acc=0.7735\n"
     ]
    },
    {
     "name": "stderr",
     "output_type": "stream",
     "text": [
      "Epoch 316: 100%|██████████| 125/125 [00:00<00:00, 401.33it/s]\n"
     ]
    },
    {
     "name": "stdout",
     "output_type": "stream",
     "text": [
      "Epoch 315: train_loss=0.00791, valid_loss=0.0096, valid_acc=0.7585, best_acc=0.7735\n"
     ]
    },
    {
     "name": "stderr",
     "output_type": "stream",
     "text": [
      "Epoch 317: 100%|██████████| 125/125 [00:00<00:00, 393.16it/s]\n"
     ]
    },
    {
     "name": "stdout",
     "output_type": "stream",
     "text": [
      "Epoch 316: train_loss=0.00791, valid_loss=0.00958, valid_acc=0.7565, best_acc=0.7735\n"
     ]
    },
    {
     "name": "stderr",
     "output_type": "stream",
     "text": [
      "Epoch 318: 100%|██████████| 125/125 [00:00<00:00, 413.14it/s]\n"
     ]
    },
    {
     "name": "stdout",
     "output_type": "stream",
     "text": [
      "Epoch 317: train_loss=0.0079, valid_loss=0.00958, valid_acc=0.7585, best_acc=0.7735\n"
     ]
    },
    {
     "name": "stderr",
     "output_type": "stream",
     "text": [
      "Epoch 319: 100%|██████████| 125/125 [00:00<00:00, 419.67it/s]\n"
     ]
    },
    {
     "name": "stdout",
     "output_type": "stream",
     "text": [
      "Epoch 318: train_loss=0.00801, valid_loss=0.00957, valid_acc=0.754, best_acc=0.7735\n"
     ]
    },
    {
     "name": "stderr",
     "output_type": "stream",
     "text": [
      "Epoch 320: 100%|██████████| 125/125 [00:00<00:00, 404.42it/s]\n"
     ]
    },
    {
     "name": "stdout",
     "output_type": "stream",
     "text": [
      "Epoch 319: train_loss=0.00805, valid_loss=0.00967, valid_acc=0.7395, best_acc=0.7735\n"
     ]
    },
    {
     "name": "stderr",
     "output_type": "stream",
     "text": [
      "Epoch 321: 100%|██████████| 125/125 [00:00<00:00, 406.47it/s]\n"
     ]
    },
    {
     "name": "stdout",
     "output_type": "stream",
     "text": [
      "Epoch 320: train_loss=0.00803, valid_loss=0.00962, valid_acc=0.744, best_acc=0.7735\n"
     ]
    },
    {
     "name": "stderr",
     "output_type": "stream",
     "text": [
      "Epoch 322: 100%|██████████| 125/125 [00:00<00:00, 397.00it/s]\n"
     ]
    },
    {
     "name": "stdout",
     "output_type": "stream",
     "text": [
      "Epoch 321: train_loss=0.00795, valid_loss=0.00963, valid_acc=0.7495, best_acc=0.7735\n"
     ]
    },
    {
     "name": "stderr",
     "output_type": "stream",
     "text": [
      "Epoch 323: 100%|██████████| 125/125 [00:00<00:00, 387.46it/s]\n"
     ]
    },
    {
     "name": "stdout",
     "output_type": "stream",
     "text": [
      "Epoch 322: train_loss=0.00795, valid_loss=0.00966, valid_acc=0.75, best_acc=0.7735\n"
     ]
    },
    {
     "name": "stderr",
     "output_type": "stream",
     "text": [
      "Epoch 324: 100%|██████████| 125/125 [00:00<00:00, 411.86it/s]\n"
     ]
    },
    {
     "name": "stdout",
     "output_type": "stream",
     "text": [
      "Epoch 323: train_loss=0.008, valid_loss=0.00971, valid_acc=0.7405, best_acc=0.7735\n"
     ]
    },
    {
     "name": "stderr",
     "output_type": "stream",
     "text": [
      "Epoch 325: 100%|██████████| 125/125 [00:00<00:00, 397.25it/s]\n"
     ]
    },
    {
     "name": "stdout",
     "output_type": "stream",
     "text": [
      "Epoch 324: train_loss=0.00798, valid_loss=0.00963, valid_acc=0.749, best_acc=0.7735\n"
     ]
    },
    {
     "name": "stderr",
     "output_type": "stream",
     "text": [
      "Epoch 326: 100%|██████████| 125/125 [00:00<00:00, 396.85it/s]\n"
     ]
    },
    {
     "name": "stdout",
     "output_type": "stream",
     "text": [
      "Epoch 325: train_loss=0.00796, valid_loss=0.00962, valid_acc=0.7525, best_acc=0.7735\n"
     ]
    },
    {
     "name": "stderr",
     "output_type": "stream",
     "text": [
      "Epoch 327: 100%|██████████| 125/125 [00:00<00:00, 403.16it/s]\n"
     ]
    },
    {
     "name": "stdout",
     "output_type": "stream",
     "text": [
      "Epoch 326: train_loss=0.00793, valid_loss=0.0096, valid_acc=0.759, best_acc=0.7735\n"
     ]
    },
    {
     "name": "stderr",
     "output_type": "stream",
     "text": [
      "Epoch 328: 100%|██████████| 125/125 [00:00<00:00, 386.98it/s]\n"
     ]
    },
    {
     "name": "stdout",
     "output_type": "stream",
     "text": [
      "Epoch 327: train_loss=0.0079, valid_loss=0.00954, valid_acc=0.7635, best_acc=0.7735\n"
     ]
    },
    {
     "name": "stderr",
     "output_type": "stream",
     "text": [
      "Epoch 329: 100%|██████████| 125/125 [00:00<00:00, 409.64it/s]\n"
     ]
    },
    {
     "name": "stdout",
     "output_type": "stream",
     "text": [
      "Epoch 328: train_loss=0.00792, valid_loss=0.00955, valid_acc=0.762, best_acc=0.7735\n"
     ]
    },
    {
     "name": "stderr",
     "output_type": "stream",
     "text": [
      "Epoch 330: 100%|██████████| 125/125 [00:00<00:00, 396.66it/s]\n"
     ]
    },
    {
     "name": "stdout",
     "output_type": "stream",
     "text": [
      "Epoch 329: train_loss=0.00792, valid_loss=0.00954, valid_acc=0.764, best_acc=0.7735\n"
     ]
    },
    {
     "name": "stderr",
     "output_type": "stream",
     "text": [
      "Epoch 331: 100%|██████████| 125/125 [00:00<00:00, 397.11it/s]\n"
     ]
    },
    {
     "name": "stdout",
     "output_type": "stream",
     "text": [
      "Epoch 330: train_loss=0.00791, valid_loss=0.00961, valid_acc=0.757, best_acc=0.7735\n"
     ]
    },
    {
     "name": "stderr",
     "output_type": "stream",
     "text": [
      "Epoch 332: 100%|██████████| 125/125 [00:00<00:00, 403.79it/s]\n"
     ]
    },
    {
     "name": "stdout",
     "output_type": "stream",
     "text": [
      "Epoch 331: train_loss=0.0079, valid_loss=0.00959, valid_acc=0.7585, best_acc=0.7735\n"
     ]
    },
    {
     "name": "stderr",
     "output_type": "stream",
     "text": [
      "Epoch 333: 100%|██████████| 125/125 [00:00<00:00, 399.13it/s]\n"
     ]
    },
    {
     "name": "stdout",
     "output_type": "stream",
     "text": [
      "Epoch 332: train_loss=0.0079, valid_loss=0.00958, valid_acc=0.7585, best_acc=0.7735\n"
     ]
    },
    {
     "name": "stderr",
     "output_type": "stream",
     "text": [
      "Epoch 334: 100%|██████████| 125/125 [00:00<00:00, 411.91it/s]\n"
     ]
    },
    {
     "name": "stdout",
     "output_type": "stream",
     "text": [
      "Epoch 333: train_loss=0.00796, valid_loss=0.00964, valid_acc=0.7465, best_acc=0.7735\n"
     ]
    },
    {
     "name": "stderr",
     "output_type": "stream",
     "text": [
      "Epoch 335: 100%|██████████| 125/125 [00:00<00:00, 405.10it/s]\n"
     ]
    },
    {
     "name": "stdout",
     "output_type": "stream",
     "text": [
      "Epoch 334: train_loss=0.00793, valid_loss=0.00959, valid_acc=0.754, best_acc=0.7735\n"
     ]
    },
    {
     "name": "stderr",
     "output_type": "stream",
     "text": [
      "Epoch 336: 100%|██████████| 125/125 [00:00<00:00, 405.96it/s]\n"
     ]
    },
    {
     "name": "stdout",
     "output_type": "stream",
     "text": [
      "Epoch 335: train_loss=0.00789, valid_loss=0.00954, valid_acc=0.763, best_acc=0.7735\n"
     ]
    },
    {
     "name": "stderr",
     "output_type": "stream",
     "text": [
      "Epoch 337: 100%|██████████| 125/125 [00:00<00:00, 405.57it/s]\n"
     ]
    },
    {
     "name": "stdout",
     "output_type": "stream",
     "text": [
      "Epoch 336: train_loss=0.00792, valid_loss=0.00951, valid_acc=0.764, best_acc=0.7735\n"
     ]
    },
    {
     "name": "stderr",
     "output_type": "stream",
     "text": [
      "Epoch 338: 100%|██████████| 125/125 [00:00<00:00, 411.57it/s]\n"
     ]
    },
    {
     "name": "stdout",
     "output_type": "stream",
     "text": [
      "Epoch 337: train_loss=0.008, valid_loss=0.00964, valid_acc=0.7525, best_acc=0.7735\n"
     ]
    },
    {
     "name": "stderr",
     "output_type": "stream",
     "text": [
      "Epoch 339: 100%|██████████| 125/125 [00:00<00:00, 395.82it/s]\n"
     ]
    },
    {
     "name": "stdout",
     "output_type": "stream",
     "text": [
      "Epoch 338: train_loss=0.00796, valid_loss=0.00959, valid_acc=0.76, best_acc=0.7735\n"
     ]
    },
    {
     "name": "stderr",
     "output_type": "stream",
     "text": [
      "Epoch 340: 100%|██████████| 125/125 [00:00<00:00, 401.92it/s]\n"
     ]
    },
    {
     "name": "stdout",
     "output_type": "stream",
     "text": [
      "Epoch 339: train_loss=0.00796, valid_loss=0.00965, valid_acc=0.747, best_acc=0.7735\n"
     ]
    },
    {
     "name": "stderr",
     "output_type": "stream",
     "text": [
      "Epoch 341: 100%|██████████| 125/125 [00:00<00:00, 403.48it/s]\n"
     ]
    },
    {
     "name": "stdout",
     "output_type": "stream",
     "text": [
      "Epoch 340: train_loss=0.00798, valid_loss=0.00966, valid_acc=0.7505, best_acc=0.7735\n"
     ]
    },
    {
     "name": "stderr",
     "output_type": "stream",
     "text": [
      "Epoch 342: 100%|██████████| 125/125 [00:00<00:00, 395.32it/s]\n"
     ]
    },
    {
     "name": "stdout",
     "output_type": "stream",
     "text": [
      "Epoch 341: train_loss=0.00797, valid_loss=0.00974, valid_acc=0.736, best_acc=0.7735\n"
     ]
    },
    {
     "name": "stderr",
     "output_type": "stream",
     "text": [
      "Epoch 343: 100%|██████████| 125/125 [00:00<00:00, 398.03it/s]\n"
     ]
    },
    {
     "name": "stdout",
     "output_type": "stream",
     "text": [
      "Epoch 342: train_loss=0.0081, valid_loss=0.00964, valid_acc=0.7465, best_acc=0.7735\n"
     ]
    },
    {
     "name": "stderr",
     "output_type": "stream",
     "text": [
      "Epoch 344: 100%|██████████| 125/125 [00:00<00:00, 404.49it/s]\n"
     ]
    },
    {
     "name": "stdout",
     "output_type": "stream",
     "text": [
      "Epoch 343: train_loss=0.00797, valid_loss=0.00967, valid_acc=0.75, best_acc=0.7735\n"
     ]
    },
    {
     "name": "stderr",
     "output_type": "stream",
     "text": [
      "Epoch 345: 100%|██████████| 125/125 [00:00<00:00, 391.63it/s]\n"
     ]
    },
    {
     "name": "stdout",
     "output_type": "stream",
     "text": [
      "Epoch 344: train_loss=0.00794, valid_loss=0.00964, valid_acc=0.752, best_acc=0.7735\n"
     ]
    },
    {
     "name": "stderr",
     "output_type": "stream",
     "text": [
      "Epoch 346: 100%|██████████| 125/125 [00:00<00:00, 405.19it/s]\n"
     ]
    },
    {
     "name": "stdout",
     "output_type": "stream",
     "text": [
      "Epoch 345: train_loss=0.00796, valid_loss=0.00963, valid_acc=0.752, best_acc=0.7735\n"
     ]
    },
    {
     "name": "stderr",
     "output_type": "stream",
     "text": [
      "Epoch 347: 100%|██████████| 125/125 [00:00<00:00, 411.88it/s]\n"
     ]
    },
    {
     "name": "stdout",
     "output_type": "stream",
     "text": [
      "Epoch 346: train_loss=0.00796, valid_loss=0.00973, valid_acc=0.7375, best_acc=0.7735\n"
     ]
    },
    {
     "name": "stderr",
     "output_type": "stream",
     "text": [
      "Epoch 348: 100%|██████████| 125/125 [00:00<00:00, 408.81it/s]\n"
     ]
    },
    {
     "name": "stdout",
     "output_type": "stream",
     "text": [
      "Epoch 347: train_loss=0.00797, valid_loss=0.00966, valid_acc=0.752, best_acc=0.7735\n"
     ]
    },
    {
     "name": "stderr",
     "output_type": "stream",
     "text": [
      "Epoch 349: 100%|██████████| 125/125 [00:00<00:00, 410.69it/s]\n"
     ]
    },
    {
     "name": "stdout",
     "output_type": "stream",
     "text": [
      "Epoch 348: train_loss=0.00796, valid_loss=0.00961, valid_acc=0.7605, best_acc=0.7735\n"
     ]
    },
    {
     "name": "stderr",
     "output_type": "stream",
     "text": [
      "Epoch 350: 100%|██████████| 125/125 [00:00<00:00, 395.14it/s]\n"
     ]
    },
    {
     "name": "stdout",
     "output_type": "stream",
     "text": [
      "Epoch 349: train_loss=0.00802, valid_loss=0.0096, valid_acc=0.754, best_acc=0.7735\n"
     ]
    },
    {
     "name": "stderr",
     "output_type": "stream",
     "text": [
      "Epoch 351: 100%|██████████| 125/125 [00:00<00:00, 404.69it/s]\n"
     ]
    },
    {
     "name": "stdout",
     "output_type": "stream",
     "text": [
      "Epoch 350: train_loss=0.00802, valid_loss=0.00961, valid_acc=0.75, best_acc=0.7735\n"
     ]
    },
    {
     "name": "stderr",
     "output_type": "stream",
     "text": [
      "Epoch 352: 100%|██████████| 125/125 [00:00<00:00, 396.82it/s]\n"
     ]
    },
    {
     "name": "stdout",
     "output_type": "stream",
     "text": [
      "Epoch 351: train_loss=0.00796, valid_loss=0.00963, valid_acc=0.751, best_acc=0.7735\n"
     ]
    },
    {
     "name": "stderr",
     "output_type": "stream",
     "text": [
      "Epoch 353: 100%|██████████| 125/125 [00:00<00:00, 401.01it/s]\n"
     ]
    },
    {
     "name": "stdout",
     "output_type": "stream",
     "text": [
      "Epoch 352: train_loss=0.00796, valid_loss=0.00967, valid_acc=0.7455, best_acc=0.7735\n"
     ]
    },
    {
     "name": "stderr",
     "output_type": "stream",
     "text": [
      "Epoch 354: 100%|██████████| 125/125 [00:00<00:00, 401.53it/s]\n"
     ]
    },
    {
     "name": "stdout",
     "output_type": "stream",
     "text": [
      "Epoch 353: train_loss=0.00795, valid_loss=0.00961, valid_acc=0.757, best_acc=0.7735\n"
     ]
    },
    {
     "name": "stderr",
     "output_type": "stream",
     "text": [
      "Epoch 355: 100%|██████████| 125/125 [00:00<00:00, 395.33it/s]\n"
     ]
    },
    {
     "name": "stdout",
     "output_type": "stream",
     "text": [
      "Epoch 354: train_loss=0.0079, valid_loss=0.00955, valid_acc=0.762, best_acc=0.7735\n"
     ]
    },
    {
     "name": "stderr",
     "output_type": "stream",
     "text": [
      "Epoch 356: 100%|██████████| 125/125 [00:00<00:00, 415.20it/s]\n"
     ]
    },
    {
     "name": "stdout",
     "output_type": "stream",
     "text": [
      "Epoch 355: train_loss=0.00789, valid_loss=0.00959, valid_acc=0.757, best_acc=0.7735\n"
     ]
    },
    {
     "name": "stderr",
     "output_type": "stream",
     "text": [
      "Epoch 357: 100%|██████████| 125/125 [00:00<00:00, 388.81it/s]\n"
     ]
    },
    {
     "name": "stdout",
     "output_type": "stream",
     "text": [
      "Epoch 356: train_loss=0.00792, valid_loss=0.00966, valid_acc=0.757, best_acc=0.7735\n"
     ]
    },
    {
     "name": "stderr",
     "output_type": "stream",
     "text": [
      "Epoch 358: 100%|██████████| 125/125 [00:00<00:00, 402.27it/s]\n"
     ]
    },
    {
     "name": "stdout",
     "output_type": "stream",
     "text": [
      "Epoch 357: train_loss=0.00793, valid_loss=0.00966, valid_acc=0.755, best_acc=0.7735\n"
     ]
    },
    {
     "name": "stderr",
     "output_type": "stream",
     "text": [
      "Epoch 359: 100%|██████████| 125/125 [00:00<00:00, 410.28it/s]\n"
     ]
    },
    {
     "name": "stdout",
     "output_type": "stream",
     "text": [
      "Epoch 358: train_loss=0.00789, valid_loss=0.00965, valid_acc=0.7535, best_acc=0.7735\n"
     ]
    },
    {
     "name": "stderr",
     "output_type": "stream",
     "text": [
      "Epoch 360: 100%|██████████| 125/125 [00:00<00:00, 414.06it/s]\n"
     ]
    },
    {
     "name": "stdout",
     "output_type": "stream",
     "text": [
      "Epoch 359: train_loss=0.00792, valid_loss=0.0096, valid_acc=0.761, best_acc=0.7735\n"
     ]
    },
    {
     "name": "stderr",
     "output_type": "stream",
     "text": [
      "Epoch 361: 100%|██████████| 125/125 [00:00<00:00, 396.38it/s]\n"
     ]
    },
    {
     "name": "stdout",
     "output_type": "stream",
     "text": [
      "Epoch 360: train_loss=0.00789, valid_loss=0.00966, valid_acc=0.7535, best_acc=0.7735\n"
     ]
    },
    {
     "name": "stderr",
     "output_type": "stream",
     "text": [
      "Epoch 362: 100%|██████████| 125/125 [00:00<00:00, 403.10it/s]\n"
     ]
    },
    {
     "name": "stdout",
     "output_type": "stream",
     "text": [
      "Epoch 361: train_loss=0.00791, valid_loss=0.00957, valid_acc=0.7635, best_acc=0.7735\n"
     ]
    },
    {
     "name": "stderr",
     "output_type": "stream",
     "text": [
      "Epoch 363: 100%|██████████| 125/125 [00:00<00:00, 403.49it/s]\n"
     ]
    },
    {
     "name": "stdout",
     "output_type": "stream",
     "text": [
      "Epoch 362: train_loss=0.00787, valid_loss=0.00963, valid_acc=0.7565, best_acc=0.7735\n"
     ]
    },
    {
     "name": "stderr",
     "output_type": "stream",
     "text": [
      "Epoch 364: 100%|██████████| 125/125 [00:00<00:00, 404.86it/s]\n"
     ]
    },
    {
     "name": "stdout",
     "output_type": "stream",
     "text": [
      "Epoch 363: train_loss=0.00798, valid_loss=0.0096, valid_acc=0.7605, best_acc=0.7735\n"
     ]
    },
    {
     "name": "stderr",
     "output_type": "stream",
     "text": [
      "Epoch 365: 100%|██████████| 125/125 [00:00<00:00, 401.40it/s]\n"
     ]
    },
    {
     "name": "stdout",
     "output_type": "stream",
     "text": [
      "Epoch 364: train_loss=0.00793, valid_loss=0.00972, valid_acc=0.7415, best_acc=0.7735\n"
     ]
    },
    {
     "name": "stderr",
     "output_type": "stream",
     "text": [
      "Epoch 366: 100%|██████████| 125/125 [00:00<00:00, 404.45it/s]\n"
     ]
    },
    {
     "name": "stdout",
     "output_type": "stream",
     "text": [
      "Epoch 365: train_loss=0.0079, valid_loss=0.00959, valid_acc=0.76, best_acc=0.7735\n"
     ]
    },
    {
     "name": "stderr",
     "output_type": "stream",
     "text": [
      "Epoch 367: 100%|██████████| 125/125 [00:00<00:00, 398.63it/s]\n"
     ]
    },
    {
     "name": "stdout",
     "output_type": "stream",
     "text": [
      "Epoch 366: train_loss=0.00789, valid_loss=0.00966, valid_acc=0.7545, best_acc=0.7735\n"
     ]
    },
    {
     "name": "stderr",
     "output_type": "stream",
     "text": [
      "Epoch 368: 100%|██████████| 125/125 [00:00<00:00, 413.90it/s]\n"
     ]
    },
    {
     "name": "stdout",
     "output_type": "stream",
     "text": [
      "Epoch 367: train_loss=0.00788, valid_loss=0.00956, valid_acc=0.764, best_acc=0.7735\n"
     ]
    },
    {
     "name": "stderr",
     "output_type": "stream",
     "text": [
      "Epoch 369: 100%|██████████| 125/125 [00:00<00:00, 402.86it/s]\n"
     ]
    },
    {
     "name": "stdout",
     "output_type": "stream",
     "text": [
      "Epoch 368: train_loss=0.0079, valid_loss=0.00962, valid_acc=0.754, best_acc=0.7735\n"
     ]
    },
    {
     "name": "stderr",
     "output_type": "stream",
     "text": [
      "Epoch 370: 100%|██████████| 125/125 [00:00<00:00, 394.73it/s]\n"
     ]
    },
    {
     "name": "stdout",
     "output_type": "stream",
     "text": [
      "Epoch 369: train_loss=0.00787, valid_loss=0.00968, valid_acc=0.745, best_acc=0.7735\n"
     ]
    },
    {
     "name": "stderr",
     "output_type": "stream",
     "text": [
      "Epoch 371: 100%|██████████| 125/125 [00:00<00:00, 405.85it/s]\n"
     ]
    },
    {
     "name": "stdout",
     "output_type": "stream",
     "text": [
      "Epoch 370: train_loss=0.00786, valid_loss=0.00958, valid_acc=0.763, best_acc=0.7735\n"
     ]
    },
    {
     "name": "stderr",
     "output_type": "stream",
     "text": [
      "Epoch 372: 100%|██████████| 125/125 [00:00<00:00, 391.02it/s]\n"
     ]
    },
    {
     "name": "stdout",
     "output_type": "stream",
     "text": [
      "Epoch 371: train_loss=0.00785, valid_loss=0.00956, valid_acc=0.7645, best_acc=0.7735\n"
     ]
    },
    {
     "name": "stderr",
     "output_type": "stream",
     "text": [
      "Epoch 373: 100%|██████████| 125/125 [00:00<00:00, 412.90it/s]\n"
     ]
    },
    {
     "name": "stdout",
     "output_type": "stream",
     "text": [
      "Epoch 372: train_loss=0.00789, valid_loss=0.00971, valid_acc=0.7465, best_acc=0.7735\n"
     ]
    },
    {
     "name": "stderr",
     "output_type": "stream",
     "text": [
      "Epoch 374: 100%|██████████| 125/125 [00:00<00:00, 410.10it/s]\n"
     ]
    },
    {
     "name": "stdout",
     "output_type": "stream",
     "text": [
      "Epoch 373: train_loss=0.00788, valid_loss=0.00963, valid_acc=0.7555, best_acc=0.7735\n"
     ]
    },
    {
     "name": "stderr",
     "output_type": "stream",
     "text": [
      "Epoch 375: 100%|██████████| 125/125 [00:00<00:00, 398.85it/s]\n"
     ]
    },
    {
     "name": "stdout",
     "output_type": "stream",
     "text": [
      "Epoch 374: train_loss=0.00789, valid_loss=0.00955, valid_acc=0.7665, best_acc=0.7735\n"
     ]
    },
    {
     "name": "stderr",
     "output_type": "stream",
     "text": [
      "Epoch 376: 100%|██████████| 125/125 [00:00<00:00, 397.94it/s]\n"
     ]
    },
    {
     "name": "stdout",
     "output_type": "stream",
     "text": [
      "Epoch 375: train_loss=0.00799, valid_loss=0.00951, valid_acc=0.7745, best_acc=0.7745\n"
     ]
    },
    {
     "name": "stderr",
     "output_type": "stream",
     "text": [
      "Epoch 377: 100%|██████████| 125/125 [00:00<00:00, 404.76it/s]\n"
     ]
    },
    {
     "name": "stdout",
     "output_type": "stream",
     "text": [
      "Epoch 376: train_loss=0.00796, valid_loss=0.00959, valid_acc=0.757, best_acc=0.7745\n"
     ]
    },
    {
     "name": "stderr",
     "output_type": "stream",
     "text": [
      "Epoch 378: 100%|██████████| 125/125 [00:00<00:00, 423.70it/s]\n"
     ]
    },
    {
     "name": "stdout",
     "output_type": "stream",
     "text": [
      "Epoch 377: train_loss=0.00805, valid_loss=0.00952, valid_acc=0.763, best_acc=0.7745\n"
     ]
    },
    {
     "name": "stderr",
     "output_type": "stream",
     "text": [
      "Epoch 379: 100%|██████████| 125/125 [00:00<00:00, 410.78it/s]\n"
     ]
    },
    {
     "name": "stdout",
     "output_type": "stream",
     "text": [
      "Epoch 378: train_loss=0.00806, valid_loss=0.00979, valid_acc=0.7275, best_acc=0.7745\n"
     ]
    },
    {
     "name": "stderr",
     "output_type": "stream",
     "text": [
      "Epoch 380: 100%|██████████| 125/125 [00:00<00:00, 401.84it/s]\n"
     ]
    },
    {
     "name": "stdout",
     "output_type": "stream",
     "text": [
      "Epoch 379: train_loss=0.00817, valid_loss=0.00969, valid_acc=0.749, best_acc=0.7745\n"
     ]
    },
    {
     "name": "stderr",
     "output_type": "stream",
     "text": [
      "Epoch 381: 100%|██████████| 125/125 [00:00<00:00, 423.47it/s]\n"
     ]
    },
    {
     "name": "stdout",
     "output_type": "stream",
     "text": [
      "Epoch 380: train_loss=0.00801, valid_loss=0.00963, valid_acc=0.76, best_acc=0.7745\n"
     ]
    },
    {
     "name": "stderr",
     "output_type": "stream",
     "text": [
      "Epoch 382: 100%|██████████| 125/125 [00:00<00:00, 402.23it/s]\n"
     ]
    },
    {
     "name": "stdout",
     "output_type": "stream",
     "text": [
      "Epoch 381: train_loss=0.00796, valid_loss=0.00965, valid_acc=0.751, best_acc=0.7745\n"
     ]
    },
    {
     "name": "stderr",
     "output_type": "stream",
     "text": [
      "Epoch 383: 100%|██████████| 125/125 [00:00<00:00, 416.02it/s]\n"
     ]
    },
    {
     "name": "stdout",
     "output_type": "stream",
     "text": [
      "Epoch 382: train_loss=0.00805, valid_loss=0.00965, valid_acc=0.7535, best_acc=0.7745\n"
     ]
    },
    {
     "name": "stderr",
     "output_type": "stream",
     "text": [
      "Epoch 384: 100%|██████████| 125/125 [00:00<00:00, 398.14it/s]\n"
     ]
    },
    {
     "name": "stdout",
     "output_type": "stream",
     "text": [
      "Epoch 383: train_loss=0.00798, valid_loss=0.00969, valid_acc=0.7505, best_acc=0.7745\n"
     ]
    },
    {
     "name": "stderr",
     "output_type": "stream",
     "text": [
      "Epoch 385: 100%|██████████| 125/125 [00:00<00:00, 412.29it/s]\n"
     ]
    },
    {
     "name": "stdout",
     "output_type": "stream",
     "text": [
      "Epoch 384: train_loss=0.00794, valid_loss=0.00963, valid_acc=0.757, best_acc=0.7745\n"
     ]
    },
    {
     "name": "stderr",
     "output_type": "stream",
     "text": [
      "Epoch 386: 100%|██████████| 125/125 [00:00<00:00, 403.60it/s]\n"
     ]
    },
    {
     "name": "stdout",
     "output_type": "stream",
     "text": [
      "Epoch 385: train_loss=0.00795, valid_loss=0.00964, valid_acc=0.7535, best_acc=0.7745\n"
     ]
    },
    {
     "name": "stderr",
     "output_type": "stream",
     "text": [
      "Epoch 387: 100%|██████████| 125/125 [00:00<00:00, 401.30it/s]\n"
     ]
    },
    {
     "name": "stdout",
     "output_type": "stream",
     "text": [
      "Epoch 386: train_loss=0.00799, valid_loss=0.0099, valid_acc=0.7295, best_acc=0.7745\n"
     ]
    },
    {
     "name": "stderr",
     "output_type": "stream",
     "text": [
      "Epoch 388: 100%|██████████| 125/125 [00:00<00:00, 406.75it/s]\n"
     ]
    },
    {
     "name": "stdout",
     "output_type": "stream",
     "text": [
      "Epoch 387: train_loss=0.00799, valid_loss=0.00972, valid_acc=0.747, best_acc=0.7745\n"
     ]
    },
    {
     "name": "stderr",
     "output_type": "stream",
     "text": [
      "Epoch 389: 100%|██████████| 125/125 [00:00<00:00, 408.00it/s]\n"
     ]
    },
    {
     "name": "stdout",
     "output_type": "stream",
     "text": [
      "Epoch 388: train_loss=0.00798, valid_loss=0.00967, valid_acc=0.753, best_acc=0.7745\n"
     ]
    },
    {
     "name": "stderr",
     "output_type": "stream",
     "text": [
      "Epoch 390: 100%|██████████| 125/125 [00:00<00:00, 401.15it/s]\n"
     ]
    },
    {
     "name": "stdout",
     "output_type": "stream",
     "text": [
      "Epoch 389: train_loss=0.00792, valid_loss=0.00961, valid_acc=0.7575, best_acc=0.7745\n"
     ]
    },
    {
     "name": "stderr",
     "output_type": "stream",
     "text": [
      "Epoch 391: 100%|██████████| 125/125 [00:00<00:00, 403.37it/s]\n"
     ]
    },
    {
     "name": "stdout",
     "output_type": "stream",
     "text": [
      "Epoch 390: train_loss=0.00794, valid_loss=0.00963, valid_acc=0.7515, best_acc=0.7745\n"
     ]
    },
    {
     "name": "stderr",
     "output_type": "stream",
     "text": [
      "Epoch 392: 100%|██████████| 125/125 [00:00<00:00, 398.99it/s]\n"
     ]
    },
    {
     "name": "stdout",
     "output_type": "stream",
     "text": [
      "Epoch 391: train_loss=0.00798, valid_loss=0.00961, valid_acc=0.7545, best_acc=0.7745\n"
     ]
    },
    {
     "name": "stderr",
     "output_type": "stream",
     "text": [
      "Epoch 393: 100%|██████████| 125/125 [00:00<00:00, 403.86it/s]\n"
     ]
    },
    {
     "name": "stdout",
     "output_type": "stream",
     "text": [
      "Epoch 392: train_loss=0.00798, valid_loss=0.00955, valid_acc=0.766, best_acc=0.7745\n"
     ]
    },
    {
     "name": "stderr",
     "output_type": "stream",
     "text": [
      "Epoch 394: 100%|██████████| 125/125 [00:00<00:00, 394.42it/s]\n"
     ]
    },
    {
     "name": "stdout",
     "output_type": "stream",
     "text": [
      "Epoch 393: train_loss=0.00793, valid_loss=0.00962, valid_acc=0.76, best_acc=0.7745\n"
     ]
    },
    {
     "name": "stderr",
     "output_type": "stream",
     "text": [
      "Epoch 395: 100%|██████████| 125/125 [00:00<00:00, 399.90it/s]\n"
     ]
    },
    {
     "name": "stdout",
     "output_type": "stream",
     "text": [
      "Epoch 394: train_loss=0.00789, valid_loss=0.00961, valid_acc=0.7605, best_acc=0.7745\n"
     ]
    },
    {
     "name": "stderr",
     "output_type": "stream",
     "text": [
      "Epoch 396: 100%|██████████| 125/125 [00:00<00:00, 405.85it/s]\n"
     ]
    },
    {
     "name": "stdout",
     "output_type": "stream",
     "text": [
      "Epoch 395: train_loss=0.00794, valid_loss=0.00963, valid_acc=0.7625, best_acc=0.7745\n"
     ]
    },
    {
     "name": "stderr",
     "output_type": "stream",
     "text": [
      "Epoch 397: 100%|██████████| 125/125 [00:00<00:00, 408.43it/s]\n"
     ]
    },
    {
     "name": "stdout",
     "output_type": "stream",
     "text": [
      "Epoch 396: train_loss=0.00793, valid_loss=0.00963, valid_acc=0.763, best_acc=0.7745\n"
     ]
    },
    {
     "name": "stderr",
     "output_type": "stream",
     "text": [
      "Epoch 398: 100%|██████████| 125/125 [00:00<00:00, 429.64it/s]\n"
     ]
    },
    {
     "name": "stdout",
     "output_type": "stream",
     "text": [
      "Epoch 397: train_loss=0.008, valid_loss=0.00954, valid_acc=0.7625, best_acc=0.7745\n"
     ]
    },
    {
     "name": "stderr",
     "output_type": "stream",
     "text": [
      "Epoch 399: 100%|██████████| 125/125 [00:00<00:00, 423.21it/s]\n"
     ]
    },
    {
     "name": "stdout",
     "output_type": "stream",
     "text": [
      "Epoch 398: train_loss=0.00796, valid_loss=0.0096, valid_acc=0.7635, best_acc=0.7745\n"
     ]
    },
    {
     "name": "stderr",
     "output_type": "stream",
     "text": [
      "Epoch 400: 100%|██████████| 125/125 [00:00<00:00, 399.13it/s]\n"
     ]
    },
    {
     "name": "stdout",
     "output_type": "stream",
     "text": [
      "Epoch 399: train_loss=0.00794, valid_loss=0.00961, valid_acc=0.7525, best_acc=0.7745\n"
     ]
    },
    {
     "name": "stderr",
     "output_type": "stream",
     "text": [
      "Epoch 401: 100%|██████████| 125/125 [00:00<00:00, 392.97it/s]\n"
     ]
    },
    {
     "name": "stdout",
     "output_type": "stream",
     "text": [
      "Epoch 400: train_loss=0.00794, valid_loss=0.00962, valid_acc=0.7575, best_acc=0.7745\n"
     ]
    },
    {
     "name": "stderr",
     "output_type": "stream",
     "text": [
      "Epoch 402: 100%|██████████| 125/125 [00:00<00:00, 405.05it/s]\n"
     ]
    },
    {
     "name": "stdout",
     "output_type": "stream",
     "text": [
      "Epoch 401: train_loss=0.00794, valid_loss=0.00964, valid_acc=0.7535, best_acc=0.7745\n"
     ]
    },
    {
     "name": "stderr",
     "output_type": "stream",
     "text": [
      "Epoch 403: 100%|██████████| 125/125 [00:00<00:00, 400.59it/s]\n"
     ]
    },
    {
     "name": "stdout",
     "output_type": "stream",
     "text": [
      "Epoch 402: train_loss=0.00795, valid_loss=0.00956, valid_acc=0.7645, best_acc=0.7745\n"
     ]
    },
    {
     "name": "stderr",
     "output_type": "stream",
     "text": [
      "Epoch 404: 100%|██████████| 125/125 [00:00<00:00, 405.59it/s]\n"
     ]
    },
    {
     "name": "stdout",
     "output_type": "stream",
     "text": [
      "Epoch 403: train_loss=0.00797, valid_loss=0.00959, valid_acc=0.7595, best_acc=0.7745\n"
     ]
    },
    {
     "name": "stderr",
     "output_type": "stream",
     "text": [
      "Epoch 405: 100%|██████████| 125/125 [00:00<00:00, 395.03it/s]\n"
     ]
    },
    {
     "name": "stdout",
     "output_type": "stream",
     "text": [
      "Epoch 404: train_loss=0.00793, valid_loss=0.00963, valid_acc=0.7545, best_acc=0.7745\n"
     ]
    },
    {
     "name": "stderr",
     "output_type": "stream",
     "text": [
      "Epoch 406: 100%|██████████| 125/125 [00:00<00:00, 399.84it/s]\n"
     ]
    },
    {
     "name": "stdout",
     "output_type": "stream",
     "text": [
      "Epoch 405: train_loss=0.00793, valid_loss=0.00961, valid_acc=0.76, best_acc=0.7745\n"
     ]
    },
    {
     "name": "stderr",
     "output_type": "stream",
     "text": [
      "Epoch 407: 100%|██████████| 125/125 [00:00<00:00, 399.02it/s]\n"
     ]
    },
    {
     "name": "stdout",
     "output_type": "stream",
     "text": [
      "Epoch 406: train_loss=0.00792, valid_loss=0.00953, valid_acc=0.767, best_acc=0.7745\n"
     ]
    },
    {
     "name": "stderr",
     "output_type": "stream",
     "text": [
      "Epoch 408: 100%|██████████| 125/125 [00:00<00:00, 390.81it/s]\n"
     ]
    },
    {
     "name": "stdout",
     "output_type": "stream",
     "text": [
      "Epoch 407: train_loss=0.00795, valid_loss=0.0095, valid_acc=0.774, best_acc=0.7745\n"
     ]
    },
    {
     "name": "stderr",
     "output_type": "stream",
     "text": [
      "Epoch 409: 100%|██████████| 125/125 [00:00<00:00, 406.39it/s]\n"
     ]
    },
    {
     "name": "stdout",
     "output_type": "stream",
     "text": [
      "Epoch 408: train_loss=0.0079, valid_loss=0.00951, valid_acc=0.7705, best_acc=0.7745\n"
     ]
    },
    {
     "name": "stderr",
     "output_type": "stream",
     "text": [
      "Epoch 410: 100%|██████████| 125/125 [00:00<00:00, 401.75it/s]\n"
     ]
    },
    {
     "name": "stdout",
     "output_type": "stream",
     "text": [
      "Epoch 409: train_loss=0.00796, valid_loss=0.00967, valid_acc=0.751, best_acc=0.7745\n"
     ]
    },
    {
     "name": "stderr",
     "output_type": "stream",
     "text": [
      "Epoch 411: 100%|██████████| 125/125 [00:00<00:00, 404.60it/s]\n"
     ]
    },
    {
     "name": "stdout",
     "output_type": "stream",
     "text": [
      "Epoch 410: train_loss=0.00796, valid_loss=0.00957, valid_acc=0.7625, best_acc=0.7745\n"
     ]
    },
    {
     "name": "stderr",
     "output_type": "stream",
     "text": [
      "Epoch 412: 100%|██████████| 125/125 [00:00<00:00, 399.49it/s]\n"
     ]
    },
    {
     "name": "stdout",
     "output_type": "stream",
     "text": [
      "Epoch 411: train_loss=0.00794, valid_loss=0.00957, valid_acc=0.7575, best_acc=0.7745\n"
     ]
    },
    {
     "name": "stderr",
     "output_type": "stream",
     "text": [
      "Epoch 413: 100%|██████████| 125/125 [00:00<00:00, 403.16it/s]\n"
     ]
    },
    {
     "name": "stdout",
     "output_type": "stream",
     "text": [
      "Epoch 412: train_loss=0.00798, valid_loss=0.00959, valid_acc=0.759, best_acc=0.7745\n"
     ]
    },
    {
     "name": "stderr",
     "output_type": "stream",
     "text": [
      "Epoch 414: 100%|██████████| 125/125 [00:00<00:00, 400.65it/s]\n"
     ]
    },
    {
     "name": "stdout",
     "output_type": "stream",
     "text": [
      "Epoch 413: train_loss=0.00795, valid_loss=0.00956, valid_acc=0.7625, best_acc=0.7745\n"
     ]
    },
    {
     "name": "stderr",
     "output_type": "stream",
     "text": [
      "Epoch 415: 100%|██████████| 125/125 [00:00<00:00, 399.41it/s]\n"
     ]
    },
    {
     "name": "stdout",
     "output_type": "stream",
     "text": [
      "Epoch 414: train_loss=0.00789, valid_loss=0.00961, valid_acc=0.761, best_acc=0.7745\n"
     ]
    },
    {
     "name": "stderr",
     "output_type": "stream",
     "text": [
      "Epoch 416: 100%|██████████| 125/125 [00:00<00:00, 398.19it/s]\n"
     ]
    },
    {
     "name": "stdout",
     "output_type": "stream",
     "text": [
      "Epoch 415: train_loss=0.008, valid_loss=0.00962, valid_acc=0.7495, best_acc=0.7745\n"
     ]
    },
    {
     "name": "stderr",
     "output_type": "stream",
     "text": [
      "Epoch 417: 100%|██████████| 125/125 [00:00<00:00, 413.12it/s]\n"
     ]
    },
    {
     "name": "stdout",
     "output_type": "stream",
     "text": [
      "Epoch 416: train_loss=0.00792, valid_loss=0.00958, valid_acc=0.7615, best_acc=0.7745\n"
     ]
    },
    {
     "name": "stderr",
     "output_type": "stream",
     "text": [
      "Epoch 418: 100%|██████████| 125/125 [00:00<00:00, 402.42it/s]\n"
     ]
    },
    {
     "name": "stdout",
     "output_type": "stream",
     "text": [
      "Epoch 417: train_loss=0.0079, valid_loss=0.00958, valid_acc=0.759, best_acc=0.7745\n"
     ]
    },
    {
     "name": "stderr",
     "output_type": "stream",
     "text": [
      "Epoch 419: 100%|██████████| 125/125 [00:00<00:00, 389.11it/s]\n"
     ]
    },
    {
     "name": "stdout",
     "output_type": "stream",
     "text": [
      "Epoch 418: train_loss=0.00789, valid_loss=0.00955, valid_acc=0.763, best_acc=0.7745\n"
     ]
    },
    {
     "name": "stderr",
     "output_type": "stream",
     "text": [
      "Epoch 420: 100%|██████████| 125/125 [00:00<00:00, 398.27it/s]\n"
     ]
    },
    {
     "name": "stdout",
     "output_type": "stream",
     "text": [
      "Epoch 419: train_loss=0.00791, valid_loss=0.00956, valid_acc=0.7615, best_acc=0.7745\n"
     ]
    },
    {
     "name": "stderr",
     "output_type": "stream",
     "text": [
      "Epoch 421: 100%|██████████| 125/125 [00:00<00:00, 393.84it/s]\n"
     ]
    },
    {
     "name": "stdout",
     "output_type": "stream",
     "text": [
      "Epoch 420: train_loss=0.00792, valid_loss=0.00958, valid_acc=0.759, best_acc=0.7745\n"
     ]
    },
    {
     "name": "stderr",
     "output_type": "stream",
     "text": [
      "Epoch 422: 100%|██████████| 125/125 [00:00<00:00, 399.19it/s]\n"
     ]
    },
    {
     "name": "stdout",
     "output_type": "stream",
     "text": [
      "Epoch 421: train_loss=0.00793, valid_loss=0.00959, valid_acc=0.7635, best_acc=0.7745\n"
     ]
    },
    {
     "name": "stderr",
     "output_type": "stream",
     "text": [
      "Epoch 423: 100%|██████████| 125/125 [00:00<00:00, 401.50it/s]\n"
     ]
    },
    {
     "name": "stdout",
     "output_type": "stream",
     "text": [
      "Epoch 422: train_loss=0.00796, valid_loss=0.00968, valid_acc=0.7515, best_acc=0.7745\n"
     ]
    },
    {
     "name": "stderr",
     "output_type": "stream",
     "text": [
      "Epoch 424: 100%|██████████| 125/125 [00:00<00:00, 400.97it/s]\n"
     ]
    },
    {
     "name": "stdout",
     "output_type": "stream",
     "text": [
      "Epoch 423: train_loss=0.00793, valid_loss=0.00961, valid_acc=0.7585, best_acc=0.7745\n"
     ]
    },
    {
     "name": "stderr",
     "output_type": "stream",
     "text": [
      "Epoch 425: 100%|██████████| 125/125 [00:00<00:00, 416.36it/s]\n"
     ]
    },
    {
     "name": "stdout",
     "output_type": "stream",
     "text": [
      "Epoch 424: train_loss=0.0079, valid_loss=0.00956, valid_acc=0.7615, best_acc=0.7745\n"
     ]
    },
    {
     "name": "stderr",
     "output_type": "stream",
     "text": [
      "Epoch 426: 100%|██████████| 125/125 [00:00<00:00, 400.32it/s]\n"
     ]
    },
    {
     "name": "stdout",
     "output_type": "stream",
     "text": [
      "Epoch 425: train_loss=0.00789, valid_loss=0.00955, valid_acc=0.7615, best_acc=0.7745\n"
     ]
    },
    {
     "name": "stderr",
     "output_type": "stream",
     "text": [
      "Epoch 427: 100%|██████████| 125/125 [00:00<00:00, 400.45it/s]\n"
     ]
    },
    {
     "name": "stdout",
     "output_type": "stream",
     "text": [
      "Epoch 426: train_loss=0.00786, valid_loss=0.00958, valid_acc=0.7615, best_acc=0.7745\n"
     ]
    },
    {
     "name": "stderr",
     "output_type": "stream",
     "text": [
      "Epoch 428: 100%|██████████| 125/125 [00:00<00:00, 391.81it/s]\n"
     ]
    },
    {
     "name": "stdout",
     "output_type": "stream",
     "text": [
      "Epoch 427: train_loss=0.00787, valid_loss=0.00961, valid_acc=0.7595, best_acc=0.7745\n"
     ]
    },
    {
     "name": "stderr",
     "output_type": "stream",
     "text": [
      "Epoch 429: 100%|██████████| 125/125 [00:00<00:00, 404.19it/s]\n"
     ]
    },
    {
     "name": "stdout",
     "output_type": "stream",
     "text": [
      "Epoch 428: train_loss=0.00787, valid_loss=0.00963, valid_acc=0.7505, best_acc=0.7745\n"
     ]
    },
    {
     "name": "stderr",
     "output_type": "stream",
     "text": [
      "Epoch 430: 100%|██████████| 125/125 [00:00<00:00, 386.83it/s]\n"
     ]
    },
    {
     "name": "stdout",
     "output_type": "stream",
     "text": [
      "Epoch 429: train_loss=0.00802, valid_loss=0.00968, valid_acc=0.7405, best_acc=0.7745\n"
     ]
    },
    {
     "name": "stderr",
     "output_type": "stream",
     "text": [
      "Epoch 431: 100%|██████████| 125/125 [00:00<00:00, 398.89it/s]\n"
     ]
    },
    {
     "name": "stdout",
     "output_type": "stream",
     "text": [
      "Epoch 430: train_loss=0.00799, valid_loss=0.00963, valid_acc=0.7585, best_acc=0.7745\n"
     ]
    },
    {
     "name": "stderr",
     "output_type": "stream",
     "text": [
      "Epoch 432: 100%|██████████| 125/125 [00:00<00:00, 398.90it/s]\n"
     ]
    },
    {
     "name": "stdout",
     "output_type": "stream",
     "text": [
      "Epoch 431: train_loss=0.00794, valid_loss=0.00959, valid_acc=0.766, best_acc=0.7745\n"
     ]
    },
    {
     "name": "stderr",
     "output_type": "stream",
     "text": [
      "Epoch 433: 100%|██████████| 125/125 [00:00<00:00, 400.84it/s]\n"
     ]
    },
    {
     "name": "stdout",
     "output_type": "stream",
     "text": [
      "Epoch 432: train_loss=0.00792, valid_loss=0.00961, valid_acc=0.7615, best_acc=0.7745\n"
     ]
    },
    {
     "name": "stderr",
     "output_type": "stream",
     "text": [
      "Epoch 434: 100%|██████████| 125/125 [00:00<00:00, 396.72it/s]\n"
     ]
    },
    {
     "name": "stdout",
     "output_type": "stream",
     "text": [
      "Epoch 433: train_loss=0.00789, valid_loss=0.00958, valid_acc=0.765, best_acc=0.7745\n"
     ]
    },
    {
     "name": "stderr",
     "output_type": "stream",
     "text": [
      "Epoch 435: 100%|██████████| 125/125 [00:00<00:00, 382.77it/s]\n"
     ]
    },
    {
     "name": "stdout",
     "output_type": "stream",
     "text": [
      "Epoch 434: train_loss=0.00796, valid_loss=0.00961, valid_acc=0.7555, best_acc=0.7745\n"
     ]
    },
    {
     "name": "stderr",
     "output_type": "stream",
     "text": [
      "Epoch 436: 100%|██████████| 125/125 [00:00<00:00, 397.02it/s]\n"
     ]
    },
    {
     "name": "stdout",
     "output_type": "stream",
     "text": [
      "Epoch 435: train_loss=0.00803, valid_loss=0.00963, valid_acc=0.7595, best_acc=0.7745\n"
     ]
    },
    {
     "name": "stderr",
     "output_type": "stream",
     "text": [
      "Epoch 437: 100%|██████████| 125/125 [00:00<00:00, 418.41it/s]\n"
     ]
    },
    {
     "name": "stdout",
     "output_type": "stream",
     "text": [
      "Epoch 436: train_loss=0.00798, valid_loss=0.00953, valid_acc=0.7645, best_acc=0.7745\n"
     ]
    },
    {
     "name": "stderr",
     "output_type": "stream",
     "text": [
      "Epoch 438: 100%|██████████| 125/125 [00:00<00:00, 407.61it/s]\n"
     ]
    },
    {
     "name": "stdout",
     "output_type": "stream",
     "text": [
      "Epoch 437: train_loss=0.00804, valid_loss=0.00956, valid_acc=0.7585, best_acc=0.7745\n"
     ]
    },
    {
     "name": "stderr",
     "output_type": "stream",
     "text": [
      "Epoch 439: 100%|██████████| 125/125 [00:00<00:00, 391.66it/s]\n"
     ]
    },
    {
     "name": "stdout",
     "output_type": "stream",
     "text": [
      "Epoch 438: train_loss=0.00801, valid_loss=0.00962, valid_acc=0.7625, best_acc=0.7745\n"
     ]
    },
    {
     "name": "stderr",
     "output_type": "stream",
     "text": [
      "Epoch 440: 100%|██████████| 125/125 [00:00<00:00, 400.43it/s]\n"
     ]
    },
    {
     "name": "stdout",
     "output_type": "stream",
     "text": [
      "Epoch 439: train_loss=0.008, valid_loss=0.00956, valid_acc=0.76, best_acc=0.7745\n"
     ]
    },
    {
     "name": "stderr",
     "output_type": "stream",
     "text": [
      "Epoch 441: 100%|██████████| 125/125 [00:00<00:00, 376.51it/s]\n"
     ]
    },
    {
     "name": "stdout",
     "output_type": "stream",
     "text": [
      "Epoch 440: train_loss=0.00793, valid_loss=0.00956, valid_acc=0.763, best_acc=0.7745\n"
     ]
    },
    {
     "name": "stderr",
     "output_type": "stream",
     "text": [
      "Epoch 442: 100%|██████████| 125/125 [00:00<00:00, 408.13it/s]\n"
     ]
    },
    {
     "name": "stdout",
     "output_type": "stream",
     "text": [
      "Epoch 441: train_loss=0.00789, valid_loss=0.00958, valid_acc=0.759, best_acc=0.7745\n"
     ]
    },
    {
     "name": "stderr",
     "output_type": "stream",
     "text": [
      "Epoch 443: 100%|██████████| 125/125 [00:00<00:00, 402.38it/s]\n"
     ]
    },
    {
     "name": "stdout",
     "output_type": "stream",
     "text": [
      "Epoch 442: train_loss=0.00789, valid_loss=0.00954, valid_acc=0.7685, best_acc=0.7745\n"
     ]
    },
    {
     "name": "stderr",
     "output_type": "stream",
     "text": [
      "Epoch 444: 100%|██████████| 125/125 [00:00<00:00, 401.07it/s]\n"
     ]
    },
    {
     "name": "stdout",
     "output_type": "stream",
     "text": [
      "Epoch 443: train_loss=0.00795, valid_loss=0.00962, valid_acc=0.7545, best_acc=0.7745\n"
     ]
    },
    {
     "name": "stderr",
     "output_type": "stream",
     "text": [
      "Epoch 445: 100%|██████████| 125/125 [00:00<00:00, 410.17it/s]\n"
     ]
    },
    {
     "name": "stdout",
     "output_type": "stream",
     "text": [
      "Epoch 444: train_loss=0.00793, valid_loss=0.00968, valid_acc=0.7445, best_acc=0.7745\n"
     ]
    },
    {
     "name": "stderr",
     "output_type": "stream",
     "text": [
      "Epoch 446: 100%|██████████| 125/125 [00:00<00:00, 400.65it/s]\n"
     ]
    },
    {
     "name": "stdout",
     "output_type": "stream",
     "text": [
      "Epoch 445: train_loss=0.0079, valid_loss=0.00951, valid_acc=0.7675, best_acc=0.7745\n"
     ]
    },
    {
     "name": "stderr",
     "output_type": "stream",
     "text": [
      "Epoch 447: 100%|██████████| 125/125 [00:00<00:00, 380.95it/s]\n"
     ]
    },
    {
     "name": "stdout",
     "output_type": "stream",
     "text": [
      "Epoch 446: train_loss=0.0079, valid_loss=0.0096, valid_acc=0.7535, best_acc=0.7745\n"
     ]
    },
    {
     "name": "stderr",
     "output_type": "stream",
     "text": [
      "Epoch 448: 100%|██████████| 125/125 [00:00<00:00, 402.86it/s]\n"
     ]
    },
    {
     "name": "stdout",
     "output_type": "stream",
     "text": [
      "Epoch 447: train_loss=0.00789, valid_loss=0.00961, valid_acc=0.752, best_acc=0.7745\n"
     ]
    },
    {
     "name": "stderr",
     "output_type": "stream",
     "text": [
      "Epoch 449: 100%|██████████| 125/125 [00:00<00:00, 402.07it/s]\n"
     ]
    },
    {
     "name": "stdout",
     "output_type": "stream",
     "text": [
      "Epoch 448: train_loss=0.00788, valid_loss=0.00954, valid_acc=0.763, best_acc=0.7745\n"
     ]
    },
    {
     "name": "stderr",
     "output_type": "stream",
     "text": [
      "Epoch 450: 100%|██████████| 125/125 [00:00<00:00, 398.87it/s]\n"
     ]
    },
    {
     "name": "stdout",
     "output_type": "stream",
     "text": [
      "Epoch 449: train_loss=0.00787, valid_loss=0.0096, valid_acc=0.7565, best_acc=0.7745\n"
     ]
    },
    {
     "name": "stderr",
     "output_type": "stream",
     "text": [
      "Epoch 451: 100%|██████████| 125/125 [00:00<00:00, 399.91it/s]\n"
     ]
    },
    {
     "name": "stdout",
     "output_type": "stream",
     "text": [
      "Epoch 450: train_loss=0.00787, valid_loss=0.00963, valid_acc=0.7505, best_acc=0.7745\n"
     ]
    },
    {
     "name": "stderr",
     "output_type": "stream",
     "text": [
      "Epoch 452: 100%|██████████| 125/125 [00:00<00:00, 401.55it/s]\n"
     ]
    },
    {
     "name": "stdout",
     "output_type": "stream",
     "text": [
      "Epoch 451: train_loss=0.00788, valid_loss=0.00965, valid_acc=0.752, best_acc=0.7745\n"
     ]
    },
    {
     "name": "stderr",
     "output_type": "stream",
     "text": [
      "Epoch 453: 100%|██████████| 125/125 [00:00<00:00, 392.55it/s]\n"
     ]
    },
    {
     "name": "stdout",
     "output_type": "stream",
     "text": [
      "Epoch 452: train_loss=0.00789, valid_loss=0.00967, valid_acc=0.7525, best_acc=0.7745\n"
     ]
    },
    {
     "name": "stderr",
     "output_type": "stream",
     "text": [
      "Epoch 454: 100%|██████████| 125/125 [00:00<00:00, 401.36it/s]\n"
     ]
    },
    {
     "name": "stdout",
     "output_type": "stream",
     "text": [
      "Epoch 453: train_loss=0.00794, valid_loss=0.00963, valid_acc=0.758, best_acc=0.7745\n"
     ]
    },
    {
     "name": "stderr",
     "output_type": "stream",
     "text": [
      "Epoch 455: 100%|██████████| 125/125 [00:00<00:00, 401.14it/s]\n"
     ]
    },
    {
     "name": "stdout",
     "output_type": "stream",
     "text": [
      "Epoch 454: train_loss=0.008, valid_loss=0.00977, valid_acc=0.732, best_acc=0.7745\n"
     ]
    },
    {
     "name": "stderr",
     "output_type": "stream",
     "text": [
      "Epoch 456: 100%|██████████| 125/125 [00:00<00:00, 405.80it/s]\n"
     ]
    },
    {
     "name": "stdout",
     "output_type": "stream",
     "text": [
      "Epoch 455: train_loss=0.00794, valid_loss=0.0097, valid_acc=0.7505, best_acc=0.7745\n"
     ]
    },
    {
     "name": "stderr",
     "output_type": "stream",
     "text": [
      "Epoch 457: 100%|██████████| 125/125 [00:00<00:00, 387.81it/s]\n"
     ]
    },
    {
     "name": "stdout",
     "output_type": "stream",
     "text": [
      "Epoch 456: train_loss=0.0079, valid_loss=0.0097, valid_acc=0.7475, best_acc=0.7745\n"
     ]
    },
    {
     "name": "stderr",
     "output_type": "stream",
     "text": [
      "Epoch 458: 100%|██████████| 125/125 [00:00<00:00, 418.40it/s]\n"
     ]
    },
    {
     "name": "stdout",
     "output_type": "stream",
     "text": [
      "Epoch 457: train_loss=0.00792, valid_loss=0.00953, valid_acc=0.7625, best_acc=0.7745\n"
     ]
    },
    {
     "name": "stderr",
     "output_type": "stream",
     "text": [
      "Epoch 459: 100%|██████████| 125/125 [00:00<00:00, 401.35it/s]\n"
     ]
    },
    {
     "name": "stdout",
     "output_type": "stream",
     "text": [
      "Epoch 458: train_loss=0.00787, valid_loss=0.00954, valid_acc=0.7675, best_acc=0.7745\n"
     ]
    },
    {
     "name": "stderr",
     "output_type": "stream",
     "text": [
      "Epoch 460: 100%|██████████| 125/125 [00:00<00:00, 415.30it/s]\n"
     ]
    },
    {
     "name": "stdout",
     "output_type": "stream",
     "text": [
      "Epoch 459: train_loss=0.00785, valid_loss=0.00957, valid_acc=0.7655, best_acc=0.7745\n"
     ]
    },
    {
     "name": "stderr",
     "output_type": "stream",
     "text": [
      "Epoch 461: 100%|██████████| 125/125 [00:00<00:00, 403.49it/s]\n"
     ]
    },
    {
     "name": "stdout",
     "output_type": "stream",
     "text": [
      "Epoch 460: train_loss=0.00785, valid_loss=0.00958, valid_acc=0.757, best_acc=0.7745\n"
     ]
    },
    {
     "name": "stderr",
     "output_type": "stream",
     "text": [
      "Epoch 462: 100%|██████████| 125/125 [00:00<00:00, 402.31it/s]\n"
     ]
    },
    {
     "name": "stdout",
     "output_type": "stream",
     "text": [
      "Epoch 461: train_loss=0.00784, valid_loss=0.00956, valid_acc=0.761, best_acc=0.7745\n"
     ]
    },
    {
     "name": "stderr",
     "output_type": "stream",
     "text": [
      "Epoch 463: 100%|██████████| 125/125 [00:00<00:00, 404.15it/s]\n"
     ]
    },
    {
     "name": "stdout",
     "output_type": "stream",
     "text": [
      "Epoch 462: train_loss=0.00784, valid_loss=0.00959, valid_acc=0.759, best_acc=0.7745\n"
     ]
    },
    {
     "name": "stderr",
     "output_type": "stream",
     "text": [
      "Epoch 464: 100%|██████████| 125/125 [00:00<00:00, 392.77it/s]\n"
     ]
    },
    {
     "name": "stdout",
     "output_type": "stream",
     "text": [
      "Epoch 463: train_loss=0.00784, valid_loss=0.00965, valid_acc=0.751, best_acc=0.7745\n"
     ]
    },
    {
     "name": "stderr",
     "output_type": "stream",
     "text": [
      "Epoch 465: 100%|██████████| 125/125 [00:00<00:00, 403.93it/s]\n"
     ]
    },
    {
     "name": "stdout",
     "output_type": "stream",
     "text": [
      "Epoch 464: train_loss=0.00785, valid_loss=0.0096, valid_acc=0.759, best_acc=0.7745\n"
     ]
    },
    {
     "name": "stderr",
     "output_type": "stream",
     "text": [
      "Epoch 466: 100%|██████████| 125/125 [00:00<00:00, 395.62it/s]\n"
     ]
    },
    {
     "name": "stdout",
     "output_type": "stream",
     "text": [
      "Epoch 465: train_loss=0.00784, valid_loss=0.00961, valid_acc=0.7565, best_acc=0.7745\n"
     ]
    },
    {
     "name": "stderr",
     "output_type": "stream",
     "text": [
      "Epoch 467: 100%|██████████| 125/125 [00:00<00:00, 394.78it/s]\n"
     ]
    },
    {
     "name": "stdout",
     "output_type": "stream",
     "text": [
      "Epoch 466: train_loss=0.00784, valid_loss=0.00958, valid_acc=0.7635, best_acc=0.7745\n"
     ]
    },
    {
     "name": "stderr",
     "output_type": "stream",
     "text": [
      "Epoch 468: 100%|██████████| 125/125 [00:00<00:00, 395.36it/s]\n"
     ]
    },
    {
     "name": "stdout",
     "output_type": "stream",
     "text": [
      "Epoch 467: train_loss=0.00786, valid_loss=0.00957, valid_acc=0.765, best_acc=0.7745\n"
     ]
    },
    {
     "name": "stderr",
     "output_type": "stream",
     "text": [
      "Epoch 469: 100%|██████████| 125/125 [00:00<00:00, 425.07it/s]\n"
     ]
    },
    {
     "name": "stdout",
     "output_type": "stream",
     "text": [
      "Epoch 468: train_loss=0.00787, valid_loss=0.00966, valid_acc=0.7545, best_acc=0.7745\n"
     ]
    },
    {
     "name": "stderr",
     "output_type": "stream",
     "text": [
      "Epoch 470: 100%|██████████| 125/125 [00:00<00:00, 401.62it/s]\n"
     ]
    },
    {
     "name": "stdout",
     "output_type": "stream",
     "text": [
      "Epoch 469: train_loss=0.00787, valid_loss=0.00961, valid_acc=0.759, best_acc=0.7745\n"
     ]
    },
    {
     "name": "stderr",
     "output_type": "stream",
     "text": [
      "Epoch 471: 100%|██████████| 125/125 [00:00<00:00, 401.95it/s]\n"
     ]
    },
    {
     "name": "stdout",
     "output_type": "stream",
     "text": [
      "Epoch 470: train_loss=0.00786, valid_loss=0.00959, valid_acc=0.7595, best_acc=0.7745\n"
     ]
    },
    {
     "name": "stderr",
     "output_type": "stream",
     "text": [
      "Epoch 472: 100%|██████████| 125/125 [00:00<00:00, 402.84it/s]\n"
     ]
    },
    {
     "name": "stdout",
     "output_type": "stream",
     "text": [
      "Epoch 471: train_loss=0.00787, valid_loss=0.00963, valid_acc=0.7545, best_acc=0.7745\n"
     ]
    },
    {
     "name": "stderr",
     "output_type": "stream",
     "text": [
      "Epoch 473: 100%|██████████| 125/125 [00:00<00:00, 402.46it/s]\n"
     ]
    },
    {
     "name": "stdout",
     "output_type": "stream",
     "text": [
      "Epoch 472: train_loss=0.00786, valid_loss=0.00962, valid_acc=0.7525, best_acc=0.7745\n"
     ]
    },
    {
     "name": "stderr",
     "output_type": "stream",
     "text": [
      "Epoch 474: 100%|██████████| 125/125 [00:00<00:00, 379.85it/s]\n"
     ]
    },
    {
     "name": "stdout",
     "output_type": "stream",
     "text": [
      "Epoch 473: train_loss=0.00787, valid_loss=0.00965, valid_acc=0.745, best_acc=0.7745\n"
     ]
    },
    {
     "name": "stderr",
     "output_type": "stream",
     "text": [
      "Epoch 475: 100%|██████████| 125/125 [00:00<00:00, 399.91it/s]\n"
     ]
    },
    {
     "name": "stdout",
     "output_type": "stream",
     "text": [
      "Epoch 474: train_loss=0.0079, valid_loss=0.00962, valid_acc=0.751, best_acc=0.7745\n"
     ]
    },
    {
     "name": "stderr",
     "output_type": "stream",
     "text": [
      "Epoch 476: 100%|██████████| 125/125 [00:00<00:00, 409.82it/s]\n"
     ]
    },
    {
     "name": "stdout",
     "output_type": "stream",
     "text": [
      "Epoch 475: train_loss=0.00788, valid_loss=0.00958, valid_acc=0.7615, best_acc=0.7745\n"
     ]
    },
    {
     "name": "stderr",
     "output_type": "stream",
     "text": [
      "Epoch 477: 100%|██████████| 125/125 [00:00<00:00, 413.30it/s]\n"
     ]
    },
    {
     "name": "stdout",
     "output_type": "stream",
     "text": [
      "Epoch 476: train_loss=0.00784, valid_loss=0.00963, valid_acc=0.7525, best_acc=0.7745\n"
     ]
    },
    {
     "name": "stderr",
     "output_type": "stream",
     "text": [
      "Epoch 478: 100%|██████████| 125/125 [00:00<00:00, 401.37it/s]\n"
     ]
    },
    {
     "name": "stdout",
     "output_type": "stream",
     "text": [
      "Epoch 477: train_loss=0.00783, valid_loss=0.00962, valid_acc=0.7545, best_acc=0.7745\n"
     ]
    },
    {
     "name": "stderr",
     "output_type": "stream",
     "text": [
      "Epoch 479: 100%|██████████| 125/125 [00:00<00:00, 403.06it/s]\n"
     ]
    },
    {
     "name": "stdout",
     "output_type": "stream",
     "text": [
      "Epoch 478: train_loss=0.00785, valid_loss=0.00954, valid_acc=0.7605, best_acc=0.7745\n"
     ]
    },
    {
     "name": "stderr",
     "output_type": "stream",
     "text": [
      "Epoch 480: 100%|██████████| 125/125 [00:00<00:00, 388.48it/s]\n"
     ]
    },
    {
     "name": "stdout",
     "output_type": "stream",
     "text": [
      "Epoch 479: train_loss=0.00783, valid_loss=0.00954, valid_acc=0.7615, best_acc=0.7745\n"
     ]
    },
    {
     "name": "stderr",
     "output_type": "stream",
     "text": [
      "Epoch 481: 100%|██████████| 125/125 [00:00<00:00, 373.51it/s]\n"
     ]
    },
    {
     "name": "stdout",
     "output_type": "stream",
     "text": [
      "Epoch 480: train_loss=0.00783, valid_loss=0.00952, valid_acc=0.7655, best_acc=0.7745\n"
     ]
    },
    {
     "name": "stderr",
     "output_type": "stream",
     "text": [
      "Epoch 482: 100%|██████████| 125/125 [00:00<00:00, 401.43it/s]\n"
     ]
    },
    {
     "name": "stdout",
     "output_type": "stream",
     "text": [
      "Epoch 481: train_loss=0.00784, valid_loss=0.00956, valid_acc=0.764, best_acc=0.7745\n"
     ]
    },
    {
     "name": "stderr",
     "output_type": "stream",
     "text": [
      "Epoch 483: 100%|██████████| 125/125 [00:00<00:00, 385.00it/s]\n"
     ]
    },
    {
     "name": "stdout",
     "output_type": "stream",
     "text": [
      "Epoch 482: train_loss=0.00782, valid_loss=0.00954, valid_acc=0.764, best_acc=0.7745\n"
     ]
    },
    {
     "name": "stderr",
     "output_type": "stream",
     "text": [
      "Epoch 484: 100%|██████████| 125/125 [00:00<00:00, 412.76it/s]\n"
     ]
    },
    {
     "name": "stdout",
     "output_type": "stream",
     "text": [
      "Epoch 483: train_loss=0.00783, valid_loss=0.0096, valid_acc=0.758, best_acc=0.7745\n"
     ]
    },
    {
     "name": "stderr",
     "output_type": "stream",
     "text": [
      "Epoch 485: 100%|██████████| 125/125 [00:00<00:00, 395.82it/s]\n"
     ]
    },
    {
     "name": "stdout",
     "output_type": "stream",
     "text": [
      "Epoch 484: train_loss=0.00783, valid_loss=0.00959, valid_acc=0.758, best_acc=0.7745\n"
     ]
    },
    {
     "name": "stderr",
     "output_type": "stream",
     "text": [
      "Epoch 486: 100%|██████████| 125/125 [00:00<00:00, 403.34it/s]\n"
     ]
    },
    {
     "name": "stdout",
     "output_type": "stream",
     "text": [
      "Epoch 485: train_loss=0.00783, valid_loss=0.00953, valid_acc=0.7655, best_acc=0.7745\n"
     ]
    },
    {
     "name": "stderr",
     "output_type": "stream",
     "text": [
      "Epoch 487: 100%|██████████| 125/125 [00:00<00:00, 404.32it/s]\n"
     ]
    },
    {
     "name": "stdout",
     "output_type": "stream",
     "text": [
      "Epoch 486: train_loss=0.00786, valid_loss=0.00953, valid_acc=0.762, best_acc=0.7745\n"
     ]
    },
    {
     "name": "stderr",
     "output_type": "stream",
     "text": [
      "Epoch 488: 100%|██████████| 125/125 [00:00<00:00, 401.47it/s]\n"
     ]
    },
    {
     "name": "stdout",
     "output_type": "stream",
     "text": [
      "Epoch 487: train_loss=0.00787, valid_loss=0.00957, valid_acc=0.757, best_acc=0.7745\n"
     ]
    },
    {
     "name": "stderr",
     "output_type": "stream",
     "text": [
      "Epoch 489: 100%|██████████| 125/125 [00:00<00:00, 405.49it/s]\n"
     ]
    },
    {
     "name": "stdout",
     "output_type": "stream",
     "text": [
      "Epoch 488: train_loss=0.00789, valid_loss=0.00957, valid_acc=0.7635, best_acc=0.7745\n"
     ]
    },
    {
     "name": "stderr",
     "output_type": "stream",
     "text": [
      "Epoch 490: 100%|██████████| 125/125 [00:00<00:00, 422.50it/s]\n"
     ]
    },
    {
     "name": "stdout",
     "output_type": "stream",
     "text": [
      "Epoch 489: train_loss=0.00786, valid_loss=0.00957, valid_acc=0.761, best_acc=0.7745\n"
     ]
    },
    {
     "name": "stderr",
     "output_type": "stream",
     "text": [
      "Epoch 491: 100%|██████████| 125/125 [00:00<00:00, 407.32it/s]\n"
     ]
    },
    {
     "name": "stdout",
     "output_type": "stream",
     "text": [
      "Epoch 490: train_loss=0.00783, valid_loss=0.00957, valid_acc=0.762, best_acc=0.7745\n"
     ]
    },
    {
     "name": "stderr",
     "output_type": "stream",
     "text": [
      "Epoch 492: 100%|██████████| 125/125 [00:00<00:00, 405.49it/s]\n"
     ]
    },
    {
     "name": "stdout",
     "output_type": "stream",
     "text": [
      "Epoch 491: train_loss=0.00789, valid_loss=0.0095, valid_acc=0.7725, best_acc=0.7745\n"
     ]
    },
    {
     "name": "stderr",
     "output_type": "stream",
     "text": [
      "Epoch 493: 100%|██████████| 125/125 [00:00<00:00, 402.60it/s]\n"
     ]
    },
    {
     "name": "stdout",
     "output_type": "stream",
     "text": [
      "Epoch 492: train_loss=0.00791, valid_loss=0.00956, valid_acc=0.76, best_acc=0.7745\n"
     ]
    },
    {
     "name": "stderr",
     "output_type": "stream",
     "text": [
      "Epoch 494: 100%|██████████| 125/125 [00:00<00:00, 400.78it/s]\n"
     ]
    },
    {
     "name": "stdout",
     "output_type": "stream",
     "text": [
      "Epoch 493: train_loss=0.00788, valid_loss=0.00958, valid_acc=0.76, best_acc=0.7745\n"
     ]
    },
    {
     "name": "stderr",
     "output_type": "stream",
     "text": [
      "Epoch 495: 100%|██████████| 125/125 [00:00<00:00, 426.28it/s]\n"
     ]
    },
    {
     "name": "stdout",
     "output_type": "stream",
     "text": [
      "Epoch 494: train_loss=0.00801, valid_loss=0.00959, valid_acc=0.754, best_acc=0.7745\n"
     ]
    },
    {
     "name": "stderr",
     "output_type": "stream",
     "text": [
      "Epoch 496: 100%|██████████| 125/125 [00:00<00:00, 422.96it/s]\n"
     ]
    },
    {
     "name": "stdout",
     "output_type": "stream",
     "text": [
      "Epoch 495: train_loss=0.00798, valid_loss=0.0097, valid_acc=0.7435, best_acc=0.7745\n"
     ]
    },
    {
     "name": "stderr",
     "output_type": "stream",
     "text": [
      "Epoch 497: 100%|██████████| 125/125 [00:00<00:00, 407.66it/s]\n"
     ]
    },
    {
     "name": "stdout",
     "output_type": "stream",
     "text": [
      "Epoch 496: train_loss=0.00794, valid_loss=0.00963, valid_acc=0.7525, best_acc=0.7745\n"
     ]
    },
    {
     "name": "stderr",
     "output_type": "stream",
     "text": [
      "Epoch 498: 100%|██████████| 125/125 [00:00<00:00, 412.35it/s]\n"
     ]
    },
    {
     "name": "stdout",
     "output_type": "stream",
     "text": [
      "Epoch 497: train_loss=0.0079, valid_loss=0.00962, valid_acc=0.751, best_acc=0.7745\n"
     ]
    },
    {
     "name": "stderr",
     "output_type": "stream",
     "text": [
      "Epoch 499: 100%|██████████| 125/125 [00:00<00:00, 408.88it/s]\n"
     ]
    },
    {
     "name": "stdout",
     "output_type": "stream",
     "text": [
      "Epoch 498: train_loss=0.00786, valid_loss=0.00964, valid_acc=0.7545, best_acc=0.7745\n"
     ]
    },
    {
     "name": "stderr",
     "output_type": "stream",
     "text": [
      "Epoch 500: 100%|██████████| 125/125 [00:00<00:00, 402.23it/s]\n"
     ]
    },
    {
     "name": "stdout",
     "output_type": "stream",
     "text": [
      "Epoch 499: train_loss=0.00786, valid_loss=0.00963, valid_acc=0.749, best_acc=0.7745\n"
     ]
    },
    {
     "name": "stderr",
     "output_type": "stream",
     "text": [
      "Epoch 501: 100%|██████████| 125/125 [00:00<00:00, 405.80it/s]\n"
     ]
    },
    {
     "name": "stdout",
     "output_type": "stream",
     "text": [
      "Epoch 500: train_loss=0.00784, valid_loss=0.00967, valid_acc=0.749, best_acc=0.7745\n"
     ]
    },
    {
     "name": "stderr",
     "output_type": "stream",
     "text": [
      "Epoch 502: 100%|██████████| 125/125 [00:00<00:00, 403.38it/s]\n"
     ]
    },
    {
     "name": "stdout",
     "output_type": "stream",
     "text": [
      "Epoch 501: train_loss=0.00785, valid_loss=0.00966, valid_acc=0.7485, best_acc=0.7745\n"
     ]
    },
    {
     "name": "stderr",
     "output_type": "stream",
     "text": [
      "Epoch 503: 100%|██████████| 125/125 [00:00<00:00, 413.87it/s]\n"
     ]
    },
    {
     "name": "stdout",
     "output_type": "stream",
     "text": [
      "Epoch 502: train_loss=0.00786, valid_loss=0.00961, valid_acc=0.753, best_acc=0.7745\n"
     ]
    },
    {
     "name": "stderr",
     "output_type": "stream",
     "text": [
      "Epoch 504: 100%|██████████| 125/125 [00:00<00:00, 411.37it/s]\n"
     ]
    },
    {
     "name": "stdout",
     "output_type": "stream",
     "text": [
      "Epoch 503: train_loss=0.00786, valid_loss=0.00958, valid_acc=0.7555, best_acc=0.7745\n"
     ]
    },
    {
     "name": "stderr",
     "output_type": "stream",
     "text": [
      "Epoch 505: 100%|██████████| 125/125 [00:00<00:00, 402.30it/s]\n"
     ]
    },
    {
     "name": "stdout",
     "output_type": "stream",
     "text": [
      "Epoch 504: train_loss=0.00784, valid_loss=0.00959, valid_acc=0.755, best_acc=0.7745\n"
     ]
    },
    {
     "name": "stderr",
     "output_type": "stream",
     "text": [
      "Epoch 506: 100%|██████████| 125/125 [00:00<00:00, 402.21it/s]\n"
     ]
    },
    {
     "name": "stdout",
     "output_type": "stream",
     "text": [
      "Epoch 505: train_loss=0.00783, valid_loss=0.00959, valid_acc=0.7545, best_acc=0.7745\n"
     ]
    },
    {
     "name": "stderr",
     "output_type": "stream",
     "text": [
      "Epoch 507: 100%|██████████| 125/125 [00:00<00:00, 393.65it/s]\n"
     ]
    },
    {
     "name": "stdout",
     "output_type": "stream",
     "text": [
      "Epoch 506: train_loss=0.00784, valid_loss=0.00965, valid_acc=0.746, best_acc=0.7745\n"
     ]
    },
    {
     "name": "stderr",
     "output_type": "stream",
     "text": [
      "Epoch 508: 100%|██████████| 125/125 [00:00<00:00, 394.25it/s]\n"
     ]
    },
    {
     "name": "stdout",
     "output_type": "stream",
     "text": [
      "Epoch 507: train_loss=0.00786, valid_loss=0.00958, valid_acc=0.7575, best_acc=0.7745\n"
     ]
    },
    {
     "name": "stderr",
     "output_type": "stream",
     "text": [
      "Epoch 509: 100%|██████████| 125/125 [00:00<00:00, 394.27it/s]\n"
     ]
    },
    {
     "name": "stdout",
     "output_type": "stream",
     "text": [
      "Epoch 508: train_loss=0.00783, valid_loss=0.00959, valid_acc=0.7535, best_acc=0.7745\n"
     ]
    },
    {
     "name": "stderr",
     "output_type": "stream",
     "text": [
      "Epoch 510: 100%|██████████| 125/125 [00:00<00:00, 399.17it/s]\n"
     ]
    },
    {
     "name": "stdout",
     "output_type": "stream",
     "text": [
      "Epoch 509: train_loss=0.00784, valid_loss=0.00962, valid_acc=0.7515, best_acc=0.7745\n"
     ]
    },
    {
     "name": "stderr",
     "output_type": "stream",
     "text": [
      "Epoch 511: 100%|██████████| 125/125 [00:00<00:00, 406.52it/s]\n"
     ]
    },
    {
     "name": "stdout",
     "output_type": "stream",
     "text": [
      "Epoch 510: train_loss=0.00785, valid_loss=0.00958, valid_acc=0.759, best_acc=0.7745\n"
     ]
    },
    {
     "name": "stderr",
     "output_type": "stream",
     "text": [
      "Epoch 512: 100%|██████████| 125/125 [00:00<00:00, 397.15it/s]\n"
     ]
    },
    {
     "name": "stdout",
     "output_type": "stream",
     "text": [
      "Epoch 511: train_loss=0.00784, valid_loss=0.00964, valid_acc=0.754, best_acc=0.7745\n"
     ]
    },
    {
     "name": "stderr",
     "output_type": "stream",
     "text": [
      "Epoch 513: 100%|██████████| 125/125 [00:00<00:00, 400.41it/s]\n"
     ]
    },
    {
     "name": "stdout",
     "output_type": "stream",
     "text": [
      "Epoch 512: train_loss=0.00784, valid_loss=0.00958, valid_acc=0.76, best_acc=0.7745\n"
     ]
    },
    {
     "name": "stderr",
     "output_type": "stream",
     "text": [
      "Epoch 514: 100%|██████████| 125/125 [00:00<00:00, 399.68it/s]\n"
     ]
    },
    {
     "name": "stdout",
     "output_type": "stream",
     "text": [
      "Epoch 513: train_loss=0.00783, valid_loss=0.00962, valid_acc=0.752, best_acc=0.7745\n"
     ]
    },
    {
     "name": "stderr",
     "output_type": "stream",
     "text": [
      "Epoch 515: 100%|██████████| 125/125 [00:00<00:00, 404.81it/s]\n"
     ]
    },
    {
     "name": "stdout",
     "output_type": "stream",
     "text": [
      "Epoch 514: train_loss=0.00783, valid_loss=0.00962, valid_acc=0.7535, best_acc=0.7745\n"
     ]
    },
    {
     "name": "stderr",
     "output_type": "stream",
     "text": [
      "Epoch 516: 100%|██████████| 125/125 [00:00<00:00, 399.81it/s]\n"
     ]
    },
    {
     "name": "stdout",
     "output_type": "stream",
     "text": [
      "Epoch 515: train_loss=0.00788, valid_loss=0.00963, valid_acc=0.7495, best_acc=0.7745\n"
     ]
    },
    {
     "name": "stderr",
     "output_type": "stream",
     "text": [
      "Epoch 517: 100%|██████████| 125/125 [00:00<00:00, 402.30it/s]\n"
     ]
    },
    {
     "name": "stdout",
     "output_type": "stream",
     "text": [
      "Epoch 516: train_loss=0.00789, valid_loss=0.00967, valid_acc=0.7495, best_acc=0.7745\n"
     ]
    },
    {
     "name": "stderr",
     "output_type": "stream",
     "text": [
      "Epoch 518: 100%|██████████| 125/125 [00:00<00:00, 406.19it/s]\n"
     ]
    },
    {
     "name": "stdout",
     "output_type": "stream",
     "text": [
      "Epoch 517: train_loss=0.00789, valid_loss=0.00965, valid_acc=0.751, best_acc=0.7745\n"
     ]
    },
    {
     "name": "stderr",
     "output_type": "stream",
     "text": [
      "Epoch 519: 100%|██████████| 125/125 [00:00<00:00, 404.00it/s]\n"
     ]
    },
    {
     "name": "stdout",
     "output_type": "stream",
     "text": [
      "Epoch 518: train_loss=0.00787, valid_loss=0.0097, valid_acc=0.7395, best_acc=0.7745\n"
     ]
    },
    {
     "name": "stderr",
     "output_type": "stream",
     "text": [
      "Epoch 520: 100%|██████████| 125/125 [00:00<00:00, 394.91it/s]\n"
     ]
    },
    {
     "name": "stdout",
     "output_type": "stream",
     "text": [
      "Epoch 519: train_loss=0.00789, valid_loss=0.00966, valid_acc=0.75, best_acc=0.7745\n"
     ]
    },
    {
     "name": "stderr",
     "output_type": "stream",
     "text": [
      "Epoch 521: 100%|██████████| 125/125 [00:00<00:00, 379.58it/s]\n"
     ]
    },
    {
     "name": "stdout",
     "output_type": "stream",
     "text": [
      "Epoch 520: train_loss=0.00787, valid_loss=0.00964, valid_acc=0.751, best_acc=0.7745\n"
     ]
    },
    {
     "name": "stderr",
     "output_type": "stream",
     "text": [
      "Epoch 522: 100%|██████████| 125/125 [00:00<00:00, 428.72it/s]\n"
     ]
    },
    {
     "name": "stdout",
     "output_type": "stream",
     "text": [
      "Epoch 521: train_loss=0.00785, valid_loss=0.00966, valid_acc=0.754, best_acc=0.7745\n"
     ]
    },
    {
     "name": "stderr",
     "output_type": "stream",
     "text": [
      "Epoch 523: 100%|██████████| 125/125 [00:00<00:00, 425.54it/s]\n"
     ]
    },
    {
     "name": "stdout",
     "output_type": "stream",
     "text": [
      "Epoch 522: train_loss=0.00784, valid_loss=0.00965, valid_acc=0.7515, best_acc=0.7745\n"
     ]
    },
    {
     "name": "stderr",
     "output_type": "stream",
     "text": [
      "Epoch 524: 100%|██████████| 125/125 [00:00<00:00, 425.40it/s]\n"
     ]
    },
    {
     "name": "stdout",
     "output_type": "stream",
     "text": [
      "Epoch 523: train_loss=0.00783, valid_loss=0.0096, valid_acc=0.7605, best_acc=0.7745\n"
     ]
    },
    {
     "name": "stderr",
     "output_type": "stream",
     "text": [
      "Epoch 525: 100%|██████████| 125/125 [00:00<00:00, 415.47it/s]\n"
     ]
    },
    {
     "name": "stdout",
     "output_type": "stream",
     "text": [
      "Epoch 524: train_loss=0.00784, valid_loss=0.00961, valid_acc=0.761, best_acc=0.7745\n"
     ]
    },
    {
     "name": "stderr",
     "output_type": "stream",
     "text": [
      "Epoch 526: 100%|██████████| 125/125 [00:00<00:00, 428.51it/s]\n"
     ]
    },
    {
     "name": "stdout",
     "output_type": "stream",
     "text": [
      "Epoch 525: train_loss=0.00785, valid_loss=0.00961, valid_acc=0.759, best_acc=0.7745\n"
     ]
    },
    {
     "name": "stderr",
     "output_type": "stream",
     "text": [
      "Epoch 527: 100%|██████████| 125/125 [00:00<00:00, 413.84it/s]\n"
     ]
    },
    {
     "name": "stdout",
     "output_type": "stream",
     "text": [
      "Epoch 526: train_loss=0.00784, valid_loss=0.00962, valid_acc=0.7575, best_acc=0.7745\n"
     ]
    },
    {
     "name": "stderr",
     "output_type": "stream",
     "text": [
      "Epoch 528: 100%|██████████| 125/125 [00:00<00:00, 400.95it/s]\n"
     ]
    },
    {
     "name": "stdout",
     "output_type": "stream",
     "text": [
      "Epoch 527: train_loss=0.00783, valid_loss=0.00966, valid_acc=0.7525, best_acc=0.7745\n"
     ]
    },
    {
     "name": "stderr",
     "output_type": "stream",
     "text": [
      "Epoch 529: 100%|██████████| 125/125 [00:00<00:00, 382.75it/s]\n"
     ]
    },
    {
     "name": "stdout",
     "output_type": "stream",
     "text": [
      "Epoch 528: train_loss=0.00784, valid_loss=0.00962, valid_acc=0.753, best_acc=0.7745\n"
     ]
    },
    {
     "name": "stderr",
     "output_type": "stream",
     "text": [
      "Epoch 530: 100%|██████████| 125/125 [00:00<00:00, 402.65it/s]\n"
     ]
    },
    {
     "name": "stdout",
     "output_type": "stream",
     "text": [
      "Epoch 529: train_loss=0.00786, valid_loss=0.00967, valid_acc=0.743, best_acc=0.7745\n"
     ]
    },
    {
     "name": "stderr",
     "output_type": "stream",
     "text": [
      "Epoch 531: 100%|██████████| 125/125 [00:00<00:00, 405.38it/s]\n"
     ]
    },
    {
     "name": "stdout",
     "output_type": "stream",
     "text": [
      "Epoch 530: train_loss=0.00785, valid_loss=0.00965, valid_acc=0.754, best_acc=0.7745\n"
     ]
    },
    {
     "name": "stderr",
     "output_type": "stream",
     "text": [
      "Epoch 532: 100%|██████████| 125/125 [00:00<00:00, 399.58it/s]\n"
     ]
    },
    {
     "name": "stdout",
     "output_type": "stream",
     "text": [
      "Epoch 531: train_loss=0.00785, valid_loss=0.00962, valid_acc=0.7535, best_acc=0.7745\n"
     ]
    },
    {
     "name": "stderr",
     "output_type": "stream",
     "text": [
      "Epoch 533: 100%|██████████| 125/125 [00:00<00:00, 404.51it/s]\n"
     ]
    },
    {
     "name": "stdout",
     "output_type": "stream",
     "text": [
      "Epoch 532: train_loss=0.00783, valid_loss=0.00961, valid_acc=0.7555, best_acc=0.7745\n"
     ]
    },
    {
     "name": "stderr",
     "output_type": "stream",
     "text": [
      "Epoch 534: 100%|██████████| 125/125 [00:00<00:00, 413.89it/s]\n"
     ]
    },
    {
     "name": "stdout",
     "output_type": "stream",
     "text": [
      "Epoch 533: train_loss=0.00784, valid_loss=0.00959, valid_acc=0.758, best_acc=0.7745\n"
     ]
    },
    {
     "name": "stderr",
     "output_type": "stream",
     "text": [
      "Epoch 535: 100%|██████████| 125/125 [00:00<00:00, 408.86it/s]\n"
     ]
    },
    {
     "name": "stdout",
     "output_type": "stream",
     "text": [
      "Epoch 534: train_loss=0.00786, valid_loss=0.00963, valid_acc=0.7505, best_acc=0.7745\n"
     ]
    },
    {
     "name": "stderr",
     "output_type": "stream",
     "text": [
      "Epoch 536: 100%|██████████| 125/125 [00:00<00:00, 398.74it/s]\n"
     ]
    },
    {
     "name": "stdout",
     "output_type": "stream",
     "text": [
      "Epoch 535: train_loss=0.00787, valid_loss=0.00962, valid_acc=0.7525, best_acc=0.7745\n"
     ]
    },
    {
     "name": "stderr",
     "output_type": "stream",
     "text": [
      "Epoch 537: 100%|██████████| 125/125 [00:00<00:00, 397.05it/s]\n"
     ]
    },
    {
     "name": "stdout",
     "output_type": "stream",
     "text": [
      "Epoch 536: train_loss=0.00786, valid_loss=0.00952, valid_acc=0.7655, best_acc=0.7745\n"
     ]
    },
    {
     "name": "stderr",
     "output_type": "stream",
     "text": [
      "Epoch 538: 100%|██████████| 125/125 [00:00<00:00, 396.86it/s]\n"
     ]
    },
    {
     "name": "stdout",
     "output_type": "stream",
     "text": [
      "Epoch 537: train_loss=0.00785, valid_loss=0.00949, valid_acc=0.774, best_acc=0.7745\n"
     ]
    },
    {
     "name": "stderr",
     "output_type": "stream",
     "text": [
      "Epoch 539: 100%|██████████| 125/125 [00:00<00:00, 398.62it/s]\n"
     ]
    },
    {
     "name": "stdout",
     "output_type": "stream",
     "text": [
      "Epoch 538: train_loss=0.00788, valid_loss=0.00965, valid_acc=0.7475, best_acc=0.7745\n"
     ]
    },
    {
     "name": "stderr",
     "output_type": "stream",
     "text": [
      "Epoch 540: 100%|██████████| 125/125 [00:00<00:00, 403.31it/s]\n"
     ]
    },
    {
     "name": "stdout",
     "output_type": "stream",
     "text": [
      "Epoch 539: train_loss=0.00788, valid_loss=0.00959, valid_acc=0.7575, best_acc=0.7745\n"
     ]
    },
    {
     "name": "stderr",
     "output_type": "stream",
     "text": [
      "Epoch 541: 100%|██████████| 125/125 [00:00<00:00, 410.87it/s]\n"
     ]
    },
    {
     "name": "stdout",
     "output_type": "stream",
     "text": [
      "Epoch 540: train_loss=0.00785, valid_loss=0.00959, valid_acc=0.759, best_acc=0.7745\n"
     ]
    },
    {
     "name": "stderr",
     "output_type": "stream",
     "text": [
      "Epoch 542: 100%|██████████| 125/125 [00:00<00:00, 403.35it/s]\n"
     ]
    },
    {
     "name": "stdout",
     "output_type": "stream",
     "text": [
      "Epoch 541: train_loss=0.00785, valid_loss=0.00957, valid_acc=0.7665, best_acc=0.7745\n"
     ]
    },
    {
     "name": "stderr",
     "output_type": "stream",
     "text": [
      "Epoch 543: 100%|██████████| 125/125 [00:00<00:00, 423.41it/s]\n"
     ]
    },
    {
     "name": "stdout",
     "output_type": "stream",
     "text": [
      "Epoch 542: train_loss=0.00787, valid_loss=0.00964, valid_acc=0.7545, best_acc=0.7745\n"
     ]
    },
    {
     "name": "stderr",
     "output_type": "stream",
     "text": [
      "Epoch 544: 100%|██████████| 125/125 [00:00<00:00, 425.55it/s]\n"
     ]
    },
    {
     "name": "stdout",
     "output_type": "stream",
     "text": [
      "Epoch 543: train_loss=0.00787, valid_loss=0.00963, valid_acc=0.755, best_acc=0.7745\n"
     ]
    },
    {
     "name": "stderr",
     "output_type": "stream",
     "text": [
      "Epoch 545: 100%|██████████| 125/125 [00:00<00:00, 405.83it/s]\n"
     ]
    },
    {
     "name": "stdout",
     "output_type": "stream",
     "text": [
      "Epoch 544: train_loss=0.00784, valid_loss=0.00959, valid_acc=0.758, best_acc=0.7745\n"
     ]
    },
    {
     "name": "stderr",
     "output_type": "stream",
     "text": [
      "Epoch 546: 100%|██████████| 125/125 [00:00<00:00, 421.33it/s]\n"
     ]
    },
    {
     "name": "stdout",
     "output_type": "stream",
     "text": [
      "Epoch 545: train_loss=0.00785, valid_loss=0.0096, valid_acc=0.7605, best_acc=0.7745\n"
     ]
    },
    {
     "name": "stderr",
     "output_type": "stream",
     "text": [
      "Epoch 547: 100%|██████████| 125/125 [00:00<00:00, 430.36it/s]\n"
     ]
    },
    {
     "name": "stdout",
     "output_type": "stream",
     "text": [
      "Epoch 546: train_loss=0.00786, valid_loss=0.0096, valid_acc=0.7605, best_acc=0.7745\n"
     ]
    },
    {
     "name": "stderr",
     "output_type": "stream",
     "text": [
      "Epoch 548: 100%|██████████| 125/125 [00:00<00:00, 419.73it/s]\n"
     ]
    },
    {
     "name": "stdout",
     "output_type": "stream",
     "text": [
      "Epoch 547: train_loss=0.00787, valid_loss=0.00962, valid_acc=0.7625, best_acc=0.7745\n"
     ]
    },
    {
     "name": "stderr",
     "output_type": "stream",
     "text": [
      "Epoch 549: 100%|██████████| 125/125 [00:00<00:00, 431.93it/s]\n"
     ]
    },
    {
     "name": "stdout",
     "output_type": "stream",
     "text": [
      "Epoch 548: train_loss=0.00786, valid_loss=0.00957, valid_acc=0.765, best_acc=0.7745\n"
     ]
    },
    {
     "name": "stderr",
     "output_type": "stream",
     "text": [
      "Epoch 550: 100%|██████████| 125/125 [00:00<00:00, 405.82it/s]\n"
     ]
    },
    {
     "name": "stdout",
     "output_type": "stream",
     "text": [
      "Epoch 549: train_loss=0.00786, valid_loss=0.00957, valid_acc=0.766, best_acc=0.7745\n"
     ]
    },
    {
     "name": "stderr",
     "output_type": "stream",
     "text": [
      "Epoch 551: 100%|██████████| 125/125 [00:00<00:00, 404.70it/s]\n"
     ]
    },
    {
     "name": "stdout",
     "output_type": "stream",
     "text": [
      "Epoch 550: train_loss=0.00784, valid_loss=0.00961, valid_acc=0.7555, best_acc=0.7745\n"
     ]
    },
    {
     "name": "stderr",
     "output_type": "stream",
     "text": [
      "Epoch 552: 100%|██████████| 125/125 [00:00<00:00, 400.55it/s]\n"
     ]
    },
    {
     "name": "stdout",
     "output_type": "stream",
     "text": [
      "Epoch 551: train_loss=0.00786, valid_loss=0.00956, valid_acc=0.7605, best_acc=0.7745\n"
     ]
    },
    {
     "name": "stderr",
     "output_type": "stream",
     "text": [
      "Epoch 553: 100%|██████████| 125/125 [00:00<00:00, 399.78it/s]\n"
     ]
    },
    {
     "name": "stdout",
     "output_type": "stream",
     "text": [
      "Epoch 552: train_loss=0.00786, valid_loss=0.00952, valid_acc=0.7655, best_acc=0.7745\n"
     ]
    },
    {
     "name": "stderr",
     "output_type": "stream",
     "text": [
      "Epoch 554: 100%|██████████| 125/125 [00:00<00:00, 425.12it/s]\n"
     ]
    },
    {
     "name": "stdout",
     "output_type": "stream",
     "text": [
      "Epoch 553: train_loss=0.00788, valid_loss=0.00952, valid_acc=0.7655, best_acc=0.7745\n"
     ]
    },
    {
     "name": "stderr",
     "output_type": "stream",
     "text": [
      "Epoch 555: 100%|██████████| 125/125 [00:00<00:00, 421.75it/s]\n"
     ]
    },
    {
     "name": "stdout",
     "output_type": "stream",
     "text": [
      "Epoch 554: train_loss=0.00783, valid_loss=0.00953, valid_acc=0.7665, best_acc=0.7745\n"
     ]
    },
    {
     "name": "stderr",
     "output_type": "stream",
     "text": [
      "Epoch 556: 100%|██████████| 125/125 [00:00<00:00, 405.31it/s]\n"
     ]
    },
    {
     "name": "stdout",
     "output_type": "stream",
     "text": [
      "Epoch 555: train_loss=0.00782, valid_loss=0.00951, valid_acc=0.7695, best_acc=0.7745\n"
     ]
    },
    {
     "name": "stderr",
     "output_type": "stream",
     "text": [
      "Epoch 557: 100%|██████████| 125/125 [00:00<00:00, 399.66it/s]\n"
     ]
    },
    {
     "name": "stdout",
     "output_type": "stream",
     "text": [
      "Epoch 556: train_loss=0.0078, valid_loss=0.00953, valid_acc=0.765, best_acc=0.7745\n"
     ]
    },
    {
     "name": "stderr",
     "output_type": "stream",
     "text": [
      "Epoch 558: 100%|██████████| 125/125 [00:00<00:00, 405.17it/s]\n"
     ]
    },
    {
     "name": "stdout",
     "output_type": "stream",
     "text": [
      "Epoch 557: train_loss=0.00781, valid_loss=0.00957, valid_acc=0.7615, best_acc=0.7745\n"
     ]
    },
    {
     "name": "stderr",
     "output_type": "stream",
     "text": [
      "Epoch 559: 100%|██████████| 125/125 [00:00<00:00, 377.88it/s]\n"
     ]
    },
    {
     "name": "stdout",
     "output_type": "stream",
     "text": [
      "Epoch 558: train_loss=0.00781, valid_loss=0.00955, valid_acc=0.767, best_acc=0.7745\n"
     ]
    },
    {
     "name": "stderr",
     "output_type": "stream",
     "text": [
      "Epoch 560: 100%|██████████| 125/125 [00:00<00:00, 407.75it/s]\n"
     ]
    },
    {
     "name": "stdout",
     "output_type": "stream",
     "text": [
      "Epoch 559: train_loss=0.0078, valid_loss=0.00957, valid_acc=0.7645, best_acc=0.7745\n"
     ]
    },
    {
     "name": "stderr",
     "output_type": "stream",
     "text": [
      "Epoch 561: 100%|██████████| 125/125 [00:00<00:00, 419.07it/s]\n"
     ]
    },
    {
     "name": "stdout",
     "output_type": "stream",
     "text": [
      "Epoch 560: train_loss=0.00779, valid_loss=0.00957, valid_acc=0.766, best_acc=0.7745\n"
     ]
    },
    {
     "name": "stderr",
     "output_type": "stream",
     "text": [
      "Epoch 562: 100%|██████████| 125/125 [00:00<00:00, 403.99it/s]\n"
     ]
    },
    {
     "name": "stdout",
     "output_type": "stream",
     "text": [
      "Epoch 561: train_loss=0.0078, valid_loss=0.00961, valid_acc=0.765, best_acc=0.7745\n"
     ]
    },
    {
     "name": "stderr",
     "output_type": "stream",
     "text": [
      "Epoch 563: 100%|██████████| 125/125 [00:00<00:00, 416.48it/s]\n"
     ]
    },
    {
     "name": "stdout",
     "output_type": "stream",
     "text": [
      "Epoch 562: train_loss=0.00781, valid_loss=0.00958, valid_acc=0.7635, best_acc=0.7745\n"
     ]
    },
    {
     "name": "stderr",
     "output_type": "stream",
     "text": [
      "Epoch 564: 100%|██████████| 125/125 [00:00<00:00, 420.03it/s]\n"
     ]
    },
    {
     "name": "stdout",
     "output_type": "stream",
     "text": [
      "Epoch 563: train_loss=0.00782, valid_loss=0.00953, valid_acc=0.766, best_acc=0.7745\n"
     ]
    },
    {
     "name": "stderr",
     "output_type": "stream",
     "text": [
      "Epoch 565: 100%|██████████| 125/125 [00:00<00:00, 427.61it/s]\n"
     ]
    },
    {
     "name": "stdout",
     "output_type": "stream",
     "text": [
      "Epoch 564: train_loss=0.00781, valid_loss=0.00954, valid_acc=0.767, best_acc=0.7745\n"
     ]
    },
    {
     "name": "stderr",
     "output_type": "stream",
     "text": [
      "Epoch 566: 100%|██████████| 125/125 [00:00<00:00, 417.60it/s]\n"
     ]
    },
    {
     "name": "stdout",
     "output_type": "stream",
     "text": [
      "Epoch 565: train_loss=0.00781, valid_loss=0.00954, valid_acc=0.7645, best_acc=0.7745\n"
     ]
    },
    {
     "name": "stderr",
     "output_type": "stream",
     "text": [
      "Epoch 567: 100%|██████████| 125/125 [00:00<00:00, 405.55it/s]\n"
     ]
    },
    {
     "name": "stdout",
     "output_type": "stream",
     "text": [
      "Epoch 566: train_loss=0.00783, valid_loss=0.00963, valid_acc=0.756, best_acc=0.7745\n"
     ]
    },
    {
     "name": "stderr",
     "output_type": "stream",
     "text": [
      "Epoch 568: 100%|██████████| 125/125 [00:00<00:00, 419.79it/s]\n"
     ]
    },
    {
     "name": "stdout",
     "output_type": "stream",
     "text": [
      "Epoch 567: train_loss=0.00786, valid_loss=0.00961, valid_acc=0.751, best_acc=0.7745\n"
     ]
    },
    {
     "name": "stderr",
     "output_type": "stream",
     "text": [
      "Epoch 569: 100%|██████████| 125/125 [00:00<00:00, 427.49it/s]\n"
     ]
    },
    {
     "name": "stdout",
     "output_type": "stream",
     "text": [
      "Epoch 568: train_loss=0.00787, valid_loss=0.00956, valid_acc=0.7635, best_acc=0.7745\n"
     ]
    },
    {
     "name": "stderr",
     "output_type": "stream",
     "text": [
      "Epoch 570: 100%|██████████| 125/125 [00:00<00:00, 419.38it/s]\n"
     ]
    },
    {
     "name": "stdout",
     "output_type": "stream",
     "text": [
      "Epoch 569: train_loss=0.00784, valid_loss=0.00959, valid_acc=0.7535, best_acc=0.7745\n"
     ]
    },
    {
     "name": "stderr",
     "output_type": "stream",
     "text": [
      "Epoch 571: 100%|██████████| 125/125 [00:00<00:00, 422.33it/s]\n"
     ]
    },
    {
     "name": "stdout",
     "output_type": "stream",
     "text": [
      "Epoch 570: train_loss=0.00782, valid_loss=0.00954, valid_acc=0.7645, best_acc=0.7745\n"
     ]
    },
    {
     "name": "stderr",
     "output_type": "stream",
     "text": [
      "Epoch 572: 100%|██████████| 125/125 [00:00<00:00, 409.35it/s]\n"
     ]
    },
    {
     "name": "stdout",
     "output_type": "stream",
     "text": [
      "Epoch 571: train_loss=0.00782, valid_loss=0.00961, valid_acc=0.754, best_acc=0.7745\n"
     ]
    },
    {
     "name": "stderr",
     "output_type": "stream",
     "text": [
      "Epoch 573: 100%|██████████| 125/125 [00:00<00:00, 405.57it/s]\n"
     ]
    },
    {
     "name": "stdout",
     "output_type": "stream",
     "text": [
      "Epoch 572: train_loss=0.00783, valid_loss=0.00968, valid_acc=0.7455, best_acc=0.7745\n"
     ]
    },
    {
     "name": "stderr",
     "output_type": "stream",
     "text": [
      "Epoch 574: 100%|██████████| 125/125 [00:00<00:00, 404.03it/s]\n"
     ]
    },
    {
     "name": "stdout",
     "output_type": "stream",
     "text": [
      "Epoch 573: train_loss=0.00784, valid_loss=0.00968, valid_acc=0.754, best_acc=0.7745\n"
     ]
    },
    {
     "name": "stderr",
     "output_type": "stream",
     "text": [
      "Epoch 575: 100%|██████████| 125/125 [00:00<00:00, 404.39it/s]\n"
     ]
    },
    {
     "name": "stdout",
     "output_type": "stream",
     "text": [
      "Epoch 574: train_loss=0.00781, valid_loss=0.00961, valid_acc=0.757, best_acc=0.7745\n"
     ]
    },
    {
     "name": "stderr",
     "output_type": "stream",
     "text": [
      "Epoch 576: 100%|██████████| 125/125 [00:00<00:00, 402.28it/s]\n"
     ]
    },
    {
     "name": "stdout",
     "output_type": "stream",
     "text": [
      "Epoch 575: train_loss=0.00781, valid_loss=0.00962, valid_acc=0.7565, best_acc=0.7745\n"
     ]
    },
    {
     "name": "stderr",
     "output_type": "stream",
     "text": [
      "Epoch 577: 100%|██████████| 125/125 [00:00<00:00, 398.26it/s]\n"
     ]
    },
    {
     "name": "stdout",
     "output_type": "stream",
     "text": [
      "Epoch 576: train_loss=0.00782, valid_loss=0.00957, valid_acc=0.761, best_acc=0.7745\n"
     ]
    },
    {
     "name": "stderr",
     "output_type": "stream",
     "text": [
      "Epoch 578: 100%|██████████| 125/125 [00:00<00:00, 399.74it/s]\n"
     ]
    },
    {
     "name": "stdout",
     "output_type": "stream",
     "text": [
      "Epoch 577: train_loss=0.00782, valid_loss=0.00961, valid_acc=0.7545, best_acc=0.7745\n"
     ]
    },
    {
     "name": "stderr",
     "output_type": "stream",
     "text": [
      "Epoch 579: 100%|██████████| 125/125 [00:00<00:00, 402.53it/s]\n"
     ]
    },
    {
     "name": "stdout",
     "output_type": "stream",
     "text": [
      "Epoch 578: train_loss=0.00784, valid_loss=0.00969, valid_acc=0.744, best_acc=0.7745\n"
     ]
    },
    {
     "name": "stderr",
     "output_type": "stream",
     "text": [
      "Epoch 580: 100%|██████████| 125/125 [00:00<00:00, 403.15it/s]\n"
     ]
    },
    {
     "name": "stdout",
     "output_type": "stream",
     "text": [
      "Epoch 579: train_loss=0.00785, valid_loss=0.00963, valid_acc=0.749, best_acc=0.7745\n"
     ]
    },
    {
     "name": "stderr",
     "output_type": "stream",
     "text": [
      "Epoch 581: 100%|██████████| 125/125 [00:00<00:00, 402.93it/s]\n"
     ]
    },
    {
     "name": "stdout",
     "output_type": "stream",
     "text": [
      "Epoch 580: train_loss=0.00783, valid_loss=0.00959, valid_acc=0.755, best_acc=0.7745\n"
     ]
    },
    {
     "name": "stderr",
     "output_type": "stream",
     "text": [
      "Epoch 582: 100%|██████████| 125/125 [00:00<00:00, 419.30it/s]\n"
     ]
    },
    {
     "name": "stdout",
     "output_type": "stream",
     "text": [
      "Epoch 581: train_loss=0.00782, valid_loss=0.00964, valid_acc=0.7525, best_acc=0.7745\n"
     ]
    },
    {
     "name": "stderr",
     "output_type": "stream",
     "text": [
      "Epoch 583: 100%|██████████| 125/125 [00:00<00:00, 401.38it/s]\n"
     ]
    },
    {
     "name": "stdout",
     "output_type": "stream",
     "text": [
      "Epoch 582: train_loss=0.00779, valid_loss=0.00959, valid_acc=0.7565, best_acc=0.7745\n"
     ]
    },
    {
     "name": "stderr",
     "output_type": "stream",
     "text": [
      "Epoch 584: 100%|██████████| 125/125 [00:00<00:00, 407.70it/s]\n"
     ]
    },
    {
     "name": "stdout",
     "output_type": "stream",
     "text": [
      "Epoch 583: train_loss=0.0078, valid_loss=0.00962, valid_acc=0.7535, best_acc=0.7745\n"
     ]
    },
    {
     "name": "stderr",
     "output_type": "stream",
     "text": [
      "Epoch 585: 100%|██████████| 125/125 [00:00<00:00, 422.52it/s]\n"
     ]
    },
    {
     "name": "stdout",
     "output_type": "stream",
     "text": [
      "Epoch 584: train_loss=0.0078, valid_loss=0.00962, valid_acc=0.752, best_acc=0.7745\n"
     ]
    },
    {
     "name": "stderr",
     "output_type": "stream",
     "text": [
      "Epoch 586: 100%|██████████| 125/125 [00:00<00:00, 405.99it/s]\n"
     ]
    },
    {
     "name": "stdout",
     "output_type": "stream",
     "text": [
      "Epoch 585: train_loss=0.00782, valid_loss=0.00961, valid_acc=0.7575, best_acc=0.7745\n"
     ]
    },
    {
     "name": "stderr",
     "output_type": "stream",
     "text": [
      "Epoch 587: 100%|██████████| 125/125 [00:00<00:00, 404.94it/s]\n"
     ]
    },
    {
     "name": "stdout",
     "output_type": "stream",
     "text": [
      "Epoch 586: train_loss=0.00782, valid_loss=0.00955, valid_acc=0.762, best_acc=0.7745\n"
     ]
    },
    {
     "name": "stderr",
     "output_type": "stream",
     "text": [
      "Epoch 588: 100%|██████████| 125/125 [00:00<00:00, 404.83it/s]\n"
     ]
    },
    {
     "name": "stdout",
     "output_type": "stream",
     "text": [
      "Epoch 587: train_loss=0.00782, valid_loss=0.00961, valid_acc=0.759, best_acc=0.7745\n"
     ]
    },
    {
     "name": "stderr",
     "output_type": "stream",
     "text": [
      "Epoch 589: 100%|██████████| 125/125 [00:00<00:00, 414.05it/s]\n"
     ]
    },
    {
     "name": "stdout",
     "output_type": "stream",
     "text": [
      "Epoch 588: train_loss=0.00783, valid_loss=0.00959, valid_acc=0.7645, best_acc=0.7745\n"
     ]
    },
    {
     "name": "stderr",
     "output_type": "stream",
     "text": [
      "Epoch 590: 100%|██████████| 125/125 [00:00<00:00, 400.37it/s]\n"
     ]
    },
    {
     "name": "stdout",
     "output_type": "stream",
     "text": [
      "Epoch 589: train_loss=0.0078, valid_loss=0.00959, valid_acc=0.765, best_acc=0.7745\n"
     ]
    },
    {
     "name": "stderr",
     "output_type": "stream",
     "text": [
      "Epoch 591: 100%|██████████| 125/125 [00:00<00:00, 401.01it/s]\n"
     ]
    },
    {
     "name": "stdout",
     "output_type": "stream",
     "text": [
      "Epoch 590: train_loss=0.0078, valid_loss=0.00964, valid_acc=0.757, best_acc=0.7745\n"
     ]
    },
    {
     "name": "stderr",
     "output_type": "stream",
     "text": [
      "Epoch 592: 100%|██████████| 125/125 [00:00<00:00, 402.69it/s]\n"
     ]
    },
    {
     "name": "stdout",
     "output_type": "stream",
     "text": [
      "Epoch 591: train_loss=0.00781, valid_loss=0.00963, valid_acc=0.7535, best_acc=0.7745\n"
     ]
    },
    {
     "name": "stderr",
     "output_type": "stream",
     "text": [
      "Epoch 593: 100%|██████████| 125/125 [00:00<00:00, 401.48it/s]\n"
     ]
    },
    {
     "name": "stdout",
     "output_type": "stream",
     "text": [
      "Epoch 592: train_loss=0.00783, valid_loss=0.00962, valid_acc=0.756, best_acc=0.7745\n"
     ]
    },
    {
     "name": "stderr",
     "output_type": "stream",
     "text": [
      "Epoch 594: 100%|██████████| 125/125 [00:00<00:00, 404.72it/s]\n"
     ]
    },
    {
     "name": "stdout",
     "output_type": "stream",
     "text": [
      "Epoch 593: train_loss=0.00782, valid_loss=0.00957, valid_acc=0.7615, best_acc=0.7745\n"
     ]
    },
    {
     "name": "stderr",
     "output_type": "stream",
     "text": [
      "Epoch 595: 100%|██████████| 125/125 [00:00<00:00, 402.23it/s]\n"
     ]
    },
    {
     "name": "stdout",
     "output_type": "stream",
     "text": [
      "Epoch 594: train_loss=0.00782, valid_loss=0.00953, valid_acc=0.765, best_acc=0.7745\n"
     ]
    },
    {
     "name": "stderr",
     "output_type": "stream",
     "text": [
      "Epoch 596: 100%|██████████| 125/125 [00:00<00:00, 397.10it/s]\n"
     ]
    },
    {
     "name": "stdout",
     "output_type": "stream",
     "text": [
      "Epoch 595: train_loss=0.00782, valid_loss=0.00959, valid_acc=0.7595, best_acc=0.7745\n"
     ]
    },
    {
     "name": "stderr",
     "output_type": "stream",
     "text": [
      "Epoch 597: 100%|██████████| 125/125 [00:00<00:00, 397.25it/s]\n"
     ]
    },
    {
     "name": "stdout",
     "output_type": "stream",
     "text": [
      "Epoch 596: train_loss=0.00782, valid_loss=0.00955, valid_acc=0.7585, best_acc=0.7745\n"
     ]
    },
    {
     "name": "stderr",
     "output_type": "stream",
     "text": [
      "Epoch 598: 100%|██████████| 125/125 [00:00<00:00, 388.03it/s]\n"
     ]
    },
    {
     "name": "stdout",
     "output_type": "stream",
     "text": [
      "Epoch 597: train_loss=0.00781, valid_loss=0.00959, valid_acc=0.752, best_acc=0.7745\n"
     ]
    },
    {
     "name": "stderr",
     "output_type": "stream",
     "text": [
      "Epoch 599: 100%|██████████| 125/125 [00:00<00:00, 399.15it/s]\n"
     ]
    },
    {
     "name": "stdout",
     "output_type": "stream",
     "text": [
      "Epoch 598: train_loss=0.00781, valid_loss=0.00956, valid_acc=0.762, best_acc=0.7745\n"
     ]
    },
    {
     "name": "stderr",
     "output_type": "stream",
     "text": [
      "Epoch 600: 100%|██████████| 125/125 [00:00<00:00, 392.69it/s]\n"
     ]
    },
    {
     "name": "stdout",
     "output_type": "stream",
     "text": [
      "Epoch 599: train_loss=0.00782, valid_loss=0.00952, valid_acc=0.769, best_acc=0.7745\n"
     ]
    },
    {
     "name": "stderr",
     "output_type": "stream",
     "text": [
      "Epoch 601: 100%|██████████| 125/125 [00:00<00:00, 399.93it/s]\n"
     ]
    },
    {
     "name": "stdout",
     "output_type": "stream",
     "text": [
      "Epoch 600: train_loss=0.00781, valid_loss=0.00954, valid_acc=0.7695, best_acc=0.7745\n"
     ]
    },
    {
     "name": "stderr",
     "output_type": "stream",
     "text": [
      "Epoch 602: 100%|██████████| 125/125 [00:00<00:00, 398.25it/s]\n"
     ]
    },
    {
     "name": "stdout",
     "output_type": "stream",
     "text": [
      "Epoch 601: train_loss=0.0078, valid_loss=0.00951, valid_acc=0.7705, best_acc=0.7745\n"
     ]
    },
    {
     "name": "stderr",
     "output_type": "stream",
     "text": [
      "Epoch 603: 100%|██████████| 125/125 [00:00<00:00, 401.98it/s]\n"
     ]
    },
    {
     "name": "stdout",
     "output_type": "stream",
     "text": [
      "Epoch 602: train_loss=0.00778, valid_loss=0.00957, valid_acc=0.761, best_acc=0.7745\n"
     ]
    },
    {
     "name": "stderr",
     "output_type": "stream",
     "text": [
      "Epoch 604: 100%|██████████| 125/125 [00:00<00:00, 401.90it/s]\n"
     ]
    },
    {
     "name": "stdout",
     "output_type": "stream",
     "text": [
      "Epoch 603: train_loss=0.0078, valid_loss=0.0096, valid_acc=0.7605, best_acc=0.7745\n"
     ]
    },
    {
     "name": "stderr",
     "output_type": "stream",
     "text": [
      "Epoch 605: 100%|██████████| 125/125 [00:00<00:00, 396.62it/s]\n"
     ]
    },
    {
     "name": "stdout",
     "output_type": "stream",
     "text": [
      "Epoch 604: train_loss=0.00783, valid_loss=0.00964, valid_acc=0.75, best_acc=0.7745\n"
     ]
    },
    {
     "name": "stderr",
     "output_type": "stream",
     "text": [
      "Epoch 606: 100%|██████████| 125/125 [00:00<00:00, 392.01it/s]\n"
     ]
    },
    {
     "name": "stdout",
     "output_type": "stream",
     "text": [
      "Epoch 605: train_loss=0.00781, valid_loss=0.00963, valid_acc=0.7545, best_acc=0.7745\n"
     ]
    },
    {
     "name": "stderr",
     "output_type": "stream",
     "text": [
      "Epoch 607: 100%|██████████| 125/125 [00:00<00:00, 401.89it/s]\n"
     ]
    },
    {
     "name": "stdout",
     "output_type": "stream",
     "text": [
      "Epoch 606: train_loss=0.00783, valid_loss=0.00959, valid_acc=0.7575, best_acc=0.7745\n"
     ]
    },
    {
     "name": "stderr",
     "output_type": "stream",
     "text": [
      "Epoch 608: 100%|██████████| 125/125 [00:00<00:00, 398.56it/s]\n"
     ]
    },
    {
     "name": "stdout",
     "output_type": "stream",
     "text": [
      "Epoch 607: train_loss=0.00782, valid_loss=0.00957, valid_acc=0.7675, best_acc=0.7745\n"
     ]
    },
    {
     "name": "stderr",
     "output_type": "stream",
     "text": [
      "Epoch 609: 100%|██████████| 125/125 [00:00<00:00, 397.48it/s]\n"
     ]
    },
    {
     "name": "stdout",
     "output_type": "stream",
     "text": [
      "Epoch 608: train_loss=0.00786, valid_loss=0.00952, valid_acc=0.7705, best_acc=0.7745\n"
     ]
    },
    {
     "name": "stderr",
     "output_type": "stream",
     "text": [
      "Epoch 610: 100%|██████████| 125/125 [00:00<00:00, 402.22it/s]\n"
     ]
    },
    {
     "name": "stdout",
     "output_type": "stream",
     "text": [
      "Epoch 609: train_loss=0.00787, valid_loss=0.00956, valid_acc=0.771, best_acc=0.7745\n"
     ]
    },
    {
     "name": "stderr",
     "output_type": "stream",
     "text": [
      "Epoch 611: 100%|██████████| 125/125 [00:00<00:00, 400.93it/s]\n"
     ]
    },
    {
     "name": "stdout",
     "output_type": "stream",
     "text": [
      "Epoch 610: train_loss=0.0079, valid_loss=0.00955, valid_acc=0.7705, best_acc=0.7745\n"
     ]
    },
    {
     "name": "stderr",
     "output_type": "stream",
     "text": [
      "Epoch 612: 100%|██████████| 125/125 [00:00<00:00, 400.51it/s]\n"
     ]
    },
    {
     "name": "stdout",
     "output_type": "stream",
     "text": [
      "Epoch 611: train_loss=0.00804, valid_loss=0.00982, valid_acc=0.741, best_acc=0.7745\n"
     ]
    },
    {
     "name": "stderr",
     "output_type": "stream",
     "text": [
      "Epoch 613: 100%|██████████| 125/125 [00:00<00:00, 399.94it/s]\n"
     ]
    },
    {
     "name": "stdout",
     "output_type": "stream",
     "text": [
      "Epoch 612: train_loss=0.00811, valid_loss=0.0097, valid_acc=0.7415, best_acc=0.7745\n"
     ]
    },
    {
     "name": "stderr",
     "output_type": "stream",
     "text": [
      "Epoch 614: 100%|██████████| 125/125 [00:00<00:00, 401.33it/s]\n"
     ]
    },
    {
     "name": "stdout",
     "output_type": "stream",
     "text": [
      "Epoch 613: train_loss=0.00811, valid_loss=0.00999, valid_acc=0.71, best_acc=0.7745\n"
     ]
    },
    {
     "name": "stderr",
     "output_type": "stream",
     "text": [
      "Epoch 615: 100%|██████████| 125/125 [00:00<00:00, 401.14it/s]\n"
     ]
    },
    {
     "name": "stdout",
     "output_type": "stream",
     "text": [
      "Epoch 614: train_loss=0.00813, valid_loss=0.00987, valid_acc=0.7255, best_acc=0.7745\n"
     ]
    },
    {
     "name": "stderr",
     "output_type": "stream",
     "text": [
      "Epoch 616: 100%|██████████| 125/125 [00:00<00:00, 396.14it/s]\n"
     ]
    },
    {
     "name": "stdout",
     "output_type": "stream",
     "text": [
      "Epoch 615: train_loss=0.00803, valid_loss=0.00978, valid_acc=0.7345, best_acc=0.7745\n"
     ]
    },
    {
     "name": "stderr",
     "output_type": "stream",
     "text": [
      "Epoch 617: 100%|██████████| 125/125 [00:00<00:00, 399.16it/s]\n"
     ]
    },
    {
     "name": "stdout",
     "output_type": "stream",
     "text": [
      "Epoch 616: train_loss=0.00795, valid_loss=0.00975, valid_acc=0.7375, best_acc=0.7745\n"
     ]
    },
    {
     "name": "stderr",
     "output_type": "stream",
     "text": [
      "Epoch 618: 100%|██████████| 125/125 [00:00<00:00, 401.92it/s]\n"
     ]
    },
    {
     "name": "stdout",
     "output_type": "stream",
     "text": [
      "Epoch 617: train_loss=0.00791, valid_loss=0.0097, valid_acc=0.7455, best_acc=0.7745\n"
     ]
    },
    {
     "name": "stderr",
     "output_type": "stream",
     "text": [
      "Epoch 619: 100%|██████████| 125/125 [00:00<00:00, 412.12it/s]\n"
     ]
    },
    {
     "name": "stdout",
     "output_type": "stream",
     "text": [
      "Epoch 618: train_loss=0.00791, valid_loss=0.00971, valid_acc=0.743, best_acc=0.7745\n"
     ]
    },
    {
     "name": "stderr",
     "output_type": "stream",
     "text": [
      "Epoch 620: 100%|██████████| 125/125 [00:00<00:00, 398.97it/s]\n"
     ]
    },
    {
     "name": "stdout",
     "output_type": "stream",
     "text": [
      "Epoch 619: train_loss=0.00789, valid_loss=0.0097, valid_acc=0.7425, best_acc=0.7745\n"
     ]
    },
    {
     "name": "stderr",
     "output_type": "stream",
     "text": [
      "Epoch 621: 100%|██████████| 125/125 [00:00<00:00, 399.63it/s]\n"
     ]
    },
    {
     "name": "stdout",
     "output_type": "stream",
     "text": [
      "Epoch 620: train_loss=0.00791, valid_loss=0.00961, valid_acc=0.754, best_acc=0.7745\n"
     ]
    },
    {
     "name": "stderr",
     "output_type": "stream",
     "text": [
      "Epoch 622: 100%|██████████| 125/125 [00:00<00:00, 396.25it/s]\n"
     ]
    },
    {
     "name": "stdout",
     "output_type": "stream",
     "text": [
      "Epoch 621: train_loss=0.00792, valid_loss=0.00961, valid_acc=0.756, best_acc=0.7745\n"
     ]
    },
    {
     "name": "stderr",
     "output_type": "stream",
     "text": [
      "Epoch 623: 100%|██████████| 125/125 [00:00<00:00, 401.03it/s]\n"
     ]
    },
    {
     "name": "stdout",
     "output_type": "stream",
     "text": [
      "Epoch 622: train_loss=0.00802, valid_loss=0.00971, valid_acc=0.7405, best_acc=0.7745\n"
     ]
    },
    {
     "name": "stderr",
     "output_type": "stream",
     "text": [
      "Epoch 624: 100%|██████████| 125/125 [00:00<00:00, 398.16it/s]\n"
     ]
    },
    {
     "name": "stdout",
     "output_type": "stream",
     "text": [
      "Epoch 623: train_loss=0.00798, valid_loss=0.00969, valid_acc=0.742, best_acc=0.7745\n"
     ]
    },
    {
     "name": "stderr",
     "output_type": "stream",
     "text": [
      "Epoch 625: 100%|██████████| 125/125 [00:00<00:00, 403.43it/s]\n"
     ]
    },
    {
     "name": "stdout",
     "output_type": "stream",
     "text": [
      "Epoch 624: train_loss=0.0079, valid_loss=0.00966, valid_acc=0.748, best_acc=0.7745\n"
     ]
    },
    {
     "name": "stderr",
     "output_type": "stream",
     "text": [
      "Epoch 626: 100%|██████████| 125/125 [00:00<00:00, 397.65it/s]\n"
     ]
    },
    {
     "name": "stdout",
     "output_type": "stream",
     "text": [
      "Epoch 625: train_loss=0.00789, valid_loss=0.00969, valid_acc=0.748, best_acc=0.7745\n"
     ]
    },
    {
     "name": "stderr",
     "output_type": "stream",
     "text": [
      "Epoch 627: 100%|██████████| 125/125 [00:00<00:00, 399.06it/s]\n"
     ]
    },
    {
     "name": "stdout",
     "output_type": "stream",
     "text": [
      "Epoch 626: train_loss=0.00787, valid_loss=0.00962, valid_acc=0.7525, best_acc=0.7745\n"
     ]
    },
    {
     "name": "stderr",
     "output_type": "stream",
     "text": [
      "Epoch 628: 100%|██████████| 125/125 [00:00<00:00, 396.83it/s]\n"
     ]
    },
    {
     "name": "stdout",
     "output_type": "stream",
     "text": [
      "Epoch 627: train_loss=0.00785, valid_loss=0.00965, valid_acc=0.746, best_acc=0.7745\n"
     ]
    },
    {
     "name": "stderr",
     "output_type": "stream",
     "text": [
      "Epoch 629: 100%|██████████| 125/125 [00:00<00:00, 404.82it/s]\n"
     ]
    },
    {
     "name": "stdout",
     "output_type": "stream",
     "text": [
      "Epoch 628: train_loss=0.00787, valid_loss=0.00964, valid_acc=0.7495, best_acc=0.7745\n"
     ]
    },
    {
     "name": "stderr",
     "output_type": "stream",
     "text": [
      "Epoch 630: 100%|██████████| 125/125 [00:00<00:00, 389.29it/s]\n"
     ]
    },
    {
     "name": "stdout",
     "output_type": "stream",
     "text": [
      "Epoch 629: train_loss=0.00785, valid_loss=0.00963, valid_acc=0.753, best_acc=0.7745\n"
     ]
    },
    {
     "name": "stderr",
     "output_type": "stream",
     "text": [
      "Epoch 631: 100%|██████████| 125/125 [00:00<00:00, 383.62it/s]\n"
     ]
    },
    {
     "name": "stdout",
     "output_type": "stream",
     "text": [
      "Epoch 630: train_loss=0.00783, valid_loss=0.0096, valid_acc=0.7595, best_acc=0.7745\n"
     ]
    },
    {
     "name": "stderr",
     "output_type": "stream",
     "text": [
      "Epoch 632: 100%|██████████| 125/125 [00:00<00:00, 399.69it/s]\n"
     ]
    },
    {
     "name": "stdout",
     "output_type": "stream",
     "text": [
      "Epoch 631: train_loss=0.00782, valid_loss=0.00958, valid_acc=0.758, best_acc=0.7745\n"
     ]
    },
    {
     "name": "stderr",
     "output_type": "stream",
     "text": [
      "Epoch 633: 100%|██████████| 125/125 [00:00<00:00, 403.72it/s]\n"
     ]
    },
    {
     "name": "stdout",
     "output_type": "stream",
     "text": [
      "Epoch 632: train_loss=0.00782, valid_loss=0.00953, valid_acc=0.766, best_acc=0.7745\n"
     ]
    },
    {
     "name": "stderr",
     "output_type": "stream",
     "text": [
      "Epoch 634: 100%|██████████| 125/125 [00:00<00:00, 401.75it/s]\n"
     ]
    },
    {
     "name": "stdout",
     "output_type": "stream",
     "text": [
      "Epoch 633: train_loss=0.0078, valid_loss=0.00953, valid_acc=0.766, best_acc=0.7745\n"
     ]
    },
    {
     "name": "stderr",
     "output_type": "stream",
     "text": [
      "Epoch 635: 100%|██████████| 125/125 [00:00<00:00, 413.08it/s]\n"
     ]
    },
    {
     "name": "stdout",
     "output_type": "stream",
     "text": [
      "Epoch 634: train_loss=0.0078, valid_loss=0.00956, valid_acc=0.76, best_acc=0.7745\n"
     ]
    },
    {
     "name": "stderr",
     "output_type": "stream",
     "text": [
      "Epoch 636: 100%|██████████| 125/125 [00:00<00:00, 413.11it/s]\n"
     ]
    },
    {
     "name": "stdout",
     "output_type": "stream",
     "text": [
      "Epoch 635: train_loss=0.00779, valid_loss=0.00954, valid_acc=0.7615, best_acc=0.7745\n"
     ]
    },
    {
     "name": "stderr",
     "output_type": "stream",
     "text": [
      "Epoch 637: 100%|██████████| 125/125 [00:00<00:00, 403.46it/s]\n"
     ]
    },
    {
     "name": "stdout",
     "output_type": "stream",
     "text": [
      "Epoch 636: train_loss=0.0078, valid_loss=0.00954, valid_acc=0.762, best_acc=0.7745\n"
     ]
    },
    {
     "name": "stderr",
     "output_type": "stream",
     "text": [
      "Epoch 638: 100%|██████████| 125/125 [00:00<00:00, 404.62it/s]\n"
     ]
    },
    {
     "name": "stdout",
     "output_type": "stream",
     "text": [
      "Epoch 637: train_loss=0.00781, valid_loss=0.00959, valid_acc=0.757, best_acc=0.7745\n"
     ]
    },
    {
     "name": "stderr",
     "output_type": "stream",
     "text": [
      "Epoch 639: 100%|██████████| 125/125 [00:00<00:00, 404.04it/s]\n"
     ]
    },
    {
     "name": "stdout",
     "output_type": "stream",
     "text": [
      "Epoch 638: train_loss=0.00784, valid_loss=0.00973, valid_acc=0.735, best_acc=0.7745\n"
     ]
    },
    {
     "name": "stderr",
     "output_type": "stream",
     "text": [
      "Epoch 640: 100%|██████████| 125/125 [00:00<00:00, 405.79it/s]\n"
     ]
    },
    {
     "name": "stdout",
     "output_type": "stream",
     "text": [
      "Epoch 639: train_loss=0.00789, valid_loss=0.0096, valid_acc=0.7565, best_acc=0.7745\n"
     ]
    },
    {
     "name": "stderr",
     "output_type": "stream",
     "text": [
      "Epoch 641: 100%|██████████| 125/125 [00:00<00:00, 404.04it/s]\n"
     ]
    },
    {
     "name": "stdout",
     "output_type": "stream",
     "text": [
      "Epoch 640: train_loss=0.00783, valid_loss=0.00959, valid_acc=0.758, best_acc=0.7745\n"
     ]
    },
    {
     "name": "stderr",
     "output_type": "stream",
     "text": [
      "Epoch 642: 100%|██████████| 125/125 [00:00<00:00, 390.28it/s]\n"
     ]
    },
    {
     "name": "stdout",
     "output_type": "stream",
     "text": [
      "Epoch 641: train_loss=0.00781, valid_loss=0.00954, valid_acc=0.764, best_acc=0.7745\n"
     ]
    },
    {
     "name": "stderr",
     "output_type": "stream",
     "text": [
      "Epoch 643: 100%|██████████| 125/125 [00:00<00:00, 403.09it/s]\n"
     ]
    },
    {
     "name": "stdout",
     "output_type": "stream",
     "text": [
      "Epoch 642: train_loss=0.00781, valid_loss=0.00951, valid_acc=0.764, best_acc=0.7745\n"
     ]
    },
    {
     "name": "stderr",
     "output_type": "stream",
     "text": [
      "Epoch 644: 100%|██████████| 125/125 [00:00<00:00, 403.21it/s]\n"
     ]
    },
    {
     "name": "stdout",
     "output_type": "stream",
     "text": [
      "Epoch 643: train_loss=0.00781, valid_loss=0.00951, valid_acc=0.7675, best_acc=0.7745\n"
     ]
    },
    {
     "name": "stderr",
     "output_type": "stream",
     "text": [
      "Epoch 645: 100%|██████████| 125/125 [00:00<00:00, 403.30it/s]\n"
     ]
    },
    {
     "name": "stdout",
     "output_type": "stream",
     "text": [
      "Epoch 644: train_loss=0.00779, valid_loss=0.00955, valid_acc=0.7645, best_acc=0.7745\n"
     ]
    },
    {
     "name": "stderr",
     "output_type": "stream",
     "text": [
      "Epoch 646: 100%|██████████| 125/125 [00:00<00:00, 415.00it/s]\n"
     ]
    },
    {
     "name": "stdout",
     "output_type": "stream",
     "text": [
      "Epoch 645: train_loss=0.00779, valid_loss=0.00959, valid_acc=0.76, best_acc=0.7745\n"
     ]
    },
    {
     "name": "stderr",
     "output_type": "stream",
     "text": [
      "Epoch 647: 100%|██████████| 125/125 [00:00<00:00, 402.01it/s]\n"
     ]
    },
    {
     "name": "stdout",
     "output_type": "stream",
     "text": [
      "Epoch 646: train_loss=0.00784, valid_loss=0.00959, valid_acc=0.757, best_acc=0.7745\n"
     ]
    },
    {
     "name": "stderr",
     "output_type": "stream",
     "text": [
      "Epoch 648: 100%|██████████| 125/125 [00:00<00:00, 403.01it/s]\n"
     ]
    },
    {
     "name": "stdout",
     "output_type": "stream",
     "text": [
      "Epoch 647: train_loss=0.00781, valid_loss=0.00955, valid_acc=0.7625, best_acc=0.7745\n"
     ]
    },
    {
     "name": "stderr",
     "output_type": "stream",
     "text": [
      "Epoch 649: 100%|██████████| 125/125 [00:00<00:00, 410.28it/s]\n"
     ]
    },
    {
     "name": "stdout",
     "output_type": "stream",
     "text": [
      "Epoch 648: train_loss=0.0078, valid_loss=0.00953, valid_acc=0.7655, best_acc=0.7745\n"
     ]
    },
    {
     "name": "stderr",
     "output_type": "stream",
     "text": [
      "Epoch 650: 100%|██████████| 125/125 [00:00<00:00, 404.46it/s]\n"
     ]
    },
    {
     "name": "stdout",
     "output_type": "stream",
     "text": [
      "Epoch 649: train_loss=0.0078, valid_loss=0.00954, valid_acc=0.7645, best_acc=0.7745\n"
     ]
    },
    {
     "name": "stderr",
     "output_type": "stream",
     "text": [
      "Epoch 651: 100%|██████████| 125/125 [00:00<00:00, 411.62it/s]\n"
     ]
    },
    {
     "name": "stdout",
     "output_type": "stream",
     "text": [
      "Epoch 650: train_loss=0.0078, valid_loss=0.00958, valid_acc=0.763, best_acc=0.7745\n"
     ]
    },
    {
     "name": "stderr",
     "output_type": "stream",
     "text": [
      "Epoch 652: 100%|██████████| 125/125 [00:00<00:00, 407.27it/s]\n"
     ]
    },
    {
     "name": "stdout",
     "output_type": "stream",
     "text": [
      "Epoch 651: train_loss=0.0078, valid_loss=0.00959, valid_acc=0.7605, best_acc=0.7745\n"
     ]
    },
    {
     "name": "stderr",
     "output_type": "stream",
     "text": [
      "Epoch 653: 100%|██████████| 125/125 [00:00<00:00, 403.63it/s]\n"
     ]
    },
    {
     "name": "stdout",
     "output_type": "stream",
     "text": [
      "Epoch 652: train_loss=0.0078, valid_loss=0.00962, valid_acc=0.7595, best_acc=0.7745\n"
     ]
    },
    {
     "name": "stderr",
     "output_type": "stream",
     "text": [
      "Epoch 654: 100%|██████████| 125/125 [00:00<00:00, 394.13it/s]\n"
     ]
    },
    {
     "name": "stdout",
     "output_type": "stream",
     "text": [
      "Epoch 653: train_loss=0.00779, valid_loss=0.00962, valid_acc=0.76, best_acc=0.7745\n"
     ]
    },
    {
     "name": "stderr",
     "output_type": "stream",
     "text": [
      "Epoch 655: 100%|██████████| 125/125 [00:00<00:00, 401.23it/s]\n"
     ]
    },
    {
     "name": "stdout",
     "output_type": "stream",
     "text": [
      "Epoch 654: train_loss=0.0078, valid_loss=0.00962, valid_acc=0.758, best_acc=0.7745\n"
     ]
    },
    {
     "name": "stderr",
     "output_type": "stream",
     "text": [
      "Epoch 656: 100%|██████████| 125/125 [00:00<00:00, 398.08it/s]\n"
     ]
    },
    {
     "name": "stdout",
     "output_type": "stream",
     "text": [
      "Epoch 655: train_loss=0.00782, valid_loss=0.00962, valid_acc=0.757, best_acc=0.7745\n"
     ]
    },
    {
     "name": "stderr",
     "output_type": "stream",
     "text": [
      "Epoch 657: 100%|██████████| 125/125 [00:00<00:00, 399.87it/s]\n"
     ]
    },
    {
     "name": "stdout",
     "output_type": "stream",
     "text": [
      "Epoch 656: train_loss=0.0078, valid_loss=0.00956, valid_acc=0.764, best_acc=0.7745\n"
     ]
    },
    {
     "name": "stderr",
     "output_type": "stream",
     "text": [
      "Epoch 658: 100%|██████████| 125/125 [00:00<00:00, 393.08it/s]\n"
     ]
    },
    {
     "name": "stdout",
     "output_type": "stream",
     "text": [
      "Epoch 657: train_loss=0.00779, valid_loss=0.00956, valid_acc=0.7645, best_acc=0.7745\n"
     ]
    },
    {
     "name": "stderr",
     "output_type": "stream",
     "text": [
      "Epoch 659: 100%|██████████| 125/125 [00:00<00:00, 407.51it/s]\n"
     ]
    },
    {
     "name": "stdout",
     "output_type": "stream",
     "text": [
      "Epoch 658: train_loss=0.00782, valid_loss=0.00957, valid_acc=0.765, best_acc=0.7745\n"
     ]
    },
    {
     "name": "stderr",
     "output_type": "stream",
     "text": [
      "Epoch 660: 100%|██████████| 125/125 [00:00<00:00, 397.53it/s]\n"
     ]
    },
    {
     "name": "stdout",
     "output_type": "stream",
     "text": [
      "Epoch 659: train_loss=0.00779, valid_loss=0.0096, valid_acc=0.758, best_acc=0.7745\n"
     ]
    },
    {
     "name": "stderr",
     "output_type": "stream",
     "text": [
      "Epoch 661: 100%|██████████| 125/125 [00:00<00:00, 394.44it/s]\n"
     ]
    },
    {
     "name": "stdout",
     "output_type": "stream",
     "text": [
      "Epoch 660: train_loss=0.0078, valid_loss=0.00964, valid_acc=0.7515, best_acc=0.7745\n"
     ]
    },
    {
     "name": "stderr",
     "output_type": "stream",
     "text": [
      "Epoch 662: 100%|██████████| 125/125 [00:00<00:00, 399.00it/s]\n"
     ]
    },
    {
     "name": "stdout",
     "output_type": "stream",
     "text": [
      "Epoch 661: train_loss=0.00779, valid_loss=0.0096, valid_acc=0.762, best_acc=0.7745\n"
     ]
    },
    {
     "name": "stderr",
     "output_type": "stream",
     "text": [
      "Epoch 663: 100%|██████████| 125/125 [00:00<00:00, 414.99it/s]\n"
     ]
    },
    {
     "name": "stdout",
     "output_type": "stream",
     "text": [
      "Epoch 662: train_loss=0.00782, valid_loss=0.00957, valid_acc=0.763, best_acc=0.7745\n"
     ]
    },
    {
     "name": "stderr",
     "output_type": "stream",
     "text": [
      "Epoch 664: 100%|██████████| 125/125 [00:00<00:00, 395.18it/s]\n"
     ]
    },
    {
     "name": "stdout",
     "output_type": "stream",
     "text": [
      "Epoch 663: train_loss=0.00779, valid_loss=0.00966, valid_acc=0.7515, best_acc=0.7745\n"
     ]
    },
    {
     "name": "stderr",
     "output_type": "stream",
     "text": [
      "Epoch 665: 100%|██████████| 125/125 [00:00<00:00, 400.21it/s]\n"
     ]
    },
    {
     "name": "stdout",
     "output_type": "stream",
     "text": [
      "Epoch 664: train_loss=0.0078, valid_loss=0.0096, valid_acc=0.756, best_acc=0.7745\n"
     ]
    },
    {
     "name": "stderr",
     "output_type": "stream",
     "text": [
      "Epoch 666: 100%|██████████| 125/125 [00:00<00:00, 390.07it/s]\n"
     ]
    },
    {
     "name": "stdout",
     "output_type": "stream",
     "text": [
      "Epoch 665: train_loss=0.0078, valid_loss=0.00961, valid_acc=0.7605, best_acc=0.7745\n"
     ]
    },
    {
     "name": "stderr",
     "output_type": "stream",
     "text": [
      "Epoch 667: 100%|██████████| 125/125 [00:00<00:00, 404.77it/s]\n"
     ]
    },
    {
     "name": "stdout",
     "output_type": "stream",
     "text": [
      "Epoch 666: train_loss=0.00781, valid_loss=0.00966, valid_acc=0.75, best_acc=0.7745\n"
     ]
    },
    {
     "name": "stderr",
     "output_type": "stream",
     "text": [
      "Epoch 668: 100%|██████████| 125/125 [00:00<00:00, 404.24it/s]\n"
     ]
    },
    {
     "name": "stdout",
     "output_type": "stream",
     "text": [
      "Epoch 667: train_loss=0.00781, valid_loss=0.00957, valid_acc=0.765, best_acc=0.7745\n"
     ]
    },
    {
     "name": "stderr",
     "output_type": "stream",
     "text": [
      "Epoch 669: 100%|██████████| 125/125 [00:00<00:00, 401.88it/s]\n"
     ]
    },
    {
     "name": "stdout",
     "output_type": "stream",
     "text": [
      "Epoch 668: train_loss=0.00782, valid_loss=0.00962, valid_acc=0.755, best_acc=0.7745\n"
     ]
    },
    {
     "name": "stderr",
     "output_type": "stream",
     "text": [
      "Epoch 670: 100%|██████████| 125/125 [00:00<00:00, 388.99it/s]\n"
     ]
    },
    {
     "name": "stdout",
     "output_type": "stream",
     "text": [
      "Epoch 669: train_loss=0.00779, valid_loss=0.00966, valid_acc=0.754, best_acc=0.7745\n"
     ]
    },
    {
     "name": "stderr",
     "output_type": "stream",
     "text": [
      "Epoch 671: 100%|██████████| 125/125 [00:00<00:00, 410.10it/s]\n"
     ]
    },
    {
     "name": "stdout",
     "output_type": "stream",
     "text": [
      "Epoch 670: train_loss=0.00781, valid_loss=0.00964, valid_acc=0.7555, best_acc=0.7745\n"
     ]
    },
    {
     "name": "stderr",
     "output_type": "stream",
     "text": [
      "Epoch 672: 100%|██████████| 125/125 [00:00<00:00, 408.17it/s]\n"
     ]
    },
    {
     "name": "stdout",
     "output_type": "stream",
     "text": [
      "Epoch 671: train_loss=0.00781, valid_loss=0.00961, valid_acc=0.7605, best_acc=0.7745\n"
     ]
    },
    {
     "name": "stderr",
     "output_type": "stream",
     "text": [
      "Epoch 673: 100%|██████████| 125/125 [00:00<00:00, 379.88it/s]\n"
     ]
    },
    {
     "name": "stdout",
     "output_type": "stream",
     "text": [
      "Epoch 672: train_loss=0.00782, valid_loss=0.00956, valid_acc=0.7645, best_acc=0.7745\n"
     ]
    },
    {
     "name": "stderr",
     "output_type": "stream",
     "text": [
      "Epoch 674: 100%|██████████| 125/125 [00:00<00:00, 386.64it/s]\n"
     ]
    },
    {
     "name": "stdout",
     "output_type": "stream",
     "text": [
      "Epoch 673: train_loss=0.0078, valid_loss=0.00959, valid_acc=0.7615, best_acc=0.7745\n"
     ]
    },
    {
     "name": "stderr",
     "output_type": "stream",
     "text": [
      "Epoch 675: 100%|██████████| 125/125 [00:00<00:00, 405.38it/s]\n"
     ]
    },
    {
     "name": "stdout",
     "output_type": "stream",
     "text": [
      "Epoch 674: train_loss=0.00779, valid_loss=0.00963, valid_acc=0.7535, best_acc=0.7745\n"
     ]
    },
    {
     "name": "stderr",
     "output_type": "stream",
     "text": [
      "Epoch 676: 100%|██████████| 125/125 [00:00<00:00, 394.29it/s]\n"
     ]
    },
    {
     "name": "stdout",
     "output_type": "stream",
     "text": [
      "Epoch 675: train_loss=0.00781, valid_loss=0.0096, valid_acc=0.7585, best_acc=0.7745\n"
     ]
    },
    {
     "name": "stderr",
     "output_type": "stream",
     "text": [
      "Epoch 677: 100%|██████████| 125/125 [00:00<00:00, 404.45it/s]\n"
     ]
    },
    {
     "name": "stdout",
     "output_type": "stream",
     "text": [
      "Epoch 676: train_loss=0.0078, valid_loss=0.0096, valid_acc=0.76, best_acc=0.7745\n"
     ]
    },
    {
     "name": "stderr",
     "output_type": "stream",
     "text": [
      "Epoch 678: 100%|██████████| 125/125 [00:00<00:00, 402.45it/s]\n"
     ]
    },
    {
     "name": "stdout",
     "output_type": "stream",
     "text": [
      "Epoch 677: train_loss=0.00781, valid_loss=0.00963, valid_acc=0.755, best_acc=0.7745\n"
     ]
    },
    {
     "name": "stderr",
     "output_type": "stream",
     "text": [
      "Epoch 679: 100%|██████████| 125/125 [00:00<00:00, 403.70it/s]\n"
     ]
    },
    {
     "name": "stdout",
     "output_type": "stream",
     "text": [
      "Epoch 678: train_loss=0.0078, valid_loss=0.00962, valid_acc=0.758, best_acc=0.7745\n"
     ]
    },
    {
     "name": "stderr",
     "output_type": "stream",
     "text": [
      "Epoch 680: 100%|██████████| 125/125 [00:00<00:00, 398.30it/s]\n"
     ]
    },
    {
     "name": "stdout",
     "output_type": "stream",
     "text": [
      "Epoch 679: train_loss=0.00781, valid_loss=0.00959, valid_acc=0.7625, best_acc=0.7745\n"
     ]
    },
    {
     "name": "stderr",
     "output_type": "stream",
     "text": [
      "Epoch 681: 100%|██████████| 125/125 [00:00<00:00, 415.02it/s]\n"
     ]
    },
    {
     "name": "stdout",
     "output_type": "stream",
     "text": [
      "Epoch 680: train_loss=0.00781, valid_loss=0.00964, valid_acc=0.754, best_acc=0.7745\n"
     ]
    },
    {
     "name": "stderr",
     "output_type": "stream",
     "text": [
      "Epoch 682: 100%|██████████| 125/125 [00:00<00:00, 396.95it/s]\n"
     ]
    },
    {
     "name": "stdout",
     "output_type": "stream",
     "text": [
      "Epoch 681: train_loss=0.0078, valid_loss=0.00957, valid_acc=0.7605, best_acc=0.7745\n"
     ]
    },
    {
     "name": "stderr",
     "output_type": "stream",
     "text": [
      "Epoch 683: 100%|██████████| 125/125 [00:00<00:00, 403.44it/s]\n"
     ]
    },
    {
     "name": "stdout",
     "output_type": "stream",
     "text": [
      "Epoch 682: train_loss=0.00783, valid_loss=0.00955, valid_acc=0.763, best_acc=0.7745\n"
     ]
    },
    {
     "name": "stderr",
     "output_type": "stream",
     "text": [
      "Epoch 684: 100%|██████████| 125/125 [00:00<00:00, 407.72it/s]\n"
     ]
    },
    {
     "name": "stdout",
     "output_type": "stream",
     "text": [
      "Epoch 683: train_loss=0.00785, valid_loss=0.00958, valid_acc=0.761, best_acc=0.7745\n"
     ]
    },
    {
     "name": "stderr",
     "output_type": "stream",
     "text": [
      "Epoch 685: 100%|██████████| 125/125 [00:00<00:00, 397.09it/s]\n"
     ]
    },
    {
     "name": "stdout",
     "output_type": "stream",
     "text": [
      "Epoch 684: train_loss=0.00782, valid_loss=0.00961, valid_acc=0.7535, best_acc=0.7745\n"
     ]
    },
    {
     "name": "stderr",
     "output_type": "stream",
     "text": [
      "Epoch 686: 100%|██████████| 125/125 [00:00<00:00, 398.66it/s]\n"
     ]
    },
    {
     "name": "stdout",
     "output_type": "stream",
     "text": [
      "Epoch 685: train_loss=0.00781, valid_loss=0.00957, valid_acc=0.762, best_acc=0.7745\n"
     ]
    },
    {
     "name": "stderr",
     "output_type": "stream",
     "text": [
      "Epoch 687: 100%|██████████| 125/125 [00:00<00:00, 391.25it/s]\n"
     ]
    },
    {
     "name": "stdout",
     "output_type": "stream",
     "text": [
      "Epoch 686: train_loss=0.0078, valid_loss=0.00961, valid_acc=0.753, best_acc=0.7745\n"
     ]
    },
    {
     "name": "stderr",
     "output_type": "stream",
     "text": [
      "Epoch 688: 100%|██████████| 125/125 [00:00<00:00, 412.05it/s]\n"
     ]
    },
    {
     "name": "stdout",
     "output_type": "stream",
     "text": [
      "Epoch 687: train_loss=0.00782, valid_loss=0.00956, valid_acc=0.7615, best_acc=0.7745\n"
     ]
    },
    {
     "name": "stderr",
     "output_type": "stream",
     "text": [
      "Epoch 689: 100%|██████████| 125/125 [00:00<00:00, 407.01it/s]\n"
     ]
    },
    {
     "name": "stdout",
     "output_type": "stream",
     "text": [
      "Epoch 688: train_loss=0.00782, valid_loss=0.00958, valid_acc=0.761, best_acc=0.7745\n"
     ]
    },
    {
     "name": "stderr",
     "output_type": "stream",
     "text": [
      "Epoch 690: 100%|██████████| 125/125 [00:00<00:00, 406.34it/s]\n"
     ]
    },
    {
     "name": "stdout",
     "output_type": "stream",
     "text": [
      "Epoch 689: train_loss=0.00783, valid_loss=0.00962, valid_acc=0.7505, best_acc=0.7745\n"
     ]
    },
    {
     "name": "stderr",
     "output_type": "stream",
     "text": [
      "Epoch 691: 100%|██████████| 125/125 [00:00<00:00, 409.11it/s]\n"
     ]
    },
    {
     "name": "stdout",
     "output_type": "stream",
     "text": [
      "Epoch 690: train_loss=0.00786, valid_loss=0.00958, valid_acc=0.756, best_acc=0.7745\n"
     ]
    },
    {
     "name": "stderr",
     "output_type": "stream",
     "text": [
      "Epoch 692: 100%|██████████| 125/125 [00:00<00:00, 406.95it/s]\n"
     ]
    },
    {
     "name": "stdout",
     "output_type": "stream",
     "text": [
      "Epoch 691: train_loss=0.00786, valid_loss=0.00955, valid_acc=0.7665, best_acc=0.7745\n"
     ]
    },
    {
     "name": "stderr",
     "output_type": "stream",
     "text": [
      "Epoch 693: 100%|██████████| 125/125 [00:00<00:00, 411.07it/s]\n"
     ]
    },
    {
     "name": "stdout",
     "output_type": "stream",
     "text": [
      "Epoch 692: train_loss=0.00783, valid_loss=0.00952, valid_acc=0.7685, best_acc=0.7745\n"
     ]
    },
    {
     "name": "stderr",
     "output_type": "stream",
     "text": [
      "Epoch 694: 100%|██████████| 125/125 [00:00<00:00, 405.13it/s]\n"
     ]
    },
    {
     "name": "stdout",
     "output_type": "stream",
     "text": [
      "Epoch 693: train_loss=0.00782, valid_loss=0.00959, valid_acc=0.763, best_acc=0.7745\n"
     ]
    },
    {
     "name": "stderr",
     "output_type": "stream",
     "text": [
      "Epoch 695: 100%|██████████| 125/125 [00:00<00:00, 399.30it/s]\n"
     ]
    },
    {
     "name": "stdout",
     "output_type": "stream",
     "text": [
      "Epoch 694: train_loss=0.00786, valid_loss=0.00958, valid_acc=0.758, best_acc=0.7745\n"
     ]
    },
    {
     "name": "stderr",
     "output_type": "stream",
     "text": [
      "Epoch 696: 100%|██████████| 125/125 [00:00<00:00, 398.02it/s]\n"
     ]
    },
    {
     "name": "stdout",
     "output_type": "stream",
     "text": [
      "Epoch 695: train_loss=0.00786, valid_loss=0.0096, valid_acc=0.7525, best_acc=0.7745\n"
     ]
    },
    {
     "name": "stderr",
     "output_type": "stream",
     "text": [
      "Epoch 697: 100%|██████████| 125/125 [00:00<00:00, 401.06it/s]\n"
     ]
    },
    {
     "name": "stdout",
     "output_type": "stream",
     "text": [
      "Epoch 696: train_loss=0.00788, valid_loss=0.00957, valid_acc=0.7625, best_acc=0.7745\n"
     ]
    },
    {
     "name": "stderr",
     "output_type": "stream",
     "text": [
      "Epoch 698: 100%|██████████| 125/125 [00:00<00:00, 397.40it/s]\n"
     ]
    },
    {
     "name": "stdout",
     "output_type": "stream",
     "text": [
      "Epoch 697: train_loss=0.00787, valid_loss=0.00966, valid_acc=0.7495, best_acc=0.7745\n"
     ]
    },
    {
     "name": "stderr",
     "output_type": "stream",
     "text": [
      "Epoch 699: 100%|██████████| 125/125 [00:00<00:00, 402.03it/s]\n"
     ]
    },
    {
     "name": "stdout",
     "output_type": "stream",
     "text": [
      "Epoch 698: train_loss=0.00789, valid_loss=0.00962, valid_acc=0.754, best_acc=0.7745\n"
     ]
    },
    {
     "name": "stderr",
     "output_type": "stream",
     "text": [
      "Epoch 700: 100%|██████████| 125/125 [00:00<00:00, 401.20it/s]\n"
     ]
    },
    {
     "name": "stdout",
     "output_type": "stream",
     "text": [
      "Epoch 699: train_loss=0.00788, valid_loss=0.00961, valid_acc=0.758, best_acc=0.7745\n"
     ]
    },
    {
     "name": "stderr",
     "output_type": "stream",
     "text": [
      "Epoch 701: 100%|██████████| 125/125 [00:00<00:00, 400.56it/s]\n"
     ]
    },
    {
     "name": "stdout",
     "output_type": "stream",
     "text": [
      "Epoch 700: train_loss=0.00785, valid_loss=0.00958, valid_acc=0.7665, best_acc=0.7745\n"
     ]
    },
    {
     "name": "stderr",
     "output_type": "stream",
     "text": [
      "Epoch 702: 100%|██████████| 125/125 [00:00<00:00, 398.85it/s]\n"
     ]
    },
    {
     "name": "stdout",
     "output_type": "stream",
     "text": [
      "Epoch 701: train_loss=0.00781, valid_loss=0.00956, valid_acc=0.7705, best_acc=0.7745\n"
     ]
    },
    {
     "name": "stderr",
     "output_type": "stream",
     "text": [
      "Epoch 703: 100%|██████████| 125/125 [00:00<00:00, 398.13it/s]\n"
     ]
    },
    {
     "name": "stdout",
     "output_type": "stream",
     "text": [
      "Epoch 702: train_loss=0.00781, valid_loss=0.00951, valid_acc=0.769, best_acc=0.7745\n"
     ]
    },
    {
     "name": "stderr",
     "output_type": "stream",
     "text": [
      "Epoch 704: 100%|██████████| 125/125 [00:00<00:00, 397.55it/s]\n"
     ]
    },
    {
     "name": "stdout",
     "output_type": "stream",
     "text": [
      "Epoch 703: train_loss=0.00781, valid_loss=0.00953, valid_acc=0.768, best_acc=0.7745\n"
     ]
    },
    {
     "name": "stderr",
     "output_type": "stream",
     "text": [
      "Epoch 705: 100%|██████████| 125/125 [00:00<00:00, 394.71it/s]\n"
     ]
    },
    {
     "name": "stdout",
     "output_type": "stream",
     "text": [
      "Epoch 704: train_loss=0.00781, valid_loss=0.00954, valid_acc=0.7665, best_acc=0.7745\n"
     ]
    },
    {
     "name": "stderr",
     "output_type": "stream",
     "text": [
      "Epoch 706: 100%|██████████| 125/125 [00:00<00:00, 413.15it/s]\n"
     ]
    },
    {
     "name": "stdout",
     "output_type": "stream",
     "text": [
      "Epoch 705: train_loss=0.00782, valid_loss=0.00953, valid_acc=0.7635, best_acc=0.7745\n"
     ]
    },
    {
     "name": "stderr",
     "output_type": "stream",
     "text": [
      "Epoch 707: 100%|██████████| 125/125 [00:00<00:00, 402.76it/s]\n"
     ]
    },
    {
     "name": "stdout",
     "output_type": "stream",
     "text": [
      "Epoch 706: train_loss=0.00782, valid_loss=0.00954, valid_acc=0.77, best_acc=0.7745\n"
     ]
    },
    {
     "name": "stderr",
     "output_type": "stream",
     "text": [
      "Epoch 708: 100%|██████████| 125/125 [00:00<00:00, 398.95it/s]\n"
     ]
    },
    {
     "name": "stdout",
     "output_type": "stream",
     "text": [
      "Epoch 707: train_loss=0.00779, valid_loss=0.00947, valid_acc=0.778, best_acc=0.778\n"
     ]
    },
    {
     "name": "stderr",
     "output_type": "stream",
     "text": [
      "Epoch 709: 100%|██████████| 125/125 [00:00<00:00, 400.66it/s]\n"
     ]
    },
    {
     "name": "stdout",
     "output_type": "stream",
     "text": [
      "Epoch 708: train_loss=0.00781, valid_loss=0.00953, valid_acc=0.7675, best_acc=0.778\n"
     ]
    },
    {
     "name": "stderr",
     "output_type": "stream",
     "text": [
      "Epoch 710: 100%|██████████| 125/125 [00:00<00:00, 406.51it/s]\n"
     ]
    },
    {
     "name": "stdout",
     "output_type": "stream",
     "text": [
      "Epoch 709: train_loss=0.0078, valid_loss=0.00961, valid_acc=0.758, best_acc=0.778\n"
     ]
    },
    {
     "name": "stderr",
     "output_type": "stream",
     "text": [
      "Epoch 711: 100%|██████████| 125/125 [00:00<00:00, 410.01it/s]\n"
     ]
    },
    {
     "name": "stdout",
     "output_type": "stream",
     "text": [
      "Epoch 710: train_loss=0.0078, valid_loss=0.00952, valid_acc=0.7695, best_acc=0.778\n"
     ]
    },
    {
     "name": "stderr",
     "output_type": "stream",
     "text": [
      "Epoch 712: 100%|██████████| 125/125 [00:00<00:00, 392.96it/s]\n"
     ]
    },
    {
     "name": "stdout",
     "output_type": "stream",
     "text": [
      "Epoch 711: train_loss=0.0078, valid_loss=0.00957, valid_acc=0.7625, best_acc=0.778\n"
     ]
    },
    {
     "name": "stderr",
     "output_type": "stream",
     "text": [
      "Epoch 713: 100%|██████████| 125/125 [00:00<00:00, 408.33it/s]\n"
     ]
    },
    {
     "name": "stdout",
     "output_type": "stream",
     "text": [
      "Epoch 712: train_loss=0.00779, valid_loss=0.0096, valid_acc=0.7585, best_acc=0.778\n"
     ]
    },
    {
     "name": "stderr",
     "output_type": "stream",
     "text": [
      "Epoch 714: 100%|██████████| 125/125 [00:00<00:00, 397.40it/s]\n"
     ]
    },
    {
     "name": "stdout",
     "output_type": "stream",
     "text": [
      "Epoch 713: train_loss=0.00778, valid_loss=0.00954, valid_acc=0.7695, best_acc=0.778\n"
     ]
    },
    {
     "name": "stderr",
     "output_type": "stream",
     "text": [
      "Epoch 715: 100%|██████████| 125/125 [00:00<00:00, 397.67it/s]\n"
     ]
    },
    {
     "name": "stdout",
     "output_type": "stream",
     "text": [
      "Epoch 714: train_loss=0.00779, valid_loss=0.00954, valid_acc=0.7655, best_acc=0.778\n"
     ]
    },
    {
     "name": "stderr",
     "output_type": "stream",
     "text": [
      "Epoch 716: 100%|██████████| 125/125 [00:00<00:00, 401.89it/s]\n"
     ]
    },
    {
     "name": "stdout",
     "output_type": "stream",
     "text": [
      "Epoch 715: train_loss=0.0078, valid_loss=0.00955, valid_acc=0.769, best_acc=0.778\n"
     ]
    },
    {
     "name": "stderr",
     "output_type": "stream",
     "text": [
      "Epoch 717: 100%|██████████| 125/125 [00:00<00:00, 399.32it/s]\n"
     ]
    },
    {
     "name": "stdout",
     "output_type": "stream",
     "text": [
      "Epoch 716: train_loss=0.00779, valid_loss=0.00956, valid_acc=0.7665, best_acc=0.778\n"
     ]
    },
    {
     "name": "stderr",
     "output_type": "stream",
     "text": [
      "Epoch 718: 100%|██████████| 125/125 [00:00<00:00, 410.31it/s]\n"
     ]
    },
    {
     "name": "stdout",
     "output_type": "stream",
     "text": [
      "Epoch 717: train_loss=0.00781, valid_loss=0.00959, valid_acc=0.762, best_acc=0.778\n"
     ]
    },
    {
     "name": "stderr",
     "output_type": "stream",
     "text": [
      "Epoch 719: 100%|██████████| 125/125 [00:00<00:00, 396.01it/s]\n"
     ]
    },
    {
     "name": "stdout",
     "output_type": "stream",
     "text": [
      "Epoch 718: train_loss=0.00778, valid_loss=0.00958, valid_acc=0.7635, best_acc=0.778\n"
     ]
    },
    {
     "name": "stderr",
     "output_type": "stream",
     "text": [
      "Epoch 720: 100%|██████████| 125/125 [00:00<00:00, 396.87it/s]\n"
     ]
    },
    {
     "name": "stdout",
     "output_type": "stream",
     "text": [
      "Epoch 719: train_loss=0.00779, valid_loss=0.00962, valid_acc=0.762, best_acc=0.778\n"
     ]
    },
    {
     "name": "stderr",
     "output_type": "stream",
     "text": [
      "Epoch 721: 100%|██████████| 125/125 [00:00<00:00, 404.37it/s]\n"
     ]
    },
    {
     "name": "stdout",
     "output_type": "stream",
     "text": [
      "Epoch 720: train_loss=0.00779, valid_loss=0.00962, valid_acc=0.7605, best_acc=0.778\n"
     ]
    },
    {
     "name": "stderr",
     "output_type": "stream",
     "text": [
      "Epoch 722: 100%|██████████| 125/125 [00:00<00:00, 404.12it/s]\n"
     ]
    },
    {
     "name": "stdout",
     "output_type": "stream",
     "text": [
      "Epoch 721: train_loss=0.00779, valid_loss=0.00958, valid_acc=0.7605, best_acc=0.778\n"
     ]
    },
    {
     "name": "stderr",
     "output_type": "stream",
     "text": [
      "Epoch 723: 100%|██████████| 125/125 [00:00<00:00, 396.82it/s]\n"
     ]
    },
    {
     "name": "stdout",
     "output_type": "stream",
     "text": [
      "Epoch 722: train_loss=0.00778, valid_loss=0.00957, valid_acc=0.763, best_acc=0.778\n"
     ]
    },
    {
     "name": "stderr",
     "output_type": "stream",
     "text": [
      "Epoch 724: 100%|██████████| 125/125 [00:00<00:00, 404.05it/s]\n"
     ]
    },
    {
     "name": "stdout",
     "output_type": "stream",
     "text": [
      "Epoch 723: train_loss=0.00783, valid_loss=0.00963, valid_acc=0.7495, best_acc=0.778\n"
     ]
    },
    {
     "name": "stderr",
     "output_type": "stream",
     "text": [
      "Epoch 725: 100%|██████████| 125/125 [00:00<00:00, 403.26it/s]\n"
     ]
    },
    {
     "name": "stdout",
     "output_type": "stream",
     "text": [
      "Epoch 724: train_loss=0.00782, valid_loss=0.00958, valid_acc=0.76, best_acc=0.778\n"
     ]
    },
    {
     "name": "stderr",
     "output_type": "stream",
     "text": [
      "Epoch 726: 100%|██████████| 125/125 [00:00<00:00, 403.10it/s]\n"
     ]
    },
    {
     "name": "stdout",
     "output_type": "stream",
     "text": [
      "Epoch 725: train_loss=0.0078, valid_loss=0.00952, valid_acc=0.768, best_acc=0.778\n"
     ]
    },
    {
     "name": "stderr",
     "output_type": "stream",
     "text": [
      "Epoch 727: 100%|██████████| 125/125 [00:00<00:00, 401.56it/s]\n"
     ]
    },
    {
     "name": "stdout",
     "output_type": "stream",
     "text": [
      "Epoch 726: train_loss=0.0078, valid_loss=0.00951, valid_acc=0.7715, best_acc=0.778\n"
     ]
    },
    {
     "name": "stderr",
     "output_type": "stream",
     "text": [
      "Epoch 728: 100%|██████████| 125/125 [00:00<00:00, 393.29it/s]\n"
     ]
    },
    {
     "name": "stdout",
     "output_type": "stream",
     "text": [
      "Epoch 727: train_loss=0.00779, valid_loss=0.0096, valid_acc=0.761, best_acc=0.778\n"
     ]
    },
    {
     "name": "stderr",
     "output_type": "stream",
     "text": [
      "Epoch 729: 100%|██████████| 125/125 [00:00<00:00, 396.62it/s]\n"
     ]
    },
    {
     "name": "stdout",
     "output_type": "stream",
     "text": [
      "Epoch 728: train_loss=0.00779, valid_loss=0.00955, valid_acc=0.766, best_acc=0.778\n"
     ]
    },
    {
     "name": "stderr",
     "output_type": "stream",
     "text": [
      "Epoch 730: 100%|██████████| 125/125 [00:00<00:00, 393.04it/s]\n"
     ]
    },
    {
     "name": "stdout",
     "output_type": "stream",
     "text": [
      "Epoch 729: train_loss=0.00778, valid_loss=0.00956, valid_acc=0.7635, best_acc=0.778\n"
     ]
    },
    {
     "name": "stderr",
     "output_type": "stream",
     "text": [
      "Epoch 731: 100%|██████████| 125/125 [00:00<00:00, 410.16it/s]\n"
     ]
    },
    {
     "name": "stdout",
     "output_type": "stream",
     "text": [
      "Epoch 730: train_loss=0.00779, valid_loss=0.00957, valid_acc=0.762, best_acc=0.778\n"
     ]
    },
    {
     "name": "stderr",
     "output_type": "stream",
     "text": [
      "Epoch 732: 100%|██████████| 125/125 [00:00<00:00, 415.72it/s]\n"
     ]
    },
    {
     "name": "stdout",
     "output_type": "stream",
     "text": [
      "Epoch 731: train_loss=0.00779, valid_loss=0.00959, valid_acc=0.752, best_acc=0.778\n"
     ]
    },
    {
     "name": "stderr",
     "output_type": "stream",
     "text": [
      "Epoch 733: 100%|██████████| 125/125 [00:00<00:00, 398.31it/s]\n"
     ]
    },
    {
     "name": "stdout",
     "output_type": "stream",
     "text": [
      "Epoch 732: train_loss=0.00781, valid_loss=0.00956, valid_acc=0.7605, best_acc=0.778\n"
     ]
    },
    {
     "name": "stderr",
     "output_type": "stream",
     "text": [
      "Epoch 734: 100%|██████████| 125/125 [00:00<00:00, 406.31it/s]\n"
     ]
    },
    {
     "name": "stdout",
     "output_type": "stream",
     "text": [
      "Epoch 733: train_loss=0.00782, valid_loss=0.0096, valid_acc=0.7475, best_acc=0.778\n"
     ]
    },
    {
     "name": "stderr",
     "output_type": "stream",
     "text": [
      "Epoch 735: 100%|██████████| 125/125 [00:00<00:00, 401.48it/s]\n"
     ]
    },
    {
     "name": "stdout",
     "output_type": "stream",
     "text": [
      "Epoch 734: train_loss=0.00782, valid_loss=0.00956, valid_acc=0.7625, best_acc=0.778\n"
     ]
    },
    {
     "name": "stderr",
     "output_type": "stream",
     "text": [
      "Epoch 736: 100%|██████████| 125/125 [00:00<00:00, 404.11it/s]\n"
     ]
    },
    {
     "name": "stdout",
     "output_type": "stream",
     "text": [
      "Epoch 735: train_loss=0.00778, valid_loss=0.00955, valid_acc=0.763, best_acc=0.778\n"
     ]
    },
    {
     "name": "stderr",
     "output_type": "stream",
     "text": [
      "Epoch 737: 100%|██████████| 125/125 [00:00<00:00, 405.14it/s]\n"
     ]
    },
    {
     "name": "stdout",
     "output_type": "stream",
     "text": [
      "Epoch 736: train_loss=0.00778, valid_loss=0.0096, valid_acc=0.7585, best_acc=0.778\n"
     ]
    },
    {
     "name": "stderr",
     "output_type": "stream",
     "text": [
      "Epoch 738: 100%|██████████| 125/125 [00:00<00:00, 387.07it/s]\n"
     ]
    },
    {
     "name": "stdout",
     "output_type": "stream",
     "text": [
      "Epoch 737: train_loss=0.00776, valid_loss=0.00957, valid_acc=0.764, best_acc=0.778\n"
     ]
    },
    {
     "name": "stderr",
     "output_type": "stream",
     "text": [
      "Epoch 739: 100%|██████████| 125/125 [00:00<00:00, 394.72it/s]\n"
     ]
    },
    {
     "name": "stdout",
     "output_type": "stream",
     "text": [
      "Epoch 738: train_loss=0.00779, valid_loss=0.00961, valid_acc=0.7545, best_acc=0.778\n"
     ]
    },
    {
     "name": "stderr",
     "output_type": "stream",
     "text": [
      "Epoch 740: 100%|██████████| 125/125 [00:00<00:00, 400.86it/s]\n"
     ]
    },
    {
     "name": "stdout",
     "output_type": "stream",
     "text": [
      "Epoch 739: train_loss=0.00782, valid_loss=0.00962, valid_acc=0.7525, best_acc=0.778\n"
     ]
    },
    {
     "name": "stderr",
     "output_type": "stream",
     "text": [
      "Epoch 741: 100%|██████████| 125/125 [00:00<00:00, 405.49it/s]\n"
     ]
    },
    {
     "name": "stdout",
     "output_type": "stream",
     "text": [
      "Epoch 740: train_loss=0.00779, valid_loss=0.00965, valid_acc=0.746, best_acc=0.778\n"
     ]
    },
    {
     "name": "stderr",
     "output_type": "stream",
     "text": [
      "Epoch 742: 100%|██████████| 125/125 [00:00<00:00, 407.08it/s]\n"
     ]
    },
    {
     "name": "stdout",
     "output_type": "stream",
     "text": [
      "Epoch 741: train_loss=0.00779, valid_loss=0.00961, valid_acc=0.7505, best_acc=0.778\n"
     ]
    },
    {
     "name": "stderr",
     "output_type": "stream",
     "text": [
      "Epoch 743: 100%|██████████| 125/125 [00:00<00:00, 410.38it/s]\n"
     ]
    },
    {
     "name": "stdout",
     "output_type": "stream",
     "text": [
      "Epoch 742: train_loss=0.00778, valid_loss=0.00962, valid_acc=0.7555, best_acc=0.778\n"
     ]
    },
    {
     "name": "stderr",
     "output_type": "stream",
     "text": [
      "Epoch 744: 100%|██████████| 125/125 [00:00<00:00, 406.26it/s]\n"
     ]
    },
    {
     "name": "stdout",
     "output_type": "stream",
     "text": [
      "Epoch 743: train_loss=0.00778, valid_loss=0.00967, valid_acc=0.7505, best_acc=0.778\n"
     ]
    },
    {
     "name": "stderr",
     "output_type": "stream",
     "text": [
      "Epoch 745: 100%|██████████| 125/125 [00:00<00:00, 404.07it/s]\n"
     ]
    },
    {
     "name": "stdout",
     "output_type": "stream",
     "text": [
      "Epoch 744: train_loss=0.00779, valid_loss=0.0096, valid_acc=0.7565, best_acc=0.778\n"
     ]
    },
    {
     "name": "stderr",
     "output_type": "stream",
     "text": [
      "Epoch 746: 100%|██████████| 125/125 [00:00<00:00, 386.88it/s]\n"
     ]
    },
    {
     "name": "stdout",
     "output_type": "stream",
     "text": [
      "Epoch 745: train_loss=0.00778, valid_loss=0.00962, valid_acc=0.756, best_acc=0.778\n"
     ]
    },
    {
     "name": "stderr",
     "output_type": "stream",
     "text": [
      "Epoch 747: 100%|██████████| 125/125 [00:00<00:00, 404.82it/s]\n"
     ]
    },
    {
     "name": "stdout",
     "output_type": "stream",
     "text": [
      "Epoch 746: train_loss=0.00779, valid_loss=0.00963, valid_acc=0.7555, best_acc=0.778\n"
     ]
    },
    {
     "name": "stderr",
     "output_type": "stream",
     "text": [
      "Epoch 748: 100%|██████████| 125/125 [00:00<00:00, 404.53it/s]\n"
     ]
    },
    {
     "name": "stdout",
     "output_type": "stream",
     "text": [
      "Epoch 747: train_loss=0.00778, valid_loss=0.00961, valid_acc=0.7565, best_acc=0.778\n"
     ]
    },
    {
     "name": "stderr",
     "output_type": "stream",
     "text": [
      "Epoch 749: 100%|██████████| 125/125 [00:00<00:00, 379.66it/s]\n"
     ]
    },
    {
     "name": "stdout",
     "output_type": "stream",
     "text": [
      "Epoch 748: train_loss=0.0078, valid_loss=0.00959, valid_acc=0.7615, best_acc=0.778\n"
     ]
    },
    {
     "name": "stderr",
     "output_type": "stream",
     "text": [
      "Epoch 750: 100%|██████████| 125/125 [00:00<00:00, 403.81it/s]\n"
     ]
    },
    {
     "name": "stdout",
     "output_type": "stream",
     "text": [
      "Epoch 749: train_loss=0.0078, valid_loss=0.0096, valid_acc=0.7615, best_acc=0.778\n"
     ]
    },
    {
     "name": "stderr",
     "output_type": "stream",
     "text": [
      "Epoch 751: 100%|██████████| 125/125 [00:00<00:00, 409.65it/s]\n"
     ]
    },
    {
     "name": "stdout",
     "output_type": "stream",
     "text": [
      "Epoch 750: train_loss=0.00779, valid_loss=0.00954, valid_acc=0.766, best_acc=0.778\n"
     ]
    },
    {
     "name": "stderr",
     "output_type": "stream",
     "text": [
      "Epoch 752: 100%|██████████| 125/125 [00:00<00:00, 406.25it/s]\n"
     ]
    },
    {
     "name": "stdout",
     "output_type": "stream",
     "text": [
      "Epoch 751: train_loss=0.00779, valid_loss=0.00959, valid_acc=0.7595, best_acc=0.778\n"
     ]
    },
    {
     "name": "stderr",
     "output_type": "stream",
     "text": [
      "Epoch 753: 100%|██████████| 125/125 [00:00<00:00, 404.03it/s]\n"
     ]
    },
    {
     "name": "stdout",
     "output_type": "stream",
     "text": [
      "Epoch 752: train_loss=0.00782, valid_loss=0.00966, valid_acc=0.752, best_acc=0.778\n"
     ]
    },
    {
     "name": "stderr",
     "output_type": "stream",
     "text": [
      "Epoch 754: 100%|██████████| 125/125 [00:00<00:00, 403.88it/s]\n"
     ]
    },
    {
     "name": "stdout",
     "output_type": "stream",
     "text": [
      "Epoch 753: train_loss=0.00781, valid_loss=0.00962, valid_acc=0.7585, best_acc=0.778\n"
     ]
    },
    {
     "name": "stderr",
     "output_type": "stream",
     "text": [
      "Epoch 755: 100%|██████████| 125/125 [00:00<00:00, 406.69it/s]\n"
     ]
    },
    {
     "name": "stdout",
     "output_type": "stream",
     "text": [
      "Epoch 754: train_loss=0.00786, valid_loss=0.00969, valid_acc=0.746, best_acc=0.778\n"
     ]
    },
    {
     "name": "stderr",
     "output_type": "stream",
     "text": [
      "Epoch 756: 100%|██████████| 125/125 [00:00<00:00, 400.85it/s]\n"
     ]
    },
    {
     "name": "stdout",
     "output_type": "stream",
     "text": [
      "Epoch 755: train_loss=0.00788, valid_loss=0.00963, valid_acc=0.751, best_acc=0.778\n"
     ]
    },
    {
     "name": "stderr",
     "output_type": "stream",
     "text": [
      "Epoch 757: 100%|██████████| 125/125 [00:00<00:00, 401.76it/s]\n"
     ]
    },
    {
     "name": "stdout",
     "output_type": "stream",
     "text": [
      "Epoch 756: train_loss=0.00786, valid_loss=0.00969, valid_acc=0.747, best_acc=0.778\n"
     ]
    },
    {
     "name": "stderr",
     "output_type": "stream",
     "text": [
      "Epoch 758: 100%|██████████| 125/125 [00:00<00:00, 405.52it/s]\n"
     ]
    },
    {
     "name": "stdout",
     "output_type": "stream",
     "text": [
      "Epoch 757: train_loss=0.00785, valid_loss=0.00962, valid_acc=0.7605, best_acc=0.778\n"
     ]
    },
    {
     "name": "stderr",
     "output_type": "stream",
     "text": [
      "Epoch 759: 100%|██████████| 125/125 [00:00<00:00, 406.20it/s]\n"
     ]
    },
    {
     "name": "stdout",
     "output_type": "stream",
     "text": [
      "Epoch 758: train_loss=0.0078, valid_loss=0.0096, valid_acc=0.7615, best_acc=0.778\n"
     ]
    },
    {
     "name": "stderr",
     "output_type": "stream",
     "text": [
      "Epoch 760: 100%|██████████| 125/125 [00:00<00:00, 401.96it/s]\n"
     ]
    },
    {
     "name": "stdout",
     "output_type": "stream",
     "text": [
      "Epoch 759: train_loss=0.0078, valid_loss=0.00954, valid_acc=0.768, best_acc=0.778\n"
     ]
    },
    {
     "name": "stderr",
     "output_type": "stream",
     "text": [
      "Epoch 761: 100%|██████████| 125/125 [00:00<00:00, 384.93it/s]\n"
     ]
    },
    {
     "name": "stdout",
     "output_type": "stream",
     "text": [
      "Epoch 760: train_loss=0.00778, valid_loss=0.00954, valid_acc=0.768, best_acc=0.778\n"
     ]
    },
    {
     "name": "stderr",
     "output_type": "stream",
     "text": [
      "Epoch 762: 100%|██████████| 125/125 [00:00<00:00, 393.27it/s]\n"
     ]
    },
    {
     "name": "stdout",
     "output_type": "stream",
     "text": [
      "Epoch 761: train_loss=0.00778, valid_loss=0.00958, valid_acc=0.7605, best_acc=0.778\n"
     ]
    },
    {
     "name": "stderr",
     "output_type": "stream",
     "text": [
      "Epoch 763: 100%|██████████| 125/125 [00:00<00:00, 406.98it/s]\n"
     ]
    },
    {
     "name": "stdout",
     "output_type": "stream",
     "text": [
      "Epoch 762: train_loss=0.00777, valid_loss=0.00963, valid_acc=0.757, best_acc=0.778\n"
     ]
    },
    {
     "name": "stderr",
     "output_type": "stream",
     "text": [
      "Epoch 764: 100%|██████████| 125/125 [00:00<00:00, 395.97it/s]\n"
     ]
    },
    {
     "name": "stdout",
     "output_type": "stream",
     "text": [
      "Epoch 763: train_loss=0.0078, valid_loss=0.00966, valid_acc=0.7515, best_acc=0.778\n"
     ]
    },
    {
     "name": "stderr",
     "output_type": "stream",
     "text": [
      "Epoch 765: 100%|██████████| 125/125 [00:00<00:00, 398.08it/s]\n"
     ]
    },
    {
     "name": "stdout",
     "output_type": "stream",
     "text": [
      "Epoch 764: train_loss=0.00785, valid_loss=0.00961, valid_acc=0.7535, best_acc=0.778\n"
     ]
    },
    {
     "name": "stderr",
     "output_type": "stream",
     "text": [
      "Epoch 766: 100%|██████████| 125/125 [00:00<00:00, 392.54it/s]\n"
     ]
    },
    {
     "name": "stdout",
     "output_type": "stream",
     "text": [
      "Epoch 765: train_loss=0.00781, valid_loss=0.0096, valid_acc=0.755, best_acc=0.778\n"
     ]
    },
    {
     "name": "stderr",
     "output_type": "stream",
     "text": [
      "Epoch 767: 100%|██████████| 125/125 [00:00<00:00, 405.21it/s]\n"
     ]
    },
    {
     "name": "stdout",
     "output_type": "stream",
     "text": [
      "Epoch 766: train_loss=0.0078, valid_loss=0.00957, valid_acc=0.763, best_acc=0.778\n"
     ]
    },
    {
     "name": "stderr",
     "output_type": "stream",
     "text": [
      "Epoch 768: 100%|██████████| 125/125 [00:00<00:00, 397.80it/s]\n"
     ]
    },
    {
     "name": "stdout",
     "output_type": "stream",
     "text": [
      "Epoch 767: train_loss=0.00778, valid_loss=0.00956, valid_acc=0.7615, best_acc=0.778\n"
     ]
    },
    {
     "name": "stderr",
     "output_type": "stream",
     "text": [
      "Epoch 769: 100%|██████████| 125/125 [00:00<00:00, 397.84it/s]\n"
     ]
    },
    {
     "name": "stdout",
     "output_type": "stream",
     "text": [
      "Epoch 768: train_loss=0.00778, valid_loss=0.00955, valid_acc=0.7655, best_acc=0.778\n"
     ]
    },
    {
     "name": "stderr",
     "output_type": "stream",
     "text": [
      "Epoch 770: 100%|██████████| 125/125 [00:00<00:00, 408.68it/s]\n"
     ]
    },
    {
     "name": "stdout",
     "output_type": "stream",
     "text": [
      "Epoch 769: train_loss=0.00777, valid_loss=0.00957, valid_acc=0.7645, best_acc=0.778\n"
     ]
    },
    {
     "name": "stderr",
     "output_type": "stream",
     "text": [
      "Epoch 771: 100%|██████████| 125/125 [00:00<00:00, 402.88it/s]\n"
     ]
    },
    {
     "name": "stdout",
     "output_type": "stream",
     "text": [
      "Epoch 770: train_loss=0.00779, valid_loss=0.00953, valid_acc=0.7695, best_acc=0.778\n"
     ]
    },
    {
     "name": "stderr",
     "output_type": "stream",
     "text": [
      "Epoch 772: 100%|██████████| 125/125 [00:00<00:00, 401.19it/s]\n"
     ]
    },
    {
     "name": "stdout",
     "output_type": "stream",
     "text": [
      "Epoch 771: train_loss=0.00777, valid_loss=0.00953, valid_acc=0.767, best_acc=0.778\n"
     ]
    },
    {
     "name": "stderr",
     "output_type": "stream",
     "text": [
      "Epoch 773: 100%|██████████| 125/125 [00:00<00:00, 398.28it/s]\n"
     ]
    },
    {
     "name": "stdout",
     "output_type": "stream",
     "text": [
      "Epoch 772: train_loss=0.00777, valid_loss=0.00955, valid_acc=0.768, best_acc=0.778\n"
     ]
    },
    {
     "name": "stderr",
     "output_type": "stream",
     "text": [
      "Epoch 774: 100%|██████████| 125/125 [00:00<00:00, 394.68it/s]\n"
     ]
    },
    {
     "name": "stdout",
     "output_type": "stream",
     "text": [
      "Epoch 773: train_loss=0.00777, valid_loss=0.00957, valid_acc=0.766, best_acc=0.778\n"
     ]
    },
    {
     "name": "stderr",
     "output_type": "stream",
     "text": [
      "Epoch 775: 100%|██████████| 125/125 [00:00<00:00, 394.36it/s]\n"
     ]
    },
    {
     "name": "stdout",
     "output_type": "stream",
     "text": [
      "Epoch 774: train_loss=0.00777, valid_loss=0.00958, valid_acc=0.759, best_acc=0.778\n"
     ]
    },
    {
     "name": "stderr",
     "output_type": "stream",
     "text": [
      "Epoch 776: 100%|██████████| 125/125 [00:00<00:00, 402.23it/s]\n"
     ]
    },
    {
     "name": "stdout",
     "output_type": "stream",
     "text": [
      "Epoch 775: train_loss=0.00777, valid_loss=0.00956, valid_acc=0.7625, best_acc=0.778\n"
     ]
    },
    {
     "name": "stderr",
     "output_type": "stream",
     "text": [
      "Epoch 777: 100%|██████████| 125/125 [00:00<00:00, 397.69it/s]\n"
     ]
    },
    {
     "name": "stdout",
     "output_type": "stream",
     "text": [
      "Epoch 776: train_loss=0.00776, valid_loss=0.00954, valid_acc=0.7645, best_acc=0.778\n"
     ]
    },
    {
     "name": "stderr",
     "output_type": "stream",
     "text": [
      "Epoch 778: 100%|██████████| 125/125 [00:00<00:00, 408.76it/s]\n"
     ]
    },
    {
     "name": "stdout",
     "output_type": "stream",
     "text": [
      "Epoch 777: train_loss=0.00776, valid_loss=0.00953, valid_acc=0.769, best_acc=0.778\n"
     ]
    },
    {
     "name": "stderr",
     "output_type": "stream",
     "text": [
      "Epoch 779: 100%|██████████| 125/125 [00:00<00:00, 390.47it/s]\n"
     ]
    },
    {
     "name": "stdout",
     "output_type": "stream",
     "text": [
      "Epoch 778: train_loss=0.00776, valid_loss=0.00955, valid_acc=0.767, best_acc=0.778\n"
     ]
    },
    {
     "name": "stderr",
     "output_type": "stream",
     "text": [
      "Epoch 780: 100%|██████████| 125/125 [00:00<00:00, 402.87it/s]\n"
     ]
    },
    {
     "name": "stdout",
     "output_type": "stream",
     "text": [
      "Epoch 779: train_loss=0.00777, valid_loss=0.00953, valid_acc=0.7675, best_acc=0.778\n"
     ]
    },
    {
     "name": "stderr",
     "output_type": "stream",
     "text": [
      "Epoch 781: 100%|██████████| 125/125 [00:00<00:00, 403.16it/s]\n"
     ]
    },
    {
     "name": "stdout",
     "output_type": "stream",
     "text": [
      "Epoch 780: train_loss=0.00775, valid_loss=0.00952, valid_acc=0.77, best_acc=0.778\n"
     ]
    },
    {
     "name": "stderr",
     "output_type": "stream",
     "text": [
      "Epoch 782: 100%|██████████| 125/125 [00:00<00:00, 400.84it/s]\n"
     ]
    },
    {
     "name": "stdout",
     "output_type": "stream",
     "text": [
      "Epoch 781: train_loss=0.00777, valid_loss=0.00957, valid_acc=0.764, best_acc=0.778\n"
     ]
    },
    {
     "name": "stderr",
     "output_type": "stream",
     "text": [
      "Epoch 783: 100%|██████████| 125/125 [00:00<00:00, 385.59it/s]\n"
     ]
    },
    {
     "name": "stdout",
     "output_type": "stream",
     "text": [
      "Epoch 782: train_loss=0.00776, valid_loss=0.00955, valid_acc=0.77, best_acc=0.778\n"
     ]
    },
    {
     "name": "stderr",
     "output_type": "stream",
     "text": [
      "Epoch 784: 100%|██████████| 125/125 [00:00<00:00, 421.05it/s]\n"
     ]
    },
    {
     "name": "stdout",
     "output_type": "stream",
     "text": [
      "Epoch 783: train_loss=0.00777, valid_loss=0.00958, valid_acc=0.7625, best_acc=0.778\n"
     ]
    },
    {
     "name": "stderr",
     "output_type": "stream",
     "text": [
      "Epoch 785: 100%|██████████| 125/125 [00:00<00:00, 399.84it/s]\n"
     ]
    },
    {
     "name": "stdout",
     "output_type": "stream",
     "text": [
      "Epoch 784: train_loss=0.00779, valid_loss=0.00963, valid_acc=0.7595, best_acc=0.778\n"
     ]
    },
    {
     "name": "stderr",
     "output_type": "stream",
     "text": [
      "Epoch 786: 100%|██████████| 125/125 [00:00<00:00, 404.12it/s]\n"
     ]
    },
    {
     "name": "stdout",
     "output_type": "stream",
     "text": [
      "Epoch 785: train_loss=0.00777, valid_loss=0.00963, valid_acc=0.757, best_acc=0.778\n"
     ]
    },
    {
     "name": "stderr",
     "output_type": "stream",
     "text": [
      "Epoch 787: 100%|██████████| 125/125 [00:00<00:00, 403.80it/s]\n"
     ]
    },
    {
     "name": "stdout",
     "output_type": "stream",
     "text": [
      "Epoch 786: train_loss=0.00778, valid_loss=0.00962, valid_acc=0.759, best_acc=0.778\n"
     ]
    },
    {
     "name": "stderr",
     "output_type": "stream",
     "text": [
      "Epoch 788: 100%|██████████| 125/125 [00:00<00:00, 412.80it/s]\n"
     ]
    },
    {
     "name": "stdout",
     "output_type": "stream",
     "text": [
      "Epoch 787: train_loss=0.0078, valid_loss=0.00955, valid_acc=0.7655, best_acc=0.778\n"
     ]
    },
    {
     "name": "stderr",
     "output_type": "stream",
     "text": [
      "Epoch 789: 100%|██████████| 125/125 [00:00<00:00, 404.56it/s]\n"
     ]
    },
    {
     "name": "stdout",
     "output_type": "stream",
     "text": [
      "Epoch 788: train_loss=0.00777, valid_loss=0.00953, valid_acc=0.765, best_acc=0.778\n"
     ]
    },
    {
     "name": "stderr",
     "output_type": "stream",
     "text": [
      "Epoch 790: 100%|██████████| 125/125 [00:00<00:00, 405.16it/s]\n"
     ]
    },
    {
     "name": "stdout",
     "output_type": "stream",
     "text": [
      "Epoch 789: train_loss=0.00777, valid_loss=0.0096, valid_acc=0.755, best_acc=0.778\n"
     ]
    },
    {
     "name": "stderr",
     "output_type": "stream",
     "text": [
      "Epoch 791: 100%|██████████| 125/125 [00:00<00:00, 407.18it/s]\n"
     ]
    },
    {
     "name": "stdout",
     "output_type": "stream",
     "text": [
      "Epoch 790: train_loss=0.00778, valid_loss=0.0096, valid_acc=0.759, best_acc=0.778\n"
     ]
    },
    {
     "name": "stderr",
     "output_type": "stream",
     "text": [
      "Epoch 792: 100%|██████████| 125/125 [00:00<00:00, 403.24it/s]\n"
     ]
    },
    {
     "name": "stdout",
     "output_type": "stream",
     "text": [
      "Epoch 791: train_loss=0.00777, valid_loss=0.00957, valid_acc=0.7565, best_acc=0.778\n"
     ]
    },
    {
     "name": "stderr",
     "output_type": "stream",
     "text": [
      "Epoch 793: 100%|██████████| 125/125 [00:00<00:00, 401.36it/s]\n"
     ]
    },
    {
     "name": "stdout",
     "output_type": "stream",
     "text": [
      "Epoch 792: train_loss=0.00776, valid_loss=0.0096, valid_acc=0.756, best_acc=0.778\n"
     ]
    },
    {
     "name": "stderr",
     "output_type": "stream",
     "text": [
      "Epoch 794: 100%|██████████| 125/125 [00:00<00:00, 402.38it/s]\n"
     ]
    },
    {
     "name": "stdout",
     "output_type": "stream",
     "text": [
      "Epoch 793: train_loss=0.00776, valid_loss=0.00963, valid_acc=0.7535, best_acc=0.778\n"
     ]
    },
    {
     "name": "stderr",
     "output_type": "stream",
     "text": [
      "Epoch 795: 100%|██████████| 125/125 [00:00<00:00, 408.81it/s]\n"
     ]
    },
    {
     "name": "stdout",
     "output_type": "stream",
     "text": [
      "Epoch 794: train_loss=0.00777, valid_loss=0.00965, valid_acc=0.7505, best_acc=0.778\n"
     ]
    },
    {
     "name": "stderr",
     "output_type": "stream",
     "text": [
      "Epoch 796: 100%|██████████| 125/125 [00:00<00:00, 395.78it/s]\n"
     ]
    },
    {
     "name": "stdout",
     "output_type": "stream",
     "text": [
      "Epoch 795: train_loss=0.00776, valid_loss=0.00961, valid_acc=0.758, best_acc=0.778\n"
     ]
    },
    {
     "name": "stderr",
     "output_type": "stream",
     "text": [
      "Epoch 797: 100%|██████████| 125/125 [00:00<00:00, 404.23it/s]\n"
     ]
    },
    {
     "name": "stdout",
     "output_type": "stream",
     "text": [
      "Epoch 796: train_loss=0.00776, valid_loss=0.00963, valid_acc=0.7555, best_acc=0.778\n"
     ]
    },
    {
     "name": "stderr",
     "output_type": "stream",
     "text": [
      "Epoch 798: 100%|██████████| 125/125 [00:00<00:00, 401.57it/s]\n"
     ]
    },
    {
     "name": "stdout",
     "output_type": "stream",
     "text": [
      "Epoch 797: train_loss=0.00777, valid_loss=0.00964, valid_acc=0.7475, best_acc=0.778\n"
     ]
    },
    {
     "name": "stderr",
     "output_type": "stream",
     "text": [
      "Epoch 799: 100%|██████████| 125/125 [00:00<00:00, 409.22it/s]\n"
     ]
    },
    {
     "name": "stdout",
     "output_type": "stream",
     "text": [
      "Epoch 798: train_loss=0.00778, valid_loss=0.00957, valid_acc=0.7665, best_acc=0.778\n"
     ]
    },
    {
     "name": "stderr",
     "output_type": "stream",
     "text": [
      "Epoch 800: 100%|██████████| 125/125 [00:00<00:00, 405.43it/s]\n"
     ]
    },
    {
     "name": "stdout",
     "output_type": "stream",
     "text": [
      "Epoch 799: train_loss=0.00778, valid_loss=0.00954, valid_acc=0.7705, best_acc=0.778\n"
     ]
    },
    {
     "name": "stderr",
     "output_type": "stream",
     "text": [
      "Epoch 801: 100%|██████████| 125/125 [00:00<00:00, 408.34it/s]\n"
     ]
    },
    {
     "name": "stdout",
     "output_type": "stream",
     "text": [
      "Epoch 800: train_loss=0.00776, valid_loss=0.00956, valid_acc=0.7665, best_acc=0.778\n"
     ]
    },
    {
     "name": "stderr",
     "output_type": "stream",
     "text": [
      "Epoch 802: 100%|██████████| 125/125 [00:00<00:00, 416.66it/s]\n"
     ]
    },
    {
     "name": "stdout",
     "output_type": "stream",
     "text": [
      "Epoch 801: train_loss=0.00779, valid_loss=0.0096, valid_acc=0.7605, best_acc=0.778\n"
     ]
    },
    {
     "name": "stderr",
     "output_type": "stream",
     "text": [
      "Epoch 803: 100%|██████████| 125/125 [00:00<00:00, 393.63it/s]\n"
     ]
    },
    {
     "name": "stdout",
     "output_type": "stream",
     "text": [
      "Epoch 802: train_loss=0.00778, valid_loss=0.0096, valid_acc=0.759, best_acc=0.778\n"
     ]
    },
    {
     "name": "stderr",
     "output_type": "stream",
     "text": [
      "Epoch 804: 100%|██████████| 125/125 [00:00<00:00, 402.20it/s]\n"
     ]
    },
    {
     "name": "stdout",
     "output_type": "stream",
     "text": [
      "Epoch 803: train_loss=0.0078, valid_loss=0.00963, valid_acc=0.7555, best_acc=0.778\n"
     ]
    },
    {
     "name": "stderr",
     "output_type": "stream",
     "text": [
      "Epoch 805: 100%|██████████| 125/125 [00:00<00:00, 401.79it/s]\n"
     ]
    },
    {
     "name": "stdout",
     "output_type": "stream",
     "text": [
      "Epoch 804: train_loss=0.00778, valid_loss=0.00957, valid_acc=0.7635, best_acc=0.778\n"
     ]
    },
    {
     "name": "stderr",
     "output_type": "stream",
     "text": [
      "Epoch 806: 100%|██████████| 125/125 [00:00<00:00, 402.38it/s]\n"
     ]
    },
    {
     "name": "stdout",
     "output_type": "stream",
     "text": [
      "Epoch 805: train_loss=0.0078, valid_loss=0.00958, valid_acc=0.756, best_acc=0.778\n"
     ]
    },
    {
     "name": "stderr",
     "output_type": "stream",
     "text": [
      "Epoch 807: 100%|██████████| 125/125 [00:00<00:00, 401.58it/s]\n"
     ]
    },
    {
     "name": "stdout",
     "output_type": "stream",
     "text": [
      "Epoch 806: train_loss=0.0078, valid_loss=0.00966, valid_acc=0.748, best_acc=0.778\n"
     ]
    },
    {
     "name": "stderr",
     "output_type": "stream",
     "text": [
      "Epoch 808: 100%|██████████| 125/125 [00:00<00:00, 400.23it/s]\n"
     ]
    },
    {
     "name": "stdout",
     "output_type": "stream",
     "text": [
      "Epoch 807: train_loss=0.00782, valid_loss=0.00965, valid_acc=0.745, best_acc=0.778\n"
     ]
    },
    {
     "name": "stderr",
     "output_type": "stream",
     "text": [
      "Epoch 809: 100%|██████████| 125/125 [00:00<00:00, 409.91it/s]\n"
     ]
    },
    {
     "name": "stdout",
     "output_type": "stream",
     "text": [
      "Epoch 808: train_loss=0.00789, valid_loss=0.00971, valid_acc=0.7475, best_acc=0.778\n"
     ]
    },
    {
     "name": "stderr",
     "output_type": "stream",
     "text": [
      "Epoch 810: 100%|██████████| 125/125 [00:00<00:00, 406.97it/s]\n"
     ]
    },
    {
     "name": "stdout",
     "output_type": "stream",
     "text": [
      "Epoch 809: train_loss=0.00787, valid_loss=0.00974, valid_acc=0.741, best_acc=0.778\n"
     ]
    },
    {
     "name": "stderr",
     "output_type": "stream",
     "text": [
      "Epoch 811: 100%|██████████| 125/125 [00:00<00:00, 403.91it/s]\n"
     ]
    },
    {
     "name": "stdout",
     "output_type": "stream",
     "text": [
      "Epoch 810: train_loss=0.00782, valid_loss=0.00968, valid_acc=0.746, best_acc=0.778\n"
     ]
    },
    {
     "name": "stderr",
     "output_type": "stream",
     "text": [
      "Epoch 812: 100%|██████████| 125/125 [00:00<00:00, 407.56it/s]\n"
     ]
    },
    {
     "name": "stdout",
     "output_type": "stream",
     "text": [
      "Epoch 811: train_loss=0.0078, valid_loss=0.0097, valid_acc=0.749, best_acc=0.778\n"
     ]
    },
    {
     "name": "stderr",
     "output_type": "stream",
     "text": [
      "Epoch 813: 100%|██████████| 125/125 [00:00<00:00, 411.11it/s]\n"
     ]
    },
    {
     "name": "stdout",
     "output_type": "stream",
     "text": [
      "Epoch 812: train_loss=0.00783, valid_loss=0.00969, valid_acc=0.741, best_acc=0.778\n"
     ]
    },
    {
     "name": "stderr",
     "output_type": "stream",
     "text": [
      "Epoch 814: 100%|██████████| 125/125 [00:00<00:00, 403.95it/s]\n"
     ]
    },
    {
     "name": "stdout",
     "output_type": "stream",
     "text": [
      "Epoch 813: train_loss=0.00788, valid_loss=0.00978, valid_acc=0.738, best_acc=0.778\n"
     ]
    },
    {
     "name": "stderr",
     "output_type": "stream",
     "text": [
      "Epoch 815: 100%|██████████| 125/125 [00:00<00:00, 405.02it/s]\n"
     ]
    },
    {
     "name": "stdout",
     "output_type": "stream",
     "text": [
      "Epoch 814: train_loss=0.00786, valid_loss=0.00973, valid_acc=0.741, best_acc=0.778\n"
     ]
    },
    {
     "name": "stderr",
     "output_type": "stream",
     "text": [
      "Epoch 816: 100%|██████████| 125/125 [00:00<00:00, 401.53it/s]\n"
     ]
    },
    {
     "name": "stdout",
     "output_type": "stream",
     "text": [
      "Epoch 815: train_loss=0.00784, valid_loss=0.00967, valid_acc=0.7455, best_acc=0.778\n"
     ]
    },
    {
     "name": "stderr",
     "output_type": "stream",
     "text": [
      "Epoch 817: 100%|██████████| 125/125 [00:00<00:00, 386.10it/s]\n"
     ]
    },
    {
     "name": "stdout",
     "output_type": "stream",
     "text": [
      "Epoch 816: train_loss=0.00782, valid_loss=0.00968, valid_acc=0.742, best_acc=0.778\n"
     ]
    },
    {
     "name": "stderr",
     "output_type": "stream",
     "text": [
      "Epoch 818: 100%|██████████| 125/125 [00:00<00:00, 411.58it/s]\n"
     ]
    },
    {
     "name": "stdout",
     "output_type": "stream",
     "text": [
      "Epoch 817: train_loss=0.00787, valid_loss=0.00963, valid_acc=0.748, best_acc=0.778\n"
     ]
    },
    {
     "name": "stderr",
     "output_type": "stream",
     "text": [
      "Epoch 819: 100%|██████████| 125/125 [00:00<00:00, 400.92it/s]\n"
     ]
    },
    {
     "name": "stdout",
     "output_type": "stream",
     "text": [
      "Epoch 818: train_loss=0.00783, valid_loss=0.00964, valid_acc=0.7455, best_acc=0.778\n"
     ]
    },
    {
     "name": "stderr",
     "output_type": "stream",
     "text": [
      "Epoch 820: 100%|██████████| 125/125 [00:00<00:00, 400.47it/s]\n"
     ]
    },
    {
     "name": "stdout",
     "output_type": "stream",
     "text": [
      "Epoch 819: train_loss=0.00781, valid_loss=0.00961, valid_acc=0.755, best_acc=0.778\n"
     ]
    },
    {
     "name": "stderr",
     "output_type": "stream",
     "text": [
      "Epoch 821: 100%|██████████| 125/125 [00:00<00:00, 403.41it/s]\n"
     ]
    },
    {
     "name": "stdout",
     "output_type": "stream",
     "text": [
      "Epoch 820: train_loss=0.00779, valid_loss=0.00958, valid_acc=0.758, best_acc=0.778\n"
     ]
    },
    {
     "name": "stderr",
     "output_type": "stream",
     "text": [
      "Epoch 822: 100%|██████████| 125/125 [00:00<00:00, 422.84it/s]\n"
     ]
    },
    {
     "name": "stdout",
     "output_type": "stream",
     "text": [
      "Epoch 821: train_loss=0.00779, valid_loss=0.00959, valid_acc=0.7565, best_acc=0.778\n"
     ]
    },
    {
     "name": "stderr",
     "output_type": "stream",
     "text": [
      "Epoch 823: 100%|██████████| 125/125 [00:00<00:00, 410.99it/s]\n"
     ]
    },
    {
     "name": "stdout",
     "output_type": "stream",
     "text": [
      "Epoch 822: train_loss=0.00779, valid_loss=0.00963, valid_acc=0.7525, best_acc=0.778\n"
     ]
    },
    {
     "name": "stderr",
     "output_type": "stream",
     "text": [
      "Epoch 824: 100%|██████████| 125/125 [00:00<00:00, 404.66it/s]\n"
     ]
    },
    {
     "name": "stdout",
     "output_type": "stream",
     "text": [
      "Epoch 823: train_loss=0.00777, valid_loss=0.00969, valid_acc=0.744, best_acc=0.778\n"
     ]
    },
    {
     "name": "stderr",
     "output_type": "stream",
     "text": [
      "Epoch 825: 100%|██████████| 125/125 [00:00<00:00, 402.94it/s]\n"
     ]
    },
    {
     "name": "stdout",
     "output_type": "stream",
     "text": [
      "Epoch 824: train_loss=0.00777, valid_loss=0.00965, valid_acc=0.748, best_acc=0.778\n"
     ]
    },
    {
     "name": "stderr",
     "output_type": "stream",
     "text": [
      "Epoch 826: 100%|██████████| 125/125 [00:00<00:00, 399.09it/s]\n"
     ]
    },
    {
     "name": "stdout",
     "output_type": "stream",
     "text": [
      "Epoch 825: train_loss=0.00777, valid_loss=0.00965, valid_acc=0.7505, best_acc=0.778\n"
     ]
    },
    {
     "name": "stderr",
     "output_type": "stream",
     "text": [
      "Epoch 827: 100%|██████████| 125/125 [00:00<00:00, 407.09it/s]\n"
     ]
    },
    {
     "name": "stdout",
     "output_type": "stream",
     "text": [
      "Epoch 826: train_loss=0.00777, valid_loss=0.00967, valid_acc=0.753, best_acc=0.778\n"
     ]
    },
    {
     "name": "stderr",
     "output_type": "stream",
     "text": [
      "Epoch 828: 100%|██████████| 125/125 [00:00<00:00, 396.62it/s]\n"
     ]
    },
    {
     "name": "stdout",
     "output_type": "stream",
     "text": [
      "Epoch 827: train_loss=0.00777, valid_loss=0.00961, valid_acc=0.758, best_acc=0.778\n"
     ]
    },
    {
     "name": "stderr",
     "output_type": "stream",
     "text": [
      "Epoch 829: 100%|██████████| 125/125 [00:00<00:00, 402.98it/s]\n"
     ]
    },
    {
     "name": "stdout",
     "output_type": "stream",
     "text": [
      "Epoch 828: train_loss=0.00777, valid_loss=0.00959, valid_acc=0.763, best_acc=0.778\n"
     ]
    },
    {
     "name": "stderr",
     "output_type": "stream",
     "text": [
      "Epoch 830: 100%|██████████| 125/125 [00:00<00:00, 399.33it/s]\n"
     ]
    },
    {
     "name": "stdout",
     "output_type": "stream",
     "text": [
      "Epoch 829: train_loss=0.00777, valid_loss=0.00957, valid_acc=0.7655, best_acc=0.778\n"
     ]
    },
    {
     "name": "stderr",
     "output_type": "stream",
     "text": [
      "Epoch 831: 100%|██████████| 125/125 [00:00<00:00, 403.45it/s]\n"
     ]
    },
    {
     "name": "stdout",
     "output_type": "stream",
     "text": [
      "Epoch 830: train_loss=0.00778, valid_loss=0.00965, valid_acc=0.7535, best_acc=0.778\n"
     ]
    },
    {
     "name": "stderr",
     "output_type": "stream",
     "text": [
      "Epoch 832: 100%|██████████| 125/125 [00:00<00:00, 396.40it/s]\n"
     ]
    },
    {
     "name": "stdout",
     "output_type": "stream",
     "text": [
      "Epoch 831: train_loss=0.00778, valid_loss=0.00964, valid_acc=0.7585, best_acc=0.778\n"
     ]
    },
    {
     "name": "stderr",
     "output_type": "stream",
     "text": [
      "Epoch 833: 100%|██████████| 125/125 [00:00<00:00, 410.83it/s]\n"
     ]
    },
    {
     "name": "stdout",
     "output_type": "stream",
     "text": [
      "Epoch 832: train_loss=0.00778, valid_loss=0.00962, valid_acc=0.7595, best_acc=0.778\n"
     ]
    },
    {
     "name": "stderr",
     "output_type": "stream",
     "text": [
      "Epoch 834: 100%|██████████| 125/125 [00:00<00:00, 409.26it/s]\n"
     ]
    },
    {
     "name": "stdout",
     "output_type": "stream",
     "text": [
      "Epoch 833: train_loss=0.00777, valid_loss=0.00959, valid_acc=0.7625, best_acc=0.778\n"
     ]
    },
    {
     "name": "stderr",
     "output_type": "stream",
     "text": [
      "Epoch 835: 100%|██████████| 125/125 [00:00<00:00, 416.27it/s]\n"
     ]
    },
    {
     "name": "stdout",
     "output_type": "stream",
     "text": [
      "Epoch 834: train_loss=0.00777, valid_loss=0.00956, valid_acc=0.765, best_acc=0.778\n"
     ]
    },
    {
     "name": "stderr",
     "output_type": "stream",
     "text": [
      "Epoch 836: 100%|██████████| 125/125 [00:00<00:00, 423.48it/s]\n"
     ]
    },
    {
     "name": "stdout",
     "output_type": "stream",
     "text": [
      "Epoch 835: train_loss=0.00779, valid_loss=0.0096, valid_acc=0.757, best_acc=0.778\n"
     ]
    },
    {
     "name": "stderr",
     "output_type": "stream",
     "text": [
      "Epoch 837: 100%|██████████| 125/125 [00:00<00:00, 425.66it/s]\n"
     ]
    },
    {
     "name": "stdout",
     "output_type": "stream",
     "text": [
      "Epoch 836: train_loss=0.00778, valid_loss=0.0096, valid_acc=0.7535, best_acc=0.778\n"
     ]
    },
    {
     "name": "stderr",
     "output_type": "stream",
     "text": [
      "Epoch 838: 100%|██████████| 125/125 [00:00<00:00, 411.26it/s]\n"
     ]
    },
    {
     "name": "stdout",
     "output_type": "stream",
     "text": [
      "Epoch 837: train_loss=0.00779, valid_loss=0.00959, valid_acc=0.756, best_acc=0.778\n"
     ]
    },
    {
     "name": "stderr",
     "output_type": "stream",
     "text": [
      "Epoch 839: 100%|██████████| 125/125 [00:00<00:00, 421.81it/s]\n"
     ]
    },
    {
     "name": "stdout",
     "output_type": "stream",
     "text": [
      "Epoch 838: train_loss=0.00781, valid_loss=0.00962, valid_acc=0.7565, best_acc=0.778\n"
     ]
    },
    {
     "name": "stderr",
     "output_type": "stream",
     "text": [
      "Epoch 840: 100%|██████████| 125/125 [00:00<00:00, 392.84it/s]\n"
     ]
    },
    {
     "name": "stdout",
     "output_type": "stream",
     "text": [
      "Epoch 839: train_loss=0.00779, valid_loss=0.00963, valid_acc=0.754, best_acc=0.778\n"
     ]
    },
    {
     "name": "stderr",
     "output_type": "stream",
     "text": [
      "Epoch 841: 100%|██████████| 125/125 [00:00<00:00, 399.24it/s]\n"
     ]
    },
    {
     "name": "stdout",
     "output_type": "stream",
     "text": [
      "Epoch 840: train_loss=0.00779, valid_loss=0.00968, valid_acc=0.7475, best_acc=0.778\n"
     ]
    },
    {
     "name": "stderr",
     "output_type": "stream",
     "text": [
      "Epoch 842: 100%|██████████| 125/125 [00:00<00:00, 428.53it/s]\n"
     ]
    },
    {
     "name": "stdout",
     "output_type": "stream",
     "text": [
      "Epoch 841: train_loss=0.00778, valid_loss=0.00966, valid_acc=0.7515, best_acc=0.778\n"
     ]
    },
    {
     "name": "stderr",
     "output_type": "stream",
     "text": [
      "Epoch 843: 100%|██████████| 125/125 [00:00<00:00, 400.51it/s]\n"
     ]
    },
    {
     "name": "stdout",
     "output_type": "stream",
     "text": [
      "Epoch 842: train_loss=0.00778, valid_loss=0.00957, valid_acc=0.7635, best_acc=0.778\n"
     ]
    },
    {
     "name": "stderr",
     "output_type": "stream",
     "text": [
      "Epoch 844: 100%|██████████| 125/125 [00:00<00:00, 410.81it/s]\n"
     ]
    },
    {
     "name": "stdout",
     "output_type": "stream",
     "text": [
      "Epoch 843: train_loss=0.00779, valid_loss=0.00955, valid_acc=0.7635, best_acc=0.778\n"
     ]
    },
    {
     "name": "stderr",
     "output_type": "stream",
     "text": [
      "Epoch 845: 100%|██████████| 125/125 [00:00<00:00, 401.22it/s]\n"
     ]
    },
    {
     "name": "stdout",
     "output_type": "stream",
     "text": [
      "Epoch 844: train_loss=0.00777, valid_loss=0.00959, valid_acc=0.761, best_acc=0.778\n"
     ]
    },
    {
     "name": "stderr",
     "output_type": "stream",
     "text": [
      "Epoch 846: 100%|██████████| 125/125 [00:00<00:00, 408.24it/s]\n"
     ]
    },
    {
     "name": "stdout",
     "output_type": "stream",
     "text": [
      "Epoch 845: train_loss=0.00779, valid_loss=0.00958, valid_acc=0.761, best_acc=0.778\n"
     ]
    },
    {
     "name": "stderr",
     "output_type": "stream",
     "text": [
      "Epoch 847: 100%|██████████| 125/125 [00:00<00:00, 413.35it/s]\n"
     ]
    },
    {
     "name": "stdout",
     "output_type": "stream",
     "text": [
      "Epoch 846: train_loss=0.00776, valid_loss=0.00959, valid_acc=0.7595, best_acc=0.778\n"
     ]
    },
    {
     "name": "stderr",
     "output_type": "stream",
     "text": [
      "Epoch 848: 100%|██████████| 125/125 [00:00<00:00, 405.82it/s]\n"
     ]
    },
    {
     "name": "stdout",
     "output_type": "stream",
     "text": [
      "Epoch 847: train_loss=0.00777, valid_loss=0.0096, valid_acc=0.7595, best_acc=0.778\n"
     ]
    },
    {
     "name": "stderr",
     "output_type": "stream",
     "text": [
      "Epoch 849: 100%|██████████| 125/125 [00:00<00:00, 392.87it/s]\n"
     ]
    },
    {
     "name": "stdout",
     "output_type": "stream",
     "text": [
      "Epoch 848: train_loss=0.00777, valid_loss=0.00962, valid_acc=0.759, best_acc=0.778\n"
     ]
    },
    {
     "name": "stderr",
     "output_type": "stream",
     "text": [
      "Epoch 850: 100%|██████████| 125/125 [00:00<00:00, 408.76it/s]\n"
     ]
    },
    {
     "name": "stdout",
     "output_type": "stream",
     "text": [
      "Epoch 849: train_loss=0.00776, valid_loss=0.00969, valid_acc=0.752, best_acc=0.778\n"
     ]
    },
    {
     "name": "stderr",
     "output_type": "stream",
     "text": [
      "Epoch 851: 100%|██████████| 125/125 [00:00<00:00, 405.86it/s]\n"
     ]
    },
    {
     "name": "stdout",
     "output_type": "stream",
     "text": [
      "Epoch 850: train_loss=0.00785, valid_loss=0.00982, valid_acc=0.7355, best_acc=0.778\n"
     ]
    },
    {
     "name": "stderr",
     "output_type": "stream",
     "text": [
      "Epoch 852: 100%|██████████| 125/125 [00:00<00:00, 398.90it/s]\n"
     ]
    },
    {
     "name": "stdout",
     "output_type": "stream",
     "text": [
      "Epoch 851: train_loss=0.00782, valid_loss=0.00972, valid_acc=0.7475, best_acc=0.778\n"
     ]
    },
    {
     "name": "stderr",
     "output_type": "stream",
     "text": [
      "Epoch 853: 100%|██████████| 125/125 [00:00<00:00, 415.56it/s]\n"
     ]
    },
    {
     "name": "stdout",
     "output_type": "stream",
     "text": [
      "Epoch 852: train_loss=0.00778, valid_loss=0.00969, valid_acc=0.753, best_acc=0.778\n"
     ]
    },
    {
     "name": "stderr",
     "output_type": "stream",
     "text": [
      "Epoch 854: 100%|██████████| 125/125 [00:00<00:00, 413.87it/s]\n"
     ]
    },
    {
     "name": "stdout",
     "output_type": "stream",
     "text": [
      "Epoch 853: train_loss=0.00783, valid_loss=0.00975, valid_acc=0.741, best_acc=0.778\n"
     ]
    },
    {
     "name": "stderr",
     "output_type": "stream",
     "text": [
      "Epoch 855: 100%|██████████| 125/125 [00:00<00:00, 404.73it/s]\n"
     ]
    },
    {
     "name": "stdout",
     "output_type": "stream",
     "text": [
      "Epoch 854: train_loss=0.00783, valid_loss=0.00966, valid_acc=0.7535, best_acc=0.778\n"
     ]
    },
    {
     "name": "stderr",
     "output_type": "stream",
     "text": [
      "Epoch 856: 100%|██████████| 125/125 [00:00<00:00, 427.48it/s]\n"
     ]
    },
    {
     "name": "stdout",
     "output_type": "stream",
     "text": [
      "Epoch 855: train_loss=0.00784, valid_loss=0.00972, valid_acc=0.744, best_acc=0.778\n"
     ]
    },
    {
     "name": "stderr",
     "output_type": "stream",
     "text": [
      "Epoch 857: 100%|██████████| 125/125 [00:00<00:00, 429.51it/s]\n"
     ]
    },
    {
     "name": "stdout",
     "output_type": "stream",
     "text": [
      "Epoch 856: train_loss=0.00783, valid_loss=0.00964, valid_acc=0.7515, best_acc=0.778\n"
     ]
    },
    {
     "name": "stderr",
     "output_type": "stream",
     "text": [
      "Epoch 858: 100%|██████████| 125/125 [00:00<00:00, 405.35it/s]\n"
     ]
    },
    {
     "name": "stdout",
     "output_type": "stream",
     "text": [
      "Epoch 857: train_loss=0.00787, valid_loss=0.00981, valid_acc=0.739, best_acc=0.778\n"
     ]
    },
    {
     "name": "stderr",
     "output_type": "stream",
     "text": [
      "Epoch 859: 100%|██████████| 125/125 [00:00<00:00, 392.61it/s]\n"
     ]
    },
    {
     "name": "stdout",
     "output_type": "stream",
     "text": [
      "Epoch 858: train_loss=0.00795, valid_loss=0.00975, valid_acc=0.7425, best_acc=0.778\n"
     ]
    },
    {
     "name": "stderr",
     "output_type": "stream",
     "text": [
      "Epoch 860: 100%|██████████| 125/125 [00:00<00:00, 405.23it/s]\n"
     ]
    },
    {
     "name": "stdout",
     "output_type": "stream",
     "text": [
      "Epoch 859: train_loss=0.0079, valid_loss=0.00974, valid_acc=0.7435, best_acc=0.778\n"
     ]
    },
    {
     "name": "stderr",
     "output_type": "stream",
     "text": [
      "Epoch 861: 100%|██████████| 125/125 [00:00<00:00, 396.86it/s]\n"
     ]
    },
    {
     "name": "stdout",
     "output_type": "stream",
     "text": [
      "Epoch 860: train_loss=0.00787, valid_loss=0.00967, valid_acc=0.749, best_acc=0.778\n"
     ]
    },
    {
     "name": "stderr",
     "output_type": "stream",
     "text": [
      "Epoch 862: 100%|██████████| 125/125 [00:00<00:00, 399.84it/s]\n"
     ]
    },
    {
     "name": "stdout",
     "output_type": "stream",
     "text": [
      "Epoch 861: train_loss=0.00788, valid_loss=0.0097, valid_acc=0.744, best_acc=0.778\n"
     ]
    },
    {
     "name": "stderr",
     "output_type": "stream",
     "text": [
      "Epoch 863: 100%|██████████| 125/125 [00:00<00:00, 401.67it/s]\n"
     ]
    },
    {
     "name": "stdout",
     "output_type": "stream",
     "text": [
      "Epoch 862: train_loss=0.00791, valid_loss=0.00967, valid_acc=0.7435, best_acc=0.778\n"
     ]
    },
    {
     "name": "stderr",
     "output_type": "stream",
     "text": [
      "Epoch 864: 100%|██████████| 125/125 [00:00<00:00, 390.28it/s]\n"
     ]
    },
    {
     "name": "stdout",
     "output_type": "stream",
     "text": [
      "Epoch 863: train_loss=0.0079, valid_loss=0.00964, valid_acc=0.747, best_acc=0.778\n"
     ]
    },
    {
     "name": "stderr",
     "output_type": "stream",
     "text": [
      "Epoch 865: 100%|██████████| 125/125 [00:00<00:00, 418.46it/s]\n"
     ]
    },
    {
     "name": "stdout",
     "output_type": "stream",
     "text": [
      "Epoch 864: train_loss=0.00788, valid_loss=0.00963, valid_acc=0.753, best_acc=0.778\n"
     ]
    },
    {
     "name": "stderr",
     "output_type": "stream",
     "text": [
      "Epoch 866: 100%|██████████| 125/125 [00:00<00:00, 429.02it/s]\n"
     ]
    },
    {
     "name": "stdout",
     "output_type": "stream",
     "text": [
      "Epoch 865: train_loss=0.00786, valid_loss=0.00964, valid_acc=0.7545, best_acc=0.778\n"
     ]
    },
    {
     "name": "stderr",
     "output_type": "stream",
     "text": [
      "Epoch 867: 100%|██████████| 125/125 [00:00<00:00, 427.37it/s]\n"
     ]
    },
    {
     "name": "stdout",
     "output_type": "stream",
     "text": [
      "Epoch 866: train_loss=0.00782, valid_loss=0.0096, valid_acc=0.7585, best_acc=0.778\n"
     ]
    },
    {
     "name": "stderr",
     "output_type": "stream",
     "text": [
      "Epoch 868: 100%|██████████| 125/125 [00:00<00:00, 429.14it/s]\n"
     ]
    },
    {
     "name": "stdout",
     "output_type": "stream",
     "text": [
      "Epoch 867: train_loss=0.00781, valid_loss=0.00959, valid_acc=0.76, best_acc=0.778\n"
     ]
    },
    {
     "name": "stderr",
     "output_type": "stream",
     "text": [
      "Epoch 869: 100%|██████████| 125/125 [00:00<00:00, 424.81it/s]\n"
     ]
    },
    {
     "name": "stdout",
     "output_type": "stream",
     "text": [
      "Epoch 868: train_loss=0.00781, valid_loss=0.00963, valid_acc=0.7545, best_acc=0.778\n"
     ]
    },
    {
     "name": "stderr",
     "output_type": "stream",
     "text": [
      "Epoch 870: 100%|██████████| 125/125 [00:00<00:00, 414.38it/s]\n"
     ]
    },
    {
     "name": "stdout",
     "output_type": "stream",
     "text": [
      "Epoch 869: train_loss=0.0078, valid_loss=0.0096, valid_acc=0.756, best_acc=0.778\n"
     ]
    },
    {
     "name": "stderr",
     "output_type": "stream",
     "text": [
      "Epoch 871: 100%|██████████| 125/125 [00:00<00:00, 421.75it/s]\n"
     ]
    },
    {
     "name": "stdout",
     "output_type": "stream",
     "text": [
      "Epoch 870: train_loss=0.0078, valid_loss=0.00955, valid_acc=0.7645, best_acc=0.778\n"
     ]
    },
    {
     "name": "stderr",
     "output_type": "stream",
     "text": [
      "Epoch 872: 100%|██████████| 125/125 [00:00<00:00, 430.54it/s]\n"
     ]
    },
    {
     "name": "stdout",
     "output_type": "stream",
     "text": [
      "Epoch 871: train_loss=0.0078, valid_loss=0.0096, valid_acc=0.758, best_acc=0.778\n"
     ]
    },
    {
     "name": "stderr",
     "output_type": "stream",
     "text": [
      "Epoch 873: 100%|██████████| 125/125 [00:00<00:00, 427.40it/s]\n"
     ]
    },
    {
     "name": "stdout",
     "output_type": "stream",
     "text": [
      "Epoch 872: train_loss=0.0078, valid_loss=0.00969, valid_acc=0.7445, best_acc=0.778\n"
     ]
    },
    {
     "name": "stderr",
     "output_type": "stream",
     "text": [
      "Epoch 874: 100%|██████████| 125/125 [00:00<00:00, 425.57it/s]\n"
     ]
    },
    {
     "name": "stdout",
     "output_type": "stream",
     "text": [
      "Epoch 873: train_loss=0.0078, valid_loss=0.00959, valid_acc=0.7605, best_acc=0.778\n"
     ]
    },
    {
     "name": "stderr",
     "output_type": "stream",
     "text": [
      "Epoch 875: 100%|██████████| 125/125 [00:00<00:00, 417.16it/s]\n"
     ]
    },
    {
     "name": "stdout",
     "output_type": "stream",
     "text": [
      "Epoch 874: train_loss=0.00778, valid_loss=0.00959, valid_acc=0.7635, best_acc=0.778\n"
     ]
    },
    {
     "name": "stderr",
     "output_type": "stream",
     "text": [
      "Epoch 876: 100%|██████████| 125/125 [00:00<00:00, 414.33it/s]\n"
     ]
    },
    {
     "name": "stdout",
     "output_type": "stream",
     "text": [
      "Epoch 875: train_loss=0.00779, valid_loss=0.00962, valid_acc=0.758, best_acc=0.778\n"
     ]
    },
    {
     "name": "stderr",
     "output_type": "stream",
     "text": [
      "Epoch 877: 100%|██████████| 125/125 [00:00<00:00, 424.53it/s]\n"
     ]
    },
    {
     "name": "stdout",
     "output_type": "stream",
     "text": [
      "Epoch 876: train_loss=0.00778, valid_loss=0.00963, valid_acc=0.757, best_acc=0.778\n"
     ]
    },
    {
     "name": "stderr",
     "output_type": "stream",
     "text": [
      "Epoch 878: 100%|██████████| 125/125 [00:00<00:00, 432.66it/s]\n"
     ]
    },
    {
     "name": "stdout",
     "output_type": "stream",
     "text": [
      "Epoch 877: train_loss=0.00777, valid_loss=0.00963, valid_acc=0.753, best_acc=0.778\n"
     ]
    },
    {
     "name": "stderr",
     "output_type": "stream",
     "text": [
      "Epoch 879: 100%|██████████| 125/125 [00:00<00:00, 426.37it/s]\n"
     ]
    },
    {
     "name": "stdout",
     "output_type": "stream",
     "text": [
      "Epoch 878: train_loss=0.00778, valid_loss=0.00965, valid_acc=0.7555, best_acc=0.778\n"
     ]
    },
    {
     "name": "stderr",
     "output_type": "stream",
     "text": [
      "Epoch 880: 100%|██████████| 125/125 [00:00<00:00, 369.20it/s]\n"
     ]
    },
    {
     "name": "stdout",
     "output_type": "stream",
     "text": [
      "Epoch 879: train_loss=0.00777, valid_loss=0.00963, valid_acc=0.759, best_acc=0.778\n"
     ]
    },
    {
     "name": "stderr",
     "output_type": "stream",
     "text": [
      "Epoch 881: 100%|██████████| 125/125 [00:00<00:00, 410.86it/s]\n"
     ]
    },
    {
     "name": "stdout",
     "output_type": "stream",
     "text": [
      "Epoch 880: train_loss=0.00777, valid_loss=0.0096, valid_acc=0.7635, best_acc=0.778\n"
     ]
    },
    {
     "name": "stderr",
     "output_type": "stream",
     "text": [
      "Epoch 882: 100%|██████████| 125/125 [00:00<00:00, 419.87it/s]\n"
     ]
    },
    {
     "name": "stdout",
     "output_type": "stream",
     "text": [
      "Epoch 881: train_loss=0.00777, valid_loss=0.00961, valid_acc=0.761, best_acc=0.778\n"
     ]
    },
    {
     "name": "stderr",
     "output_type": "stream",
     "text": [
      "Epoch 883: 100%|██████████| 125/125 [00:00<00:00, 407.38it/s]\n"
     ]
    },
    {
     "name": "stdout",
     "output_type": "stream",
     "text": [
      "Epoch 882: train_loss=0.00777, valid_loss=0.0096, valid_acc=0.7625, best_acc=0.778\n"
     ]
    },
    {
     "name": "stderr",
     "output_type": "stream",
     "text": [
      "Epoch 884: 100%|██████████| 125/125 [00:00<00:00, 410.51it/s]\n"
     ]
    },
    {
     "name": "stdout",
     "output_type": "stream",
     "text": [
      "Epoch 883: train_loss=0.00776, valid_loss=0.00962, valid_acc=0.763, best_acc=0.778\n"
     ]
    },
    {
     "name": "stderr",
     "output_type": "stream",
     "text": [
      "Epoch 885: 100%|██████████| 125/125 [00:00<00:00, 406.35it/s]\n"
     ]
    },
    {
     "name": "stdout",
     "output_type": "stream",
     "text": [
      "Epoch 884: train_loss=0.00776, valid_loss=0.00957, valid_acc=0.765, best_acc=0.778\n"
     ]
    },
    {
     "name": "stderr",
     "output_type": "stream",
     "text": [
      "Epoch 886: 100%|██████████| 125/125 [00:00<00:00, 400.69it/s]\n"
     ]
    },
    {
     "name": "stdout",
     "output_type": "stream",
     "text": [
      "Epoch 885: train_loss=0.0078, valid_loss=0.00965, valid_acc=0.753, best_acc=0.778\n"
     ]
    },
    {
     "name": "stderr",
     "output_type": "stream",
     "text": [
      "Epoch 887: 100%|██████████| 125/125 [00:00<00:00, 402.83it/s]\n"
     ]
    },
    {
     "name": "stdout",
     "output_type": "stream",
     "text": [
      "Epoch 886: train_loss=0.0078, valid_loss=0.00967, valid_acc=0.7515, best_acc=0.778\n"
     ]
    },
    {
     "name": "stderr",
     "output_type": "stream",
     "text": [
      "Epoch 888: 100%|██████████| 125/125 [00:00<00:00, 403.48it/s]\n"
     ]
    },
    {
     "name": "stdout",
     "output_type": "stream",
     "text": [
      "Epoch 887: train_loss=0.00777, valid_loss=0.0096, valid_acc=0.7615, best_acc=0.778\n"
     ]
    },
    {
     "name": "stderr",
     "output_type": "stream",
     "text": [
      "Epoch 889: 100%|██████████| 125/125 [00:00<00:00, 404.38it/s]\n"
     ]
    },
    {
     "name": "stdout",
     "output_type": "stream",
     "text": [
      "Epoch 888: train_loss=0.00777, valid_loss=0.00961, valid_acc=0.757, best_acc=0.778\n"
     ]
    },
    {
     "name": "stderr",
     "output_type": "stream",
     "text": [
      "Epoch 890: 100%|██████████| 125/125 [00:00<00:00, 403.12it/s]\n"
     ]
    },
    {
     "name": "stdout",
     "output_type": "stream",
     "text": [
      "Epoch 889: train_loss=0.00778, valid_loss=0.00958, valid_acc=0.7645, best_acc=0.778\n"
     ]
    },
    {
     "name": "stderr",
     "output_type": "stream",
     "text": [
      "Epoch 891: 100%|██████████| 125/125 [00:00<00:00, 421.51it/s]\n"
     ]
    },
    {
     "name": "stdout",
     "output_type": "stream",
     "text": [
      "Epoch 890: train_loss=0.0078, valid_loss=0.00962, valid_acc=0.755, best_acc=0.778\n"
     ]
    },
    {
     "name": "stderr",
     "output_type": "stream",
     "text": [
      "Epoch 892: 100%|██████████| 125/125 [00:00<00:00, 417.72it/s]\n"
     ]
    },
    {
     "name": "stdout",
     "output_type": "stream",
     "text": [
      "Epoch 891: train_loss=0.00777, valid_loss=0.0096, valid_acc=0.7585, best_acc=0.778\n"
     ]
    },
    {
     "name": "stderr",
     "output_type": "stream",
     "text": [
      "Epoch 893: 100%|██████████| 125/125 [00:00<00:00, 402.47it/s]\n"
     ]
    },
    {
     "name": "stdout",
     "output_type": "stream",
     "text": [
      "Epoch 892: train_loss=0.00777, valid_loss=0.00966, valid_acc=0.7495, best_acc=0.778\n"
     ]
    },
    {
     "name": "stderr",
     "output_type": "stream",
     "text": [
      "Epoch 894: 100%|██████████| 125/125 [00:00<00:00, 408.38it/s]\n"
     ]
    },
    {
     "name": "stdout",
     "output_type": "stream",
     "text": [
      "Epoch 893: train_loss=0.00777, valid_loss=0.00962, valid_acc=0.757, best_acc=0.778\n"
     ]
    },
    {
     "name": "stderr",
     "output_type": "stream",
     "text": [
      "Epoch 895: 100%|██████████| 125/125 [00:00<00:00, 406.18it/s]\n"
     ]
    },
    {
     "name": "stdout",
     "output_type": "stream",
     "text": [
      "Epoch 894: train_loss=0.00777, valid_loss=0.0096, valid_acc=0.757, best_acc=0.778\n"
     ]
    },
    {
     "name": "stderr",
     "output_type": "stream",
     "text": [
      "Epoch 896: 100%|██████████| 125/125 [00:00<00:00, 428.51it/s]\n"
     ]
    },
    {
     "name": "stdout",
     "output_type": "stream",
     "text": [
      "Epoch 895: train_loss=0.00778, valid_loss=0.00964, valid_acc=0.7535, best_acc=0.778\n"
     ]
    },
    {
     "name": "stderr",
     "output_type": "stream",
     "text": [
      "Epoch 897: 100%|██████████| 125/125 [00:00<00:00, 417.05it/s]\n"
     ]
    },
    {
     "name": "stdout",
     "output_type": "stream",
     "text": [
      "Epoch 896: train_loss=0.00777, valid_loss=0.00957, valid_acc=0.7645, best_acc=0.778\n"
     ]
    },
    {
     "name": "stderr",
     "output_type": "stream",
     "text": [
      "Epoch 898: 100%|██████████| 125/125 [00:00<00:00, 419.00it/s]\n"
     ]
    },
    {
     "name": "stdout",
     "output_type": "stream",
     "text": [
      "Epoch 897: train_loss=0.00776, valid_loss=0.0096, valid_acc=0.759, best_acc=0.778\n"
     ]
    },
    {
     "name": "stderr",
     "output_type": "stream",
     "text": [
      "Epoch 899: 100%|██████████| 125/125 [00:00<00:00, 426.29it/s]\n"
     ]
    },
    {
     "name": "stdout",
     "output_type": "stream",
     "text": [
      "Epoch 898: train_loss=0.00778, valid_loss=0.0096, valid_acc=0.76, best_acc=0.778\n"
     ]
    },
    {
     "name": "stderr",
     "output_type": "stream",
     "text": [
      "Epoch 900: 100%|██████████| 125/125 [00:00<00:00, 400.35it/s]\n"
     ]
    },
    {
     "name": "stdout",
     "output_type": "stream",
     "text": [
      "Epoch 899: train_loss=0.00776, valid_loss=0.00958, valid_acc=0.7645, best_acc=0.778\n"
     ]
    },
    {
     "name": "stderr",
     "output_type": "stream",
     "text": [
      "Epoch 901: 100%|██████████| 125/125 [00:00<00:00, 401.09it/s]\n"
     ]
    },
    {
     "name": "stdout",
     "output_type": "stream",
     "text": [
      "Epoch 900: train_loss=0.00776, valid_loss=0.00965, valid_acc=0.7535, best_acc=0.778\n"
     ]
    },
    {
     "name": "stderr",
     "output_type": "stream",
     "text": [
      "Epoch 902: 100%|██████████| 125/125 [00:00<00:00, 395.09it/s]\n"
     ]
    },
    {
     "name": "stdout",
     "output_type": "stream",
     "text": [
      "Epoch 901: train_loss=0.00776, valid_loss=0.00965, valid_acc=0.7535, best_acc=0.778\n"
     ]
    },
    {
     "name": "stderr",
     "output_type": "stream",
     "text": [
      "Epoch 903: 100%|██████████| 125/125 [00:00<00:00, 401.94it/s]\n"
     ]
    },
    {
     "name": "stdout",
     "output_type": "stream",
     "text": [
      "Epoch 902: train_loss=0.00777, valid_loss=0.00963, valid_acc=0.7555, best_acc=0.778\n"
     ]
    },
    {
     "name": "stderr",
     "output_type": "stream",
     "text": [
      "Epoch 904: 100%|██████████| 125/125 [00:00<00:00, 419.57it/s]\n"
     ]
    },
    {
     "name": "stdout",
     "output_type": "stream",
     "text": [
      "Epoch 903: train_loss=0.00777, valid_loss=0.00962, valid_acc=0.7595, best_acc=0.778\n"
     ]
    },
    {
     "name": "stderr",
     "output_type": "stream",
     "text": [
      "Epoch 905: 100%|██████████| 125/125 [00:00<00:00, 419.66it/s]\n"
     ]
    },
    {
     "name": "stdout",
     "output_type": "stream",
     "text": [
      "Epoch 904: train_loss=0.00776, valid_loss=0.00962, valid_acc=0.7595, best_acc=0.778\n"
     ]
    },
    {
     "name": "stderr",
     "output_type": "stream",
     "text": [
      "Epoch 906: 100%|██████████| 125/125 [00:00<00:00, 415.18it/s]\n"
     ]
    },
    {
     "name": "stdout",
     "output_type": "stream",
     "text": [
      "Epoch 905: train_loss=0.00777, valid_loss=0.00972, valid_acc=0.7475, best_acc=0.778\n"
     ]
    },
    {
     "name": "stderr",
     "output_type": "stream",
     "text": [
      "Epoch 907: 100%|██████████| 125/125 [00:00<00:00, 420.85it/s]\n"
     ]
    },
    {
     "name": "stdout",
     "output_type": "stream",
     "text": [
      "Epoch 906: train_loss=0.00778, valid_loss=0.00972, valid_acc=0.749, best_acc=0.778\n"
     ]
    },
    {
     "name": "stderr",
     "output_type": "stream",
     "text": [
      "Epoch 908: 100%|██████████| 125/125 [00:00<00:00, 428.45it/s]\n"
     ]
    },
    {
     "name": "stdout",
     "output_type": "stream",
     "text": [
      "Epoch 907: train_loss=0.00778, valid_loss=0.00963, valid_acc=0.7545, best_acc=0.778\n"
     ]
    },
    {
     "name": "stderr",
     "output_type": "stream",
     "text": [
      "Epoch 909: 100%|██████████| 125/125 [00:00<00:00, 411.11it/s]\n"
     ]
    },
    {
     "name": "stdout",
     "output_type": "stream",
     "text": [
      "Epoch 908: train_loss=0.00779, valid_loss=0.00973, valid_acc=0.7455, best_acc=0.778\n"
     ]
    },
    {
     "name": "stderr",
     "output_type": "stream",
     "text": [
      "Epoch 910: 100%|██████████| 125/125 [00:00<00:00, 401.59it/s]\n"
     ]
    },
    {
     "name": "stdout",
     "output_type": "stream",
     "text": [
      "Epoch 909: train_loss=0.00778, valid_loss=0.00967, valid_acc=0.749, best_acc=0.778\n"
     ]
    },
    {
     "name": "stderr",
     "output_type": "stream",
     "text": [
      "Epoch 911: 100%|██████████| 125/125 [00:00<00:00, 419.43it/s]\n"
     ]
    },
    {
     "name": "stdout",
     "output_type": "stream",
     "text": [
      "Epoch 910: train_loss=0.00777, valid_loss=0.00968, valid_acc=0.7485, best_acc=0.778\n"
     ]
    },
    {
     "name": "stderr",
     "output_type": "stream",
     "text": [
      "Epoch 912: 100%|██████████| 125/125 [00:00<00:00, 425.79it/s]\n"
     ]
    },
    {
     "name": "stdout",
     "output_type": "stream",
     "text": [
      "Epoch 911: train_loss=0.00778, valid_loss=0.00968, valid_acc=0.754, best_acc=0.778\n"
     ]
    },
    {
     "name": "stderr",
     "output_type": "stream",
     "text": [
      "Epoch 913: 100%|██████████| 125/125 [00:00<00:00, 401.94it/s]\n"
     ]
    },
    {
     "name": "stdout",
     "output_type": "stream",
     "text": [
      "Epoch 912: train_loss=0.00779, valid_loss=0.00975, valid_acc=0.747, best_acc=0.778\n"
     ]
    },
    {
     "name": "stderr",
     "output_type": "stream",
     "text": [
      "Epoch 914: 100%|██████████| 125/125 [00:00<00:00, 410.54it/s]\n"
     ]
    },
    {
     "name": "stdout",
     "output_type": "stream",
     "text": [
      "Epoch 913: train_loss=0.00779, valid_loss=0.00969, valid_acc=0.7515, best_acc=0.778\n"
     ]
    },
    {
     "name": "stderr",
     "output_type": "stream",
     "text": [
      "Epoch 915: 100%|██████████| 125/125 [00:00<00:00, 425.49it/s]\n"
     ]
    },
    {
     "name": "stdout",
     "output_type": "stream",
     "text": [
      "Epoch 914: train_loss=0.00779, valid_loss=0.00976, valid_acc=0.74, best_acc=0.778\n"
     ]
    },
    {
     "name": "stderr",
     "output_type": "stream",
     "text": [
      "Epoch 916: 100%|██████████| 125/125 [00:00<00:00, 416.82it/s]\n"
     ]
    },
    {
     "name": "stdout",
     "output_type": "stream",
     "text": [
      "Epoch 915: train_loss=0.0078, valid_loss=0.00966, valid_acc=0.751, best_acc=0.778\n"
     ]
    },
    {
     "name": "stderr",
     "output_type": "stream",
     "text": [
      "Epoch 917: 100%|██████████| 125/125 [00:00<00:00, 402.86it/s]\n"
     ]
    },
    {
     "name": "stdout",
     "output_type": "stream",
     "text": [
      "Epoch 916: train_loss=0.00781, valid_loss=0.00954, valid_acc=0.767, best_acc=0.778\n"
     ]
    },
    {
     "name": "stderr",
     "output_type": "stream",
     "text": [
      "Epoch 918: 100%|██████████| 125/125 [00:00<00:00, 401.61it/s]\n"
     ]
    },
    {
     "name": "stdout",
     "output_type": "stream",
     "text": [
      "Epoch 917: train_loss=0.00781, valid_loss=0.00968, valid_acc=0.7495, best_acc=0.778\n"
     ]
    },
    {
     "name": "stderr",
     "output_type": "stream",
     "text": [
      "Epoch 919: 100%|██████████| 125/125 [00:00<00:00, 397.67it/s]\n"
     ]
    },
    {
     "name": "stdout",
     "output_type": "stream",
     "text": [
      "Epoch 918: train_loss=0.0078, valid_loss=0.00962, valid_acc=0.7605, best_acc=0.778\n"
     ]
    },
    {
     "name": "stderr",
     "output_type": "stream",
     "text": [
      "Epoch 920: 100%|██████████| 125/125 [00:00<00:00, 422.52it/s]\n"
     ]
    },
    {
     "name": "stdout",
     "output_type": "stream",
     "text": [
      "Epoch 919: train_loss=0.00778, valid_loss=0.00965, valid_acc=0.7545, best_acc=0.778\n"
     ]
    },
    {
     "name": "stderr",
     "output_type": "stream",
     "text": [
      "Epoch 921: 100%|██████████| 125/125 [00:00<00:00, 402.00it/s]\n"
     ]
    },
    {
     "name": "stdout",
     "output_type": "stream",
     "text": [
      "Epoch 920: train_loss=0.00778, valid_loss=0.00967, valid_acc=0.7545, best_acc=0.778\n"
     ]
    },
    {
     "name": "stderr",
     "output_type": "stream",
     "text": [
      "Epoch 922: 100%|██████████| 125/125 [00:00<00:00, 411.05it/s]\n"
     ]
    },
    {
     "name": "stdout",
     "output_type": "stream",
     "text": [
      "Epoch 921: train_loss=0.00778, valid_loss=0.00963, valid_acc=0.7505, best_acc=0.778\n"
     ]
    },
    {
     "name": "stderr",
     "output_type": "stream",
     "text": [
      "Epoch 923: 100%|██████████| 125/125 [00:00<00:00, 404.03it/s]\n"
     ]
    },
    {
     "name": "stdout",
     "output_type": "stream",
     "text": [
      "Epoch 922: train_loss=0.0078, valid_loss=0.00968, valid_acc=0.749, best_acc=0.778\n"
     ]
    },
    {
     "name": "stderr",
     "output_type": "stream",
     "text": [
      "Epoch 924: 100%|██████████| 125/125 [00:00<00:00, 402.75it/s]\n"
     ]
    },
    {
     "name": "stdout",
     "output_type": "stream",
     "text": [
      "Epoch 923: train_loss=0.00777, valid_loss=0.00975, valid_acc=0.7415, best_acc=0.778\n"
     ]
    },
    {
     "name": "stderr",
     "output_type": "stream",
     "text": [
      "Epoch 925: 100%|██████████| 125/125 [00:00<00:00, 414.15it/s]\n"
     ]
    },
    {
     "name": "stdout",
     "output_type": "stream",
     "text": [
      "Epoch 924: train_loss=0.00777, valid_loss=0.00971, valid_acc=0.7515, best_acc=0.778\n"
     ]
    },
    {
     "name": "stderr",
     "output_type": "stream",
     "text": [
      "Epoch 926: 100%|██████████| 125/125 [00:00<00:00, 401.35it/s]\n"
     ]
    },
    {
     "name": "stdout",
     "output_type": "stream",
     "text": [
      "Epoch 925: train_loss=0.00778, valid_loss=0.00972, valid_acc=0.7515, best_acc=0.778\n"
     ]
    },
    {
     "name": "stderr",
     "output_type": "stream",
     "text": [
      "Epoch 927: 100%|██████████| 125/125 [00:00<00:00, 400.67it/s]\n"
     ]
    },
    {
     "name": "stdout",
     "output_type": "stream",
     "text": [
      "Epoch 926: train_loss=0.00778, valid_loss=0.00972, valid_acc=0.7495, best_acc=0.778\n"
     ]
    },
    {
     "name": "stderr",
     "output_type": "stream",
     "text": [
      "Epoch 928: 100%|██████████| 125/125 [00:00<00:00, 401.27it/s]\n"
     ]
    },
    {
     "name": "stdout",
     "output_type": "stream",
     "text": [
      "Epoch 927: train_loss=0.00778, valid_loss=0.00964, valid_acc=0.758, best_acc=0.778\n"
     ]
    },
    {
     "name": "stderr",
     "output_type": "stream",
     "text": [
      "Epoch 929: 100%|██████████| 125/125 [00:00<00:00, 395.40it/s]\n"
     ]
    },
    {
     "name": "stdout",
     "output_type": "stream",
     "text": [
      "Epoch 928: train_loss=0.00781, valid_loss=0.00966, valid_acc=0.749, best_acc=0.778\n"
     ]
    },
    {
     "name": "stderr",
     "output_type": "stream",
     "text": [
      "Epoch 930: 100%|██████████| 125/125 [00:00<00:00, 401.98it/s]\n"
     ]
    },
    {
     "name": "stdout",
     "output_type": "stream",
     "text": [
      "Epoch 929: train_loss=0.0078, valid_loss=0.00964, valid_acc=0.7555, best_acc=0.778\n"
     ]
    },
    {
     "name": "stderr",
     "output_type": "stream",
     "text": [
      "Epoch 931: 100%|██████████| 125/125 [00:00<00:00, 404.25it/s]\n"
     ]
    },
    {
     "name": "stdout",
     "output_type": "stream",
     "text": [
      "Epoch 930: train_loss=0.00781, valid_loss=0.00965, valid_acc=0.7555, best_acc=0.778\n"
     ]
    },
    {
     "name": "stderr",
     "output_type": "stream",
     "text": [
      "Epoch 932: 100%|██████████| 125/125 [00:00<00:00, 402.92it/s]\n"
     ]
    },
    {
     "name": "stdout",
     "output_type": "stream",
     "text": [
      "Epoch 931: train_loss=0.00779, valid_loss=0.00966, valid_acc=0.753, best_acc=0.778\n"
     ]
    },
    {
     "name": "stderr",
     "output_type": "stream",
     "text": [
      "Epoch 933: 100%|██████████| 125/125 [00:00<00:00, 426.58it/s]\n"
     ]
    },
    {
     "name": "stdout",
     "output_type": "stream",
     "text": [
      "Epoch 932: train_loss=0.00781, valid_loss=0.00967, valid_acc=0.7435, best_acc=0.778\n"
     ]
    },
    {
     "name": "stderr",
     "output_type": "stream",
     "text": [
      "Epoch 934: 100%|██████████| 125/125 [00:00<00:00, 402.19it/s]\n"
     ]
    },
    {
     "name": "stdout",
     "output_type": "stream",
     "text": [
      "Epoch 933: train_loss=0.00782, valid_loss=0.00967, valid_acc=0.7465, best_acc=0.778\n"
     ]
    },
    {
     "name": "stderr",
     "output_type": "stream",
     "text": [
      "Epoch 935: 100%|██████████| 125/125 [00:00<00:00, 400.88it/s]\n"
     ]
    },
    {
     "name": "stdout",
     "output_type": "stream",
     "text": [
      "Epoch 934: train_loss=0.0078, valid_loss=0.00958, valid_acc=0.758, best_acc=0.778\n"
     ]
    },
    {
     "name": "stderr",
     "output_type": "stream",
     "text": [
      "Epoch 936: 100%|██████████| 125/125 [00:00<00:00, 397.95it/s]\n"
     ]
    },
    {
     "name": "stdout",
     "output_type": "stream",
     "text": [
      "Epoch 935: train_loss=0.0078, valid_loss=0.00959, valid_acc=0.7585, best_acc=0.778\n"
     ]
    },
    {
     "name": "stderr",
     "output_type": "stream",
     "text": [
      "Epoch 937: 100%|██████████| 125/125 [00:00<00:00, 409.68it/s]\n"
     ]
    },
    {
     "name": "stdout",
     "output_type": "stream",
     "text": [
      "Epoch 936: train_loss=0.00781, valid_loss=0.00962, valid_acc=0.7515, best_acc=0.778\n"
     ]
    },
    {
     "name": "stderr",
     "output_type": "stream",
     "text": [
      "Epoch 938: 100%|██████████| 125/125 [00:00<00:00, 418.51it/s]\n"
     ]
    },
    {
     "name": "stdout",
     "output_type": "stream",
     "text": [
      "Epoch 937: train_loss=0.00778, valid_loss=0.00966, valid_acc=0.744, best_acc=0.778\n"
     ]
    },
    {
     "name": "stderr",
     "output_type": "stream",
     "text": [
      "Epoch 939: 100%|██████████| 125/125 [00:00<00:00, 401.37it/s]\n"
     ]
    },
    {
     "name": "stdout",
     "output_type": "stream",
     "text": [
      "Epoch 938: train_loss=0.00778, valid_loss=0.00964, valid_acc=0.754, best_acc=0.778\n"
     ]
    },
    {
     "name": "stderr",
     "output_type": "stream",
     "text": [
      "Epoch 940: 100%|██████████| 125/125 [00:00<00:00, 422.01it/s]\n"
     ]
    },
    {
     "name": "stdout",
     "output_type": "stream",
     "text": [
      "Epoch 939: train_loss=0.00777, valid_loss=0.00963, valid_acc=0.756, best_acc=0.778\n"
     ]
    },
    {
     "name": "stderr",
     "output_type": "stream",
     "text": [
      "Epoch 941: 100%|██████████| 125/125 [00:00<00:00, 402.63it/s]\n"
     ]
    },
    {
     "name": "stdout",
     "output_type": "stream",
     "text": [
      "Epoch 940: train_loss=0.00777, valid_loss=0.00969, valid_acc=0.746, best_acc=0.778\n"
     ]
    },
    {
     "name": "stderr",
     "output_type": "stream",
     "text": [
      "Epoch 942: 100%|██████████| 125/125 [00:00<00:00, 401.01it/s]\n"
     ]
    },
    {
     "name": "stdout",
     "output_type": "stream",
     "text": [
      "Epoch 941: train_loss=0.00776, valid_loss=0.00967, valid_acc=0.747, best_acc=0.778\n"
     ]
    },
    {
     "name": "stderr",
     "output_type": "stream",
     "text": [
      "Epoch 943: 100%|██████████| 125/125 [00:00<00:00, 414.60it/s]\n"
     ]
    },
    {
     "name": "stdout",
     "output_type": "stream",
     "text": [
      "Epoch 942: train_loss=0.00777, valid_loss=0.00973, valid_acc=0.743, best_acc=0.778\n"
     ]
    },
    {
     "name": "stderr",
     "output_type": "stream",
     "text": [
      "Epoch 944: 100%|██████████| 125/125 [00:00<00:00, 399.92it/s]\n"
     ]
    },
    {
     "name": "stdout",
     "output_type": "stream",
     "text": [
      "Epoch 943: train_loss=0.00778, valid_loss=0.00972, valid_acc=0.74, best_acc=0.778\n"
     ]
    },
    {
     "name": "stderr",
     "output_type": "stream",
     "text": [
      "Epoch 945: 100%|██████████| 125/125 [00:00<00:00, 403.35it/s]\n"
     ]
    },
    {
     "name": "stdout",
     "output_type": "stream",
     "text": [
      "Epoch 944: train_loss=0.00778, valid_loss=0.00965, valid_acc=0.749, best_acc=0.778\n"
     ]
    },
    {
     "name": "stderr",
     "output_type": "stream",
     "text": [
      "Epoch 946: 100%|██████████| 125/125 [00:00<00:00, 424.24it/s]\n"
     ]
    },
    {
     "name": "stdout",
     "output_type": "stream",
     "text": [
      "Epoch 945: train_loss=0.00778, valid_loss=0.00964, valid_acc=0.7495, best_acc=0.778\n"
     ]
    },
    {
     "name": "stderr",
     "output_type": "stream",
     "text": [
      "Epoch 947: 100%|██████████| 125/125 [00:00<00:00, 408.11it/s]\n"
     ]
    },
    {
     "name": "stdout",
     "output_type": "stream",
     "text": [
      "Epoch 946: train_loss=0.00778, valid_loss=0.00963, valid_acc=0.754, best_acc=0.778\n"
     ]
    },
    {
     "name": "stderr",
     "output_type": "stream",
     "text": [
      "Epoch 948: 100%|██████████| 125/125 [00:00<00:00, 426.55it/s]\n"
     ]
    },
    {
     "name": "stdout",
     "output_type": "stream",
     "text": [
      "Epoch 947: train_loss=0.00779, valid_loss=0.00965, valid_acc=0.7455, best_acc=0.778\n"
     ]
    },
    {
     "name": "stderr",
     "output_type": "stream",
     "text": [
      "Epoch 949: 100%|██████████| 125/125 [00:00<00:00, 416.55it/s]\n"
     ]
    },
    {
     "name": "stdout",
     "output_type": "stream",
     "text": [
      "Epoch 948: train_loss=0.00779, valid_loss=0.00968, valid_acc=0.747, best_acc=0.778\n"
     ]
    },
    {
     "name": "stderr",
     "output_type": "stream",
     "text": [
      "Epoch 950: 100%|██████████| 125/125 [00:00<00:00, 403.85it/s]\n"
     ]
    },
    {
     "name": "stdout",
     "output_type": "stream",
     "text": [
      "Epoch 949: train_loss=0.0078, valid_loss=0.00961, valid_acc=0.761, best_acc=0.778\n"
     ]
    },
    {
     "name": "stderr",
     "output_type": "stream",
     "text": [
      "Epoch 951: 100%|██████████| 125/125 [00:00<00:00, 429.94it/s]\n"
     ]
    },
    {
     "name": "stdout",
     "output_type": "stream",
     "text": [
      "Epoch 950: train_loss=0.0078, valid_loss=0.00963, valid_acc=0.7575, best_acc=0.778\n"
     ]
    },
    {
     "name": "stderr",
     "output_type": "stream",
     "text": [
      "Epoch 952: 100%|██████████| 125/125 [00:00<00:00, 404.39it/s]\n"
     ]
    },
    {
     "name": "stdout",
     "output_type": "stream",
     "text": [
      "Epoch 951: train_loss=0.00779, valid_loss=0.00959, valid_acc=0.763, best_acc=0.778\n"
     ]
    },
    {
     "name": "stderr",
     "output_type": "stream",
     "text": [
      "Epoch 953: 100%|██████████| 125/125 [00:00<00:00, 391.72it/s]\n"
     ]
    },
    {
     "name": "stdout",
     "output_type": "stream",
     "text": [
      "Epoch 952: train_loss=0.00781, valid_loss=0.00965, valid_acc=0.759, best_acc=0.778\n"
     ]
    },
    {
     "name": "stderr",
     "output_type": "stream",
     "text": [
      "Epoch 954: 100%|██████████| 125/125 [00:00<00:00, 409.02it/s]\n"
     ]
    },
    {
     "name": "stdout",
     "output_type": "stream",
     "text": [
      "Epoch 953: train_loss=0.00784, valid_loss=0.00972, valid_acc=0.747, best_acc=0.778\n"
     ]
    },
    {
     "name": "stderr",
     "output_type": "stream",
     "text": [
      "Epoch 955: 100%|██████████| 125/125 [00:00<00:00, 418.24it/s]\n"
     ]
    },
    {
     "name": "stdout",
     "output_type": "stream",
     "text": [
      "Epoch 954: train_loss=0.00784, valid_loss=0.00973, valid_acc=0.742, best_acc=0.778\n"
     ]
    },
    {
     "name": "stderr",
     "output_type": "stream",
     "text": [
      "Epoch 956: 100%|██████████| 125/125 [00:00<00:00, 407.78it/s]\n"
     ]
    },
    {
     "name": "stdout",
     "output_type": "stream",
     "text": [
      "Epoch 955: train_loss=0.00781, valid_loss=0.00968, valid_acc=0.7495, best_acc=0.778\n"
     ]
    },
    {
     "name": "stderr",
     "output_type": "stream",
     "text": [
      "Epoch 957: 100%|██████████| 125/125 [00:00<00:00, 408.29it/s]\n"
     ]
    },
    {
     "name": "stdout",
     "output_type": "stream",
     "text": [
      "Epoch 956: train_loss=0.00782, valid_loss=0.00963, valid_acc=0.75, best_acc=0.778\n"
     ]
    },
    {
     "name": "stderr",
     "output_type": "stream",
     "text": [
      "Epoch 958: 100%|██████████| 125/125 [00:00<00:00, 422.53it/s]\n"
     ]
    },
    {
     "name": "stdout",
     "output_type": "stream",
     "text": [
      "Epoch 957: train_loss=0.00783, valid_loss=0.0097, valid_acc=0.74, best_acc=0.778\n"
     ]
    },
    {
     "name": "stderr",
     "output_type": "stream",
     "text": [
      "Epoch 959: 100%|██████████| 125/125 [00:00<00:00, 426.64it/s]\n"
     ]
    },
    {
     "name": "stdout",
     "output_type": "stream",
     "text": [
      "Epoch 958: train_loss=0.00784, valid_loss=0.00979, valid_acc=0.729, best_acc=0.778\n"
     ]
    },
    {
     "name": "stderr",
     "output_type": "stream",
     "text": [
      "Epoch 960: 100%|██████████| 125/125 [00:00<00:00, 398.94it/s]\n"
     ]
    },
    {
     "name": "stdout",
     "output_type": "stream",
     "text": [
      "Epoch 959: train_loss=0.00783, valid_loss=0.00972, valid_acc=0.742, best_acc=0.778\n"
     ]
    },
    {
     "name": "stderr",
     "output_type": "stream",
     "text": [
      "Epoch 961: 100%|██████████| 125/125 [00:00<00:00, 393.58it/s]\n"
     ]
    },
    {
     "name": "stdout",
     "output_type": "stream",
     "text": [
      "Epoch 960: train_loss=0.0078, valid_loss=0.00979, valid_acc=0.737, best_acc=0.778\n"
     ]
    },
    {
     "name": "stderr",
     "output_type": "stream",
     "text": [
      "Epoch 962: 100%|██████████| 125/125 [00:00<00:00, 401.76it/s]\n"
     ]
    },
    {
     "name": "stdout",
     "output_type": "stream",
     "text": [
      "Epoch 961: train_loss=0.0078, valid_loss=0.0097, valid_acc=0.749, best_acc=0.778\n"
     ]
    },
    {
     "name": "stderr",
     "output_type": "stream",
     "text": [
      "Epoch 963: 100%|██████████| 125/125 [00:00<00:00, 386.14it/s]\n"
     ]
    },
    {
     "name": "stdout",
     "output_type": "stream",
     "text": [
      "Epoch 962: train_loss=0.00779, valid_loss=0.00976, valid_acc=0.738, best_acc=0.778\n"
     ]
    },
    {
     "name": "stderr",
     "output_type": "stream",
     "text": [
      "Epoch 964: 100%|██████████| 125/125 [00:00<00:00, 402.99it/s]\n"
     ]
    },
    {
     "name": "stdout",
     "output_type": "stream",
     "text": [
      "Epoch 963: train_loss=0.00777, valid_loss=0.00976, valid_acc=0.7405, best_acc=0.778\n"
     ]
    },
    {
     "name": "stderr",
     "output_type": "stream",
     "text": [
      "Epoch 965: 100%|██████████| 125/125 [00:00<00:00, 405.63it/s]\n"
     ]
    },
    {
     "name": "stdout",
     "output_type": "stream",
     "text": [
      "Epoch 964: train_loss=0.0078, valid_loss=0.00977, valid_acc=0.74, best_acc=0.778\n"
     ]
    },
    {
     "name": "stderr",
     "output_type": "stream",
     "text": [
      "Epoch 966: 100%|██████████| 125/125 [00:00<00:00, 391.53it/s]\n"
     ]
    },
    {
     "name": "stdout",
     "output_type": "stream",
     "text": [
      "Epoch 965: train_loss=0.00779, valid_loss=0.00969, valid_acc=0.7505, best_acc=0.778\n"
     ]
    },
    {
     "name": "stderr",
     "output_type": "stream",
     "text": [
      "Epoch 967: 100%|██████████| 125/125 [00:00<00:00, 387.28it/s]\n"
     ]
    },
    {
     "name": "stdout",
     "output_type": "stream",
     "text": [
      "Epoch 966: train_loss=0.0078, valid_loss=0.0097, valid_acc=0.7495, best_acc=0.778\n"
     ]
    },
    {
     "name": "stderr",
     "output_type": "stream",
     "text": [
      "Epoch 968: 100%|██████████| 125/125 [00:00<00:00, 431.37it/s]\n"
     ]
    },
    {
     "name": "stdout",
     "output_type": "stream",
     "text": [
      "Epoch 967: train_loss=0.00781, valid_loss=0.00967, valid_acc=0.7505, best_acc=0.778\n"
     ]
    },
    {
     "name": "stderr",
     "output_type": "stream",
     "text": [
      "Epoch 969: 100%|██████████| 125/125 [00:00<00:00, 419.10it/s]\n"
     ]
    },
    {
     "name": "stdout",
     "output_type": "stream",
     "text": [
      "Epoch 968: train_loss=0.00783, valid_loss=0.00964, valid_acc=0.7575, best_acc=0.778\n"
     ]
    },
    {
     "name": "stderr",
     "output_type": "stream",
     "text": [
      "Epoch 970: 100%|██████████| 125/125 [00:00<00:00, 411.86it/s]\n"
     ]
    },
    {
     "name": "stdout",
     "output_type": "stream",
     "text": [
      "Epoch 969: train_loss=0.0078, valid_loss=0.00964, valid_acc=0.758, best_acc=0.778\n"
     ]
    },
    {
     "name": "stderr",
     "output_type": "stream",
     "text": [
      "Epoch 971: 100%|██████████| 125/125 [00:00<00:00, 429.99it/s]\n"
     ]
    },
    {
     "name": "stdout",
     "output_type": "stream",
     "text": [
      "Epoch 970: train_loss=0.0078, valid_loss=0.00962, valid_acc=0.76, best_acc=0.778\n"
     ]
    },
    {
     "name": "stderr",
     "output_type": "stream",
     "text": [
      "Epoch 972: 100%|██████████| 125/125 [00:00<00:00, 402.49it/s]\n"
     ]
    },
    {
     "name": "stdout",
     "output_type": "stream",
     "text": [
      "Epoch 971: train_loss=0.0078, valid_loss=0.00963, valid_acc=0.7575, best_acc=0.778\n"
     ]
    },
    {
     "name": "stderr",
     "output_type": "stream",
     "text": [
      "Epoch 973: 100%|██████████| 125/125 [00:00<00:00, 401.97it/s]\n"
     ]
    },
    {
     "name": "stdout",
     "output_type": "stream",
     "text": [
      "Epoch 972: train_loss=0.0078, valid_loss=0.00975, valid_acc=0.738, best_acc=0.778\n"
     ]
    },
    {
     "name": "stderr",
     "output_type": "stream",
     "text": [
      "Epoch 974: 100%|██████████| 125/125 [00:00<00:00, 403.32it/s]\n"
     ]
    },
    {
     "name": "stdout",
     "output_type": "stream",
     "text": [
      "Epoch 973: train_loss=0.0078, valid_loss=0.00965, valid_acc=0.748, best_acc=0.778\n"
     ]
    },
    {
     "name": "stderr",
     "output_type": "stream",
     "text": [
      "Epoch 975: 100%|██████████| 125/125 [00:00<00:00, 420.80it/s]\n"
     ]
    },
    {
     "name": "stdout",
     "output_type": "stream",
     "text": [
      "Epoch 974: train_loss=0.00799, valid_loss=0.00985, valid_acc=0.727, best_acc=0.778\n"
     ]
    },
    {
     "name": "stderr",
     "output_type": "stream",
     "text": [
      "Epoch 976: 100%|██████████| 125/125 [00:00<00:00, 391.72it/s]\n"
     ]
    },
    {
     "name": "stdout",
     "output_type": "stream",
     "text": [
      "Epoch 975: train_loss=0.00796, valid_loss=0.00985, valid_acc=0.725, best_acc=0.778\n"
     ]
    },
    {
     "name": "stderr",
     "output_type": "stream",
     "text": [
      "Epoch 977: 100%|██████████| 125/125 [00:00<00:00, 418.98it/s]\n"
     ]
    },
    {
     "name": "stdout",
     "output_type": "stream",
     "text": [
      "Epoch 976: train_loss=0.00791, valid_loss=0.00986, valid_acc=0.7265, best_acc=0.778\n"
     ]
    },
    {
     "name": "stderr",
     "output_type": "stream",
     "text": [
      "Epoch 978: 100%|██████████| 125/125 [00:00<00:00, 399.98it/s]\n"
     ]
    },
    {
     "name": "stdout",
     "output_type": "stream",
     "text": [
      "Epoch 977: train_loss=0.00792, valid_loss=0.00993, valid_acc=0.7175, best_acc=0.778\n"
     ]
    },
    {
     "name": "stderr",
     "output_type": "stream",
     "text": [
      "Epoch 979: 100%|██████████| 125/125 [00:00<00:00, 400.35it/s]\n"
     ]
    },
    {
     "name": "stdout",
     "output_type": "stream",
     "text": [
      "Epoch 978: train_loss=0.00799, valid_loss=0.00989, valid_acc=0.7255, best_acc=0.778\n"
     ]
    },
    {
     "name": "stderr",
     "output_type": "stream",
     "text": [
      "Epoch 980: 100%|██████████| 125/125 [00:00<00:00, 407.01it/s]\n"
     ]
    },
    {
     "name": "stdout",
     "output_type": "stream",
     "text": [
      "Epoch 979: train_loss=0.00795, valid_loss=0.00972, valid_acc=0.748, best_acc=0.778\n"
     ]
    },
    {
     "name": "stderr",
     "output_type": "stream",
     "text": [
      "Epoch 981: 100%|██████████| 125/125 [00:00<00:00, 401.84it/s]\n"
     ]
    },
    {
     "name": "stdout",
     "output_type": "stream",
     "text": [
      "Epoch 980: train_loss=0.00795, valid_loss=0.00972, valid_acc=0.7435, best_acc=0.778\n"
     ]
    },
    {
     "name": "stderr",
     "output_type": "stream",
     "text": [
      "Epoch 982: 100%|██████████| 125/125 [00:00<00:00, 410.40it/s]\n"
     ]
    },
    {
     "name": "stdout",
     "output_type": "stream",
     "text": [
      "Epoch 981: train_loss=0.00804, valid_loss=0.0097, valid_acc=0.744, best_acc=0.778\n"
     ]
    },
    {
     "name": "stderr",
     "output_type": "stream",
     "text": [
      "Epoch 983: 100%|██████████| 125/125 [00:00<00:00, 402.04it/s]\n"
     ]
    },
    {
     "name": "stdout",
     "output_type": "stream",
     "text": [
      "Epoch 982: train_loss=0.00795, valid_loss=0.00972, valid_acc=0.7445, best_acc=0.778\n"
     ]
    },
    {
     "name": "stderr",
     "output_type": "stream",
     "text": [
      "Epoch 984: 100%|██████████| 125/125 [00:00<00:00, 409.75it/s]\n"
     ]
    },
    {
     "name": "stdout",
     "output_type": "stream",
     "text": [
      "Epoch 983: train_loss=0.00791, valid_loss=0.00977, valid_acc=0.7405, best_acc=0.778\n"
     ]
    },
    {
     "name": "stderr",
     "output_type": "stream",
     "text": [
      "Epoch 985: 100%|██████████| 125/125 [00:00<00:00, 423.83it/s]\n"
     ]
    },
    {
     "name": "stdout",
     "output_type": "stream",
     "text": [
      "Epoch 984: train_loss=0.00785, valid_loss=0.00972, valid_acc=0.741, best_acc=0.778\n"
     ]
    },
    {
     "name": "stderr",
     "output_type": "stream",
     "text": [
      "Epoch 986: 100%|██████████| 125/125 [00:00<00:00, 413.90it/s]\n"
     ]
    },
    {
     "name": "stdout",
     "output_type": "stream",
     "text": [
      "Epoch 985: train_loss=0.00784, valid_loss=0.00968, valid_acc=0.754, best_acc=0.778\n"
     ]
    },
    {
     "name": "stderr",
     "output_type": "stream",
     "text": [
      "Epoch 987: 100%|██████████| 125/125 [00:00<00:00, 416.23it/s]\n"
     ]
    },
    {
     "name": "stdout",
     "output_type": "stream",
     "text": [
      "Epoch 986: train_loss=0.00794, valid_loss=0.00973, valid_acc=0.7495, best_acc=0.778\n"
     ]
    },
    {
     "name": "stderr",
     "output_type": "stream",
     "text": [
      "Epoch 988: 100%|██████████| 125/125 [00:00<00:00, 426.78it/s]\n"
     ]
    },
    {
     "name": "stdout",
     "output_type": "stream",
     "text": [
      "Epoch 987: train_loss=0.00794, valid_loss=0.00968, valid_acc=0.7545, best_acc=0.778\n"
     ]
    },
    {
     "name": "stderr",
     "output_type": "stream",
     "text": [
      "Epoch 989: 100%|██████████| 125/125 [00:00<00:00, 408.09it/s]\n"
     ]
    },
    {
     "name": "stdout",
     "output_type": "stream",
     "text": [
      "Epoch 988: train_loss=0.00791, valid_loss=0.00969, valid_acc=0.7415, best_acc=0.778\n"
     ]
    },
    {
     "name": "stderr",
     "output_type": "stream",
     "text": [
      "Epoch 990: 100%|██████████| 125/125 [00:00<00:00, 410.55it/s]\n"
     ]
    },
    {
     "name": "stdout",
     "output_type": "stream",
     "text": [
      "Epoch 989: train_loss=0.0079, valid_loss=0.0097, valid_acc=0.744, best_acc=0.778\n"
     ]
    },
    {
     "name": "stderr",
     "output_type": "stream",
     "text": [
      "Epoch 991: 100%|██████████| 125/125 [00:00<00:00, 428.02it/s]\n"
     ]
    },
    {
     "name": "stdout",
     "output_type": "stream",
     "text": [
      "Epoch 990: train_loss=0.00789, valid_loss=0.00969, valid_acc=0.7485, best_acc=0.778\n"
     ]
    },
    {
     "name": "stderr",
     "output_type": "stream",
     "text": [
      "Epoch 992: 100%|██████████| 125/125 [00:00<00:00, 414.44it/s]\n"
     ]
    },
    {
     "name": "stdout",
     "output_type": "stream",
     "text": [
      "Epoch 991: train_loss=0.00789, valid_loss=0.00974, valid_acc=0.744, best_acc=0.778\n"
     ]
    },
    {
     "name": "stderr",
     "output_type": "stream",
     "text": [
      "Epoch 993: 100%|██████████| 125/125 [00:00<00:00, 416.07it/s]\n"
     ]
    },
    {
     "name": "stdout",
     "output_type": "stream",
     "text": [
      "Epoch 992: train_loss=0.00789, valid_loss=0.00971, valid_acc=0.7485, best_acc=0.778\n"
     ]
    },
    {
     "name": "stderr",
     "output_type": "stream",
     "text": [
      "Epoch 994: 100%|██████████| 125/125 [00:00<00:00, 417.86it/s]\n"
     ]
    },
    {
     "name": "stdout",
     "output_type": "stream",
     "text": [
      "Epoch 993: train_loss=0.00795, valid_loss=0.00979, valid_acc=0.732, best_acc=0.778\n"
     ]
    },
    {
     "name": "stderr",
     "output_type": "stream",
     "text": [
      "Epoch 995: 100%|██████████| 125/125 [00:00<00:00, 403.48it/s]\n"
     ]
    },
    {
     "name": "stdout",
     "output_type": "stream",
     "text": [
      "Epoch 994: train_loss=0.00793, valid_loss=0.00977, valid_acc=0.733, best_acc=0.778\n"
     ]
    },
    {
     "name": "stderr",
     "output_type": "stream",
     "text": [
      "Epoch 996: 100%|██████████| 125/125 [00:00<00:00, 384.61it/s]\n"
     ]
    },
    {
     "name": "stdout",
     "output_type": "stream",
     "text": [
      "Epoch 995: train_loss=0.00787, valid_loss=0.00971, valid_acc=0.7425, best_acc=0.778\n"
     ]
    },
    {
     "name": "stderr",
     "output_type": "stream",
     "text": [
      "Epoch 997: 100%|██████████| 125/125 [00:00<00:00, 415.71it/s]\n"
     ]
    },
    {
     "name": "stdout",
     "output_type": "stream",
     "text": [
      "Epoch 996: train_loss=0.00787, valid_loss=0.00972, valid_acc=0.7355, best_acc=0.778\n"
     ]
    },
    {
     "name": "stderr",
     "output_type": "stream",
     "text": [
      "Epoch 998: 100%|██████████| 125/125 [00:00<00:00, 411.91it/s]\n"
     ]
    },
    {
     "name": "stdout",
     "output_type": "stream",
     "text": [
      "Epoch 997: train_loss=0.00784, valid_loss=0.00971, valid_acc=0.741, best_acc=0.778\n"
     ]
    },
    {
     "name": "stderr",
     "output_type": "stream",
     "text": [
      "Epoch 999: 100%|██████████| 125/125 [00:00<00:00, 409.87it/s]\n"
     ]
    },
    {
     "name": "stdout",
     "output_type": "stream",
     "text": [
      "Epoch 998: train_loss=0.00783, valid_loss=0.00967, valid_acc=0.748, best_acc=0.778\n"
     ]
    },
    {
     "name": "stderr",
     "output_type": "stream",
     "text": [
      "Epoch 1000: 100%|██████████| 125/125 [00:00<00:00, 383.39it/s]"
     ]
    },
    {
     "name": "stdout",
     "output_type": "stream",
     "text": [
      "Epoch 999: train_loss=0.00782, valid_loss=0.00964, valid_acc=0.754, best_acc=0.778\n"
     ]
    },
    {
     "name": "stderr",
     "output_type": "stream",
     "text": [
      "\n"
     ]
    },
    {
     "data": {
      "text/plain": [
       "<All keys matched successfully>"
      ]
     },
     "execution_count": 21,
     "metadata": {},
     "output_type": "execute_result"
    }
   ],
   "source": [
    "best_model = None\n",
    "lowest_loss = np.inf\n",
    "best_acc = 0\n",
    "\n",
    "for epoch in range(epochs):\n",
    "    train_loss = 0\n",
    "    \n",
    "    for batch in tqdm(train_loader, total=len(train_loader), desc=f\"Epoch {epoch+1}\"):\n",
    "        batch = {k:v.to(device) for k, v in batch.items()}\n",
    "        \n",
    "        y_hat_i = model(**batch)\n",
    "        y_i = batch['label']\n",
    "        \n",
    "        loss = crit(y_hat_i.squeeze(), y_i)\n",
    "        \n",
    "        optimizer.zero_grad()\n",
    "        loss.backward()\n",
    "        optimizer.step()\n",
    "        \n",
    "        train_loss += float(loss)\n",
    "\n",
    "    train_loss = train_loss / len(train_ds)\n",
    "    \n",
    "    \n",
    "    with torch.no_grad():\n",
    "        valid_loss = 0\n",
    "        y_hat = []\n",
    "        y_real = []\n",
    "        \n",
    "        for batch in valid_loader:\n",
    "            batch = {k:v.to(device) for k, v in batch.items()}\n",
    "            \n",
    "            y_hat_i = model(**batch)\n",
    "            y_i = batch['label']            \n",
    "            \n",
    "            y_hat += (y_hat_i.squeeze() > 0.5).cpu().numpy().astype(int).tolist()\n",
    "            y_real += y_i.tolist()\n",
    "            loss = crit(y_hat_i.squeeze(), y_i)\n",
    "        \n",
    "            valid_loss += float(loss)\n",
    "            \n",
    "    valid_loss = valid_loss /len(valid_ds)\n",
    "    valid_acc = accuracy_score(y_real, y_hat)\n",
    "    \n",
    "    if valid_acc >= best_acc:\n",
    "        best_model = deepcopy(model.state_dict())\n",
    "        best_acc = valid_acc\n",
    "        best_epoch = epoch\n",
    "        \n",
    "    else:\n",
    "        if (epoch - best_epoch) >= early_stop:\n",
    "            print(\"Early Stop at Epoch {epoch}. Lowest Loss {lowest_loss}, Best Acc {best_acc} at {best_epoch} epoch\".format(\n",
    "                epoch=epoch,\n",
    "                lowest_loss=round(lowest_loss, 5),\n",
    "                best_acc=best_acc,\n",
    "                best_epoch=best_epoch\n",
    "            ))\n",
    "            break\n",
    "\n",
    "    print(\"Epoch {epoch}: train_loss={train_loss}, valid_loss={valid_loss}, valid_acc={valid_acc}, best_acc={best_acc}\".format(\n",
    "        epoch=epoch,\n",
    "        train_loss=round(train_loss, 5),\n",
    "        valid_loss=round(valid_loss, 5),\n",
    "        valid_acc=accuracy_score(y_real, y_hat),\n",
    "        best_acc=best_acc\n",
    "    ))\n",
    "\n",
    "model.load_state_dict(best_model)"
   ]
  },
  {
   "cell_type": "code",
   "execution_count": 28,
   "id": "629a885b",
   "metadata": {},
   "outputs": [],
   "source": [
    "# torch.save(model, './model/multi_55_0775.pt')"
   ]
  },
  {
   "cell_type": "code",
   "execution_count": null,
   "id": "a8d832a4",
   "metadata": {},
   "outputs": [],
   "source": []
  },
  {
   "cell_type": "markdown",
   "id": "2bd8d37a",
   "metadata": {},
   "source": [
    "## Embedding "
   ]
  },
  {
   "cell_type": "code",
   "execution_count": 2,
   "id": "17662633",
   "metadata": {},
   "outputs": [],
   "source": [
    "model_path = 'jhgan/ko-sroberta-multitask'"
   ]
  },
  {
   "cell_type": "code",
   "execution_count": 3,
   "id": "d3954eb1",
   "metadata": {},
   "outputs": [],
   "source": [
    "device = torch.device('cuda:0')"
   ]
  },
  {
   "cell_type": "code",
   "execution_count": 11,
   "id": "043f7dae",
   "metadata": {},
   "outputs": [],
   "source": [
    "model = SentenceTransformer(model_path)"
   ]
  },
  {
   "cell_type": "code",
   "execution_count": 5,
   "id": "6462f5f3",
   "metadata": {},
   "outputs": [],
   "source": [
    "df = pd.read_csv('./data/review_dataset_v6.csv', index_col=0)\n",
    "uid = df['id']\n",
    "X = df.content.tolist()\n",
    "y = df.label_f2.values"
   ]
  },
  {
   "cell_type": "code",
   "execution_count": 6,
   "id": "fb6dabb1",
   "metadata": {},
   "outputs": [],
   "source": [
    "def split_list(tokens: list, seq_len: int = 128, pad_idx=0):\n",
    "    batch = []\n",
    "    \n",
    "    for i in range(int(len(tokens) // seq_len) + 1):\n",
    "        token = tokens[i*seq_len:(i+1)*seq_len]\n",
    "        if len(token) < 128:\n",
    "            token += [pad_idx] * (128 - len(token))\n",
    "        \n",
    "        batch.append(token)\n",
    "        \n",
    "    return batch\n",
    "    \n",
    "\n",
    "def make_batchs(\n",
    "    tokens: dict,\n",
    "    seq_len: int = 128,\n",
    "    pad_idx: int = 0,\n",
    "    to_tensor: str = 'pt',\n",
    "    device = torch.device('cuda:0' if torch.cuda.is_available() else 'cpu')\n",
    "):\n",
    "    if to_tensor:\n",
    "        return {\n",
    "            k: torch.tensor(split_list(v), device=device)\n",
    "            for k, v in tokens.items()\n",
    "        }\n",
    "    \n",
    "    return {\n",
    "        k: split_list(v)\n",
    "        for k, v in tokens.items()\n",
    "    }"
   ]
  },
  {
   "cell_type": "code",
   "execution_count": 13,
   "id": "6a1194f6",
   "metadata": {
    "scrolled": false
   },
   "outputs": [
    {
     "data": {
      "text/plain": [
       "SentenceTransformer(\n",
       "  (0): Transformer({'max_seq_length': 128, 'do_lower_case': False}) with Transformer model: RobertaModel \n",
       "  (1): Pooling({'word_embedding_dimension': 768, 'pooling_mode_cls_token': False, 'pooling_mode_mean_tokens': True, 'pooling_mode_max_tokens': False, 'pooling_mode_mean_sqrt_len_tokens': False})\n",
       ")"
      ]
     },
     "execution_count": 13,
     "metadata": {},
     "output_type": "execute_result"
    }
   ],
   "source": [
    "model.to(device)"
   ]
  },
  {
   "cell_type": "code",
   "execution_count": 21,
   "id": "f4f35641",
   "metadata": {},
   "outputs": [
    {
     "name": "stderr",
     "output_type": "stream",
     "text": [
      "10001it [05:10, 32.26it/s]\n"
     ]
    }
   ],
   "source": [
    "embedding_result = {}\n",
    "\n",
    "with torch.no_grad():\n",
    "    for i, c in tqdm(zip(uid, X)):\n",
    "        t = model.tokenizer(c)\n",
    "        embedding = model.forward(make_batchs(t, device=device))\n",
    "        \n",
    "        embedding_result[i] = embedding['sentence_embedding'].mean(axis=0).cpu().tolist()"
   ]
  },
  {
   "cell_type": "code",
   "execution_count": 26,
   "id": "0dde3908",
   "metadata": {},
   "outputs": [],
   "source": [
    "df = pd.DataFrame(embedding_result).T\n",
    "df.columns = [f\"e_sum_{i}\" for i in range(768)]"
   ]
  },
  {
   "cell_type": "code",
   "execution_count": 29,
   "id": "9e2e63e2",
   "metadata": {},
   "outputs": [],
   "source": [
    "df.reset_index().to_csv('./data/review_dataset_embedding_all_mean.csv')"
   ]
  },
  {
   "cell_type": "code",
   "execution_count": null,
   "id": "e6244db6",
   "metadata": {},
   "outputs": [],
   "source": []
  }
 ],
 "metadata": {
  "kernelspec": {
   "display_name": "Python 3 (ipykernel)",
   "language": "python",
   "name": "python3"
  },
  "language_info": {
   "codemirror_mode": {
    "name": "ipython",
    "version": 3
   },
   "file_extension": ".py",
   "mimetype": "text/x-python",
   "name": "python",
   "nbconvert_exporter": "python",
   "pygments_lexer": "ipython3",
   "version": "3.10.11"
  }
 },
 "nbformat": 4,
 "nbformat_minor": 5
}
